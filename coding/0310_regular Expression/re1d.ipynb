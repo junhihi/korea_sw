{
 "cells": [
  {
   "cell_type": "code",
   "execution_count": 1,
   "metadata": {},
   "outputs": [],
   "source": [
    "# 비정규화: 텍스트\n",
    "# 반정규화: 웹\n",
    "# 텍스트에 공통적인 패턴을 찾는것\n",
    "# 이게 제일 빠름"
   ]
  },
  {
   "cell_type": "markdown",
   "metadata": {},
   "source": []
  },
  {
   "cell_type": "code",
   "execution_count": 2,
   "metadata": {},
   "outputs": [],
   "source": [
    "# meta character 여러가지 기능에 대한 부호"
   ]
  },
  {
   "cell_type": "code",
   "execution_count": 3,
   "metadata": {},
   "outputs": [],
   "source": [
    "# lazy하다: ?가 들어감\n",
    "# match는 ^을 가짐 -> 앞에서부터 시작\n",
    "# search는 아무데나\n",
    "# compile은 정규식 패턴 객체를 만들어 줄때 쓴다\n"
   ]
  },
  {
   "cell_type": "code",
   "execution_count": 18,
   "metadata": {},
   "outputs": [
    {
     "data": {
      "text/plain": [
       "'1,2,3,4'"
      ]
     },
     "execution_count": 18,
     "metadata": {},
     "output_type": "execute_result"
    }
   ],
   "source": [
    "','.join(['1','2','3','4']) # iterable한거 전부 다 쓸 수 있음"
   ]
  },
  {
   "cell_type": "code",
   "execution_count": 16,
   "metadata": {},
   "outputs": [
    {
     "name": "stdout",
     "output_type": "stream",
     "text": [
      "\n",
      "홍길동991010-*******\n",
      "아무개910101-*******\n"
     ]
    }
   ],
   "source": [
    "data = '''\n",
    "    홍길동 991010-1234567\n",
    "    아무개 910101-1234456\n",
    "'''\n",
    "result = list()\n",
    "for line in data.splitlines(): # splitline(화이트스페이스 -> 라인)\n",
    "    if len(line) > 13:\n",
    "        s = ''\n",
    "        s += ' '.join(line.split()[:-1])\n",
    "        jumin = line.split()[-1]\n",
    "        count = len(jumin.split('-')[-1])\n",
    "        s += jumin.split('-')[0]+'-'\n",
    "        s += '*'*count\n",
    "        result.append(s)\n",
    "    else:\n",
    "        result.append(line)\n",
    "print('\\n'.join(result))"
   ]
  },
  {
   "cell_type": "code",
   "execution_count": 17,
   "metadata": {},
   "outputs": [
    {
     "name": "stdout",
     "output_type": "stream",
     "text": [
      "\n",
      "    홍길동 991010-1234567\n",
      "    아무개 910101-1234456\n",
      "\n"
     ]
    }
   ],
   "source": [
    "print(data)"
   ]
  },
  {
   "cell_type": "code",
   "execution_count": 3,
   "metadata": {},
   "outputs": [],
   "source": [
    "import re"
   ]
  },
  {
   "cell_type": "code",
   "execution_count": 22,
   "metadata": {},
   "outputs": [
    {
     "name": "stdout",
     "output_type": "stream",
     "text": [
      "\n",
      "    홍길동 991010*******\n",
      "    아무개 910101*******\n",
      "\n"
     ]
    }
   ],
   "source": [
    "print(re.sub('\\-[0-9]{7}', '*******', data))"
   ]
  },
  {
   "cell_type": "code",
   "execution_count": 29,
   "metadata": {},
   "outputs": [
    {
     "name": "stdout",
     "output_type": "stream",
     "text": [
      "1. \n",
      "\n",
      "2. \\n\n",
      "3. \\n\n",
      "4\\.\\ \\\n",
      "\n"
     ]
    },
    {
     "data": {
      "text/plain": [
       "('\\n', '\\\\n', '\\\\\\n', '\\\\\\\\n')"
      ]
     },
     "execution_count": 29,
     "metadata": {},
     "output_type": "execute_result"
    }
   ],
   "source": [
    "print('1. \\n') # 개행\n",
    "print('2. \\\\n') # \\n\n",
    "print(r'3. \\n') # \\ => \\\\\n",
    "print(re.escape('4. \\n')) # => \\\\.\\n\n",
    "re.escape('4. \\n') # 모든 문자를 이스케이프함\n",
    "\n",
    "'\\n', r'\\n', re.escape('\\n'), re.escape(r'\\n')"
   ]
  },
  {
   "cell_type": "code",
   "execution_count": 36,
   "metadata": {},
   "outputs": [],
   "source": [
    "mobj = re.match('(Crow|Servo)', 'CrowHello')"
   ]
  },
  {
   "cell_type": "code",
   "execution_count": 37,
   "metadata": {},
   "outputs": [
    {
     "data": {
      "text/plain": [
       "((0, 4), 0, 4, ('Crow',))"
      ]
     },
     "execution_count": 37,
     "metadata": {},
     "output_type": "execute_result"
    }
   ],
   "source": [
    "mobj.span(), mobj.start(), mobj.end(), mobj.groups()"
   ]
  },
  {
   "cell_type": "code",
   "execution_count": 38,
   "metadata": {},
   "outputs": [
    {
     "name": "stdout",
     "output_type": "stream",
     "text": [
      "<re.Match object; span=(0, 4), match='Life'>\n",
      "None\n"
     ]
    }
   ],
   "source": [
    "print(re.search('^Life', 'Life is too short')) # 시작한애\n",
    "print(re.search('^Life', 'my Life'))"
   ]
  },
  {
   "cell_type": "code",
   "execution_count": 39,
   "metadata": {},
   "outputs": [
    {
     "name": "stdout",
     "output_type": "stream",
     "text": [
      "<re.Match object; span=(12, 17), match='short'>\n",
      "None\n"
     ]
    }
   ],
   "source": [
    "print(re.search('short$', 'Life is too short')) # 끝나는애\n",
    "print(re.search('short$', 'Life is too short, you need python'))"
   ]
  },
  {
   "cell_type": "code",
   "execution_count": 18,
   "metadata": {},
   "outputs": [
    {
     "name": "stdout",
     "output_type": "stream",
     "text": [
      "('ABC',)\n",
      "('ABCABCABC', 'ABC')\n",
      "('ABCABCABC',)\n",
      "('ABC',)\n"
     ]
    }
   ],
   "source": [
    "print(re.search('(ABC)+', 'ABCABCABC OK').groups())\n",
    "print(re.search('((ABC)+)', 'ABCABCABC OK').groups())\n",
    "print(re.search('((?:ABC)+)', 'ABCABCABC OK').groups())\n",
    "print(re.search('(?:(ABC)+)', 'ABCABCABC OK').groups())"
   ]
  },
  {
   "cell_type": "code",
   "execution_count": 24,
   "metadata": {},
   "outputs": [
    {
     "data": {
      "text/plain": [
       "('ABCABCABC', 'ABCABCABC', 'ABC')"
      ]
     },
     "execution_count": 24,
     "metadata": {},
     "output_type": "execute_result"
    }
   ],
   "source": [
    "t = re.search('((ABC)+)', 'ABCABCABC OK')\n",
    "t.group(0), t.group(1), t.group(2)"
   ]
  },
  {
   "cell_type": "code",
   "execution_count": 46,
   "metadata": {},
   "outputs": [
    {
     "name": "stdout",
     "output_type": "stream",
     "text": [
      "None\n",
      "None\n",
      "<re.Match object; span=(6, 11), match='class'>\n"
     ]
    }
   ],
   "source": [
    "p = re.compile(r'\\Bclass\\B')\n",
    "print(p.search('no class at all'))\n",
    "print(p.search('one subclass is'))\n",
    "print(p.search('the declassified algorithm'))"
   ]
  },
  {
   "cell_type": "code",
   "execution_count": 47,
   "metadata": {},
   "outputs": [
    {
     "name": "stdout",
     "output_type": "stream",
     "text": [
      "<re.Match object; span=(0, 18), match='park 010-1234-1234'>\n"
     ]
    }
   ],
   "source": [
    "p = re.compile(r'\\w+\\s+\\d+[-]\\d+[-]\\d+') # 문자, 띄어쓰기, 숫자 하나 이상, 하이픈, 숫자 하나 이상, 하이픈, 숫자 하나 이상\n",
    "m = p.search('park 010-1234-1234')\n",
    "print(m)"
   ]
  },
  {
   "cell_type": "code",
   "execution_count": 48,
   "metadata": {},
   "outputs": [
    {
     "name": "stdout",
     "output_type": "stream",
     "text": [
      "k\n"
     ]
    }
   ],
   "source": [
    "p = re.compile(r'(\\w)+\\s+\\d+[-]\\d+[-]\\d+') # 문자, 띄어쓰기, 숫자 하나 이상, 하이픈, 숫자 하나 이상, 하이픈, 숫자 하나 이상\n",
    "m = p.search('park 010-1234-1234')\n",
    "print(m.group(1))"
   ]
  },
  {
   "cell_type": "code",
   "execution_count": 52,
   "metadata": {},
   "outputs": [],
   "source": [
    "r = re.search('(\\w+) (\\w+)', 'Isaac Newton, physicist') # 세번째는 그룹으로 안됨\n",
    "                                        # , 문자 x"
   ]
  },
  {
   "cell_type": "code",
   "execution_count": 54,
   "metadata": {},
   "outputs": [
    {
     "data": {
      "text/plain": [
       "('Isaac Newton', 'Isaac', 'Newton', ('Isaac', 'Newton'))"
      ]
     },
     "execution_count": 54,
     "metadata": {},
     "output_type": "execute_result"
    }
   ],
   "source": [
    "r.group(0), r.group(1), r.group(2), r.groups()"
   ]
  },
  {
   "cell_type": "code",
   "execution_count": 61,
   "metadata": {},
   "outputs": [
    {
     "data": {
      "text/plain": [
       "'Newtonissac, physicist'"
      ]
     },
     "execution_count": 61,
     "metadata": {},
     "output_type": "execute_result"
    }
   ],
   "source": [
    "re.sub('(\\w+) (\\w+)', '\\g<2>' '\\g<1>', 'issac Newton, physicist')"
   ]
  },
  {
   "cell_type": "code",
   "execution_count": 3,
   "metadata": {},
   "outputs": [
    {
     "data": {
      "text/plain": [
       "['010-1234-1234',\n",
       " '02-1234-1234',\n",
       " '010 1234 1234',\n",
       " '010.1234.1234',\n",
       " '+82 010 1234 1234',\n",
       " '82 010 1234 1234',\n",
       " '+82 10 1234 1234',\n",
       " '02 123 1234',\n",
       " '+82 31 123 1234']"
      ]
     },
     "execution_count": 3,
     "metadata": {},
     "output_type": "execute_result"
    }
   ],
   "source": [
    "# 전화번호 검증 => 수집\n",
    "data = '''\n",
    "010-1234-1234\n",
    "000-0000-0000\n",
    "02-1234-1234\n",
    "010 1234 1234\n",
    "010.1234.1234\n",
    "+82 010 1234 1234\n",
    "82 010 1234 1234\n",
    "+82 10 1234 1234\n",
    "02 123 1234\n",
    "+82 31 123 1234\n",
    "공일공 일하나삼4 1234\n",
    "'''\n",
    "\n",
    "re.findall(r'\\d{3}[\\-]\\d{4}[\\-]\\d{4}', data)\n",
    "re.findall(r'0[1-9][0-9]-[0-9]{4}-[0-9]{4}', data)\n",
    "re.findall(r'0[1-9][0-9]?.[0-9]{4}.[0-9]{4}', data)\n",
    "re.findall(r'0[1-9][0-9]?.?[0-9]{4}.?[0-9]{4}', data)\n",
    "re.findall(r'(?:\\+\\d{1,2}.?)?0[1-9][0-9]?.?[0-9]{4}.?[0-9]{4}', data)\n",
    "re.findall(r'(?:\\+?\\d{1,2}.?)?0[1-9][0-9]?.?[0-9]{4}.?[0-9]{4}', data)\n",
    "re.findall(r'(?:\\+?\\d{1,2}.?)?0?[1-9][0-9]?.?[0-9]{3,4}.?[0-9]{4}', data)\n",
    "re.findall(r'(?:\\+?\\d{1,2}.?)?[0|공|영|O]?[1-9공영일이삼사오육칠팔구][0-9공영일이삼사오육칠팔구]?.?[0-9공영일이삼사오육칠팔구]{3,4}.?[0-9공영일이삼사오육칠팔구]{4}', data)\n"
   ]
  },
  {
   "cell_type": "code",
   "execution_count": 4,
   "metadata": {},
   "outputs": [
    {
     "data": {
      "text/plain": [
       "'공1공 11삼4 1234'"
      ]
     },
     "execution_count": 4,
     "metadata": {},
     "output_type": "execute_result"
    }
   ],
   "source": [
    "re.sub(r'[공영Oo]', '0', data.splitlines()[-1])\n",
    "re.sub(r'(일|하나)', '1', data.splitlines()[-1])"
   ]
  },
  {
   "cell_type": "code",
   "execution_count": 103,
   "metadata": {},
   "outputs": [
    {
     "data": {
      "text/plain": [
       "[('e______mail', 'domain.com'),\n",
       " ('em1123a23il-122.ad', 'domain.co.kr'),\n",
       " ('ema..2i..asdl', 'email.domain.co.kr')]"
      ]
     },
     "execution_count": 103,
     "metadata": {},
     "output_type": "execute_result"
    }
   ],
   "source": [
    "# 이메일 검증 => 수집\n",
    "data = '''\n",
    "e______mail@domain.com\n",
    "em1123a23il-122.ad@domain.co.kr\n",
    "ema..2i..asdl@email.domain.co.kr\n",
    "'''\n",
    "#           ------(3이상, 영문자+숫자+-) (com, net, org, gov, ...)\n",
    "#         service(www) => Web ?\n",
    "# id:소문자 시작 + 영문자 + 숫자 + _ + .\n",
    "\n",
    "re.findall(r'([a-z][a-zA-Z0-9\\.\\-\\_]{3,})@', data)\n",
    "re.findall(r'([a-z][a-zA-Z0-9\\.\\-\\_]{3,})@([a-zA-Z]\\w{2,}[.][a-z]{2,})', data)\n",
    "re.findall(r'([a-z][a-z0-9\\.\\-\\_]{3,})@([a-z]\\w{2,}[.][a-z]{2,})', data, re.IGNORECASE)\n",
    "re.findall(r'([a-z][a-z0-9\\.\\-\\_]{3,})@([a-z]\\w{2,}(?:[.][a-z]{2,})+)', data, re.IGNORECASE)"
   ]
  },
  {
   "cell_type": "code",
   "execution_count": null,
   "metadata": {},
   "outputs": [],
   "source": [
    "# Crawler = URL을 따라 움직이는 애\n",
    "# URL => <netloc>://domain/path?key=value[#link]\n",
    "# 다른 정보를 보려면 경로를 바꿔야됨\n",
    "# #은 내부링크\n",
    "# <netlocation>\n",
    "# http(80), https(443), telnet, ftp, sftp, ssh, ..."
   ]
  },
  {
   "cell_type": "code",
   "execution_count": 134,
   "metadata": {},
   "outputs": [
    {
     "data": {
      "text/plain": [
       "[('', 'www.naver.com', '', ''),\n",
       " ('', 'comic.naver.com', '', ''),\n",
       " ('http', 'www.naver.com', '', ''),\n",
       " ('https', 'comic.naver.com', '', ''),\n",
       " ('https', 'comic.naver.com', '', ''),\n",
       " ('https', 'comic.naver.com', '/webtoon/detail', ''),\n",
       " ('https', 'comic.naver.com', '/webtoon/detail', '?titleId=1&no=1'),\n",
       " ('https', 'lms.sunde41.net', '/course/8', '')]"
      ]
     },
     "execution_count": 134,
     "metadata": {},
     "output_type": "execute_result"
    }
   ],
   "source": [
    "data = '''\n",
    "www.naver.com\n",
    "comic.naver.com\n",
    "http://www.naver.com\n",
    "https://comic.naver.com\n",
    "https://comic.naver.com/\n",
    "https://comic.naver.com/webtoon/detail\n",
    "https://comic.naver.com/webtoon/detail?titleId=1&no=1\n",
    "https://lms.sunde41.net/course/8/\n",
    "\n",
    "'''\n",
    "re.findall(r'(https?)://', data)\n",
    "re.findall(r'((https?)://)?', data)\n",
    "re.findall(r'^(?:(https?)://)?', data, re.MULTILINE)\n",
    "re.findall(r'^(?:(https?)://)?((?:[.]?\\w{3,}){2,})', data, re.MULTILINE)\n",
    "re.findall(r'^(?:(https?)://)?((?:[.]?\\w{3,}){2,})((?:[/]\\w{3,})*)', data, re.MULTILINE)\n",
    "re.findall(r'^(?:(https?)://)?((?:[.]?\\w{3,}){2,})((?:[/]\\w{3,})*)([?](?:[&]?\\w+[=]\\w+)+)?', data, re.MULTILINE)\n",
    "re.findall(r'^(?:(https?)://)?((?:[.]?\\w{3,}){2,})((?:[/]\\w+)*)([?](?:[&]?\\w+[=]\\w+)+)?', data, re.MULTILINE)"
   ]
  },
  {
   "cell_type": "code",
   "execution_count": 156,
   "metadata": {},
   "outputs": [
    {
     "ename": "ValueError",
     "evalue": "invalid literal for int() with base 10: '*'",
     "output_type": "error",
     "traceback": [
      "\u001b[31m---------------------------------------------------------------------------\u001b[39m",
      "\u001b[31mValueError\u001b[39m                                Traceback (most recent call last)",
      "\u001b[36mCell\u001b[39m\u001b[36m \u001b[39m\u001b[32mIn[156]\u001b[39m\u001b[32m, line 30\u001b[39m\n\u001b[32m     28\u001b[39m     score.append(s)\n\u001b[32m     29\u001b[39m \u001b[38;5;28;01melse\u001b[39;00m:\n\u001b[32m---> \u001b[39m\u001b[32m30\u001b[39m     s = \u001b[38;5;28;43mint\u001b[39;49m\u001b[43m(\u001b[49m\u001b[43ma\u001b[49m\u001b[43m[\u001b[49m\u001b[32;43m0\u001b[39;49m\u001b[43m]\u001b[49m\u001b[43m)\u001b[49m**\u001b[32m3\u001b[39m\n\u001b[32m     31\u001b[39m     score.append(s)\n\u001b[32m     32\u001b[39m \u001b[38;5;28;01mif\u001b[39;00m a[\u001b[32m2\u001b[39m] == \u001b[33m'\u001b[39m\u001b[33m*\u001b[39m\u001b[33m'\u001b[39m:\n",
      "\u001b[31mValueError\u001b[39m: invalid literal for int() with base 10: '*'"
     ]
    }
   ],
   "source": []
  },
  {
   "cell_type": "code",
   "execution_count": null,
   "metadata": {},
   "outputs": [],
   "source": [
    "# http는 내가 요청을 하면 항상 응답을 한다\n"
   ]
  }
 ],
 "metadata": {
  "kernelspec": {
   "display_name": "koreasw",
   "language": "python",
   "name": "python3"
  },
  "language_info": {
   "codemirror_mode": {
    "name": "ipython",
    "version": 3
   },
   "file_extension": ".py",
   "mimetype": "text/x-python",
   "name": "python",
   "nbconvert_exporter": "python",
   "pygments_lexer": "ipython3",
   "version": "3.11.11"
  }
 },
 "nbformat": 4,
 "nbformat_minor": 2
}
