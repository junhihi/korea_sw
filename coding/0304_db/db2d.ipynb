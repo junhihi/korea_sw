{
 "cells": [
  {
   "cell_type": "code",
   "execution_count": 1,
   "metadata": {},
   "outputs": [],
   "source": [
    "import sqlite3"
   ]
  },
  {
   "cell_type": "markdown",
   "metadata": {},
   "source": [
    "User             DBMS               database\n",
    "python          sqlite3  <--SQL-->    FILE\n",
    "     connection\n",
    "       cursor"
   ]
  },
  {
   "cell_type": "code",
   "execution_count": 5,
   "metadata": {},
   "outputs": [],
   "source": [
    "con = sqlite3.connect(':memory:')"
   ]
  },
  {
   "cell_type": "code",
   "execution_count": 6,
   "metadata": {},
   "outputs": [],
   "source": [
    "cur = con.cursor()"
   ]
  },
  {
   "cell_type": "code",
   "execution_count": 7,
   "metadata": {},
   "outputs": [
    {
     "ename": "AttributeError",
     "evalue": "'sqlite3.Cursor' object has no attribute 'excute'",
     "output_type": "error",
     "traceback": [
      "\u001b[31m---------------------------------------------------------------------------\u001b[39m",
      "\u001b[31mAttributeError\u001b[39m                            Traceback (most recent call last)",
      "\u001b[36mCell\u001b[39m\u001b[36m \u001b[39m\u001b[32mIn[7]\u001b[39m\u001b[32m, line 1\u001b[39m\n\u001b[32m----> \u001b[39m\u001b[32m1\u001b[39m \u001b[43mcur\u001b[49m\u001b[43m.\u001b[49m\u001b[43mexcute\u001b[49m \u001b[38;5;66;03m#sql 1개 실행\u001b[39;00m\n\u001b[32m      2\u001b[39m cur.executemany \u001b[38;5;66;03m#sql 1개를 n번 반복 실행\u001b[39;00m\n\u001b[32m      3\u001b[39m cur.excutescript \u001b[38;5;66;03m#(비표준) n개의 sql문 실행\u001b[39;00m\n",
      "\u001b[31mAttributeError\u001b[39m: 'sqlite3.Cursor' object has no attribute 'excute'"
     ]
    }
   ],
   "source": [
    "cur.excute #sql 1개 실행\n",
    "cur.executemany #sql 1개를 n번 반복 실행\n",
    "cur.excutescript #(비표준) n개의 sql문 실행"
   ]
  },
  {
   "cell_type": "code",
   "execution_count": 8,
   "metadata": {},
   "outputs": [
    {
     "data": {
      "text/plain": [
       "<sqlite3.Cursor at 0x1074db9c0>"
      ]
     },
     "execution_count": 8,
     "metadata": {},
     "output_type": "execute_result"
    }
   ],
   "source": [
    "cur.execute('''\n",
    "    CREATE TABLE TEST(\n",
    "        ID INTEGER,\n",
    "        NAME CHAR(1)\n",
    "        );\n",
    "''')"
   ]
  },
  {
   "cell_type": "code",
   "execution_count": 9,
   "metadata": {},
   "outputs": [
    {
     "data": {
      "text/plain": [
       "<sqlite3.Cursor at 0x1074db9c0>"
      ]
     },
     "execution_count": 9,
     "metadata": {},
     "output_type": "execute_result"
    }
   ],
   "source": [
    "cur.execute('''\n",
    "    INSERT INTO TEST (ID, NAME) VALUES (1,'A');    \n",
    "''')"
   ]
  },
  {
   "cell_type": "code",
   "execution_count": 10,
   "metadata": {},
   "outputs": [
    {
     "data": {
      "text/plain": [
       "<sqlite3.Cursor at 0x1074db9c0>"
      ]
     },
     "execution_count": 10,
     "metadata": {},
     "output_type": "execute_result"
    }
   ],
   "source": [
    "cur.execute('select * from test;')"
   ]
  },
  {
   "cell_type": "code",
   "execution_count": 11,
   "metadata": {},
   "outputs": [
    {
     "data": {
      "text/plain": [
       "<sqlite3.Cursor at 0x1074db9c0>"
      ]
     },
     "execution_count": 11,
     "metadata": {},
     "output_type": "execute_result"
    }
   ],
   "source": [
    "cur.execute('''\n",
    "    INSERT INTO TEST (ID, NAME) VALUES (1,'ABC');\n",
    "''')"
   ]
  },
  {
   "cell_type": "code",
   "execution_count": 12,
   "metadata": {},
   "outputs": [
    {
     "data": {
      "text/plain": [
       "<sqlite3.Cursor at 0x1074db9c0>"
      ]
     },
     "execution_count": 12,
     "metadata": {},
     "output_type": "execute_result"
    }
   ],
   "source": [
    "cur.execute('select * from test;')"
   ]
  },
  {
   "cell_type": "code",
   "execution_count": 13,
   "metadata": {},
   "outputs": [
    {
     "data": {
      "text/plain": [
       "<function Cursor.fetchall()>"
      ]
     },
     "execution_count": 13,
     "metadata": {},
     "output_type": "execute_result"
    }
   ],
   "source": [
    "cur.fetchone() #1개\n",
    "cur.fetchmany(2) #2개\n",
    "cur.fetchall() # 전체\n",
    "\n",
    "#fetch는 내 컴퓨터에서 실행시키는 것이다"
   ]
  },
  {
   "cell_type": "code",
   "execution_count": 14,
   "metadata": {},
   "outputs": [
    {
     "data": {
      "text/plain": [
       "[(1, 'A'), (1, 'ABC')]"
      ]
     },
     "execution_count": 14,
     "metadata": {},
     "output_type": "execute_result"
    }
   ],
   "source": [
    "cur.fetchall()"
   ]
  },
  {
   "cell_type": "code",
   "execution_count": 18,
   "metadata": {},
   "outputs": [
    {
     "data": {
      "text/plain": [
       "<sqlite3.Cursor at 0x1074db9c0>"
      ]
     },
     "execution_count": 18,
     "metadata": {},
     "output_type": "execute_result"
    }
   ],
   "source": [
    "cur.execute('INSERT INTO TEST VALUES (3,NULL);')"
   ]
  },
  {
   "cell_type": "code",
   "execution_count": 20,
   "metadata": {},
   "outputs": [
    {
     "data": {
      "text/plain": [
       "[(1, 'A'), (1, 'ABC'), (3, None)]"
      ]
     },
     "execution_count": 20,
     "metadata": {},
     "output_type": "execute_result"
    }
   ],
   "source": [
    "cur.execute('select * from test')\n",
    "cur.fetchall()"
   ]
  },
  {
   "cell_type": "code",
   "execution_count": 21,
   "metadata": {},
   "outputs": [],
   "source": [
    "con.close() # 작업 끝나면 닫아줘야한다"
   ]
  },
  {
   "cell_type": "code",
   "execution_count": 2,
   "metadata": {},
   "outputs": [],
   "source": [
    "con = sqlite3.connect('coffee.db')\n",
    "cur = con.cursor()"
   ]
  },
  {
   "cell_type": "code",
   "execution_count": 3,
   "metadata": {},
   "outputs": [
    {
     "data": {
      "text/plain": [
       "<sqlite3.Cursor at 0x1114bf6c0>"
      ]
     },
     "execution_count": 3,
     "metadata": {},
     "output_type": "execute_result"
    }
   ],
   "source": [
    "cur.execute('drop table city;')"
   ]
  },
  {
   "cell_type": "code",
   "execution_count": 4,
   "metadata": {},
   "outputs": [
    {
     "data": {
      "text/plain": [
       "<sqlite3.Cursor at 0x111514a40>"
      ]
     },
     "execution_count": 4,
     "metadata": {},
     "output_type": "execute_result"
    }
   ],
   "source": [
    "con.execute('''\n",
    "    create table city(\n",
    "        cno integer primary key,\n",
    "        name text not null\n",
    "    );\n",
    "''')"
   ]
  },
  {
   "cell_type": "code",
   "execution_count": 5,
   "metadata": {},
   "outputs": [
    {
     "data": {
      "text/plain": [
       "<sqlite3.Cursor at 0x111514b40>"
      ]
     },
     "execution_count": 5,
     "metadata": {},
     "output_type": "execute_result"
    }
   ],
   "source": [
    "con.execute('''\n",
    "    insert into city (cno, name) values (1, '성북구');\n",
    "''')"
   ]
  },
  {
   "cell_type": "code",
   "execution_count": 6,
   "metadata": {},
   "outputs": [
    {
     "data": {
      "text/plain": [
       "<sqlite3.Cursor at 0x111514ec0>"
      ]
     },
     "execution_count": 6,
     "metadata": {},
     "output_type": "execute_result"
    }
   ],
   "source": [
    "con.execute('''\n",
    "    insert into city (cno, name) values (2, '강북구');\n",
    "''')"
   ]
  },
  {
   "cell_type": "code",
   "execution_count": 7,
   "metadata": {},
   "outputs": [
    {
     "data": {
      "text/plain": [
       "<sqlite3.Cursor at 0x111514e40>"
      ]
     },
     "execution_count": 7,
     "metadata": {},
     "output_type": "execute_result"
    }
   ],
   "source": [
    "con.execute('''\n",
    "    insert into city (cno, name) values (null, '동대문구');\n",
    "''')"
   ]
  },
  {
   "cell_type": "code",
   "execution_count": 8,
   "metadata": {},
   "outputs": [
    {
     "ename": "IntegrityError",
     "evalue": "UNIQUE constraint failed: city.cno",
     "output_type": "error",
     "traceback": [
      "\u001b[31m---------------------------------------------------------------------------\u001b[39m",
      "\u001b[31mIntegrityError\u001b[39m                            Traceback (most recent call last)",
      "\u001b[36mCell\u001b[39m\u001b[36m \u001b[39m\u001b[32mIn[8]\u001b[39m\u001b[32m, line 1\u001b[39m\n\u001b[32m----> \u001b[39m\u001b[32m1\u001b[39m \u001b[43mcon\u001b[49m\u001b[43m.\u001b[49m\u001b[43mexecute\u001b[49m\u001b[43m(\u001b[49m\u001b[33;43m'''\u001b[39;49m\n\u001b[32m      2\u001b[39m \u001b[33;43m    insert into city (cno, name) values (3, \u001b[39;49m\u001b[33;43m'\u001b[39;49m\u001b[33;43m노원구\u001b[39;49m\u001b[33;43m'\u001b[39;49m\u001b[33;43m);\u001b[39;49m\n\u001b[32m      3\u001b[39m \u001b[33;43m'''\u001b[39;49m\u001b[43m)\u001b[49m\n",
      "\u001b[31mIntegrityError\u001b[39m: UNIQUE constraint failed: city.cno"
     ]
    }
   ],
   "source": [
    "con.execute('''\n",
    "    insert into city (cno, name) values (3, '노원구');\n",
    "''')"
   ]
  },
  {
   "cell_type": "code",
   "execution_count": 9,
   "metadata": {},
   "outputs": [
    {
     "data": {
      "text/plain": [
       "[(1, '성북구'), (2, '강북구'), (3, '동대문구')]"
      ]
     },
     "execution_count": 9,
     "metadata": {},
     "output_type": "execute_result"
    }
   ],
   "source": [
    "cur.execute('select * from city;')\n",
    "cur.fetchall()"
   ]
  },
  {
   "cell_type": "code",
   "execution_count": 10,
   "metadata": {},
   "outputs": [
    {
     "data": {
      "text/plain": [
       "3"
      ]
     },
     "execution_count": 10,
     "metadata": {},
     "output_type": "execute_result"
    }
   ],
   "source": [
    "cur.lastrowid"
   ]
  },
  {
   "cell_type": "markdown",
   "metadata": {},
   "source": [
    "db browser for sqlite # 숙제\n",
    "=> table 구조 뜨는거 확인하고, 이상한점 찾기 (데이터가 안들어가있음)"
   ]
  },
  {
   "cell_type": "markdown",
   "metadata": {},
   "source": [
    "      sql\n",
    "DBMS   =>  DB\n",
    "--------------\n",
    "TRANSACTION\n",
    "데이터 추가/수정(갱신) => 변화가 있을 때\n",
    "commit"
   ]
  },
  {
   "cell_type": "code",
   "execution_count": 11,
   "metadata": {},
   "outputs": [],
   "source": [
    "con.commit()"
   ]
  },
  {
   "cell_type": "code",
   "execution_count": 12,
   "metadata": {},
   "outputs": [
    {
     "data": {
      "text/plain": [
       "<sqlite3.Cursor at 0x111515cc0>"
      ]
     },
     "execution_count": 12,
     "metadata": {},
     "output_type": "execute_result"
    }
   ],
   "source": [
    "con.execute('insert into city values (null, ?);', ('중구',))"
   ]
  },
  {
   "cell_type": "code",
   "execution_count": 13,
   "metadata": {},
   "outputs": [
    {
     "data": {
      "text/plain": [
       "(str, str, tuple)"
      ]
     },
     "execution_count": 13,
     "metadata": {},
     "output_type": "execute_result"
    }
   ],
   "source": [
    "type('중구'), type(('중구')), type(('중구',))"
   ]
  },
  {
   "cell_type": "code",
   "execution_count": 14,
   "metadata": {},
   "outputs": [
    {
     "data": {
      "text/plain": [
       "[(1, '성북구'), (2, '강북구'), (3, '동대문구'), (4, '중구')]"
      ]
     },
     "execution_count": 14,
     "metadata": {},
     "output_type": "execute_result"
    }
   ],
   "source": [
    "cur.execute('select * from city;')\n",
    "cur.fetchall()"
   ]
  },
  {
   "cell_type": "code",
   "execution_count": 15,
   "metadata": {},
   "outputs": [
    {
     "data": {
      "text/plain": [
       "<sqlite3.Cursor at 0x117168ec0>"
      ]
     },
     "execution_count": 15,
     "metadata": {},
     "output_type": "execute_result"
    }
   ],
   "source": [
    "con.execute('insert into city values (null, :name);', {'name' : '중량구'})"
   ]
  },
  {
   "cell_type": "code",
   "execution_count": 16,
   "metadata": {},
   "outputs": [
    {
     "data": {
      "text/plain": [
       "<sqlite3.Cursor at 0x1114bf6c0>"
      ]
     },
     "execution_count": 16,
     "metadata": {},
     "output_type": "execute_result"
    }
   ],
   "source": [
    "cur.executemany('''\n",
    "    insert into city (name) values (?)\n",
    "''', [('노원구',), ('강남구',), ('서초구',)])"
   ]
  },
  {
   "cell_type": "code",
   "execution_count": 17,
   "metadata": {},
   "outputs": [
    {
     "data": {
      "text/plain": [
       "[(1, '성북구'),\n",
       " (2, '강북구'),\n",
       " (3, '동대문구'),\n",
       " (4, '중구'),\n",
       " (5, '중량구'),\n",
       " (6, '노원구'),\n",
       " (7, '강남구'),\n",
       " (8, '서초구')]"
      ]
     },
     "execution_count": 17,
     "metadata": {},
     "output_type": "execute_result"
    }
   ],
   "source": [
    "cur.execute('select * from city;')\n",
    "cur.fetchall()"
   ]
  },
  {
   "cell_type": "code",
   "execution_count": 18,
   "metadata": {},
   "outputs": [
    {
     "data": {
      "text/plain": [
       "<sqlite3.Cursor at 0x1114bf6c0>"
      ]
     },
     "execution_count": 18,
     "metadata": {},
     "output_type": "execute_result"
    }
   ],
   "source": [
    "cur.executescript('''\n",
    "    drop table if exists supplier;\n",
    "    create table supplier(\n",
    "        sno integer primary key,\n",
    "        name varchar(2),\n",
    "        cno integer integer not null\n",
    "        );\n",
    "    drop table if exists part;\n",
    "    create table part(\n",
    "        pno integer primary key,\n",
    "        name char(1)\n",
    "        );\n",
    "''')"
   ]
  },
  {
   "cell_type": "markdown",
   "metadata": {},
   "source": [
    "serverless (direct I/O) => FILE 1개만 open\n",
    "\n",
    "\n",
    "connect 여러번 x => lock"
   ]
  },
  {
   "cell_type": "code",
   "execution_count": 19,
   "metadata": {},
   "outputs": [
    {
     "data": {
      "text/plain": [
       "<sqlite3.Cursor at 0x1114bf6c0>"
      ]
     },
     "execution_count": 19,
     "metadata": {},
     "output_type": "execute_result"
    }
   ],
   "source": [
    "p = [{'n':'아메리카노'}, {'n':'카페라테'}, {'n':'에스프레소'}, {'n':'아이스티'}]\n",
    "# len(p) == 4, p[0] == {'n':'아메리카노'}, p[0]['n'] == 아메리카노\n",
    "cur.executemany('insert into part (name) values (:n)', p) # 4번 반복, sql문 1개, 각 반복마다 n키값에 대응되는 vlaue"
   ]
  },
  {
   "cell_type": "code",
   "execution_count": 20,
   "metadata": {},
   "outputs": [
    {
     "data": {
      "text/plain": [
       "[(1, '아메리카노'), (2, '카페라테'), (3, '에스프레소'), (4, '아이스티')]"
      ]
     },
     "execution_count": 20,
     "metadata": {},
     "output_type": "execute_result"
    }
   ],
   "source": [
    "cur.execute('select * from part;')\n",
    "cur.fetchall()"
   ]
  },
  {
   "cell_type": "markdown",
   "metadata": {},
   "source": [
    "cursor.execute 함수들\n",
    "\n",
    "\n",
    "\n",
    "\n",
    "1. python 파라미터 2개 넘김(sql, 변수) # <= 여기\n",
    "\n",
    "\n",
    "2. dbms SQL 해석\n",
    "\n",
    "\n",
    "3. db SQL 적용"
   ]
  },
  {
   "cell_type": "code",
   "execution_count": 21,
   "metadata": {},
   "outputs": [
    {
     "data": {
      "text/plain": [
       "[(1,)]"
      ]
     },
     "execution_count": 21,
     "metadata": {},
     "output_type": "execute_result"
    }
   ],
   "source": [
    "cur.execute('select cno from city where name=?', ['성북구'])\n",
    "cur.fetchall()"
   ]
  },
  {
   "cell_type": "code",
   "execution_count": 22,
   "metadata": {},
   "outputs": [
    {
     "data": {
      "text/plain": [
       "[(1,), (2,), (3,), (4,), (5,), (6,), (7,), (8,)]"
      ]
     },
     "execution_count": 22,
     "metadata": {},
     "output_type": "execute_result"
    }
   ],
   "source": [
    "cur.execute('select cno from city where name like ?', ['%구'])\n",
    "cur.fetchall()"
   ]
  },
  {
   "cell_type": "code",
   "execution_count": 23,
   "metadata": {},
   "outputs": [
    {
     "data": {
      "text/plain": [
       "[(7, '강남구'),\n",
       " (2, '강북구'),\n",
       " (6, '노원구'),\n",
       " (3, '동대문구'),\n",
       " (8, '서초구'),\n",
       " (1, '성북구'),\n",
       " (4, '중구'),\n",
       " (5, '중량구')]"
      ]
     },
     "execution_count": 23,
     "metadata": {},
     "output_type": "execute_result"
    }
   ],
   "source": [
    "cur.execute('''\n",
    "    select * from city where name like ?\n",
    "    order by name, cno\n",
    "''', ['%구'])\n",
    "cur.fetchall()"
   ]
  },
  {
   "cell_type": "code",
   "execution_count": 24,
   "metadata": {},
   "outputs": [
    {
     "data": {
      "text/plain": [
       "[(7, '강남구'), (2, '강북구')]"
      ]
     },
     "execution_count": 24,
     "metadata": {},
     "output_type": "execute_result"
    }
   ],
   "source": [
    "# DBMS\n",
    "# limit 시작위치, 몇개\n",
    "\n",
    "cur.execute('''\n",
    "    select * from city where name like ?\n",
    "    order by name, cno asc\n",
    "    limit 0, 2\n",
    "''', ['%구'])\n",
    "cur.fetchall()"
   ]
  },
  {
   "cell_type": "code",
   "execution_count": 28,
   "metadata": {},
   "outputs": [
    {
     "ename": "TypeError",
     "evalue": "'NoneType' object is not subscriptable",
     "output_type": "error",
     "traceback": [
      "\u001b[31m---------------------------------------------------------------------------\u001b[39m",
      "\u001b[31mTypeError\u001b[39m                                 Traceback (most recent call last)",
      "\u001b[36mCell\u001b[39m\u001b[36m \u001b[39m\u001b[32mIn[28]\u001b[39m\u001b[32m, line 9\u001b[39m\n\u001b[32m      7\u001b[39m cur.fetchone() \u001b[38;5;66;03m# record/tuple/row 단위로 가져옴 => python iterable 객체로 변환\u001b[39;00m\n\u001b[32m      8\u001b[39m \u001b[38;5;66;03m# cursor 결과 => 읽어들임\u001b[39;00m\n\u001b[32m----> \u001b[39m\u001b[32m9\u001b[39m \u001b[43mcur\u001b[49m\u001b[43m.\u001b[49m\u001b[43mfetchone\u001b[49m\u001b[43m(\u001b[49m\u001b[43m)\u001b[49m\u001b[43m[\u001b[49m\u001b[32;43m0\u001b[39;49m\u001b[43m]\u001b[49m\n\u001b[32m     10\u001b[39m \u001b[38;5;66;03m# cursor의 결과의 결과를 읽으니 에러\u001b[39;00m\n",
      "\u001b[31mTypeError\u001b[39m: 'NoneType' object is not subscriptable"
     ]
    }
   ],
   "source": [
    "cur.execute('''\n",
    "    select * from city where name like ?\n",
    "    order by name, cno asc\n",
    "    limit 0, 1\n",
    "''', ['%성북구%'])\n",
    "# cursor => dbms <- db\n",
    "cur.fetchone() # record/tuple/row 단위로 가져옴 => python iterable 객체로 변환\n",
    "# cursor 결과 => 읽어들임\n",
    "cur.fetchone()[0]\n",
    "# cursor의 결과의 결과를 읽으니 에러"
   ]
  },
  {
   "cell_type": "code",
   "execution_count": 27,
   "metadata": {},
   "outputs": [
    {
     "name": "stdout",
     "output_type": "stream",
     "text": [
      "1\n"
     ]
    }
   ],
   "source": [
    "cur.execute('''\n",
    "    select * from city where name like ?\n",
    "    order by name, cno asc\n",
    "    limit 0, 1\n",
    "''', ['%성북구%'])\n",
    "cno = cur.fetchone()[0]\n",
    "print(cno)"
   ]
  },
  {
   "cell_type": "code",
   "execution_count": 29,
   "metadata": {},
   "outputs": [
    {
     "data": {
      "text/plain": [
       "<sqlite3.Cursor at 0x1114bf6c0>"
      ]
     },
     "execution_count": 29,
     "metadata": {},
     "output_type": "execute_result"
    }
   ],
   "source": [
    "# 보통은 이렇게 중첩시키고 함수(프로시저)를 만든다\n",
    "# 프로시저를 쓰면 보안에 좋고 여러가지 작업을 한번에 할 수 있다\n",
    "cur.execute('insert into supplier (name, cno) values(?,?)', ('1호점', cno))\n",
    "cur.execute('insert into supplier (name, cno) values(?,?)', ('2호점', cno))\n",
    "cur.execute('insert into supplier (name, cno) values(?,?)', ('3호점', cno))"
   ]
  },
  {
   "cell_type": "code",
   "execution_count": 30,
   "metadata": {},
   "outputs": [
    {
     "data": {
      "text/plain": [
       "[(1, '1호점', 1), (2, '2호점', 1), (3, '3호점', 1)]"
      ]
     },
     "execution_count": 30,
     "metadata": {},
     "output_type": "execute_result"
    }
   ],
   "source": [
    "cur.execute('select * from supplier')\n",
    "cur.fetchall()"
   ]
  },
  {
   "cell_type": "markdown",
   "metadata": {},
   "source": [
    "cur.execute('''\n",
    "\n",
    "\n",
    "    insert into supplier (name, cno) values (?, ? <= 요기만)\n",
    "\n",
    "    \n",
    "''')"
   ]
  },
  {
   "cell_type": "code",
   "execution_count": 31,
   "metadata": {},
   "outputs": [
    {
     "data": {
      "text/plain": [
       "<sqlite3.Cursor at 0x1114bf6c0>"
      ]
     },
     "execution_count": 31,
     "metadata": {},
     "output_type": "execute_result"
    }
   ],
   "source": [
    "cur.execute('''\n",
    "    insert into supplier (name, cno) values (?, (\n",
    "        select cno from city where name like ?\n",
    "        order by name, cno asc\n",
    "        limit 0, 1\n",
    "    ))\n",
    "''', ('1호점', '%강북구%'))"
   ]
  },
  {
   "cell_type": "code",
   "execution_count": 32,
   "metadata": {},
   "outputs": [],
   "source": [
    "cur.execute('select name from city where cno > 2')\n",
    "c = cur.fetchall()\n",
    "\n",
    "for name in c:\n",
    "    name = '%' + name[0] + '%'\n",
    "\n",
    "    # for no in ['1호점', '2호점', '3호점']:\n",
    "    #     cur.execute('''\n",
    "    #         insert into supplier (name, cno) values (?, (\n",
    "    #             select cno from city where name like ?\n",
    "    #             order by name, cno asc\n",
    "    #             limit 0, 1\n",
    "    #         ))\n",
    "    #     ''', (no, name))\n",
    "    params = [{'no':'1호점', 'name':name}, {'no':'2호점', 'name':name}, {'no':'3호점', 'name':name}]\n",
    "    cur.executemany('''\n",
    "        INSERT INTO SUPPLIER (NAME, CNO) VALUES (:no, (\n",
    "            SELECT CNO FROM CITY WHERE NAME LIKE :name\n",
    "            ORDER BY NAME, CNO ASC\n",
    "            LIMIT 0, 1\n",
    "        ))\n",
    "    ''', params)"
   ]
  },
  {
   "cell_type": "code",
   "execution_count": 33,
   "metadata": {},
   "outputs": [
    {
     "data": {
      "text/plain": [
       "22"
      ]
     },
     "execution_count": 33,
     "metadata": {},
     "output_type": "execute_result"
    }
   ],
   "source": [
    "cur.execute('select * from supplier')\n",
    "len(cur.fetchall())"
   ]
  },
  {
   "cell_type": "code",
   "execution_count": 34,
   "metadata": {},
   "outputs": [
    {
     "data": {
      "text/plain": [
       "4"
      ]
     },
     "execution_count": 34,
     "metadata": {},
     "output_type": "execute_result"
    }
   ],
   "source": [
    "cur.execute('select count(pno) from part')\n",
    "cur.fetchone()[0]"
   ]
  },
  {
   "cell_type": "code",
   "execution_count": 35,
   "metadata": {},
   "outputs": [
    {
     "data": {
      "text/plain": [
       "<sqlite3.Cursor at 0x1114bf6c0>"
      ]
     },
     "execution_count": 35,
     "metadata": {},
     "output_type": "execute_result"
    }
   ],
   "source": [
    "cur.executescript('''\n",
    "    drop table if exists sells;\n",
    "    create table sells(\n",
    "        sno ineger not null,\n",
    "        pno integer not null,\n",
    "        price ineger not null default 0\n",
    "    )\n",
    "''')"
   ]
  },
  {
   "cell_type": "code",
   "execution_count": 36,
   "metadata": {},
   "outputs": [
    {
     "data": {
      "text/plain": [
       "<sqlite3.Cursor at 0x1114bf6c0>"
      ]
     },
     "execution_count": 36,
     "metadata": {},
     "output_type": "execute_result"
    }
   ],
   "source": [
    "cur.executemany('insert into sells values (?, ?, ?)', [(1,1,10),\n",
    "(2,1,10),\n",
    "(3,1,10),\n",
    "(5,1,10),\n",
    "(7,1,10),\n",
    "(9,1,10),\n",
    "(11,1,10),\n",
    "(1,2,15),\n",
    "(4,2,15),\n",
    "(6,2,15),\n",
    "(8,2,15),\n",
    "(10,2,15),\n",
    "(12,2,15),\n",
    "(14,2,15),\n",
    "(1,3,8),\n",
    "(18,3,8),\n",
    "(19,3,8),\n",
    "(22,4,8),\n",
    "(1,4,20),\n",
    "(2,4,20),\n",
    "(3,4,20)])"
   ]
  },
  {
   "cell_type": "code",
   "execution_count": 48,
   "metadata": {},
   "outputs": [
    {
     "data": {
      "text/plain": [
       "[(1, 1, 10),\n",
       " (2, 1, 10),\n",
       " (3, 1, 10),\n",
       " (5, 1, 10),\n",
       " (7, 1, 10),\n",
       " (9, 1, 10),\n",
       " (11, 1, 10),\n",
       " (1, 2, 15),\n",
       " (4, 2, 15),\n",
       " (6, 2, 15),\n",
       " (8, 2, 15),\n",
       " (10, 2, 15),\n",
       " (12, 2, 15),\n",
       " (14, 2, 15),\n",
       " (1, 3, 8),\n",
       " (18, 3, 8),\n",
       " (19, 3, 8),\n",
       " (22, 4, 8),\n",
       " (1, 4, 20),\n",
       " (2, 4, 20),\n",
       " (3, 4, 20)]"
      ]
     },
     "execution_count": 48,
     "metadata": {},
     "output_type": "execute_result"
    }
   ],
   "source": [
    "cur.execute('select * from sells')\n",
    "cur.fetchall()"
   ]
  },
  {
   "cell_type": "code",
   "execution_count": 37,
   "metadata": {},
   "outputs": [],
   "source": [
    "con.commit()"
   ]
  },
  {
   "cell_type": "code",
   "execution_count": 38,
   "metadata": {},
   "outputs": [
    {
     "data": {
      "text/plain": [
       "[('성북구',),\n",
       " ('강북구',),\n",
       " ('동대문구',),\n",
       " ('중구',),\n",
       " ('중량구',),\n",
       " ('노원구',),\n",
       " ('강남구',),\n",
       " ('서초구',)]"
      ]
     },
     "execution_count": 38,
     "metadata": {},
     "output_type": "execute_result"
    }
   ],
   "source": [
    "cur.execute('select name from city')\n",
    "cur.fetchall()"
   ]
  },
  {
   "cell_type": "code",
   "execution_count": 39,
   "metadata": {},
   "outputs": [
    {
     "data": {
      "text/plain": [
       "<sqlite3.Cursor at 0x1114bf6c0>"
      ]
     },
     "execution_count": 39,
     "metadata": {},
     "output_type": "execute_result"
    }
   ],
   "source": [
    "cur.execute('insert into city (name) values(\"광진구\");')"
   ]
  },
  {
   "cell_type": "code",
   "execution_count": 40,
   "metadata": {},
   "outputs": [
    {
     "data": {
      "text/plain": [
       "22"
      ]
     },
     "execution_count": 40,
     "metadata": {},
     "output_type": "execute_result"
    }
   ],
   "source": [
    "cur.execute('''\n",
    "    select city.name, supplier.name from city\n",
    "    inner join supplier\n",
    "    on city.cno = supplier.cno\n",
    "''')\n",
    "len(cur.fetchall())"
   ]
  },
  {
   "cell_type": "code",
   "execution_count": 41,
   "metadata": {},
   "outputs": [
    {
     "data": {
      "text/plain": [
       "23"
      ]
     },
     "execution_count": 41,
     "metadata": {},
     "output_type": "execute_result"
    }
   ],
   "source": [
    "cur.execute('''\n",
    "    select city.name, supplier.name from city\n",
    "    left join supplier\n",
    "    on city.cno = supplier.cno\n",
    "''')\n",
    "len(cur.fetchall())"
   ]
  },
  {
   "cell_type": "code",
   "execution_count": 42,
   "metadata": {},
   "outputs": [
    {
     "data": {
      "text/plain": [
       "[('강남구', 3),\n",
       " ('강북구', 1),\n",
       " ('광진구', 0),\n",
       " ('노원구', 3),\n",
       " ('동대문구', 3),\n",
       " ('서초구', 3),\n",
       " ('성북구', 3),\n",
       " ('중구', 3),\n",
       " ('중량구', 3)]"
      ]
     },
     "execution_count": 42,
     "metadata": {},
     "output_type": "execute_result"
    }
   ],
   "source": [
    "cur.execute('''\n",
    "    select city.name, count(supplier.name) from city\n",
    "    left join supplier\n",
    "    on city.cno = supplier.cno\n",
    "    group by city.cno\n",
    "    order by city.name asc\n",
    "''')\n",
    "\n",
    "cur.fetchall()"
   ]
  },
  {
   "cell_type": "code",
   "execution_count": 43,
   "metadata": {},
   "outputs": [
    {
     "data": {
      "text/plain": [
       "[('성북구', '1호점', 4, 53),\n",
       " ('성북구', '2호점', 2, 30),\n",
       " ('성북구', '3호점', 2, 30),\n",
       " ('강북구', '1호점', 1, 15),\n",
       " ('동대문구', '1호점', 1, 10),\n",
       " ('동대문구', '2호점', 1, 15),\n",
       " ('동대문구', '3호점', 1, 10),\n",
       " ('중구', '1호점', 1, 15),\n",
       " ('중구', '2호점', 1, 10),\n",
       " ('중구', '3호점', 1, 15),\n",
       " ('중량구', '1호점', 1, 10),\n",
       " ('중량구', '2호점', 1, 15),\n",
       " ('노원구', '1호점', 1, 15),\n",
       " ('강남구', '2호점', 1, 8),\n",
       " ('강남구', '3호점', 1, 8),\n",
       " ('서초구', '3호점', 1, 8)]"
      ]
     },
     "execution_count": 43,
     "metadata": {},
     "output_type": "execute_result"
    }
   ],
   "source": [
    "cur.execute('''\n",
    "    select city.name, supplier.name, count(supplier.name), sum(sells.price) from city\n",
    "    left join supplier\n",
    "    on supplier.cno = city.cno\n",
    "    inner join sells\n",
    "    on supplier.sno = sells.sno\n",
    "    group by city.name, supplier.name\n",
    "    order by city.cno asc\n",
    "''')\n",
    "\n",
    "cur.fetchall()"
   ]
  },
  {
   "cell_type": "code",
   "execution_count": 44,
   "metadata": {},
   "outputs": [
    {
     "data": {
      "text/plain": [
       "[('성북구', '아메리카노', 3, 30),\n",
       " ('성북구', '아이스티', 3, 60),\n",
       " ('성북구', '에스프레소', 1, 8),\n",
       " ('성북구', '카페라테', 1, 15),\n",
       " ('강북구', '카페라테', 1, 15),\n",
       " ('동대문구', '아메리카노', 2, 20),\n",
       " ('동대문구', '카페라테', 1, 15),\n",
       " ('중구', '아메리카노', 1, 10),\n",
       " ('중구', '카페라테', 2, 30),\n",
       " ('중량구', '아메리카노', 1, 10),\n",
       " ('중량구', '카페라테', 1, 15),\n",
       " ('노원구', '카페라테', 1, 15),\n",
       " ('강남구', '에스프레소', 2, 16),\n",
       " ('서초구', '아이스티', 1, 8)]"
      ]
     },
     "execution_count": 44,
     "metadata": {},
     "output_type": "execute_result"
    }
   ],
   "source": [
    "cur.execute('''\n",
    "    select city.name, part.name, count(part.name), sum(sells.price) from city\n",
    "    left join supplier\n",
    "    on supplier.cno = city.cno\n",
    "    inner join sells\n",
    "    on supplier.sno = sells.sno\n",
    "    inner join part\n",
    "    on part.pno = sells.pno\n",
    "    group by city.name, part.name\n",
    "    order by city.cno asc\n",
    "''')\n",
    "\n",
    "cur.fetchall()"
   ]
  },
  {
   "cell_type": "code",
   "execution_count": 45,
   "metadata": {},
   "outputs": [],
   "source": [
    "# sql 중첩 => procedure\n",
    "# join(inner = 교집합, left/right = 기준테이블, outer)\n",
    "# group by"
   ]
  },
  {
   "cell_type": "code",
   "execution_count": null,
   "metadata": {},
   "outputs": [],
   "source": [
    "#dump는 db 백업할때 쓴다"
   ]
  },
  {
   "cell_type": "code",
   "execution_count": 46,
   "metadata": {},
   "outputs": [
    {
     "name": "stdout",
     "output_type": "stream",
     "text": [
      "BEGIN TRANSACTION;\n",
      "CREATE TABLE city(\n",
      "        cno integer primary key,\n",
      "        name text not null\n",
      "    );\n",
      "INSERT INTO \"city\" VALUES(1,'성북구');\n",
      "INSERT INTO \"city\" VALUES(2,'강북구');\n",
      "INSERT INTO \"city\" VALUES(3,'동대문구');\n",
      "INSERT INTO \"city\" VALUES(4,'중구');\n",
      "INSERT INTO \"city\" VALUES(5,'중량구');\n",
      "INSERT INTO \"city\" VALUES(6,'노원구');\n",
      "INSERT INTO \"city\" VALUES(7,'강남구');\n",
      "INSERT INTO \"city\" VALUES(8,'서초구');\n",
      "INSERT INTO \"city\" VALUES(9,'광진구');\n",
      "CREATE TABLE part(\n",
      "        pno integer primary key,\n",
      "        name char(1)\n",
      "        );\n",
      "INSERT INTO \"part\" VALUES(1,'아메리카노');\n",
      "INSERT INTO \"part\" VALUES(2,'카페라테');\n",
      "INSERT INTO \"part\" VALUES(3,'에스프레소');\n",
      "INSERT INTO \"part\" VALUES(4,'아이스티');\n",
      "CREATE TABLE sells(\n",
      "    sno ineger not null,\n",
      "    pno integer not null,\n",
      "    price ineger not null default 0\n",
      "    );\n",
      "INSERT INTO \"sells\" VALUES(1,1,10);\n",
      "INSERT INTO \"sells\" VALUES(2,1,10);\n",
      "INSERT INTO \"sells\" VALUES(3,1,10);\n",
      "INSERT INTO \"sells\" VALUES(5,1,10);\n",
      "INSERT INTO \"sells\" VALUES(7,1,10);\n",
      "INSERT INTO \"sells\" VALUES(9,1,10);\n",
      "INSERT INTO \"sells\" VALUES(11,1,10);\n",
      "INSERT INTO \"sells\" VALUES(1,2,15);\n",
      "INSERT INTO \"sells\" VALUES(4,2,15);\n",
      "INSERT INTO \"sells\" VALUES(6,2,15);\n",
      "INSERT INTO \"sells\" VALUES(8,2,15);\n",
      "INSERT INTO \"sells\" VALUES(10,2,15);\n",
      "INSERT INTO \"sells\" VALUES(12,2,15);\n",
      "INSERT INTO \"sells\" VALUES(14,2,15);\n",
      "INSERT INTO \"sells\" VALUES(1,3,8);\n",
      "INSERT INTO \"sells\" VALUES(18,3,8);\n",
      "INSERT INTO \"sells\" VALUES(19,3,8);\n",
      "INSERT INTO \"sells\" VALUES(22,4,8);\n",
      "INSERT INTO \"sells\" VALUES(1,4,20);\n",
      "INSERT INTO \"sells\" VALUES(2,4,20);\n",
      "INSERT INTO \"sells\" VALUES(3,4,20);\n",
      "CREATE TABLE supplier(\n",
      "        sno integer primary key,\n",
      "        name varchar(2),\n",
      "        cno integer integer not null\n",
      "        );\n",
      "INSERT INTO \"supplier\" VALUES(1,'1호점',1);\n",
      "INSERT INTO \"supplier\" VALUES(2,'2호점',1);\n",
      "INSERT INTO \"supplier\" VALUES(3,'3호점',1);\n",
      "INSERT INTO \"supplier\" VALUES(4,'1호점',2);\n",
      "INSERT INTO \"supplier\" VALUES(5,'1호점',3);\n",
      "INSERT INTO \"supplier\" VALUES(6,'2호점',3);\n",
      "INSERT INTO \"supplier\" VALUES(7,'3호점',3);\n",
      "INSERT INTO \"supplier\" VALUES(8,'1호점',4);\n",
      "INSERT INTO \"supplier\" VALUES(9,'2호점',4);\n",
      "INSERT INTO \"supplier\" VALUES(10,'3호점',4);\n",
      "INSERT INTO \"supplier\" VALUES(11,'1호점',5);\n",
      "INSERT INTO \"supplier\" VALUES(12,'2호점',5);\n",
      "INSERT INTO \"supplier\" VALUES(13,'3호점',5);\n",
      "INSERT INTO \"supplier\" VALUES(14,'1호점',6);\n",
      "INSERT INTO \"supplier\" VALUES(15,'2호점',6);\n",
      "INSERT INTO \"supplier\" VALUES(16,'3호점',6);\n",
      "INSERT INTO \"supplier\" VALUES(17,'1호점',7);\n",
      "INSERT INTO \"supplier\" VALUES(18,'2호점',7);\n",
      "INSERT INTO \"supplier\" VALUES(19,'3호점',7);\n",
      "INSERT INTO \"supplier\" VALUES(20,'1호점',8);\n",
      "INSERT INTO \"supplier\" VALUES(21,'2호점',8);\n",
      "INSERT INTO \"supplier\" VALUES(22,'3호점',8);\n",
      "COMMIT;\n"
     ]
    }
   ],
   "source": [
    "for d in con.iterdump():\n",
    "    print(d)"
   ]
  }
 ],
 "metadata": {
  "kernelspec": {
   "display_name": "koreasw",
   "language": "python",
   "name": "python3"
  },
  "language_info": {
   "codemirror_mode": {
    "name": "ipython",
    "version": 3
   },
   "file_extension": ".py",
   "mimetype": "text/x-python",
   "name": "python",
   "nbconvert_exporter": "python",
   "pygments_lexer": "ipython3",
   "version": "3.11.11"
  }
 },
 "nbformat": 4,
 "nbformat_minor": 2
}
