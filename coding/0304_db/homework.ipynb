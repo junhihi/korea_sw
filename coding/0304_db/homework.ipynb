{
 "cells": [
  {
   "cell_type": "code",
   "execution_count": 7,
   "metadata": {},
   "outputs": [],
   "source": [
    "from sqlalchemy.orm import declarative_base, sessionmaker\n",
    "from sqlalchemy.types import Integer, Text\n",
    "from sqlalchemy.schema import ForeignKey, Column\n",
    "from sqlalchemy.engine import create_engine\n",
    "from sqlalchemy.orm import relationship"
   ]
  },
  {
   "cell_type": "code",
   "execution_count": 2,
   "metadata": {},
   "outputs": [],
   "source": [
    "base = declarative_base()"
   ]
  },
  {
   "cell_type": "code",
   "execution_count": 3,
   "metadata": {},
   "outputs": [
    {
     "data": {
      "text/plain": [
       "FacadeDict({})"
      ]
     },
     "execution_count": 3,
     "metadata": {},
     "output_type": "execute_result"
    }
   ],
   "source": [
    "base.metadata.tables"
   ]
  },
  {
   "cell_type": "code",
   "execution_count": 33,
   "metadata": {},
   "outputs": [],
   "source": [
    "sess.close()\n",
    "engine.connect().close()\n",
    "base.metadata.clear()\n",
    "base.registry.dispose()"
   ]
  },
  {
   "cell_type": "code",
   "execution_count": 34,
   "metadata": {},
   "outputs": [],
   "source": [
    "engine = create_engine('sqlite:///:memory:', echo=True)\n",
    "session = sessionmaker()\n",
    "sess = session()\n",
    "sess.bind = engine"
   ]
  },
  {
   "cell_type": "code",
   "execution_count": 35,
   "metadata": {},
   "outputs": [],
   "source": [
    "class Post(base):\n",
    "    __tablename__ = 'POST'\n",
    "    pk = Column('PK', Integer, primary_key=True)\n",
    "    content = Column('CONTENT', Text, default='')\n",
    "    tags = relationship('PH', back_populates='post', uselist=True)\n",
    "\n",
    "    def add(self, s, *tags):\n",
    "        for tag in tags:\n",
    "            t = s.query(Hashtag).filter(Hashtag.name==tag).all()\n",
    "            if len(t) == 0:\n",
    "                t = Hashtag(name=tag)\n",
    "                s.add(t)\n",
    "                s.commit()\n",
    "            else:\n",
    "                t = t[0]\n",
    "            t.count += 1\n",
    "            self.tags.append(PH(pfk=self.pk, hfk=t.pk))\n",
    "        s.commit()\n",
    "    # def update(self, s, *tags):\n",
    "        \n",
    "class Hashtag(base):\n",
    "    __tablename__ = 'HASHTAG'\n",
    "    pk = Column('PK', Integer, primary_key=True)\n",
    "    name = Column('NAME', Text, default='')\n",
    "    count = Column('COUNT', Integer, default=0)\n",
    "    posts = relationship('PH', back_populates='tag', uselist=True)\n",
    "\n",
    "    def plus():\n",
    "        self.count += 1\n",
    "\n",
    "    def minus():\n",
    "        self.count -= 1\n",
    "class PH(base):\n",
    "    __tablename__ = 'PH'\n",
    "    pk = Column('PK', Integer, primary_key=True)\n",
    "    pfk = Column('PFK', Integer, ForeignKey('POST.PK'))\n",
    "    hfk = Column('HFK', Integer, ForeignKey('HASHTAG.PK'))\n",
    "    post = relationship('Post', back_populates='tags', uselist=False)\n",
    "    tag = relationship('Hashtag', back_populates='posts', uselist=False)"
   ]
  },
  {
   "cell_type": "code",
   "execution_count": 36,
   "metadata": {},
   "outputs": [
    {
     "name": "stdout",
     "output_type": "stream",
     "text": [
      "2025-03-07 14:02:38,295 INFO sqlalchemy.engine.Engine BEGIN (implicit)\n",
      "2025-03-07 14:02:38,296 INFO sqlalchemy.engine.Engine PRAGMA main.table_info(\"POST\")\n",
      "2025-03-07 14:02:38,296 INFO sqlalchemy.engine.Engine [raw sql] ()\n",
      "2025-03-07 14:02:38,296 INFO sqlalchemy.engine.Engine PRAGMA temp.table_info(\"POST\")\n",
      "2025-03-07 14:02:38,297 INFO sqlalchemy.engine.Engine [raw sql] ()\n",
      "2025-03-07 14:02:38,297 INFO sqlalchemy.engine.Engine PRAGMA main.table_info(\"HASHTAG\")\n",
      "2025-03-07 14:02:38,297 INFO sqlalchemy.engine.Engine [raw sql] ()\n",
      "2025-03-07 14:02:38,298 INFO sqlalchemy.engine.Engine PRAGMA temp.table_info(\"HASHTAG\")\n",
      "2025-03-07 14:02:38,298 INFO sqlalchemy.engine.Engine [raw sql] ()\n",
      "2025-03-07 14:02:38,298 INFO sqlalchemy.engine.Engine PRAGMA main.table_info(\"PH\")\n",
      "2025-03-07 14:02:38,298 INFO sqlalchemy.engine.Engine [raw sql] ()\n",
      "2025-03-07 14:02:38,299 INFO sqlalchemy.engine.Engine PRAGMA temp.table_info(\"PH\")\n",
      "2025-03-07 14:02:38,299 INFO sqlalchemy.engine.Engine [raw sql] ()\n",
      "2025-03-07 14:02:38,300 INFO sqlalchemy.engine.Engine \n",
      "CREATE TABLE \"POST\" (\n",
      "\t\"PK\" INTEGER NOT NULL, \n",
      "\t\"CONTENT\" TEXT, \n",
      "\tPRIMARY KEY (\"PK\")\n",
      ")\n",
      "\n",
      "\n",
      "2025-03-07 14:02:38,300 INFO sqlalchemy.engine.Engine [no key 0.00041s] ()\n",
      "2025-03-07 14:02:38,301 INFO sqlalchemy.engine.Engine \n",
      "CREATE TABLE \"HASHTAG\" (\n",
      "\t\"PK\" INTEGER NOT NULL, \n",
      "\t\"NAME\" TEXT, \n",
      "\t\"COUNT\" INTEGER, \n",
      "\tPRIMARY KEY (\"PK\")\n",
      ")\n",
      "\n",
      "\n",
      "2025-03-07 14:02:38,301 INFO sqlalchemy.engine.Engine [no key 0.00030s] ()\n",
      "2025-03-07 14:02:38,302 INFO sqlalchemy.engine.Engine \n",
      "CREATE TABLE \"PH\" (\n",
      "\t\"PK\" INTEGER NOT NULL, \n",
      "\t\"PFK\" INTEGER, \n",
      "\t\"HFK\" INTEGER, \n",
      "\tPRIMARY KEY (\"PK\"), \n",
      "\tFOREIGN KEY(\"PFK\") REFERENCES \"POST\" (\"PK\"), \n",
      "\tFOREIGN KEY(\"HFK\") REFERENCES \"HASHTAG\" (\"PK\")\n",
      ")\n",
      "\n",
      "\n",
      "2025-03-07 14:02:38,302 INFO sqlalchemy.engine.Engine [no key 0.00023s] ()\n",
      "2025-03-07 14:02:38,302 INFO sqlalchemy.engine.Engine COMMIT\n"
     ]
    }
   ],
   "source": [
    "base.metadata.create_all(engine)"
   ]
  },
  {
   "cell_type": "code",
   "execution_count": 37,
   "metadata": {},
   "outputs": [],
   "source": [
    "ph1 = PH()"
   ]
  },
  {
   "cell_type": "code",
   "execution_count": 38,
   "metadata": {},
   "outputs": [],
   "source": [
    "ph1.post = Post(content='내용1')\n",
    "ph1.tag = Hashtag(name='태그1')"
   ]
  },
  {
   "cell_type": "code",
   "execution_count": 39,
   "metadata": {},
   "outputs": [
    {
     "name": "stdout",
     "output_type": "stream",
     "text": [
      "2025-03-07 14:02:39,117 INFO sqlalchemy.engine.Engine BEGIN (implicit)\n",
      "2025-03-07 14:02:39,118 INFO sqlalchemy.engine.Engine INSERT INTO \"HASHTAG\" (\"NAME\", \"COUNT\") VALUES (?, ?)\n",
      "2025-03-07 14:02:39,118 INFO sqlalchemy.engine.Engine [generated in 0.00034s] ('태그1', 0)\n",
      "2025-03-07 14:02:39,119 INFO sqlalchemy.engine.Engine INSERT INTO \"POST\" (\"CONTENT\") VALUES (?)\n",
      "2025-03-07 14:02:39,119 INFO sqlalchemy.engine.Engine [generated in 0.00033s] ('내용1',)\n",
      "2025-03-07 14:02:39,120 INFO sqlalchemy.engine.Engine INSERT INTO \"PH\" (\"PFK\", \"HFK\") VALUES (?, ?)\n",
      "2025-03-07 14:02:39,120 INFO sqlalchemy.engine.Engine [generated in 0.00027s] (1, 1)\n",
      "2025-03-07 14:02:39,121 INFO sqlalchemy.engine.Engine COMMIT\n"
     ]
    }
   ],
   "source": [
    "sess.add(ph1)\n",
    "sess.commit()"
   ]
  },
  {
   "cell_type": "code",
   "execution_count": 40,
   "metadata": {},
   "outputs": [
    {
     "name": "stdout",
     "output_type": "stream",
     "text": [
      "2025-03-07 14:02:39,368 INFO sqlalchemy.engine.Engine BEGIN (implicit)\n",
      "2025-03-07 14:02:39,370 INFO sqlalchemy.engine.Engine SELECT \"PH\".\"PK\" AS \"PH_PK\", \"PH\".\"PFK\" AS \"PH_PFK\", \"PH\".\"HFK\" AS \"PH_HFK\" \n",
      "FROM \"PH\" \n",
      "WHERE \"PH\".\"PK\" = ?\n",
      "2025-03-07 14:02:39,370 INFO sqlalchemy.engine.Engine [generated in 0.00032s] (1,)\n",
      "2025-03-07 14:02:39,371 INFO sqlalchemy.engine.Engine SELECT \"POST\".\"PK\" AS \"POST_PK\", \"POST\".\"CONTENT\" AS \"POST_CONTENT\" \n",
      "FROM \"POST\" \n",
      "WHERE \"POST\".\"PK\" = ?\n",
      "2025-03-07 14:02:39,371 INFO sqlalchemy.engine.Engine [generated in 0.00034s] (1,)\n",
      "2025-03-07 14:02:39,372 INFO sqlalchemy.engine.Engine SELECT \"HASHTAG\".\"PK\" AS \"HASHTAG_PK\", \"HASHTAG\".\"NAME\" AS \"HASHTAG_NAME\", \"HASHTAG\".\"COUNT\" AS \"HASHTAG_COUNT\" \n",
      "FROM \"HASHTAG\" \n",
      "WHERE \"HASHTAG\".\"PK\" = ?\n",
      "2025-03-07 14:02:39,372 INFO sqlalchemy.engine.Engine [generated in 0.00023s] (1,)\n"
     ]
    },
    {
     "data": {
      "text/plain": [
       "('내용1', '태그1')"
      ]
     },
     "execution_count": 40,
     "metadata": {},
     "output_type": "execute_result"
    }
   ],
   "source": [
    "ph1.post.content, ph1.tag.name\n",
    "# INSERT Post 내용\n",
    "# INSERT Hashtag 태그\n",
    "# INSERT PH 내용,태그의 pk"
   ]
  },
  {
   "cell_type": "code",
   "execution_count": 41,
   "metadata": {},
   "outputs": [
    {
     "name": "stdout",
     "output_type": "stream",
     "text": [
      "2025-03-07 14:02:39,407 INFO sqlalchemy.engine.Engine SELECT \"POST\".\"PK\" AS \"POST_PK\", \"POST\".\"CONTENT\" AS \"POST_CONTENT\" \n",
      "FROM \"POST\"\n",
      "2025-03-07 14:02:39,407 INFO sqlalchemy.engine.Engine [generated in 0.00058s] ()\n"
     ]
    }
   ],
   "source": [
    "p1 = sess.query(Post).one()"
   ]
  },
  {
   "cell_type": "code",
   "execution_count": 42,
   "metadata": {},
   "outputs": [
    {
     "name": "stdout",
     "output_type": "stream",
     "text": [
      "2025-03-07 14:02:39,438 INFO sqlalchemy.engine.Engine SELECT \"PH\".\"PK\" AS \"PH_PK\", \"PH\".\"PFK\" AS \"PH_PFK\", \"PH\".\"HFK\" AS \"PH_HFK\" \n",
      "FROM \"PH\" \n",
      "WHERE ? = \"PH\".\"PFK\"\n",
      "2025-03-07 14:02:39,438 INFO sqlalchemy.engine.Engine [generated in 0.00056s] (1,)\n"
     ]
    },
    {
     "data": {
      "text/plain": [
       "('내용1', 1, '태그1')"
      ]
     },
     "execution_count": 42,
     "metadata": {},
     "output_type": "execute_result"
    }
   ],
   "source": [
    "p1.content, len(p1.tags), p1.tags[0].tag.name"
   ]
  },
  {
   "cell_type": "code",
   "execution_count": 43,
   "metadata": {},
   "outputs": [],
   "source": [
    "p1.tags[0].tag.name = '새로운 태그1'"
   ]
  },
  {
   "cell_type": "code",
   "execution_count": 44,
   "metadata": {},
   "outputs": [
    {
     "data": {
      "text/plain": [
       "IdentitySet([<__main__.Hashtag object at 0x10c416850>])"
      ]
     },
     "execution_count": 44,
     "metadata": {},
     "output_type": "execute_result"
    }
   ],
   "source": [
    "sess.dirty"
   ]
  },
  {
   "cell_type": "code",
   "execution_count": 45,
   "metadata": {},
   "outputs": [
    {
     "name": "stdout",
     "output_type": "stream",
     "text": [
      "2025-03-07 14:02:39,539 INFO sqlalchemy.engine.Engine UPDATE \"HASHTAG\" SET \"NAME\"=? WHERE \"HASHTAG\".\"PK\" = ?\n",
      "2025-03-07 14:02:39,540 INFO sqlalchemy.engine.Engine [generated in 0.00074s] ('새로운 태그1', 1)\n",
      "2025-03-07 14:02:39,541 INFO sqlalchemy.engine.Engine COMMIT\n"
     ]
    }
   ],
   "source": [
    "sess.commit()"
   ]
  },
  {
   "cell_type": "code",
   "execution_count": 46,
   "metadata": {},
   "outputs": [
    {
     "name": "stdout",
     "output_type": "stream",
     "text": [
      "2025-03-07 14:02:39,574 INFO sqlalchemy.engine.Engine BEGIN (implicit)\n",
      "2025-03-07 14:02:39,574 INFO sqlalchemy.engine.Engine INSERT INTO \"HASHTAG\" (\"NAME\", \"COUNT\") VALUES (?, ?)\n",
      "2025-03-07 14:02:39,575 INFO sqlalchemy.engine.Engine [cached since 0.4573s ago] ('태그2', 0)\n",
      "2025-03-07 14:02:39,576 INFO sqlalchemy.engine.Engine COMMIT\n"
     ]
    }
   ],
   "source": [
    "t2 = Hashtag(name='태그2')\n",
    "sess.add(t2)\n",
    "sess.commit()"
   ]
  },
  {
   "cell_type": "code",
   "execution_count": 47,
   "metadata": {},
   "outputs": [
    {
     "name": "stdout",
     "output_type": "stream",
     "text": [
      "2025-03-07 14:02:39,603 INFO sqlalchemy.engine.Engine BEGIN (implicit)\n",
      "2025-03-07 14:02:39,604 INFO sqlalchemy.engine.Engine SELECT \"POST\".\"PK\" AS \"POST_PK\", \"POST\".\"CONTENT\" AS \"POST_CONTENT\" \n",
      "FROM \"POST\" \n",
      "WHERE \"POST\".\"PK\" = ?\n",
      "2025-03-07 14:02:39,604 INFO sqlalchemy.engine.Engine [generated in 0.00035s] (1,)\n",
      "2025-03-07 14:02:39,605 INFO sqlalchemy.engine.Engine SELECT \"PH\".\"PK\" AS \"PH_PK\", \"PH\".\"PFK\" AS \"PH_PFK\", \"PH\".\"HFK\" AS \"PH_HFK\" \n",
      "FROM \"PH\" \n",
      "WHERE ? = \"PH\".\"PFK\"\n",
      "2025-03-07 14:02:39,605 INFO sqlalchemy.engine.Engine [cached since 0.1673s ago] (1,)\n",
      "2025-03-07 14:02:39,606 INFO sqlalchemy.engine.Engine SELECT \"HASHTAG\".\"PK\" AS \"HASHTAG_PK\", \"HASHTAG\".\"NAME\" AS \"HASHTAG_NAME\", \"HASHTAG\".\"COUNT\" AS \"HASHTAG_COUNT\" \n",
      "FROM \"HASHTAG\" \n",
      "WHERE \"HASHTAG\".\"PK\" = ?\n",
      "2025-03-07 14:02:39,606 INFO sqlalchemy.engine.Engine [generated in 0.00024s] (2,)\n"
     ]
    }
   ],
   "source": [
    "p1.tags.append(PH(pfk=p1.pk, hfk=t2.pk))"
   ]
  },
  {
   "cell_type": "code",
   "execution_count": 48,
   "metadata": {},
   "outputs": [
    {
     "data": {
      "text/plain": [
       "IdentitySet([<__main__.Post object at 0x10c169d50>])"
      ]
     },
     "execution_count": 48,
     "metadata": {},
     "output_type": "execute_result"
    }
   ],
   "source": [
    "sess.dirty"
   ]
  },
  {
   "cell_type": "code",
   "execution_count": 49,
   "metadata": {},
   "outputs": [
    {
     "name": "stdout",
     "output_type": "stream",
     "text": [
      "2025-03-07 14:02:39,668 INFO sqlalchemy.engine.Engine INSERT INTO \"PH\" (\"PFK\", \"HFK\") VALUES (?, ?)\n",
      "2025-03-07 14:02:39,669 INFO sqlalchemy.engine.Engine [cached since 0.5488s ago] (1, 2)\n",
      "2025-03-07 14:02:39,670 INFO sqlalchemy.engine.Engine COMMIT\n"
     ]
    }
   ],
   "source": [
    "sess.commit()"
   ]
  },
  {
   "cell_type": "code",
   "execution_count": 50,
   "metadata": {},
   "outputs": [
    {
     "name": "stdout",
     "output_type": "stream",
     "text": [
      "2025-03-07 14:02:39,698 INFO sqlalchemy.engine.Engine BEGIN (implicit)\n",
      "2025-03-07 14:02:39,699 INFO sqlalchemy.engine.Engine SELECT \"POST\".\"PK\" AS \"POST_PK\", \"POST\".\"CONTENT\" AS \"POST_CONTENT\" \n",
      "FROM \"POST\" \n",
      "WHERE \"POST\".\"PK\" = ?\n",
      "2025-03-07 14:02:39,699 INFO sqlalchemy.engine.Engine [cached since 0.09556s ago] (1,)\n",
      "2025-03-07 14:02:39,700 INFO sqlalchemy.engine.Engine SELECT \"PH\".\"PK\" AS \"PH_PK\", \"PH\".\"PFK\" AS \"PH_PFK\", \"PH\".\"HFK\" AS \"PH_HFK\" \n",
      "FROM \"PH\" \n",
      "WHERE ? = \"PH\".\"PFK\"\n",
      "2025-03-07 14:02:39,701 INFO sqlalchemy.engine.Engine [cached since 0.2629s ago] (1,)\n",
      "2025-03-07 14:02:39,701 INFO sqlalchemy.engine.Engine SELECT \"HASHTAG\".\"PK\" AS \"HASHTAG_PK\", \"HASHTAG\".\"NAME\" AS \"HASHTAG_NAME\", \"HASHTAG\".\"COUNT\" AS \"HASHTAG_COUNT\" \n",
      "FROM \"HASHTAG\" \n",
      "WHERE \"HASHTAG\".\"PK\" = ?\n",
      "2025-03-07 14:02:39,701 INFO sqlalchemy.engine.Engine [cached since 0.09553s ago] (2,)\n"
     ]
    },
    {
     "data": {
      "text/plain": [
       "(2, '태그2')"
      ]
     },
     "execution_count": 50,
     "metadata": {},
     "output_type": "execute_result"
    }
   ],
   "source": [
    "len(p1.tags), p1.tags[-1].tag.name"
   ]
  },
  {
   "cell_type": "code",
   "execution_count": 51,
   "metadata": {},
   "outputs": [],
   "source": [
    "new_p = Post(content='새로운 게시글')"
   ]
  },
  {
   "cell_type": "code",
   "execution_count": 52,
   "metadata": {},
   "outputs": [
    {
     "name": "stdout",
     "output_type": "stream",
     "text": [
      "2025-03-07 14:02:40,168 INFO sqlalchemy.engine.Engine INSERT INTO \"POST\" (\"CONTENT\") VALUES (?)\n",
      "2025-03-07 14:02:40,168 INFO sqlalchemy.engine.Engine [cached since 1.05s ago] ('새로운 게시글',)\n",
      "2025-03-07 14:02:40,169 INFO sqlalchemy.engine.Engine COMMIT\n"
     ]
    }
   ],
   "source": [
    "sess.add(new_p)\n",
    "sess.commit()"
   ]
  },
  {
   "cell_type": "code",
   "execution_count": 53,
   "metadata": {},
   "outputs": [
    {
     "name": "stdout",
     "output_type": "stream",
     "text": [
      "2025-03-07 14:02:40,509 INFO sqlalchemy.engine.Engine BEGIN (implicit)\n",
      "2025-03-07 14:02:40,510 INFO sqlalchemy.engine.Engine SELECT \"HASHTAG\".\"PK\" AS \"HASHTAG_PK\", \"HASHTAG\".\"NAME\" AS \"HASHTAG_NAME\", \"HASHTAG\".\"COUNT\" AS \"HASHTAG_COUNT\" \n",
      "FROM \"HASHTAG\" \n",
      "WHERE \"HASHTAG\".\"NAME\" = ?\n",
      "2025-03-07 14:02:40,510 INFO sqlalchemy.engine.Engine [generated in 0.00037s] ('새로운 태그1',)\n",
      "2025-03-07 14:02:40,511 INFO sqlalchemy.engine.Engine UPDATE \"HASHTAG\" SET \"COUNT\"=? WHERE \"HASHTAG\".\"PK\" = ?\n",
      "2025-03-07 14:02:40,511 INFO sqlalchemy.engine.Engine [generated in 0.00029s] (1, 1)\n",
      "2025-03-07 14:02:40,512 INFO sqlalchemy.engine.Engine SELECT \"POST\".\"PK\" AS \"POST_PK\", \"POST\".\"CONTENT\" AS \"POST_CONTENT\" \n",
      "FROM \"POST\" \n",
      "WHERE \"POST\".\"PK\" = ?\n",
      "2025-03-07 14:02:40,512 INFO sqlalchemy.engine.Engine [cached since 0.908s ago] (2,)\n",
      "2025-03-07 14:02:40,513 INFO sqlalchemy.engine.Engine SELECT \"PH\".\"PK\" AS \"PH_PK\", \"PH\".\"PFK\" AS \"PH_PFK\", \"PH\".\"HFK\" AS \"PH_HFK\" \n",
      "FROM \"PH\" \n",
      "WHERE ? = \"PH\".\"PFK\"\n",
      "2025-03-07 14:02:40,514 INFO sqlalchemy.engine.Engine [cached since 1.076s ago] (2,)\n",
      "2025-03-07 14:02:40,515 INFO sqlalchemy.engine.Engine INSERT INTO \"PH\" (\"PFK\", \"HFK\") VALUES (?, ?)\n",
      "2025-03-07 14:02:40,515 INFO sqlalchemy.engine.Engine [cached since 1.395s ago] (2, 1)\n",
      "2025-03-07 14:02:40,516 INFO sqlalchemy.engine.Engine SELECT \"HASHTAG\".\"PK\" AS \"HASHTAG_PK\", \"HASHTAG\".\"NAME\" AS \"HASHTAG_NAME\", \"HASHTAG\".\"COUNT\" AS \"HASHTAG_COUNT\" \n",
      "FROM \"HASHTAG\" \n",
      "WHERE \"HASHTAG\".\"NAME\" = ?\n",
      "2025-03-07 14:02:40,516 INFO sqlalchemy.engine.Engine [cached since 0.006367s ago] ('새로운 태그2',)\n",
      "2025-03-07 14:02:40,516 INFO sqlalchemy.engine.Engine INSERT INTO \"HASHTAG\" (\"NAME\", \"COUNT\") VALUES (?, ?)\n",
      "2025-03-07 14:02:40,517 INFO sqlalchemy.engine.Engine [cached since 1.399s ago] ('새로운 태그2', 0)\n",
      "2025-03-07 14:02:40,517 INFO sqlalchemy.engine.Engine COMMIT\n",
      "2025-03-07 14:02:40,517 INFO sqlalchemy.engine.Engine BEGIN (implicit)\n",
      "2025-03-07 14:02:40,517 INFO sqlalchemy.engine.Engine SELECT \"HASHTAG\".\"PK\" AS \"HASHTAG_PK\", \"HASHTAG\".\"NAME\" AS \"HASHTAG_NAME\", \"HASHTAG\".\"COUNT\" AS \"HASHTAG_COUNT\" \n",
      "FROM \"HASHTAG\" \n",
      "WHERE \"HASHTAG\".\"PK\" = ?\n",
      "2025-03-07 14:02:40,518 INFO sqlalchemy.engine.Engine [cached since 0.9117s ago] (3,)\n",
      "2025-03-07 14:02:40,518 INFO sqlalchemy.engine.Engine UPDATE \"HASHTAG\" SET \"COUNT\"=? WHERE \"HASHTAG\".\"PK\" = ?\n",
      "2025-03-07 14:02:40,518 INFO sqlalchemy.engine.Engine [cached since 0.007374s ago] (1, 3)\n",
      "2025-03-07 14:02:40,519 INFO sqlalchemy.engine.Engine SELECT \"POST\".\"PK\" AS \"POST_PK\", \"POST\".\"CONTENT\" AS \"POST_CONTENT\" \n",
      "FROM \"POST\" \n",
      "WHERE \"POST\".\"PK\" = ?\n",
      "2025-03-07 14:02:40,519 INFO sqlalchemy.engine.Engine [cached since 0.9149s ago] (2,)\n",
      "2025-03-07 14:02:40,519 INFO sqlalchemy.engine.Engine SELECT \"PH\".\"PK\" AS \"PH_PK\", \"PH\".\"PFK\" AS \"PH_PFK\", \"PH\".\"HFK\" AS \"PH_HFK\" \n",
      "FROM \"PH\" \n",
      "WHERE ? = \"PH\".\"PFK\"\n",
      "2025-03-07 14:02:40,519 INFO sqlalchemy.engine.Engine [cached since 1.082s ago] (2,)\n",
      "2025-03-07 14:02:40,520 INFO sqlalchemy.engine.Engine INSERT INTO \"PH\" (\"PFK\", \"HFK\") VALUES (?, ?)\n",
      "2025-03-07 14:02:40,520 INFO sqlalchemy.engine.Engine [cached since 1.4s ago] (2, 3)\n",
      "2025-03-07 14:02:40,521 INFO sqlalchemy.engine.Engine SELECT \"HASHTAG\".\"PK\" AS \"HASHTAG_PK\", \"HASHTAG\".\"NAME\" AS \"HASHTAG_NAME\", \"HASHTAG\".\"COUNT\" AS \"HASHTAG_COUNT\" \n",
      "FROM \"HASHTAG\" \n",
      "WHERE \"HASHTAG\".\"NAME\" = ?\n",
      "2025-03-07 14:02:40,521 INFO sqlalchemy.engine.Engine [cached since 0.01129s ago] ('새로운 태그3',)\n",
      "2025-03-07 14:02:40,521 INFO sqlalchemy.engine.Engine INSERT INTO \"HASHTAG\" (\"NAME\", \"COUNT\") VALUES (?, ?)\n",
      "2025-03-07 14:02:40,521 INFO sqlalchemy.engine.Engine [cached since 1.404s ago] ('새로운 태그3', 0)\n",
      "2025-03-07 14:02:40,522 INFO sqlalchemy.engine.Engine COMMIT\n",
      "2025-03-07 14:02:40,522 INFO sqlalchemy.engine.Engine BEGIN (implicit)\n",
      "2025-03-07 14:02:40,522 INFO sqlalchemy.engine.Engine SELECT \"HASHTAG\".\"PK\" AS \"HASHTAG_PK\", \"HASHTAG\".\"NAME\" AS \"HASHTAG_NAME\", \"HASHTAG\".\"COUNT\" AS \"HASHTAG_COUNT\" \n",
      "FROM \"HASHTAG\" \n",
      "WHERE \"HASHTAG\".\"PK\" = ?\n",
      "2025-03-07 14:02:40,523 INFO sqlalchemy.engine.Engine [cached since 0.9167s ago] (4,)\n",
      "2025-03-07 14:02:40,523 INFO sqlalchemy.engine.Engine UPDATE \"HASHTAG\" SET \"COUNT\"=? WHERE \"HASHTAG\".\"PK\" = ?\n",
      "2025-03-07 14:02:40,523 INFO sqlalchemy.engine.Engine [cached since 0.01239s ago] (1, 4)\n",
      "2025-03-07 14:02:40,524 INFO sqlalchemy.engine.Engine SELECT \"POST\".\"PK\" AS \"POST_PK\", \"POST\".\"CONTENT\" AS \"POST_CONTENT\" \n",
      "FROM \"POST\" \n",
      "WHERE \"POST\".\"PK\" = ?\n",
      "2025-03-07 14:02:40,524 INFO sqlalchemy.engine.Engine [cached since 0.9201s ago] (2,)\n",
      "2025-03-07 14:02:40,524 INFO sqlalchemy.engine.Engine SELECT \"PH\".\"PK\" AS \"PH_PK\", \"PH\".\"PFK\" AS \"PH_PFK\", \"PH\".\"HFK\" AS \"PH_HFK\" \n",
      "FROM \"PH\" \n",
      "WHERE ? = \"PH\".\"PFK\"\n",
      "2025-03-07 14:02:40,525 INFO sqlalchemy.engine.Engine [cached since 1.087s ago] (2,)\n",
      "2025-03-07 14:02:40,525 INFO sqlalchemy.engine.Engine INSERT INTO \"PH\" (\"PFK\", \"HFK\") VALUES (?, ?)\n",
      "2025-03-07 14:02:40,525 INFO sqlalchemy.engine.Engine [cached since 1.405s ago] (2, 4)\n",
      "2025-03-07 14:02:40,526 INFO sqlalchemy.engine.Engine COMMIT\n"
     ]
    }
   ],
   "source": [
    "new_p.add(sess, '새로운 태그1', '새로운 태그2', '새로운 태그3')"
   ]
  },
  {
   "cell_type": "code",
   "execution_count": 54,
   "metadata": {},
   "outputs": [
    {
     "name": "stdout",
     "output_type": "stream",
     "text": [
      "2025-03-07 14:02:51,349 INFO sqlalchemy.engine.Engine BEGIN (implicit)\n",
      "2025-03-07 14:02:51,350 INFO sqlalchemy.engine.Engine SELECT \"POST\".\"PK\" AS \"POST_PK\", \"POST\".\"CONTENT\" AS \"POST_CONTENT\" \n",
      "FROM \"POST\" \n",
      "WHERE \"POST\".\"PK\" = ?\n",
      "2025-03-07 14:02:51,351 INFO sqlalchemy.engine.Engine [cached since 11.75s ago] (2,)\n",
      "2025-03-07 14:02:51,351 INFO sqlalchemy.engine.Engine SELECT \"PH\".\"PK\" AS \"PH_PK\", \"PH\".\"PFK\" AS \"PH_PFK\", \"PH\".\"HFK\" AS \"PH_HFK\" \n",
      "FROM \"PH\" \n",
      "WHERE ? = \"PH\".\"PFK\"\n",
      "2025-03-07 14:02:51,352 INFO sqlalchemy.engine.Engine [cached since 11.91s ago] (2,)\n",
      "2025-03-07 14:02:51,352 INFO sqlalchemy.engine.Engine SELECT \"HASHTAG\".\"PK\" AS \"HASHTAG_PK\", \"HASHTAG\".\"NAME\" AS \"HASHTAG_NAME\", \"HASHTAG\".\"COUNT\" AS \"HASHTAG_COUNT\" \n",
      "FROM \"HASHTAG\" \n",
      "WHERE \"HASHTAG\".\"PK\" = ?\n",
      "2025-03-07 14:02:51,352 INFO sqlalchemy.engine.Engine [cached since 11.75s ago] (1,)\n"
     ]
    },
    {
     "data": {
      "text/plain": [
       "('새로운 게시글', 3, '새로운 태그1', 1)"
      ]
     },
     "execution_count": 54,
     "metadata": {},
     "output_type": "execute_result"
    }
   ],
   "source": [
    "new_p.content, len(new_p.tags), new_p.tags[0].tag.name, new_p.tags[0].tag.count"
   ]
  },
  {
   "cell_type": "code",
   "execution_count": 55,
   "metadata": {},
   "outputs": [
    {
     "name": "stdout",
     "output_type": "stream",
     "text": [
      "2025-03-07 14:02:56,339 INFO sqlalchemy.engine.Engine SELECT \"HASHTAG\".\"PK\" AS \"HASHTAG_PK\", \"HASHTAG\".\"NAME\" AS \"HASHTAG_NAME\", \"HASHTAG\".\"COUNT\" AS \"HASHTAG_COUNT\" \n",
      "FROM \"HASHTAG\" \n",
      "WHERE \"HASHTAG\".\"PK\" = ?\n",
      "2025-03-07 14:02:56,340 INFO sqlalchemy.engine.Engine [cached since 16.97s ago] (3,)\n"
     ]
    },
    {
     "data": {
      "text/plain": [
       "('새로운 게시글', 3, '새로운 태그2', 1)"
      ]
     },
     "execution_count": 55,
     "metadata": {},
     "output_type": "execute_result"
    }
   ],
   "source": [
    "new_p.content, len(new_p.tags), new_p.tags[1].tag.name, new_p.tags[1].tag.count"
   ]
  },
  {
   "cell_type": "code",
   "execution_count": null,
   "metadata": {},
   "outputs": [],
   "source": []
  }
 ],
 "metadata": {
  "kernelspec": {
   "display_name": "koreasw",
   "language": "python",
   "name": "python3"
  },
  "language_info": {
   "codemirror_mode": {
    "name": "ipython",
    "version": 3
   },
   "file_extension": ".py",
   "mimetype": "text/x-python",
   "name": "python",
   "nbconvert_exporter": "python",
   "pygments_lexer": "ipython3",
   "version": "3.11.11"
  }
 },
 "nbformat": 4,
 "nbformat_minor": 2
}
