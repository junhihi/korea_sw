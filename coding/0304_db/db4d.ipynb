{
 "cells": [
  {
   "cell_type": "code",
   "execution_count": 11,
   "metadata": {},
   "outputs": [],
   "source": [
    "from sqlalchemy.orm import declarative_base, sessionmaker\n",
    "from sqlalchemy.types import Integer, Text\n",
    "from sqlalchemy.schema import ForeignKey, Column\n",
    "from sqlalchemy.engine import create_engine"
   ]
  },
  {
   "cell_type": "code",
   "execution_count": 5,
   "metadata": {},
   "outputs": [],
   "source": [
    "base = declarative_base()"
   ]
  },
  {
   "cell_type": "code",
   "execution_count": 7,
   "metadata": {},
   "outputs": [
    {
     "data": {
      "text/plain": [
       "FacadeDict({})"
      ]
     },
     "execution_count": 7,
     "metadata": {},
     "output_type": "execute_result"
    }
   ],
   "source": [
    "base.metadata.tables"
   ]
  },
  {
   "cell_type": "code",
   "execution_count": 8,
   "metadata": {},
   "outputs": [],
   "source": [
    "engine = create_engine('sqlite:///:memory:', echo=True)"
   ]
  },
  {
   "cell_type": "code",
   "execution_count": 10,
   "metadata": {},
   "outputs": [
    {
     "data": {
      "text/plain": [
       "['__abstract__',\n",
       " '__class__',\n",
       " '__delattr__',\n",
       " '__dict__',\n",
       " '__dir__',\n",
       " '__doc__',\n",
       " '__eq__',\n",
       " '__format__',\n",
       " '__ge__',\n",
       " '__getattribute__',\n",
       " '__getstate__',\n",
       " '__gt__',\n",
       " '__hash__',\n",
       " '__init__',\n",
       " '__init_subclass__',\n",
       " '__le__',\n",
       " '__lt__',\n",
       " '__module__',\n",
       " '__ne__',\n",
       " '__new__',\n",
       " '__reduce__',\n",
       " '__reduce_ex__',\n",
       " '__repr__',\n",
       " '__setattr__',\n",
       " '__sizeof__',\n",
       " '__str__',\n",
       " '__subclasshook__',\n",
       " '__weakref__',\n",
       " '_sa_registry',\n",
       " 'metadata',\n",
       " 'registry']"
      ]
     },
     "execution_count": 10,
     "metadata": {},
     "output_type": "execute_result"
    }
   ],
   "source": [
    "dir(base)"
   ]
  },
  {
   "cell_type": "code",
   "execution_count": 40,
   "metadata": {},
   "outputs": [],
   "source": [
    "base.registry.dispose() # base에 등록된 Class만 날림\n",
    "# base.metadata.clear() # meta에 등록된 Table 객체를 날림\n",
    "\n",
    "# 둘 다 서버와 상관없다"
   ]
  },
  {
   "cell_type": "code",
   "execution_count": 63,
   "metadata": {},
   "outputs": [],
   "source": [
    "class User(base):\n",
    "    __tablename__='USER'\n",
    "    __table_args__= {'extend_existing':True}\n",
    "\n",
    "    pk = Column('PK', Integer, primary_key=True)\n",
    "    name = Column('NAME', Text, nullable=False)"
   ]
  },
  {
   "cell_type": "code",
   "execution_count": 48,
   "metadata": {},
   "outputs": [
    {
     "data": {
      "text/plain": [
       "FacadeDict({'USER': Table('USER', MetaData(), Column('PK', Integer(), table=<USER>, primary_key=True, nullable=False), Column('NAME', Text(), table=<USER>, nullable=False), schema=None)})"
      ]
     },
     "execution_count": 48,
     "metadata": {},
     "output_type": "execute_result"
    }
   ],
   "source": [
    "base.metadata.tables"
   ]
  },
  {
   "cell_type": "code",
   "execution_count": 49,
   "metadata": {},
   "outputs": [],
   "source": [
    "user1 = User(name='사람1')"
   ]
  },
  {
   "cell_type": "code",
   "execution_count": 50,
   "metadata": {},
   "outputs": [
    {
     "data": {
      "text/plain": [
       "(None, '사람1')"
      ]
     },
     "execution_count": 50,
     "metadata": {},
     "output_type": "execute_result"
    }
   ],
   "source": [
    "user1.pk, user1.name # Class->Instance 값 조회 (DB와 상관 X)\n",
    "# pk값 없음"
   ]
  },
  {
   "cell_type": "code",
   "execution_count": 51,
   "metadata": {},
   "outputs": [
    {
     "name": "stdout",
     "output_type": "stream",
     "text": [
      "2025-03-07 09:39:23,733 INFO sqlalchemy.engine.Engine BEGIN (implicit)\n",
      "2025-03-07 09:39:23,734 INFO sqlalchemy.engine.Engine PRAGMA main.table_info(\"USER\")\n",
      "2025-03-07 09:39:23,734 INFO sqlalchemy.engine.Engine [raw sql] ()\n",
      "2025-03-07 09:39:23,735 INFO sqlalchemy.engine.Engine COMMIT\n"
     ]
    }
   ],
   "source": [
    "base.metadata.create_all(engine)\n",
    "# Class(base) 선언 -> Metadata(Table 객체 등록) -> engine.dialenct가 Table객체를 SQL 변환\n",
    "# engine.connect SQLite 접속 -> SQL 실행"
   ]
  },
  {
   "cell_type": "code",
   "execution_count": 109,
   "metadata": {},
   "outputs": [],
   "source": [
    "session = sessionmaker()\n",
    "sess = session()\n",
    "sess.bind = engine\n",
    "#              주시\n",
    "#instance <=========> 물리적 DB"
   ]
  },
  {
   "cell_type": "code",
   "execution_count": 21,
   "metadata": {},
   "outputs": [],
   "source": [
    "s = sess()"
   ]
  },
  {
   "cell_type": "code",
   "execution_count": 27,
   "metadata": {},
   "outputs": [],
   "source": [
    "s.bind = engine"
   ]
  },
  {
   "cell_type": "code",
   "execution_count": 28,
   "metadata": {},
   "outputs": [],
   "source": [
    "s.add(user1)"
   ]
  },
  {
   "cell_type": "code",
   "execution_count": 29,
   "metadata": {},
   "outputs": [
    {
     "data": {
      "text/plain": [
       "(IdentitySet([]), True)"
      ]
     },
     "execution_count": 29,
     "metadata": {},
     "output_type": "execute_result"
    }
   ],
   "source": [
    "s.dirty, s.is_modified(user1)\n",
    "# session이 db에 기록/수정 차이점   session이 관리중인 객체가 변화가 있는지"
   ]
  },
  {
   "cell_type": "code",
   "execution_count": 30,
   "metadata": {},
   "outputs": [],
   "source": [
    "s.add(User(name='사람2'))"
   ]
  },
  {
   "cell_type": "code",
   "execution_count": 53,
   "metadata": {},
   "outputs": [],
   "source": [
    "s.commit()"
   ]
  },
  {
   "cell_type": "code",
   "execution_count": 43,
   "metadata": {},
   "outputs": [],
   "source": [
    "#s.rollback()\n",
    "s.commit()"
   ]
  },
  {
   "cell_type": "code",
   "execution_count": 54,
   "metadata": {},
   "outputs": [],
   "source": [
    "user1.pk"
   ]
  },
  {
   "cell_type": "code",
   "execution_count": null,
   "metadata": {},
   "outputs": [],
   "source": []
  },
  {
   "cell_type": "code",
   "execution_count": null,
   "metadata": {},
   "outputs": [],
   "source": [
    "result = sess.query(user).all()"
   ]
  },
  {
   "cell_type": "code",
   "execution_count": null,
   "metadata": {},
   "outputs": [],
   "source": []
  },
  {
   "cell_type": "code",
   "execution_count": null,
   "metadata": {},
   "outputs": [],
   "source": [
    "result[1].pk, result[1].name"
   ]
  },
  {
   "cell_type": "code",
   "execution_count": null,
   "metadata": {},
   "outputs": [],
   "source": [
    "sess.dirty"
   ]
  },
  {
   "cell_type": "code",
   "execution_count": null,
   "metadata": {},
   "outputs": [],
   "source": [
    "result[1].name = '바뀐 사람2'"
   ]
  },
  {
   "cell_type": "code",
   "execution_count": null,
   "metadata": {},
   "outputs": [],
   "source": [
    "sess.dirty"
   ]
  },
  {
   "cell_type": "code",
   "execution_count": null,
   "metadata": {},
   "outputs": [],
   "source": [
    "sess.commit()"
   ]
  },
  {
   "cell_type": "code",
   "execution_count": 55,
   "metadata": {},
   "outputs": [
    {
     "ename": "NameError",
     "evalue": "name 'result' is not defined",
     "output_type": "error",
     "traceback": [
      "\u001b[31m---------------------------------------------------------------------------\u001b[39m",
      "\u001b[31mNameError\u001b[39m                                 Traceback (most recent call last)",
      "\u001b[36mCell\u001b[39m\u001b[36m \u001b[39m\u001b[32mIn[55]\u001b[39m\u001b[32m, line 1\u001b[39m\n\u001b[32m----> \u001b[39m\u001b[32m1\u001b[39m \u001b[43mresult\u001b[49m[\u001b[32m1\u001b[39m].name\n",
      "\u001b[31mNameError\u001b[39m: name 'result' is not defined"
     ]
    }
   ],
   "source": [
    "result[1].name"
   ]
  },
  {
   "cell_type": "code",
   "execution_count": null,
   "metadata": {},
   "outputs": [],
   "source": [
    "result[0].name, result[1].name"
   ]
  },
  {
   "cell_type": "code",
   "execution_count": null,
   "metadata": {},
   "outputs": [],
   "source": [
    "result[0].name, result[1].name\n",
    "# db까지 갈 필요가 없다"
   ]
  },
  {
   "cell_type": "code",
   "execution_count": 58,
   "metadata": {},
   "outputs": [],
   "source": [
    "s.close()\n",
    "base.registry.dispose()\n",
    "base.metadata.clear()"
   ]
  },
  {
   "cell_type": "code",
   "execution_count": 68,
   "metadata": {},
   "outputs": [
    {
     "data": {
      "text/plain": [
       "<bound method _SessionClassMethods.close_all of <class 'sqlalchemy.orm.session.sessionmaker'>>"
      ]
     },
     "execution_count": 68,
     "metadata": {},
     "output_type": "execute_result"
    }
   ],
   "source": [
    "sess.close_all"
   ]
  },
  {
   "cell_type": "code",
   "execution_count": 75,
   "metadata": {},
   "outputs": [],
   "source": [
    "sess.bind = engine"
   ]
  },
  {
   "cell_type": "code",
   "execution_count": 76,
   "metadata": {},
   "outputs": [
    {
     "name": "stdout",
     "output_type": "stream",
     "text": [
      "2025-03-07 09:47:49,277 INFO sqlalchemy.engine.Engine BEGIN (implicit)\n",
      "2025-03-07 09:47:49,278 INFO sqlalchemy.engine.Engine SELECT name FROM sqlite_master WHERE type='table' AND name NOT LIKE 'sqlite~_%' ESCAPE '~' ORDER BY name\n",
      "2025-03-07 09:47:49,278 INFO sqlalchemy.engine.Engine [raw sql] ()\n",
      "2025-03-07 09:47:49,279 INFO sqlalchemy.engine.Engine SELECT name FROM sqlite_temp_master WHERE type='table' AND name NOT LIKE 'sqlite~_%' ESCAPE '~' ORDER BY name\n",
      "2025-03-07 09:47:49,279 INFO sqlalchemy.engine.Engine [raw sql] ()\n",
      "2025-03-07 09:47:49,279 INFO sqlalchemy.engine.Engine PRAGMA main.table_xinfo(\"USER\")\n",
      "2025-03-07 09:47:49,279 INFO sqlalchemy.engine.Engine [raw sql] ()\n",
      "2025-03-07 09:47:49,279 INFO sqlalchemy.engine.Engine SELECT sql FROM  (SELECT * FROM sqlite_master UNION ALL   SELECT * FROM sqlite_temp_master) WHERE name = ? AND type in ('table', 'view')\n",
      "2025-03-07 09:47:49,280 INFO sqlalchemy.engine.Engine [raw sql] ('USER',)\n",
      "2025-03-07 09:47:49,280 INFO sqlalchemy.engine.Engine PRAGMA main.foreign_key_list(\"USER\")\n",
      "2025-03-07 09:47:49,280 INFO sqlalchemy.engine.Engine [raw sql] ()\n",
      "2025-03-07 09:47:49,280 INFO sqlalchemy.engine.Engine PRAGMA temp.foreign_key_list(\"USER\")\n",
      "2025-03-07 09:47:49,280 INFO sqlalchemy.engine.Engine [raw sql] ()\n",
      "2025-03-07 09:47:49,281 INFO sqlalchemy.engine.Engine SELECT sql FROM  (SELECT * FROM sqlite_master UNION ALL   SELECT * FROM sqlite_temp_master) WHERE name = ? AND type in ('table', 'view')\n",
      "2025-03-07 09:47:49,281 INFO sqlalchemy.engine.Engine [raw sql] ('USER',)\n",
      "2025-03-07 09:47:49,281 INFO sqlalchemy.engine.Engine PRAGMA main.index_list(\"USER\")\n",
      "2025-03-07 09:47:49,281 INFO sqlalchemy.engine.Engine [raw sql] ()\n",
      "2025-03-07 09:47:49,281 INFO sqlalchemy.engine.Engine PRAGMA temp.index_list(\"USER\")\n",
      "2025-03-07 09:47:49,281 INFO sqlalchemy.engine.Engine [raw sql] ()\n",
      "2025-03-07 09:47:49,282 INFO sqlalchemy.engine.Engine PRAGMA main.table_info(\"USER\")\n",
      "2025-03-07 09:47:49,282 INFO sqlalchemy.engine.Engine [raw sql] ()\n",
      "2025-03-07 09:47:49,282 INFO sqlalchemy.engine.Engine PRAGMA main.index_list(\"USER\")\n",
      "2025-03-07 09:47:49,282 INFO sqlalchemy.engine.Engine [raw sql] ()\n",
      "2025-03-07 09:47:49,282 INFO sqlalchemy.engine.Engine PRAGMA temp.index_list(\"USER\")\n",
      "2025-03-07 09:47:49,282 INFO sqlalchemy.engine.Engine [raw sql] ()\n",
      "2025-03-07 09:47:49,282 INFO sqlalchemy.engine.Engine PRAGMA main.table_info(\"USER\")\n",
      "2025-03-07 09:47:49,282 INFO sqlalchemy.engine.Engine [raw sql] ()\n",
      "2025-03-07 09:47:49,283 INFO sqlalchemy.engine.Engine SELECT sql FROM  (SELECT * FROM sqlite_master UNION ALL   SELECT * FROM sqlite_temp_master) WHERE name = ? AND type in ('table', 'view')\n",
      "2025-03-07 09:47:49,283 INFO sqlalchemy.engine.Engine [raw sql] ('USER',)\n",
      "2025-03-07 09:47:49,283 INFO sqlalchemy.engine.Engine ROLLBACK\n"
     ]
    }
   ],
   "source": [
    "base.metadata.reflect(engine)"
   ]
  },
  {
   "cell_type": "code",
   "execution_count": 77,
   "metadata": {},
   "outputs": [
    {
     "data": {
      "text/plain": [
       "FacadeDict({'USER': Table('USER', MetaData(), Column('PK', Integer(), table=<USER>, primary_key=True, nullable=False), Column('NAME', Text(), table=<USER>, nullable=False), schema=None)})"
      ]
     },
     "execution_count": 77,
     "metadata": {},
     "output_type": "execute_result"
    }
   ],
   "source": [
    "base.metadata.tables"
   ]
  },
  {
   "cell_type": "code",
   "execution_count": 78,
   "metadata": {},
   "outputs": [
    {
     "name": "stderr",
     "output_type": "stream",
     "text": [
      "/var/folders/r0/ymsr5pxj0ld3f7szkbfyf__40000gn/T/ipykernel_44990/239469531.py:1: SAWarning: This declarative base already contains a class with the same class name and module name as __main__.NewUser, and will be replaced in the string-lookup table.\n",
      "  class NewUser(base):\n"
     ]
    }
   ],
   "source": [
    "class NewUser(base):\n",
    "    __table__ = base.metadata.tables['USER']\n",
    "\n",
    "    NO = base.metadata.tables['USER'].c['PK']\n",
    "    NAME = base.metadata.tables['USER'].c['NAME']\n",
    "\n",
    "    def print(self):\n",
    "        print(self.NO, self.NAME)"
   ]
  },
  {
   "cell_type": "code",
   "execution_count": 79,
   "metadata": {},
   "outputs": [
    {
     "ename": "AttributeError",
     "evalue": "'sessionmaker' object has no attribute 'query'",
     "output_type": "error",
     "traceback": [
      "\u001b[31m---------------------------------------------------------------------------\u001b[39m",
      "\u001b[31mAttributeError\u001b[39m                            Traceback (most recent call last)",
      "\u001b[36mCell\u001b[39m\u001b[36m \u001b[39m\u001b[32mIn[79]\u001b[39m\u001b[32m, line 1\u001b[39m\n\u001b[32m----> \u001b[39m\u001b[32m1\u001b[39m r = \u001b[43msess\u001b[49m\u001b[43m.\u001b[49m\u001b[43mquery\u001b[49m(NewUser).all()\n",
      "\u001b[31mAttributeError\u001b[39m: 'sessionmaker' object has no attribute 'query'"
     ]
    }
   ],
   "source": [
    "r = sess.query(NewUser).all()"
   ]
  },
  {
   "cell_type": "code",
   "execution_count": null,
   "metadata": {},
   "outputs": [],
   "source": [
    "r[0].print(), r[1].print()"
   ]
  },
  {
   "cell_type": "code",
   "execution_count": 80,
   "metadata": {},
   "outputs": [
    {
     "ename": "AttributeError",
     "evalue": "'sessionmaker' object has no attribute 'dirty'",
     "output_type": "error",
     "traceback": [
      "\u001b[31m---------------------------------------------------------------------------\u001b[39m",
      "\u001b[31mAttributeError\u001b[39m                            Traceback (most recent call last)",
      "\u001b[36mCell\u001b[39m\u001b[36m \u001b[39m\u001b[32mIn[80]\u001b[39m\u001b[32m, line 1\u001b[39m\n\u001b[32m----> \u001b[39m\u001b[32m1\u001b[39m \u001b[43msess\u001b[49m\u001b[43m.\u001b[49m\u001b[43mdirty\u001b[49m\n",
      "\u001b[31mAttributeError\u001b[39m: 'sessionmaker' object has no attribute 'dirty'"
     ]
    }
   ],
   "source": [
    "sess.dirty"
   ]
  },
  {
   "cell_type": "code",
   "execution_count": 129,
   "metadata": {},
   "outputs": [],
   "source": [
    "sess.close()\n",
    "base.registry.dispose()\n",
    "base.metadata.clear()\n",
    "engine.connect().close()"
   ]
  },
  {
   "cell_type": "code",
   "execution_count": 146,
   "metadata": {},
   "outputs": [
    {
     "name": "stdout",
     "output_type": "stream",
     "text": [
      "2025-03-07 10:49:01,948 INFO sqlalchemy.engine.Engine BEGIN (implicit)\n",
      "2025-03-07 10:49:01,948 INFO sqlalchemy.engine.Engine SELECT name FROM sqlite_master WHERE type='table' AND name NOT LIKE 'sqlite~_%' ESCAPE '~' ORDER BY name\n",
      "2025-03-07 10:49:01,948 INFO sqlalchemy.engine.Engine [raw sql] ()\n",
      "2025-03-07 10:49:01,949 INFO sqlalchemy.engine.Engine SELECT name FROM sqlite_temp_master WHERE type='table' AND name NOT LIKE 'sqlite~_%' ESCAPE '~' ORDER BY name\n",
      "2025-03-07 10:49:01,949 INFO sqlalchemy.engine.Engine [raw sql] ()\n",
      "2025-03-07 10:49:01,949 INFO sqlalchemy.engine.Engine PRAGMA main.table_xinfo(\"album\")\n",
      "2025-03-07 10:49:01,949 INFO sqlalchemy.engine.Engine [raw sql] ()\n",
      "2025-03-07 10:49:01,950 INFO sqlalchemy.engine.Engine PRAGMA main.table_xinfo(\"artist\")\n",
      "2025-03-07 10:49:01,950 INFO sqlalchemy.engine.Engine [raw sql] ()\n",
      "2025-03-07 10:49:01,950 INFO sqlalchemy.engine.Engine PRAGMA main.table_xinfo(\"city\")\n",
      "2025-03-07 10:49:01,950 INFO sqlalchemy.engine.Engine [raw sql] ()\n",
      "2025-03-07 10:49:01,951 INFO sqlalchemy.engine.Engine PRAGMA main.table_xinfo(\"part\")\n",
      "2025-03-07 10:49:01,951 INFO sqlalchemy.engine.Engine [raw sql] ()\n",
      "2025-03-07 10:49:01,951 INFO sqlalchemy.engine.Engine PRAGMA main.table_xinfo(\"sells\")\n",
      "2025-03-07 10:49:01,951 INFO sqlalchemy.engine.Engine [raw sql] ()\n",
      "2025-03-07 10:49:01,952 INFO sqlalchemy.engine.Engine PRAGMA main.table_xinfo(\"supplier\")\n",
      "2025-03-07 10:49:01,952 INFO sqlalchemy.engine.Engine [raw sql] ()\n",
      "2025-03-07 10:49:01,952 INFO sqlalchemy.engine.Engine SELECT sql FROM  (SELECT * FROM sqlite_master UNION ALL   SELECT * FROM sqlite_temp_master) WHERE name = ? AND type in ('table', 'view')\n",
      "2025-03-07 10:49:01,952 INFO sqlalchemy.engine.Engine [raw sql] ('album',)\n",
      "2025-03-07 10:49:01,952 INFO sqlalchemy.engine.Engine SELECT sql FROM  (SELECT * FROM sqlite_master UNION ALL   SELECT * FROM sqlite_temp_master) WHERE name = ? AND type in ('table', 'view')\n",
      "2025-03-07 10:49:01,953 INFO sqlalchemy.engine.Engine [raw sql] ('artist',)\n",
      "2025-03-07 10:49:01,953 INFO sqlalchemy.engine.Engine SELECT sql FROM  (SELECT * FROM sqlite_master UNION ALL   SELECT * FROM sqlite_temp_master) WHERE name = ? AND type in ('table', 'view')\n",
      "2025-03-07 10:49:01,953 INFO sqlalchemy.engine.Engine [raw sql] ('city',)\n",
      "2025-03-07 10:49:01,953 INFO sqlalchemy.engine.Engine SELECT sql FROM  (SELECT * FROM sqlite_master UNION ALL   SELECT * FROM sqlite_temp_master) WHERE name = ? AND type in ('table', 'view')\n",
      "2025-03-07 10:49:01,953 INFO sqlalchemy.engine.Engine [raw sql] ('part',)\n",
      "2025-03-07 10:49:01,954 INFO sqlalchemy.engine.Engine SELECT sql FROM  (SELECT * FROM sqlite_master UNION ALL   SELECT * FROM sqlite_temp_master) WHERE name = ? AND type in ('table', 'view')\n",
      "2025-03-07 10:49:01,954 INFO sqlalchemy.engine.Engine [raw sql] ('sells',)\n",
      "2025-03-07 10:49:01,954 INFO sqlalchemy.engine.Engine SELECT sql FROM  (SELECT * FROM sqlite_master UNION ALL   SELECT * FROM sqlite_temp_master) WHERE name = ? AND type in ('table', 'view')\n",
      "2025-03-07 10:49:01,954 INFO sqlalchemy.engine.Engine [raw sql] ('supplier',)\n",
      "2025-03-07 10:49:01,954 INFO sqlalchemy.engine.Engine PRAGMA main.foreign_key_list(\"album\")\n",
      "2025-03-07 10:49:01,954 INFO sqlalchemy.engine.Engine [raw sql] ()\n",
      "2025-03-07 10:49:01,955 INFO sqlalchemy.engine.Engine PRAGMA temp.foreign_key_list(\"album\")\n",
      "2025-03-07 10:49:01,955 INFO sqlalchemy.engine.Engine [raw sql] ()\n",
      "2025-03-07 10:49:01,955 INFO sqlalchemy.engine.Engine SELECT sql FROM  (SELECT * FROM sqlite_master UNION ALL   SELECT * FROM sqlite_temp_master) WHERE name = ? AND type in ('table', 'view')\n",
      "2025-03-07 10:49:01,955 INFO sqlalchemy.engine.Engine [raw sql] ('album',)\n",
      "2025-03-07 10:49:01,955 INFO sqlalchemy.engine.Engine PRAGMA main.foreign_key_list(\"artist\")\n",
      "2025-03-07 10:49:01,955 INFO sqlalchemy.engine.Engine [raw sql] ()\n",
      "2025-03-07 10:49:01,955 INFO sqlalchemy.engine.Engine PRAGMA temp.foreign_key_list(\"artist\")\n",
      "2025-03-07 10:49:01,956 INFO sqlalchemy.engine.Engine [raw sql] ()\n",
      "2025-03-07 10:49:01,956 INFO sqlalchemy.engine.Engine SELECT sql FROM  (SELECT * FROM sqlite_master UNION ALL   SELECT * FROM sqlite_temp_master) WHERE name = ? AND type in ('table', 'view')\n",
      "2025-03-07 10:49:01,956 INFO sqlalchemy.engine.Engine [raw sql] ('artist',)\n",
      "2025-03-07 10:49:01,956 INFO sqlalchemy.engine.Engine PRAGMA main.foreign_key_list(\"city\")\n",
      "2025-03-07 10:49:01,956 INFO sqlalchemy.engine.Engine [raw sql] ()\n",
      "2025-03-07 10:49:01,957 INFO sqlalchemy.engine.Engine PRAGMA temp.foreign_key_list(\"city\")\n",
      "2025-03-07 10:49:01,957 INFO sqlalchemy.engine.Engine [raw sql] ()\n",
      "2025-03-07 10:49:01,957 INFO sqlalchemy.engine.Engine SELECT sql FROM  (SELECT * FROM sqlite_master UNION ALL   SELECT * FROM sqlite_temp_master) WHERE name = ? AND type in ('table', 'view')\n",
      "2025-03-07 10:49:01,957 INFO sqlalchemy.engine.Engine [raw sql] ('city',)\n",
      "2025-03-07 10:49:01,957 INFO sqlalchemy.engine.Engine PRAGMA main.foreign_key_list(\"part\")\n",
      "2025-03-07 10:49:01,957 INFO sqlalchemy.engine.Engine [raw sql] ()\n",
      "2025-03-07 10:49:01,958 INFO sqlalchemy.engine.Engine PRAGMA temp.foreign_key_list(\"part\")\n",
      "2025-03-07 10:49:01,958 INFO sqlalchemy.engine.Engine [raw sql] ()\n",
      "2025-03-07 10:49:01,958 INFO sqlalchemy.engine.Engine SELECT sql FROM  (SELECT * FROM sqlite_master UNION ALL   SELECT * FROM sqlite_temp_master) WHERE name = ? AND type in ('table', 'view')\n",
      "2025-03-07 10:49:01,958 INFO sqlalchemy.engine.Engine [raw sql] ('part',)\n",
      "2025-03-07 10:49:01,958 INFO sqlalchemy.engine.Engine PRAGMA main.foreign_key_list(\"sells\")\n",
      "2025-03-07 10:49:01,959 INFO sqlalchemy.engine.Engine [raw sql] ()\n",
      "2025-03-07 10:49:01,959 INFO sqlalchemy.engine.Engine PRAGMA temp.foreign_key_list(\"sells\")\n",
      "2025-03-07 10:49:01,959 INFO sqlalchemy.engine.Engine [raw sql] ()\n",
      "2025-03-07 10:49:01,959 INFO sqlalchemy.engine.Engine SELECT sql FROM  (SELECT * FROM sqlite_master UNION ALL   SELECT * FROM sqlite_temp_master) WHERE name = ? AND type in ('table', 'view')\n",
      "2025-03-07 10:49:01,959 INFO sqlalchemy.engine.Engine [raw sql] ('sells',)\n",
      "2025-03-07 10:49:01,959 INFO sqlalchemy.engine.Engine PRAGMA main.foreign_key_list(\"supplier\")\n",
      "2025-03-07 10:49:01,960 INFO sqlalchemy.engine.Engine [raw sql] ()\n",
      "2025-03-07 10:49:01,960 INFO sqlalchemy.engine.Engine PRAGMA temp.foreign_key_list(\"supplier\")\n",
      "2025-03-07 10:49:01,960 INFO sqlalchemy.engine.Engine [raw sql] ()\n",
      "2025-03-07 10:49:01,960 INFO sqlalchemy.engine.Engine SELECT sql FROM  (SELECT * FROM sqlite_master UNION ALL   SELECT * FROM sqlite_temp_master) WHERE name = ? AND type in ('table', 'view')\n",
      "2025-03-07 10:49:01,960 INFO sqlalchemy.engine.Engine [raw sql] ('supplier',)\n",
      "2025-03-07 10:49:01,961 INFO sqlalchemy.engine.Engine PRAGMA main.index_list(\"album\")\n",
      "2025-03-07 10:49:01,961 INFO sqlalchemy.engine.Engine [raw sql] ()\n",
      "2025-03-07 10:49:01,961 INFO sqlalchemy.engine.Engine PRAGMA temp.index_list(\"album\")\n",
      "2025-03-07 10:49:01,961 INFO sqlalchemy.engine.Engine [raw sql] ()\n",
      "2025-03-07 10:49:01,961 INFO sqlalchemy.engine.Engine PRAGMA main.table_info(\"album\")\n",
      "2025-03-07 10:49:01,961 INFO sqlalchemy.engine.Engine [raw sql] ()\n",
      "2025-03-07 10:49:01,962 INFO sqlalchemy.engine.Engine PRAGMA main.index_list(\"artist\")\n",
      "2025-03-07 10:49:01,962 INFO sqlalchemy.engine.Engine [raw sql] ()\n",
      "2025-03-07 10:49:01,962 INFO sqlalchemy.engine.Engine PRAGMA temp.index_list(\"artist\")\n",
      "2025-03-07 10:49:01,962 INFO sqlalchemy.engine.Engine [raw sql] ()\n",
      "2025-03-07 10:49:01,963 INFO sqlalchemy.engine.Engine PRAGMA main.table_info(\"artist\")\n",
      "2025-03-07 10:49:01,963 INFO sqlalchemy.engine.Engine [raw sql] ()\n",
      "2025-03-07 10:49:01,963 INFO sqlalchemy.engine.Engine PRAGMA main.index_list(\"city\")\n",
      "2025-03-07 10:49:01,963 INFO sqlalchemy.engine.Engine [raw sql] ()\n",
      "2025-03-07 10:49:01,964 INFO sqlalchemy.engine.Engine PRAGMA temp.index_list(\"city\")\n",
      "2025-03-07 10:49:01,964 INFO sqlalchemy.engine.Engine [raw sql] ()\n",
      "2025-03-07 10:49:01,964 INFO sqlalchemy.engine.Engine PRAGMA main.table_info(\"city\")\n",
      "2025-03-07 10:49:01,965 INFO sqlalchemy.engine.Engine [raw sql] ()\n",
      "2025-03-07 10:49:01,965 INFO sqlalchemy.engine.Engine PRAGMA main.index_list(\"part\")\n",
      "2025-03-07 10:49:01,965 INFO sqlalchemy.engine.Engine [raw sql] ()\n",
      "2025-03-07 10:49:01,966 INFO sqlalchemy.engine.Engine PRAGMA temp.index_list(\"part\")\n",
      "2025-03-07 10:49:01,966 INFO sqlalchemy.engine.Engine [raw sql] ()\n",
      "2025-03-07 10:49:01,966 INFO sqlalchemy.engine.Engine PRAGMA main.table_info(\"part\")\n",
      "2025-03-07 10:49:01,966 INFO sqlalchemy.engine.Engine [raw sql] ()\n",
      "2025-03-07 10:49:01,967 INFO sqlalchemy.engine.Engine PRAGMA main.index_list(\"sells\")\n",
      "2025-03-07 10:49:01,967 INFO sqlalchemy.engine.Engine [raw sql] ()\n",
      "2025-03-07 10:49:01,967 INFO sqlalchemy.engine.Engine PRAGMA temp.index_list(\"sells\")\n",
      "2025-03-07 10:49:01,967 INFO sqlalchemy.engine.Engine [raw sql] ()\n",
      "2025-03-07 10:49:01,967 INFO sqlalchemy.engine.Engine PRAGMA main.table_info(\"sells\")\n",
      "2025-03-07 10:49:01,967 INFO sqlalchemy.engine.Engine [raw sql] ()\n",
      "2025-03-07 10:49:01,968 INFO sqlalchemy.engine.Engine PRAGMA main.index_list(\"supplier\")\n",
      "2025-03-07 10:49:01,968 INFO sqlalchemy.engine.Engine [raw sql] ()\n",
      "2025-03-07 10:49:01,968 INFO sqlalchemy.engine.Engine PRAGMA temp.index_list(\"supplier\")\n",
      "2025-03-07 10:49:01,968 INFO sqlalchemy.engine.Engine [raw sql] ()\n",
      "2025-03-07 10:49:01,968 INFO sqlalchemy.engine.Engine PRAGMA main.table_info(\"supplier\")\n",
      "2025-03-07 10:49:01,968 INFO sqlalchemy.engine.Engine [raw sql] ()\n",
      "2025-03-07 10:49:01,969 INFO sqlalchemy.engine.Engine PRAGMA main.index_list(\"album\")\n",
      "2025-03-07 10:49:01,969 INFO sqlalchemy.engine.Engine [raw sql] ()\n",
      "2025-03-07 10:49:01,969 INFO sqlalchemy.engine.Engine PRAGMA temp.index_list(\"album\")\n",
      "2025-03-07 10:49:01,969 INFO sqlalchemy.engine.Engine [raw sql] ()\n",
      "2025-03-07 10:49:01,970 INFO sqlalchemy.engine.Engine PRAGMA main.table_info(\"album\")\n",
      "2025-03-07 10:49:01,970 INFO sqlalchemy.engine.Engine [raw sql] ()\n",
      "2025-03-07 10:49:01,970 INFO sqlalchemy.engine.Engine SELECT sql FROM  (SELECT * FROM sqlite_master UNION ALL   SELECT * FROM sqlite_temp_master) WHERE name = ? AND type in ('table', 'view')\n",
      "2025-03-07 10:49:01,970 INFO sqlalchemy.engine.Engine [raw sql] ('album',)\n",
      "2025-03-07 10:49:01,971 INFO sqlalchemy.engine.Engine PRAGMA main.index_list(\"artist\")\n",
      "2025-03-07 10:49:01,971 INFO sqlalchemy.engine.Engine [raw sql] ()\n",
      "2025-03-07 10:49:01,971 INFO sqlalchemy.engine.Engine PRAGMA temp.index_list(\"artist\")\n",
      "2025-03-07 10:49:01,971 INFO sqlalchemy.engine.Engine [raw sql] ()\n",
      "2025-03-07 10:49:01,971 INFO sqlalchemy.engine.Engine PRAGMA main.table_info(\"artist\")\n",
      "2025-03-07 10:49:01,972 INFO sqlalchemy.engine.Engine [raw sql] ()\n",
      "2025-03-07 10:49:01,972 INFO sqlalchemy.engine.Engine SELECT sql FROM  (SELECT * FROM sqlite_master UNION ALL   SELECT * FROM sqlite_temp_master) WHERE name = ? AND type in ('table', 'view')\n",
      "2025-03-07 10:49:01,972 INFO sqlalchemy.engine.Engine [raw sql] ('artist',)\n",
      "2025-03-07 10:49:01,972 INFO sqlalchemy.engine.Engine PRAGMA main.index_list(\"city\")\n",
      "2025-03-07 10:49:01,973 INFO sqlalchemy.engine.Engine [raw sql] ()\n",
      "2025-03-07 10:49:01,973 INFO sqlalchemy.engine.Engine PRAGMA temp.index_list(\"city\")\n",
      "2025-03-07 10:49:01,973 INFO sqlalchemy.engine.Engine [raw sql] ()\n",
      "2025-03-07 10:49:01,973 INFO sqlalchemy.engine.Engine PRAGMA main.table_info(\"city\")\n",
      "2025-03-07 10:49:01,973 INFO sqlalchemy.engine.Engine [raw sql] ()\n",
      "2025-03-07 10:49:01,974 INFO sqlalchemy.engine.Engine SELECT sql FROM  (SELECT * FROM sqlite_master UNION ALL   SELECT * FROM sqlite_temp_master) WHERE name = ? AND type in ('table', 'view')\n",
      "2025-03-07 10:49:01,974 INFO sqlalchemy.engine.Engine [raw sql] ('city',)\n",
      "2025-03-07 10:49:01,974 INFO sqlalchemy.engine.Engine PRAGMA main.index_list(\"part\")\n",
      "2025-03-07 10:49:01,974 INFO sqlalchemy.engine.Engine [raw sql] ()\n",
      "2025-03-07 10:49:01,975 INFO sqlalchemy.engine.Engine PRAGMA temp.index_list(\"part\")\n",
      "2025-03-07 10:49:01,975 INFO sqlalchemy.engine.Engine [raw sql] ()\n",
      "2025-03-07 10:49:01,975 INFO sqlalchemy.engine.Engine PRAGMA main.table_info(\"part\")\n",
      "2025-03-07 10:49:01,975 INFO sqlalchemy.engine.Engine [raw sql] ()\n",
      "2025-03-07 10:49:01,975 INFO sqlalchemy.engine.Engine SELECT sql FROM  (SELECT * FROM sqlite_master UNION ALL   SELECT * FROM sqlite_temp_master) WHERE name = ? AND type in ('table', 'view')\n",
      "2025-03-07 10:49:01,976 INFO sqlalchemy.engine.Engine [raw sql] ('part',)\n",
      "2025-03-07 10:49:01,976 INFO sqlalchemy.engine.Engine PRAGMA main.index_list(\"sells\")\n",
      "2025-03-07 10:49:01,976 INFO sqlalchemy.engine.Engine [raw sql] ()\n",
      "2025-03-07 10:49:01,976 INFO sqlalchemy.engine.Engine PRAGMA temp.index_list(\"sells\")\n",
      "2025-03-07 10:49:01,976 INFO sqlalchemy.engine.Engine [raw sql] ()\n",
      "2025-03-07 10:49:01,976 INFO sqlalchemy.engine.Engine PRAGMA main.table_info(\"sells\")\n",
      "2025-03-07 10:49:01,977 INFO sqlalchemy.engine.Engine [raw sql] ()\n",
      "2025-03-07 10:49:01,977 INFO sqlalchemy.engine.Engine SELECT sql FROM  (SELECT * FROM sqlite_master UNION ALL   SELECT * FROM sqlite_temp_master) WHERE name = ? AND type in ('table', 'view')\n",
      "2025-03-07 10:49:01,977 INFO sqlalchemy.engine.Engine [raw sql] ('sells',)\n",
      "2025-03-07 10:49:01,977 INFO sqlalchemy.engine.Engine PRAGMA main.index_list(\"supplier\")\n",
      "2025-03-07 10:49:01,977 INFO sqlalchemy.engine.Engine [raw sql] ()\n",
      "2025-03-07 10:49:01,977 INFO sqlalchemy.engine.Engine PRAGMA temp.index_list(\"supplier\")\n",
      "2025-03-07 10:49:01,978 INFO sqlalchemy.engine.Engine [raw sql] ()\n",
      "2025-03-07 10:49:01,978 INFO sqlalchemy.engine.Engine PRAGMA main.table_info(\"supplier\")\n",
      "2025-03-07 10:49:01,978 INFO sqlalchemy.engine.Engine [raw sql] ()\n",
      "2025-03-07 10:49:01,979 INFO sqlalchemy.engine.Engine SELECT sql FROM  (SELECT * FROM sqlite_master UNION ALL   SELECT * FROM sqlite_temp_master) WHERE name = ? AND type in ('table', 'view')\n",
      "2025-03-07 10:49:01,979 INFO sqlalchemy.engine.Engine [raw sql] ('supplier',)\n",
      "2025-03-07 10:49:01,980 INFO sqlalchemy.engine.Engine ROLLBACK\n"
     ]
    }
   ],
   "source": [
    "engine = create_engine('sqlite:///coffee.db', echo = True)\n",
    "sess.bind = engine\n",
    "base.metadata.reflect(engine)"
   ]
  },
  {
   "cell_type": "code",
   "execution_count": 84,
   "metadata": {},
   "outputs": [
    {
     "ename": "ArgumentError",
     "evalue": "Mapper Mapper[Sells(sells)] could not assemble any primary key columns for mapped table 'sells'",
     "output_type": "error",
     "traceback": [
      "\u001b[31m---------------------------------------------------------------------------\u001b[39m",
      "\u001b[31mArgumentError\u001b[39m                             Traceback (most recent call last)",
      "\u001b[36mCell\u001b[39m\u001b[36m \u001b[39m\u001b[32mIn[84]\u001b[39m\u001b[32m, line 7\u001b[39m\n\u001b[32m      5\u001b[39m \u001b[38;5;28;01mclass\u001b[39;00m\u001b[38;5;250m \u001b[39m\u001b[34;01mPart\u001b[39;00m(base):\n\u001b[32m      6\u001b[39m     __table__ = base.metadata.tables[\u001b[33m'\u001b[39m\u001b[33mpart\u001b[39m\u001b[33m'\u001b[39m]\n\u001b[32m----> \u001b[39m\u001b[32m7\u001b[39m \u001b[38;5;28;43;01mclass\u001b[39;49;00m\u001b[38;5;250;43m \u001b[39;49m\u001b[34;43;01mSells\u001b[39;49;00m\u001b[43m(\u001b[49m\u001b[43mbase\u001b[49m\u001b[43m)\u001b[49m\u001b[43m:\u001b[49m\n\u001b[32m      8\u001b[39m \u001b[43m    \u001b[49m\u001b[43m__table__\u001b[49m\u001b[43m \u001b[49m\u001b[43m=\u001b[49m\u001b[43m \u001b[49m\u001b[43mbase\u001b[49m\u001b[43m.\u001b[49m\u001b[43mmetadata\u001b[49m\u001b[43m.\u001b[49m\u001b[43mtables\u001b[49m\u001b[43m[\u001b[49m\u001b[33;43m'\u001b[39;49m\u001b[33;43msells\u001b[39;49m\u001b[33;43m'\u001b[39;49m\u001b[43m]\u001b[49m\n",
      "\u001b[36mFile \u001b[39m\u001b[32m~/opt/anaconda3/envs/koreasw/lib/python3.11/site-packages/sqlalchemy/orm/decl_api.py:198\u001b[39m, in \u001b[36mDeclarativeMeta.__init__\u001b[39m\u001b[34m(cls, classname, bases, dict_, **kw)\u001b[39m\n\u001b[32m    195\u001b[39m         \u001b[38;5;28mcls\u001b[39m._sa_registry = reg\n\u001b[32m    197\u001b[39m \u001b[38;5;28;01mif\u001b[39;00m \u001b[38;5;129;01mnot\u001b[39;00m \u001b[38;5;28mcls\u001b[39m.\u001b[34m__dict__\u001b[39m.get(\u001b[33m\"\u001b[39m\u001b[33m__abstract__\u001b[39m\u001b[33m\"\u001b[39m, \u001b[38;5;28;01mFalse\u001b[39;00m):\n\u001b[32m--> \u001b[39m\u001b[32m198\u001b[39m     \u001b[43m_as_declarative\u001b[49m\u001b[43m(\u001b[49m\u001b[43mreg\u001b[49m\u001b[43m,\u001b[49m\u001b[43m \u001b[49m\u001b[38;5;28;43mcls\u001b[39;49m\u001b[43m,\u001b[49m\u001b[43m \u001b[49m\u001b[43mdict_\u001b[49m\u001b[43m)\u001b[49m\n\u001b[32m    199\u001b[39m \u001b[38;5;28mtype\u001b[39m.\u001b[34m__init__\u001b[39m(\u001b[38;5;28mcls\u001b[39m, classname, bases, dict_)\n",
      "\u001b[36mFile \u001b[39m\u001b[32m~/opt/anaconda3/envs/koreasw/lib/python3.11/site-packages/sqlalchemy/orm/decl_base.py:244\u001b[39m, in \u001b[36m_as_declarative\u001b[39m\u001b[34m(registry, cls, dict_)\u001b[39m\n\u001b[32m    239\u001b[39m \u001b[38;5;28;01mdef\u001b[39;00m\u001b[38;5;250m \u001b[39m\u001b[34m_as_declarative\u001b[39m(\n\u001b[32m    240\u001b[39m     registry: _RegistryType, \u001b[38;5;28mcls\u001b[39m: Type[Any], dict_: _ClassDict\n\u001b[32m    241\u001b[39m ) -> Optional[_MapperConfig]:\n\u001b[32m    242\u001b[39m     \u001b[38;5;66;03m# declarative scans the class for attributes.  no table or mapper\u001b[39;00m\n\u001b[32m    243\u001b[39m     \u001b[38;5;66;03m# args passed separately.\u001b[39;00m\n\u001b[32m--> \u001b[39m\u001b[32m244\u001b[39m     \u001b[38;5;28;01mreturn\u001b[39;00m \u001b[43m_MapperConfig\u001b[49m\u001b[43m.\u001b[49m\u001b[43msetup_mapping\u001b[49m\u001b[43m(\u001b[49m\u001b[43mregistry\u001b[49m\u001b[43m,\u001b[49m\u001b[43m \u001b[49m\u001b[38;5;28;43mcls\u001b[39;49m\u001b[43m,\u001b[49m\u001b[43m \u001b[49m\u001b[43mdict_\u001b[49m\u001b[43m,\u001b[49m\u001b[43m \u001b[49m\u001b[38;5;28;43;01mNone\u001b[39;49;00m\u001b[43m,\u001b[49m\u001b[43m \u001b[49m\u001b[43m{\u001b[49m\u001b[43m}\u001b[49m\u001b[43m)\u001b[49m\n",
      "\u001b[36mFile \u001b[39m\u001b[32m~/opt/anaconda3/envs/koreasw/lib/python3.11/site-packages/sqlalchemy/orm/decl_base.py:325\u001b[39m, in \u001b[36m_MapperConfig.setup_mapping\u001b[39m\u001b[34m(cls, registry, cls_, dict_, table, mapper_kw)\u001b[39m\n\u001b[32m    321\u001b[39m     \u001b[38;5;28;01mreturn\u001b[39;00m _DeferredMapperConfig(\n\u001b[32m    322\u001b[39m         registry, cls_, dict_, table, mapper_kw\n\u001b[32m    323\u001b[39m     )\n\u001b[32m    324\u001b[39m \u001b[38;5;28;01melse\u001b[39;00m:\n\u001b[32m--> \u001b[39m\u001b[32m325\u001b[39m     \u001b[38;5;28;01mreturn\u001b[39;00m \u001b[43m_ClassScanMapperConfig\u001b[49m\u001b[43m(\u001b[49m\n\u001b[32m    326\u001b[39m \u001b[43m        \u001b[49m\u001b[43mregistry\u001b[49m\u001b[43m,\u001b[49m\u001b[43m \u001b[49m\u001b[43mcls_\u001b[49m\u001b[43m,\u001b[49m\u001b[43m \u001b[49m\u001b[43mdict_\u001b[49m\u001b[43m,\u001b[49m\u001b[43m \u001b[49m\u001b[43mtable\u001b[49m\u001b[43m,\u001b[49m\u001b[43m \u001b[49m\u001b[43mmapper_kw\u001b[49m\n\u001b[32m    327\u001b[39m \u001b[43m    \u001b[49m\u001b[43m)\u001b[49m\n",
      "\u001b[36mFile \u001b[39m\u001b[32m~/opt/anaconda3/envs/koreasw/lib/python3.11/site-packages/sqlalchemy/orm/decl_base.py:580\u001b[39m, in \u001b[36m_ClassScanMapperConfig.__init__\u001b[39m\u001b[34m(self, registry, cls_, dict_, table, mapper_kw)\u001b[39m\n\u001b[32m    576\u001b[39m \u001b[38;5;28mself\u001b[39m._setup_table(table)\n\u001b[32m    578\u001b[39m \u001b[38;5;28mself\u001b[39m._setup_inheriting_columns(mapper_kw)\n\u001b[32m--> \u001b[39m\u001b[32m580\u001b[39m \u001b[38;5;28;43mself\u001b[39;49m\u001b[43m.\u001b[49m\u001b[43m_early_mapping\u001b[49m\u001b[43m(\u001b[49m\u001b[43mmapper_kw\u001b[49m\u001b[43m)\u001b[49m\n",
      "\u001b[36mFile \u001b[39m\u001b[32m~/opt/anaconda3/envs/koreasw/lib/python3.11/site-packages/sqlalchemy/orm/decl_base.py:366\u001b[39m, in \u001b[36m_MapperConfig._early_mapping\u001b[39m\u001b[34m(self, mapper_kw)\u001b[39m\n\u001b[32m    365\u001b[39m \u001b[38;5;28;01mdef\u001b[39;00m\u001b[38;5;250m \u001b[39m\u001b[34m_early_mapping\u001b[39m(\u001b[38;5;28mself\u001b[39m, mapper_kw: _MapperKwArgs) -> \u001b[38;5;28;01mNone\u001b[39;00m:\n\u001b[32m--> \u001b[39m\u001b[32m366\u001b[39m     \u001b[38;5;28;43mself\u001b[39;49m\u001b[43m.\u001b[49m\u001b[43mmap\u001b[49m\u001b[43m(\u001b[49m\u001b[43mmapper_kw\u001b[49m\u001b[43m)\u001b[49m\n",
      "\u001b[36mFile \u001b[39m\u001b[32m~/opt/anaconda3/envs/koreasw/lib/python3.11/site-packages/sqlalchemy/orm/decl_base.py:1990\u001b[39m, in \u001b[36m_ClassScanMapperConfig.map\u001b[39m\u001b[34m(self, mapper_kw)\u001b[39m\n\u001b[32m   1985\u001b[39m \u001b[38;5;28;01melse\u001b[39;00m:\n\u001b[32m   1986\u001b[39m     mapper_cls = Mapper\n\u001b[32m   1988\u001b[39m \u001b[38;5;28;01mreturn\u001b[39;00m \u001b[38;5;28mself\u001b[39m.set_cls_attribute(\n\u001b[32m   1989\u001b[39m     \u001b[33m\"\u001b[39m\u001b[33m__mapper__\u001b[39m\u001b[33m\"\u001b[39m,\n\u001b[32m-> \u001b[39m\u001b[32m1990\u001b[39m     \u001b[43mmapper_cls\u001b[49m\u001b[43m(\u001b[49m\u001b[38;5;28;43mself\u001b[39;49m\u001b[43m.\u001b[49m\u001b[43mcls\u001b[49m\u001b[43m,\u001b[49m\u001b[43m \u001b[49m\u001b[38;5;28;43mself\u001b[39;49m\u001b[43m.\u001b[49m\u001b[43mlocal_table\u001b[49m\u001b[43m,\u001b[49m\u001b[43m \u001b[49m\u001b[43m*\u001b[49m\u001b[43m*\u001b[49m\u001b[38;5;28;43mself\u001b[39;49m\u001b[43m.\u001b[49m\u001b[43mmapper_args\u001b[49m\u001b[43m)\u001b[49m,\n\u001b[32m   1991\u001b[39m )\n",
      "\u001b[36mFile \u001b[39m\u001b[32m<string>:2\u001b[39m, in \u001b[36m__init__\u001b[39m\u001b[34m(self, class_, local_table, properties, primary_key, non_primary, inherits, inherit_condition, inherit_foreign_keys, always_refresh, version_id_col, version_id_generator, polymorphic_on, _polymorphic_map, polymorphic_identity, concrete, with_polymorphic, polymorphic_abstract, polymorphic_load, allow_partial_pks, batch, column_prefix, include_properties, exclude_properties, passive_updates, passive_deletes, confirm_deleted_rows, eager_defaults, legacy_is_orphan, _compiled_cache_size)\u001b[39m\n",
      "\u001b[36mFile \u001b[39m\u001b[32m~/opt/anaconda3/envs/koreasw/lib/python3.11/site-packages/sqlalchemy/util/deprecations.py:281\u001b[39m, in \u001b[36mdeprecated_params.<locals>.decorate.<locals>.warned\u001b[39m\u001b[34m(fn, *args, **kwargs)\u001b[39m\n\u001b[32m    274\u001b[39m     \u001b[38;5;28;01mif\u001b[39;00m m \u001b[38;5;129;01min\u001b[39;00m kwargs:\n\u001b[32m    275\u001b[39m         _warn_with_version(\n\u001b[32m    276\u001b[39m             messages[m],\n\u001b[32m    277\u001b[39m             versions[m],\n\u001b[32m    278\u001b[39m             version_warnings[m],\n\u001b[32m    279\u001b[39m             stacklevel=\u001b[32m3\u001b[39m,\n\u001b[32m    280\u001b[39m         )\n\u001b[32m--> \u001b[39m\u001b[32m281\u001b[39m \u001b[38;5;28;01mreturn\u001b[39;00m \u001b[43mfn\u001b[49m\u001b[43m(\u001b[49m\u001b[43m*\u001b[49m\u001b[43margs\u001b[49m\u001b[43m,\u001b[49m\u001b[43m \u001b[49m\u001b[43m*\u001b[49m\u001b[43m*\u001b[49m\u001b[43mkwargs\u001b[49m\u001b[43m)\u001b[49m\n",
      "\u001b[36mFile \u001b[39m\u001b[32m~/opt/anaconda3/envs/koreasw/lib/python3.11/site-packages/sqlalchemy/orm/mapper.py:866\u001b[39m, in \u001b[36mMapper.__init__\u001b[39m\u001b[34m(self, class_, local_table, properties, primary_key, non_primary, inherits, inherit_condition, inherit_foreign_keys, always_refresh, version_id_col, version_id_generator, polymorphic_on, _polymorphic_map, polymorphic_identity, concrete, with_polymorphic, polymorphic_abstract, polymorphic_load, allow_partial_pks, batch, column_prefix, include_properties, exclude_properties, passive_updates, passive_deletes, confirm_deleted_rows, eager_defaults, legacy_is_orphan, _compiled_cache_size)\u001b[39m\n\u001b[32m    864\u001b[39m \u001b[38;5;28mself\u001b[39m._configure_properties()\n\u001b[32m    865\u001b[39m \u001b[38;5;28mself\u001b[39m._configure_polymorphic_setter()\n\u001b[32m--> \u001b[39m\u001b[32m866\u001b[39m \u001b[38;5;28;43mself\u001b[39;49m\u001b[43m.\u001b[49m\u001b[43m_configure_pks\u001b[49m\u001b[43m(\u001b[49m\u001b[43m)\u001b[49m\n\u001b[32m    867\u001b[39m \u001b[38;5;28mself\u001b[39m.registry._flag_new_mapper(\u001b[38;5;28mself\u001b[39m)\n\u001b[32m    868\u001b[39m \u001b[38;5;28mself\u001b[39m._log(\u001b[33m\"\u001b[39m\u001b[33mconstructed\u001b[39m\u001b[33m\"\u001b[39m)\n",
      "\u001b[36mFile \u001b[39m\u001b[32m~/opt/anaconda3/envs/koreasw/lib/python3.11/site-packages/sqlalchemy/orm/mapper.py:1652\u001b[39m, in \u001b[36mMapper._configure_pks\u001b[39m\u001b[34m(self)\u001b[39m\n\u001b[32m   1647\u001b[39m \u001b[38;5;66;03m# otherwise, see that we got a full PK for the mapped table\u001b[39;00m\n\u001b[32m   1648\u001b[39m \u001b[38;5;28;01melif\u001b[39;00m (\n\u001b[32m   1649\u001b[39m     \u001b[38;5;28mself\u001b[39m.persist_selectable \u001b[38;5;129;01mnot\u001b[39;00m \u001b[38;5;129;01min\u001b[39;00m \u001b[38;5;28mself\u001b[39m._pks_by_table\n\u001b[32m   1650\u001b[39m     \u001b[38;5;129;01mor\u001b[39;00m \u001b[38;5;28mlen\u001b[39m(\u001b[38;5;28mself\u001b[39m._pks_by_table[\u001b[38;5;28mself\u001b[39m.persist_selectable]) == \u001b[32m0\u001b[39m\n\u001b[32m   1651\u001b[39m ):\n\u001b[32m-> \u001b[39m\u001b[32m1652\u001b[39m     \u001b[38;5;28;01mraise\u001b[39;00m sa_exc.ArgumentError(\n\u001b[32m   1653\u001b[39m         \u001b[33m\"\u001b[39m\u001b[33mMapper \u001b[39m\u001b[38;5;132;01m%s\u001b[39;00m\u001b[33m could not assemble any primary \u001b[39m\u001b[33m\"\u001b[39m\n\u001b[32m   1654\u001b[39m         \u001b[33m\"\u001b[39m\u001b[33mkey columns for mapped table \u001b[39m\u001b[33m'\u001b[39m\u001b[38;5;132;01m%s\u001b[39;00m\u001b[33m'\u001b[39m\u001b[33m\"\u001b[39m\n\u001b[32m   1655\u001b[39m         % (\u001b[38;5;28mself\u001b[39m, \u001b[38;5;28mself\u001b[39m.persist_selectable.description)\n\u001b[32m   1656\u001b[39m     )\n\u001b[32m   1657\u001b[39m \u001b[38;5;28;01melif\u001b[39;00m \u001b[38;5;28mself\u001b[39m.local_table \u001b[38;5;129;01mnot\u001b[39;00m \u001b[38;5;129;01min\u001b[39;00m \u001b[38;5;28mself\u001b[39m._pks_by_table \u001b[38;5;129;01mand\u001b[39;00m \u001b[38;5;28misinstance\u001b[39m(\n\u001b[32m   1658\u001b[39m     \u001b[38;5;28mself\u001b[39m.local_table, schema.Table\n\u001b[32m   1659\u001b[39m ):\n\u001b[32m   1660\u001b[39m     util.warn(\n\u001b[32m   1661\u001b[39m         \u001b[33m\"\u001b[39m\u001b[33mCould not assemble any primary \u001b[39m\u001b[33m\"\u001b[39m\n\u001b[32m   1662\u001b[39m         \u001b[33m\"\u001b[39m\u001b[33mkeys for locally mapped table \u001b[39m\u001b[33m'\u001b[39m\u001b[38;5;132;01m%s\u001b[39;00m\u001b[33m'\u001b[39m\u001b[33m - \u001b[39m\u001b[33m\"\u001b[39m\n\u001b[32m   1663\u001b[39m         \u001b[33m\"\u001b[39m\u001b[33mno rows will be persisted in this Table.\u001b[39m\u001b[33m\"\u001b[39m\n\u001b[32m   1664\u001b[39m         % \u001b[38;5;28mself\u001b[39m.local_table.description\n\u001b[32m   1665\u001b[39m     )\n",
      "\u001b[31mArgumentError\u001b[39m: Mapper Mapper[Sells(sells)] could not assemble any primary key columns for mapped table 'sells'"
     ]
    }
   ],
   "source": [
    "class City(base):\n",
    "    __table__ = base.metadata.tables['city']\n",
    "class Supplier(base):\n",
    "    __table__ = base.metadata.tables['supplier']\n",
    "class Part(base):\n",
    "    __table__ = base.metadata.tables['part']\n",
    "class Sells(base):\n",
    "    __table__ = base.metadata.tables['sells']"
   ]
  },
  {
   "cell_type": "code",
   "execution_count": 145,
   "metadata": {},
   "outputs": [],
   "source": [
    "sess.close()\n",
    "base.registry.dispose()\n",
    "base.metadata.clear()\n",
    "engine.connect().close()"
   ]
  },
  {
   "cell_type": "code",
   "execution_count": 133,
   "metadata": {},
   "outputs": [],
   "source": [
    "engine = create_engine('sqlite:///:memory:', echo=True)\n",
    "sess.bind = engine"
   ]
  },
  {
   "cell_type": "code",
   "execution_count": 134,
   "metadata": {},
   "outputs": [],
   "source": [
    "class City(base):\n",
    "    __tablename__ = 'city'\n",
    "    cno = Column('cno', Integer, primary_key=True)\n",
    "    name = Column('name', Text)\n",
    "\n",
    "class Supplier(base):\n",
    "    __tablename__ = 'supplier'\n",
    "    sno = Column('sno', Integer, primary_key=True)\n",
    "    name = Column('name', Text)\n",
    "    cno = Column('cno', Integer, ForeignKey('city.cno'), nullable=False)\n",
    "\n",
    "class Part(base):\n",
    "    __tablename__ = 'part'\n",
    "    cno = Column('pno', Integer, primary_key=True)\n",
    "    name = Column('name', Text)\n",
    "\n",
    "class Sells(base):\n",
    "    __tablename__ = 'sells'\n",
    "    no = Column('no', Integer, primary_key=True)\n",
    "    sno = Column('sno', Integer, ForeignKey('supplier.sno'), nullable=False)\n",
    "    cno = Column('cno', Integer, ForeignKey('part.cno'), nullable=False)\n",
    "    price = Column('price', Integer, default=0)"
   ]
  },
  {
   "cell_type": "code",
   "execution_count": 135,
   "metadata": {},
   "outputs": [],
   "source": [
    "city = list()\n",
    "for c in ['성북구', '강북구', '아무구']:\n",
    "    city.append(City(name=c))\n",
    "sess.add_all(city)"
   ]
  },
  {
   "cell_type": "code",
   "execution_count": null,
   "metadata": {},
   "outputs": [],
   "source": [
    "s"
   ]
  },
  {
   "cell_type": "code",
   "execution_count": 136,
   "metadata": {},
   "outputs": [
    {
     "name": "stdout",
     "output_type": "stream",
     "text": [
      "2025-03-07 10:32:24,346 INFO sqlalchemy.engine.Engine BEGIN (implicit)\n",
      "2025-03-07 10:32:24,347 INFO sqlalchemy.engine.Engine INSERT INTO city (name) VALUES (?) RETURNING cno\n",
      "2025-03-07 10:32:24,347 INFO sqlalchemy.engine.Engine [generated in 0.00005s (insertmanyvalues) 1/3 (ordered; batch not supported)] ('성북구',)\n",
      "2025-03-07 10:32:24,348 INFO sqlalchemy.engine.Engine ROLLBACK\n"
     ]
    },
    {
     "ename": "OperationalError",
     "evalue": "(sqlite3.OperationalError) no such table: city\n[SQL: INSERT INTO city (name) VALUES (?) RETURNING cno]\n[parameters: ('성북구',)]\n(Background on this error at: https://sqlalche.me/e/20/e3q8)",
     "output_type": "error",
     "traceback": [
      "\u001b[31m---------------------------------------------------------------------------\u001b[39m",
      "\u001b[31mOperationalError\u001b[39m                          Traceback (most recent call last)",
      "\u001b[36mFile \u001b[39m\u001b[32m~/opt/anaconda3/envs/koreasw/lib/python3.11/site-packages/sqlalchemy/engine/base.py:2115\u001b[39m, in \u001b[36mConnection._exec_insertmany_context\u001b[39m\u001b[34m(self, dialect, context)\u001b[39m\n\u001b[32m   2114\u001b[39m     \u001b[38;5;28;01melse\u001b[39;00m:\n\u001b[32m-> \u001b[39m\u001b[32m2115\u001b[39m         \u001b[43mdialect\u001b[49m\u001b[43m.\u001b[49m\u001b[43mdo_execute\u001b[49m\u001b[43m(\u001b[49m\n\u001b[32m   2116\u001b[39m \u001b[43m            \u001b[49m\u001b[43mcursor\u001b[49m\u001b[43m,\u001b[49m\n\u001b[32m   2117\u001b[39m \u001b[43m            \u001b[49m\u001b[43msub_stmt\u001b[49m\u001b[43m,\u001b[49m\n\u001b[32m   2118\u001b[39m \u001b[43m            \u001b[49m\u001b[43msub_params\u001b[49m\u001b[43m,\u001b[49m\n\u001b[32m   2119\u001b[39m \u001b[43m            \u001b[49m\u001b[43mcontext\u001b[49m\u001b[43m,\u001b[49m\n\u001b[32m   2120\u001b[39m \u001b[43m        \u001b[49m\u001b[43m)\u001b[49m\n\u001b[32m   2122\u001b[39m \u001b[38;5;28;01mexcept\u001b[39;00m \u001b[38;5;167;01mBaseException\u001b[39;00m \u001b[38;5;28;01mas\u001b[39;00m e:\n",
      "\u001b[36mFile \u001b[39m\u001b[32m~/opt/anaconda3/envs/koreasw/lib/python3.11/site-packages/sqlalchemy/engine/default.py:942\u001b[39m, in \u001b[36mDefaultDialect.do_execute\u001b[39m\u001b[34m(self, cursor, statement, parameters, context)\u001b[39m\n\u001b[32m    941\u001b[39m \u001b[38;5;28;01mdef\u001b[39;00m\u001b[38;5;250m \u001b[39m\u001b[34mdo_execute\u001b[39m(\u001b[38;5;28mself\u001b[39m, cursor, statement, parameters, context=\u001b[38;5;28;01mNone\u001b[39;00m):\n\u001b[32m--> \u001b[39m\u001b[32m942\u001b[39m     cursor.execute(statement, parameters)\n",
      "\u001b[31mOperationalError\u001b[39m: no such table: city",
      "\nThe above exception was the direct cause of the following exception:\n",
      "\u001b[31mOperationalError\u001b[39m                          Traceback (most recent call last)",
      "\u001b[36mCell\u001b[39m\u001b[36m \u001b[39m\u001b[32mIn[136]\u001b[39m\u001b[32m, line 1\u001b[39m\n\u001b[32m----> \u001b[39m\u001b[32m1\u001b[39m \u001b[43msess\u001b[49m\u001b[43m.\u001b[49m\u001b[43mcommit\u001b[49m\u001b[43m(\u001b[49m\u001b[43m)\u001b[49m\n",
      "\u001b[36mFile \u001b[39m\u001b[32m~/opt/anaconda3/envs/koreasw/lib/python3.11/site-packages/sqlalchemy/orm/session.py:2032\u001b[39m, in \u001b[36mSession.commit\u001b[39m\u001b[34m(self)\u001b[39m\n\u001b[32m   2029\u001b[39m \u001b[38;5;28;01mif\u001b[39;00m trans \u001b[38;5;129;01mis\u001b[39;00m \u001b[38;5;28;01mNone\u001b[39;00m:\n\u001b[32m   2030\u001b[39m     trans = \u001b[38;5;28mself\u001b[39m._autobegin_t()\n\u001b[32m-> \u001b[39m\u001b[32m2032\u001b[39m \u001b[43mtrans\u001b[49m\u001b[43m.\u001b[49m\u001b[43mcommit\u001b[49m\u001b[43m(\u001b[49m\u001b[43m_to_root\u001b[49m\u001b[43m=\u001b[49m\u001b[38;5;28;43;01mTrue\u001b[39;49;00m\u001b[43m)\u001b[49m\n",
      "\u001b[36mFile \u001b[39m\u001b[32m<string>:2\u001b[39m, in \u001b[36mcommit\u001b[39m\u001b[34m(self, _to_root)\u001b[39m\n",
      "\u001b[36mFile \u001b[39m\u001b[32m~/opt/anaconda3/envs/koreasw/lib/python3.11/site-packages/sqlalchemy/orm/state_changes.py:139\u001b[39m, in \u001b[36m_StateChange.declare_states.<locals>._go\u001b[39m\u001b[34m(fn, self, *arg, **kw)\u001b[39m\n\u001b[32m    137\u001b[39m \u001b[38;5;28mself\u001b[39m._next_state = _StateChangeStates.CHANGE_IN_PROGRESS\n\u001b[32m    138\u001b[39m \u001b[38;5;28;01mtry\u001b[39;00m:\n\u001b[32m--> \u001b[39m\u001b[32m139\u001b[39m     ret_value = \u001b[43mfn\u001b[49m\u001b[43m(\u001b[49m\u001b[38;5;28;43mself\u001b[39;49m\u001b[43m,\u001b[49m\u001b[43m \u001b[49m\u001b[43m*\u001b[49m\u001b[43marg\u001b[49m\u001b[43m,\u001b[49m\u001b[43m \u001b[49m\u001b[43m*\u001b[49m\u001b[43m*\u001b[49m\u001b[43mkw\u001b[49m\u001b[43m)\u001b[49m\n\u001b[32m    140\u001b[39m \u001b[38;5;28;01mexcept\u001b[39;00m:\n\u001b[32m    141\u001b[39m     \u001b[38;5;28;01mraise\u001b[39;00m\n",
      "\u001b[36mFile \u001b[39m\u001b[32m~/opt/anaconda3/envs/koreasw/lib/python3.11/site-packages/sqlalchemy/orm/session.py:1313\u001b[39m, in \u001b[36mSessionTransaction.commit\u001b[39m\u001b[34m(self, _to_root)\u001b[39m\n\u001b[32m   1311\u001b[39m \u001b[38;5;28;01mif\u001b[39;00m \u001b[38;5;28mself\u001b[39m._state \u001b[38;5;129;01mis\u001b[39;00m \u001b[38;5;129;01mnot\u001b[39;00m SessionTransactionState.PREPARED:\n\u001b[32m   1312\u001b[39m     \u001b[38;5;28;01mwith\u001b[39;00m \u001b[38;5;28mself\u001b[39m._expect_state(SessionTransactionState.PREPARED):\n\u001b[32m-> \u001b[39m\u001b[32m1313\u001b[39m         \u001b[38;5;28;43mself\u001b[39;49m\u001b[43m.\u001b[49m\u001b[43m_prepare_impl\u001b[49m\u001b[43m(\u001b[49m\u001b[43m)\u001b[49m\n\u001b[32m   1315\u001b[39m \u001b[38;5;28;01mif\u001b[39;00m \u001b[38;5;28mself\u001b[39m._parent \u001b[38;5;129;01mis\u001b[39;00m \u001b[38;5;28;01mNone\u001b[39;00m \u001b[38;5;129;01mor\u001b[39;00m \u001b[38;5;28mself\u001b[39m.nested:\n\u001b[32m   1316\u001b[39m     \u001b[38;5;28;01mfor\u001b[39;00m conn, trans, should_commit, autoclose \u001b[38;5;129;01min\u001b[39;00m \u001b[38;5;28mset\u001b[39m(\n\u001b[32m   1317\u001b[39m         \u001b[38;5;28mself\u001b[39m._connections.values()\n\u001b[32m   1318\u001b[39m     ):\n",
      "\u001b[36mFile \u001b[39m\u001b[32m<string>:2\u001b[39m, in \u001b[36m_prepare_impl\u001b[39m\u001b[34m(self)\u001b[39m\n",
      "\u001b[36mFile \u001b[39m\u001b[32m~/opt/anaconda3/envs/koreasw/lib/python3.11/site-packages/sqlalchemy/orm/state_changes.py:139\u001b[39m, in \u001b[36m_StateChange.declare_states.<locals>._go\u001b[39m\u001b[34m(fn, self, *arg, **kw)\u001b[39m\n\u001b[32m    137\u001b[39m \u001b[38;5;28mself\u001b[39m._next_state = _StateChangeStates.CHANGE_IN_PROGRESS\n\u001b[32m    138\u001b[39m \u001b[38;5;28;01mtry\u001b[39;00m:\n\u001b[32m--> \u001b[39m\u001b[32m139\u001b[39m     ret_value = \u001b[43mfn\u001b[49m\u001b[43m(\u001b[49m\u001b[38;5;28;43mself\u001b[39;49m\u001b[43m,\u001b[49m\u001b[43m \u001b[49m\u001b[43m*\u001b[49m\u001b[43marg\u001b[49m\u001b[43m,\u001b[49m\u001b[43m \u001b[49m\u001b[43m*\u001b[49m\u001b[43m*\u001b[49m\u001b[43mkw\u001b[49m\u001b[43m)\u001b[49m\n\u001b[32m    140\u001b[39m \u001b[38;5;28;01mexcept\u001b[39;00m:\n\u001b[32m    141\u001b[39m     \u001b[38;5;28;01mraise\u001b[39;00m\n",
      "\u001b[36mFile \u001b[39m\u001b[32m~/opt/anaconda3/envs/koreasw/lib/python3.11/site-packages/sqlalchemy/orm/session.py:1288\u001b[39m, in \u001b[36mSessionTransaction._prepare_impl\u001b[39m\u001b[34m(self)\u001b[39m\n\u001b[32m   1286\u001b[39m     \u001b[38;5;28;01mif\u001b[39;00m \u001b[38;5;28mself\u001b[39m.session._is_clean():\n\u001b[32m   1287\u001b[39m         \u001b[38;5;28;01mbreak\u001b[39;00m\n\u001b[32m-> \u001b[39m\u001b[32m1288\u001b[39m     \u001b[38;5;28;43mself\u001b[39;49m\u001b[43m.\u001b[49m\u001b[43msession\u001b[49m\u001b[43m.\u001b[49m\u001b[43mflush\u001b[49m\u001b[43m(\u001b[49m\u001b[43m)\u001b[49m\n\u001b[32m   1289\u001b[39m \u001b[38;5;28;01melse\u001b[39;00m:\n\u001b[32m   1290\u001b[39m     \u001b[38;5;28;01mraise\u001b[39;00m exc.FlushError(\n\u001b[32m   1291\u001b[39m         \u001b[33m\"\u001b[39m\u001b[33mOver 100 subsequent flushes have occurred within \u001b[39m\u001b[33m\"\u001b[39m\n\u001b[32m   1292\u001b[39m         \u001b[33m\"\u001b[39m\u001b[33msession.commit() - is an after_flush() hook \u001b[39m\u001b[33m\"\u001b[39m\n\u001b[32m   1293\u001b[39m         \u001b[33m\"\u001b[39m\u001b[33mcreating new objects?\u001b[39m\u001b[33m\"\u001b[39m\n\u001b[32m   1294\u001b[39m     )\n",
      "\u001b[36mFile \u001b[39m\u001b[32m~/opt/anaconda3/envs/koreasw/lib/python3.11/site-packages/sqlalchemy/orm/session.py:4353\u001b[39m, in \u001b[36mSession.flush\u001b[39m\u001b[34m(self, objects)\u001b[39m\n\u001b[32m   4351\u001b[39m \u001b[38;5;28;01mtry\u001b[39;00m:\n\u001b[32m   4352\u001b[39m     \u001b[38;5;28mself\u001b[39m._flushing = \u001b[38;5;28;01mTrue\u001b[39;00m\n\u001b[32m-> \u001b[39m\u001b[32m4353\u001b[39m     \u001b[38;5;28;43mself\u001b[39;49m\u001b[43m.\u001b[49m\u001b[43m_flush\u001b[49m\u001b[43m(\u001b[49m\u001b[43mobjects\u001b[49m\u001b[43m)\u001b[49m\n\u001b[32m   4354\u001b[39m \u001b[38;5;28;01mfinally\u001b[39;00m:\n\u001b[32m   4355\u001b[39m     \u001b[38;5;28mself\u001b[39m._flushing = \u001b[38;5;28;01mFalse\u001b[39;00m\n",
      "\u001b[36mFile \u001b[39m\u001b[32m~/opt/anaconda3/envs/koreasw/lib/python3.11/site-packages/sqlalchemy/orm/session.py:4488\u001b[39m, in \u001b[36mSession._flush\u001b[39m\u001b[34m(self, objects)\u001b[39m\n\u001b[32m   4485\u001b[39m     transaction.commit()\n\u001b[32m   4487\u001b[39m \u001b[38;5;28;01mexcept\u001b[39;00m:\n\u001b[32m-> \u001b[39m\u001b[32m4488\u001b[39m \u001b[43m    \u001b[49m\u001b[38;5;28;43;01mwith\u001b[39;49;00m\u001b[43m \u001b[49m\u001b[43mutil\u001b[49m\u001b[43m.\u001b[49m\u001b[43msafe_reraise\u001b[49m\u001b[43m(\u001b[49m\u001b[43m)\u001b[49m\u001b[43m:\u001b[49m\n\u001b[32m   4489\u001b[39m \u001b[43m        \u001b[49m\u001b[43mtransaction\u001b[49m\u001b[43m.\u001b[49m\u001b[43mrollback\u001b[49m\u001b[43m(\u001b[49m\u001b[43m_capture_exception\u001b[49m\u001b[43m=\u001b[49m\u001b[38;5;28;43;01mTrue\u001b[39;49;00m\u001b[43m)\u001b[49m\n",
      "\u001b[36mFile \u001b[39m\u001b[32m~/opt/anaconda3/envs/koreasw/lib/python3.11/site-packages/sqlalchemy/util/langhelpers.py:146\u001b[39m, in \u001b[36msafe_reraise.__exit__\u001b[39m\u001b[34m(self, type_, value, traceback)\u001b[39m\n\u001b[32m    144\u001b[39m     \u001b[38;5;28;01massert\u001b[39;00m exc_value \u001b[38;5;129;01mis\u001b[39;00m \u001b[38;5;129;01mnot\u001b[39;00m \u001b[38;5;28;01mNone\u001b[39;00m\n\u001b[32m    145\u001b[39m     \u001b[38;5;28mself\u001b[39m._exc_info = \u001b[38;5;28;01mNone\u001b[39;00m  \u001b[38;5;66;03m# remove potential circular references\u001b[39;00m\n\u001b[32m--> \u001b[39m\u001b[32m146\u001b[39m     \u001b[38;5;28;01mraise\u001b[39;00m exc_value.with_traceback(exc_tb)\n\u001b[32m    147\u001b[39m \u001b[38;5;28;01melse\u001b[39;00m:\n\u001b[32m    148\u001b[39m     \u001b[38;5;28mself\u001b[39m._exc_info = \u001b[38;5;28;01mNone\u001b[39;00m  \u001b[38;5;66;03m# remove potential circular references\u001b[39;00m\n",
      "\u001b[36mFile \u001b[39m\u001b[32m~/opt/anaconda3/envs/koreasw/lib/python3.11/site-packages/sqlalchemy/orm/session.py:4449\u001b[39m, in \u001b[36mSession._flush\u001b[39m\u001b[34m(self, objects)\u001b[39m\n\u001b[32m   4447\u001b[39m \u001b[38;5;28mself\u001b[39m._warn_on_events = \u001b[38;5;28;01mTrue\u001b[39;00m\n\u001b[32m   4448\u001b[39m \u001b[38;5;28;01mtry\u001b[39;00m:\n\u001b[32m-> \u001b[39m\u001b[32m4449\u001b[39m     \u001b[43mflush_context\u001b[49m\u001b[43m.\u001b[49m\u001b[43mexecute\u001b[49m\u001b[43m(\u001b[49m\u001b[43m)\u001b[49m\n\u001b[32m   4450\u001b[39m \u001b[38;5;28;01mfinally\u001b[39;00m:\n\u001b[32m   4451\u001b[39m     \u001b[38;5;28mself\u001b[39m._warn_on_events = \u001b[38;5;28;01mFalse\u001b[39;00m\n",
      "\u001b[36mFile \u001b[39m\u001b[32m~/opt/anaconda3/envs/koreasw/lib/python3.11/site-packages/sqlalchemy/orm/unitofwork.py:466\u001b[39m, in \u001b[36mUOWTransaction.execute\u001b[39m\u001b[34m(self)\u001b[39m\n\u001b[32m    464\u001b[39m \u001b[38;5;28;01melse\u001b[39;00m:\n\u001b[32m    465\u001b[39m     \u001b[38;5;28;01mfor\u001b[39;00m rec \u001b[38;5;129;01min\u001b[39;00m topological.sort(\u001b[38;5;28mself\u001b[39m.dependencies, postsort_actions):\n\u001b[32m--> \u001b[39m\u001b[32m466\u001b[39m         \u001b[43mrec\u001b[49m\u001b[43m.\u001b[49m\u001b[43mexecute\u001b[49m\u001b[43m(\u001b[49m\u001b[38;5;28;43mself\u001b[39;49m\u001b[43m)\u001b[49m\n",
      "\u001b[36mFile \u001b[39m\u001b[32m~/opt/anaconda3/envs/koreasw/lib/python3.11/site-packages/sqlalchemy/orm/unitofwork.py:642\u001b[39m, in \u001b[36mSaveUpdateAll.execute\u001b[39m\u001b[34m(self, uow)\u001b[39m\n\u001b[32m    640\u001b[39m \u001b[38;5;129m@util\u001b[39m.preload_module(\u001b[33m\"\u001b[39m\u001b[33msqlalchemy.orm.persistence\u001b[39m\u001b[33m\"\u001b[39m)\n\u001b[32m    641\u001b[39m \u001b[38;5;28;01mdef\u001b[39;00m\u001b[38;5;250m \u001b[39m\u001b[34mexecute\u001b[39m(\u001b[38;5;28mself\u001b[39m, uow):\n\u001b[32m--> \u001b[39m\u001b[32m642\u001b[39m     \u001b[43mutil\u001b[49m\u001b[43m.\u001b[49m\u001b[43mpreloaded\u001b[49m\u001b[43m.\u001b[49m\u001b[43morm_persistence\u001b[49m\u001b[43m.\u001b[49m\u001b[43msave_obj\u001b[49m\u001b[43m(\u001b[49m\n\u001b[32m    643\u001b[39m \u001b[43m        \u001b[49m\u001b[38;5;28;43mself\u001b[39;49m\u001b[43m.\u001b[49m\u001b[43mmapper\u001b[49m\u001b[43m,\u001b[49m\n\u001b[32m    644\u001b[39m \u001b[43m        \u001b[49m\u001b[43muow\u001b[49m\u001b[43m.\u001b[49m\u001b[43mstates_for_mapper_hierarchy\u001b[49m\u001b[43m(\u001b[49m\u001b[38;5;28;43mself\u001b[39;49m\u001b[43m.\u001b[49m\u001b[43mmapper\u001b[49m\u001b[43m,\u001b[49m\u001b[43m \u001b[49m\u001b[38;5;28;43;01mFalse\u001b[39;49;00m\u001b[43m,\u001b[49m\u001b[43m \u001b[49m\u001b[38;5;28;43;01mFalse\u001b[39;49;00m\u001b[43m)\u001b[49m\u001b[43m,\u001b[49m\n\u001b[32m    645\u001b[39m \u001b[43m        \u001b[49m\u001b[43muow\u001b[49m\u001b[43m,\u001b[49m\n\u001b[32m    646\u001b[39m \u001b[43m    \u001b[49m\u001b[43m)\u001b[49m\n",
      "\u001b[36mFile \u001b[39m\u001b[32m~/opt/anaconda3/envs/koreasw/lib/python3.11/site-packages/sqlalchemy/orm/persistence.py:93\u001b[39m, in \u001b[36msave_obj\u001b[39m\u001b[34m(base_mapper, states, uowtransaction, single)\u001b[39m\n\u001b[32m     81\u001b[39m     update = _collect_update_commands(\n\u001b[32m     82\u001b[39m         uowtransaction, table, states_to_update\n\u001b[32m     83\u001b[39m     )\n\u001b[32m     85\u001b[39m     _emit_update_statements(\n\u001b[32m     86\u001b[39m         base_mapper,\n\u001b[32m     87\u001b[39m         uowtransaction,\n\u001b[32m   (...)\u001b[39m\u001b[32m     90\u001b[39m         update,\n\u001b[32m     91\u001b[39m     )\n\u001b[32m---> \u001b[39m\u001b[32m93\u001b[39m     \u001b[43m_emit_insert_statements\u001b[49m\u001b[43m(\u001b[49m\n\u001b[32m     94\u001b[39m \u001b[43m        \u001b[49m\u001b[43mbase_mapper\u001b[49m\u001b[43m,\u001b[49m\n\u001b[32m     95\u001b[39m \u001b[43m        \u001b[49m\u001b[43muowtransaction\u001b[49m\u001b[43m,\u001b[49m\n\u001b[32m     96\u001b[39m \u001b[43m        \u001b[49m\u001b[43mmapper\u001b[49m\u001b[43m,\u001b[49m\n\u001b[32m     97\u001b[39m \u001b[43m        \u001b[49m\u001b[43mtable\u001b[49m\u001b[43m,\u001b[49m\n\u001b[32m     98\u001b[39m \u001b[43m        \u001b[49m\u001b[43minsert\u001b[49m\u001b[43m,\u001b[49m\n\u001b[32m     99\u001b[39m \u001b[43m    \u001b[49m\u001b[43m)\u001b[49m\n\u001b[32m    101\u001b[39m _finalize_insert_update_commands(\n\u001b[32m    102\u001b[39m     base_mapper,\n\u001b[32m    103\u001b[39m     uowtransaction,\n\u001b[32m   (...)\u001b[39m\u001b[32m    119\u001b[39m     ),\n\u001b[32m    120\u001b[39m )\n",
      "\u001b[36mFile \u001b[39m\u001b[32m~/opt/anaconda3/envs/koreasw/lib/python3.11/site-packages/sqlalchemy/orm/persistence.py:1143\u001b[39m, in \u001b[36m_emit_insert_statements\u001b[39m\u001b[34m(base_mapper, uowtransaction, mapper, table, insert, bookkeeping, use_orm_insert_stmt, execution_options)\u001b[39m\n\u001b[32m   1140\u001b[39m \u001b[38;5;28;01mif\u001b[39;00m do_executemany:\n\u001b[32m   1141\u001b[39m     multiparams = [rec[\u001b[32m2\u001b[39m] \u001b[38;5;28;01mfor\u001b[39;00m rec \u001b[38;5;129;01min\u001b[39;00m records]\n\u001b[32m-> \u001b[39m\u001b[32m1143\u001b[39m     result = \u001b[43mconnection\u001b[49m\u001b[43m.\u001b[49m\u001b[43mexecute\u001b[49m\u001b[43m(\u001b[49m\n\u001b[32m   1144\u001b[39m \u001b[43m        \u001b[49m\u001b[43mstatement\u001b[49m\u001b[43m,\u001b[49m\u001b[43m \u001b[49m\u001b[43mmultiparams\u001b[49m\u001b[43m,\u001b[49m\u001b[43m \u001b[49m\u001b[43mexecution_options\u001b[49m\u001b[43m=\u001b[49m\u001b[43mexecution_options\u001b[49m\n\u001b[32m   1145\u001b[39m \u001b[43m    \u001b[49m\u001b[43m)\u001b[49m\n\u001b[32m   1147\u001b[39m     \u001b[38;5;28;01mif\u001b[39;00m use_orm_insert_stmt \u001b[38;5;129;01mis\u001b[39;00m \u001b[38;5;129;01mnot\u001b[39;00m \u001b[38;5;28;01mNone\u001b[39;00m:\n\u001b[32m   1148\u001b[39m         \u001b[38;5;28;01mif\u001b[39;00m return_result \u001b[38;5;129;01mis\u001b[39;00m \u001b[38;5;28;01mNone\u001b[39;00m:\n",
      "\u001b[36mFile \u001b[39m\u001b[32m~/opt/anaconda3/envs/koreasw/lib/python3.11/site-packages/sqlalchemy/engine/base.py:1416\u001b[39m, in \u001b[36mConnection.execute\u001b[39m\u001b[34m(self, statement, parameters, execution_options)\u001b[39m\n\u001b[32m   1414\u001b[39m     \u001b[38;5;28;01mraise\u001b[39;00m exc.ObjectNotExecutableError(statement) \u001b[38;5;28;01mfrom\u001b[39;00m\u001b[38;5;250m \u001b[39m\u001b[34;01merr\u001b[39;00m\n\u001b[32m   1415\u001b[39m \u001b[38;5;28;01melse\u001b[39;00m:\n\u001b[32m-> \u001b[39m\u001b[32m1416\u001b[39m     \u001b[38;5;28;01mreturn\u001b[39;00m \u001b[43mmeth\u001b[49m\u001b[43m(\u001b[49m\n\u001b[32m   1417\u001b[39m \u001b[43m        \u001b[49m\u001b[38;5;28;43mself\u001b[39;49m\u001b[43m,\u001b[49m\n\u001b[32m   1418\u001b[39m \u001b[43m        \u001b[49m\u001b[43mdistilled_parameters\u001b[49m\u001b[43m,\u001b[49m\n\u001b[32m   1419\u001b[39m \u001b[43m        \u001b[49m\u001b[43mexecution_options\u001b[49m\u001b[43m \u001b[49m\u001b[38;5;129;43;01mor\u001b[39;49;00m\u001b[43m \u001b[49m\u001b[43mNO_OPTIONS\u001b[49m\u001b[43m,\u001b[49m\n\u001b[32m   1420\u001b[39m \u001b[43m    \u001b[49m\u001b[43m)\u001b[49m\n",
      "\u001b[36mFile \u001b[39m\u001b[32m~/opt/anaconda3/envs/koreasw/lib/python3.11/site-packages/sqlalchemy/sql/elements.py:516\u001b[39m, in \u001b[36mClauseElement._execute_on_connection\u001b[39m\u001b[34m(self, connection, distilled_params, execution_options)\u001b[39m\n\u001b[32m    514\u001b[39m     \u001b[38;5;28;01mif\u001b[39;00m TYPE_CHECKING:\n\u001b[32m    515\u001b[39m         \u001b[38;5;28;01massert\u001b[39;00m \u001b[38;5;28misinstance\u001b[39m(\u001b[38;5;28mself\u001b[39m, Executable)\n\u001b[32m--> \u001b[39m\u001b[32m516\u001b[39m     \u001b[38;5;28;01mreturn\u001b[39;00m \u001b[43mconnection\u001b[49m\u001b[43m.\u001b[49m\u001b[43m_execute_clauseelement\u001b[49m\u001b[43m(\u001b[49m\n\u001b[32m    517\u001b[39m \u001b[43m        \u001b[49m\u001b[38;5;28;43mself\u001b[39;49m\u001b[43m,\u001b[49m\u001b[43m \u001b[49m\u001b[43mdistilled_params\u001b[49m\u001b[43m,\u001b[49m\u001b[43m \u001b[49m\u001b[43mexecution_options\u001b[49m\n\u001b[32m    518\u001b[39m \u001b[43m    \u001b[49m\u001b[43m)\u001b[49m\n\u001b[32m    519\u001b[39m \u001b[38;5;28;01melse\u001b[39;00m:\n\u001b[32m    520\u001b[39m     \u001b[38;5;28;01mraise\u001b[39;00m exc.ObjectNotExecutableError(\u001b[38;5;28mself\u001b[39m)\n",
      "\u001b[36mFile \u001b[39m\u001b[32m~/opt/anaconda3/envs/koreasw/lib/python3.11/site-packages/sqlalchemy/engine/base.py:1638\u001b[39m, in \u001b[36mConnection._execute_clauseelement\u001b[39m\u001b[34m(self, elem, distilled_parameters, execution_options)\u001b[39m\n\u001b[32m   1626\u001b[39m compiled_cache: Optional[CompiledCacheType] = execution_options.get(\n\u001b[32m   1627\u001b[39m     \u001b[33m\"\u001b[39m\u001b[33mcompiled_cache\u001b[39m\u001b[33m\"\u001b[39m, \u001b[38;5;28mself\u001b[39m.engine._compiled_cache\n\u001b[32m   1628\u001b[39m )\n\u001b[32m   1630\u001b[39m compiled_sql, extracted_params, cache_hit = elem._compile_w_cache(\n\u001b[32m   1631\u001b[39m     dialect=dialect,\n\u001b[32m   1632\u001b[39m     compiled_cache=compiled_cache,\n\u001b[32m   (...)\u001b[39m\u001b[32m   1636\u001b[39m     linting=\u001b[38;5;28mself\u001b[39m.dialect.compiler_linting | compiler.WARN_LINTING,\n\u001b[32m   1637\u001b[39m )\n\u001b[32m-> \u001b[39m\u001b[32m1638\u001b[39m ret = \u001b[38;5;28;43mself\u001b[39;49m\u001b[43m.\u001b[49m\u001b[43m_execute_context\u001b[49m\u001b[43m(\u001b[49m\n\u001b[32m   1639\u001b[39m \u001b[43m    \u001b[49m\u001b[43mdialect\u001b[49m\u001b[43m,\u001b[49m\n\u001b[32m   1640\u001b[39m \u001b[43m    \u001b[49m\u001b[43mdialect\u001b[49m\u001b[43m.\u001b[49m\u001b[43mexecution_ctx_cls\u001b[49m\u001b[43m.\u001b[49m\u001b[43m_init_compiled\u001b[49m\u001b[43m,\u001b[49m\n\u001b[32m   1641\u001b[39m \u001b[43m    \u001b[49m\u001b[43mcompiled_sql\u001b[49m\u001b[43m,\u001b[49m\n\u001b[32m   1642\u001b[39m \u001b[43m    \u001b[49m\u001b[43mdistilled_parameters\u001b[49m\u001b[43m,\u001b[49m\n\u001b[32m   1643\u001b[39m \u001b[43m    \u001b[49m\u001b[43mexecution_options\u001b[49m\u001b[43m,\u001b[49m\n\u001b[32m   1644\u001b[39m \u001b[43m    \u001b[49m\u001b[43mcompiled_sql\u001b[49m\u001b[43m,\u001b[49m\n\u001b[32m   1645\u001b[39m \u001b[43m    \u001b[49m\u001b[43mdistilled_parameters\u001b[49m\u001b[43m,\u001b[49m\n\u001b[32m   1646\u001b[39m \u001b[43m    \u001b[49m\u001b[43melem\u001b[49m\u001b[43m,\u001b[49m\n\u001b[32m   1647\u001b[39m \u001b[43m    \u001b[49m\u001b[43mextracted_params\u001b[49m\u001b[43m,\u001b[49m\n\u001b[32m   1648\u001b[39m \u001b[43m    \u001b[49m\u001b[43mcache_hit\u001b[49m\u001b[43m=\u001b[49m\u001b[43mcache_hit\u001b[49m\u001b[43m,\u001b[49m\n\u001b[32m   1649\u001b[39m \u001b[43m\u001b[49m\u001b[43m)\u001b[49m\n\u001b[32m   1650\u001b[39m \u001b[38;5;28;01mif\u001b[39;00m has_events:\n\u001b[32m   1651\u001b[39m     \u001b[38;5;28mself\u001b[39m.dispatch.after_execute(\n\u001b[32m   1652\u001b[39m         \u001b[38;5;28mself\u001b[39m,\n\u001b[32m   1653\u001b[39m         elem,\n\u001b[32m   (...)\u001b[39m\u001b[32m   1657\u001b[39m         ret,\n\u001b[32m   1658\u001b[39m     )\n",
      "\u001b[36mFile \u001b[39m\u001b[32m~/opt/anaconda3/envs/koreasw/lib/python3.11/site-packages/sqlalchemy/engine/base.py:1841\u001b[39m, in \u001b[36mConnection._execute_context\u001b[39m\u001b[34m(self, dialect, constructor, statement, parameters, execution_options, *args, **kw)\u001b[39m\n\u001b[32m   1838\u001b[39m context.pre_exec()\n\u001b[32m   1840\u001b[39m \u001b[38;5;28;01mif\u001b[39;00m context.execute_style \u001b[38;5;129;01mis\u001b[39;00m ExecuteStyle.INSERTMANYVALUES:\n\u001b[32m-> \u001b[39m\u001b[32m1841\u001b[39m     \u001b[38;5;28;01mreturn\u001b[39;00m \u001b[38;5;28;43mself\u001b[39;49m\u001b[43m.\u001b[49m\u001b[43m_exec_insertmany_context\u001b[49m\u001b[43m(\u001b[49m\u001b[43mdialect\u001b[49m\u001b[43m,\u001b[49m\u001b[43m \u001b[49m\u001b[43mcontext\u001b[49m\u001b[43m)\u001b[49m\n\u001b[32m   1842\u001b[39m \u001b[38;5;28;01melse\u001b[39;00m:\n\u001b[32m   1843\u001b[39m     \u001b[38;5;28;01mreturn\u001b[39;00m \u001b[38;5;28mself\u001b[39m._exec_single_context(\n\u001b[32m   1844\u001b[39m         dialect, context, statement, parameters\n\u001b[32m   1845\u001b[39m     )\n",
      "\u001b[36mFile \u001b[39m\u001b[32m~/opt/anaconda3/envs/koreasw/lib/python3.11/site-packages/sqlalchemy/engine/base.py:2123\u001b[39m, in \u001b[36mConnection._exec_insertmany_context\u001b[39m\u001b[34m(self, dialect, context)\u001b[39m\n\u001b[32m   2115\u001b[39m         dialect.do_execute(\n\u001b[32m   2116\u001b[39m             cursor,\n\u001b[32m   2117\u001b[39m             sub_stmt,\n\u001b[32m   2118\u001b[39m             sub_params,\n\u001b[32m   2119\u001b[39m             context,\n\u001b[32m   2120\u001b[39m         )\n\u001b[32m   2122\u001b[39m \u001b[38;5;28;01mexcept\u001b[39;00m \u001b[38;5;167;01mBaseException\u001b[39;00m \u001b[38;5;28;01mas\u001b[39;00m e:\n\u001b[32m-> \u001b[39m\u001b[32m2123\u001b[39m     \u001b[38;5;28;43mself\u001b[39;49m\u001b[43m.\u001b[49m\u001b[43m_handle_dbapi_exception\u001b[49m\u001b[43m(\u001b[49m\n\u001b[32m   2124\u001b[39m \u001b[43m        \u001b[49m\u001b[43me\u001b[49m\u001b[43m,\u001b[49m\n\u001b[32m   2125\u001b[39m \u001b[43m        \u001b[49m\u001b[43msql_util\u001b[49m\u001b[43m.\u001b[49m\u001b[43m_long_statement\u001b[49m\u001b[43m(\u001b[49m\u001b[43msub_stmt\u001b[49m\u001b[43m)\u001b[49m\u001b[43m,\u001b[49m\n\u001b[32m   2126\u001b[39m \u001b[43m        \u001b[49m\u001b[43msub_params\u001b[49m\u001b[43m,\u001b[49m\n\u001b[32m   2127\u001b[39m \u001b[43m        \u001b[49m\u001b[43mcursor\u001b[49m\u001b[43m,\u001b[49m\n\u001b[32m   2128\u001b[39m \u001b[43m        \u001b[49m\u001b[43mcontext\u001b[49m\u001b[43m,\u001b[49m\n\u001b[32m   2129\u001b[39m \u001b[43m        \u001b[49m\u001b[43mis_sub_exec\u001b[49m\u001b[43m=\u001b[49m\u001b[38;5;28;43;01mTrue\u001b[39;49;00m\u001b[43m,\u001b[49m\n\u001b[32m   2130\u001b[39m \u001b[43m    \u001b[49m\u001b[43m)\u001b[49m\n\u001b[32m   2132\u001b[39m \u001b[38;5;28;01mif\u001b[39;00m engine_events:\n\u001b[32m   2133\u001b[39m     \u001b[38;5;28mself\u001b[39m.dispatch.after_cursor_execute(\n\u001b[32m   2134\u001b[39m         \u001b[38;5;28mself\u001b[39m,\n\u001b[32m   2135\u001b[39m         cursor,\n\u001b[32m   (...)\u001b[39m\u001b[32m   2139\u001b[39m         context.executemany,\n\u001b[32m   2140\u001b[39m     )\n",
      "\u001b[36mFile \u001b[39m\u001b[32m~/opt/anaconda3/envs/koreasw/lib/python3.11/site-packages/sqlalchemy/engine/base.py:2352\u001b[39m, in \u001b[36mConnection._handle_dbapi_exception\u001b[39m\u001b[34m(self, e, statement, parameters, cursor, context, is_sub_exec)\u001b[39m\n\u001b[32m   2350\u001b[39m \u001b[38;5;28;01melif\u001b[39;00m should_wrap:\n\u001b[32m   2351\u001b[39m     \u001b[38;5;28;01massert\u001b[39;00m sqlalchemy_exception \u001b[38;5;129;01mis\u001b[39;00m \u001b[38;5;129;01mnot\u001b[39;00m \u001b[38;5;28;01mNone\u001b[39;00m\n\u001b[32m-> \u001b[39m\u001b[32m2352\u001b[39m     \u001b[38;5;28;01mraise\u001b[39;00m sqlalchemy_exception.with_traceback(exc_info[\u001b[32m2\u001b[39m]) \u001b[38;5;28;01mfrom\u001b[39;00m\u001b[38;5;250m \u001b[39m\u001b[34;01me\u001b[39;00m\n\u001b[32m   2353\u001b[39m \u001b[38;5;28;01melse\u001b[39;00m:\n\u001b[32m   2354\u001b[39m     \u001b[38;5;28;01massert\u001b[39;00m exc_info[\u001b[32m1\u001b[39m] \u001b[38;5;129;01mis\u001b[39;00m \u001b[38;5;129;01mnot\u001b[39;00m \u001b[38;5;28;01mNone\u001b[39;00m\n",
      "\u001b[36mFile \u001b[39m\u001b[32m~/opt/anaconda3/envs/koreasw/lib/python3.11/site-packages/sqlalchemy/engine/base.py:2115\u001b[39m, in \u001b[36mConnection._exec_insertmany_context\u001b[39m\u001b[34m(self, dialect, context)\u001b[39m\n\u001b[32m   2113\u001b[39m             \u001b[38;5;28;01mbreak\u001b[39;00m\n\u001b[32m   2114\u001b[39m     \u001b[38;5;28;01melse\u001b[39;00m:\n\u001b[32m-> \u001b[39m\u001b[32m2115\u001b[39m         \u001b[43mdialect\u001b[49m\u001b[43m.\u001b[49m\u001b[43mdo_execute\u001b[49m\u001b[43m(\u001b[49m\n\u001b[32m   2116\u001b[39m \u001b[43m            \u001b[49m\u001b[43mcursor\u001b[49m\u001b[43m,\u001b[49m\n\u001b[32m   2117\u001b[39m \u001b[43m            \u001b[49m\u001b[43msub_stmt\u001b[49m\u001b[43m,\u001b[49m\n\u001b[32m   2118\u001b[39m \u001b[43m            \u001b[49m\u001b[43msub_params\u001b[49m\u001b[43m,\u001b[49m\n\u001b[32m   2119\u001b[39m \u001b[43m            \u001b[49m\u001b[43mcontext\u001b[49m\u001b[43m,\u001b[49m\n\u001b[32m   2120\u001b[39m \u001b[43m        \u001b[49m\u001b[43m)\u001b[49m\n\u001b[32m   2122\u001b[39m \u001b[38;5;28;01mexcept\u001b[39;00m \u001b[38;5;167;01mBaseException\u001b[39;00m \u001b[38;5;28;01mas\u001b[39;00m e:\n\u001b[32m   2123\u001b[39m     \u001b[38;5;28mself\u001b[39m._handle_dbapi_exception(\n\u001b[32m   2124\u001b[39m         e,\n\u001b[32m   2125\u001b[39m         sql_util._long_statement(sub_stmt),\n\u001b[32m   (...)\u001b[39m\u001b[32m   2129\u001b[39m         is_sub_exec=\u001b[38;5;28;01mTrue\u001b[39;00m,\n\u001b[32m   2130\u001b[39m     )\n",
      "\u001b[36mFile \u001b[39m\u001b[32m~/opt/anaconda3/envs/koreasw/lib/python3.11/site-packages/sqlalchemy/engine/default.py:942\u001b[39m, in \u001b[36mDefaultDialect.do_execute\u001b[39m\u001b[34m(self, cursor, statement, parameters, context)\u001b[39m\n\u001b[32m    941\u001b[39m \u001b[38;5;28;01mdef\u001b[39;00m\u001b[38;5;250m \u001b[39m\u001b[34mdo_execute\u001b[39m(\u001b[38;5;28mself\u001b[39m, cursor, statement, parameters, context=\u001b[38;5;28;01mNone\u001b[39;00m):\n\u001b[32m--> \u001b[39m\u001b[32m942\u001b[39m     cursor.execute(statement, parameters)\n",
      "\u001b[31mOperationalError\u001b[39m: (sqlite3.OperationalError) no such table: city\n[SQL: INSERT INTO city (name) VALUES (?) RETURNING cno]\n[parameters: ('성북구',)]\n(Background on this error at: https://sqlalche.me/e/20/e3q8)"
     ]
    }
   ],
   "source": [
    "sess.commit()"
   ]
  },
  {
   "cell_type": "code",
   "execution_count": 116,
   "metadata": {},
   "outputs": [
    {
     "ename": "PendingRollbackError",
     "evalue": "This Session's transaction has been rolled back due to a previous exception during flush. To begin a new transaction with this Session, first issue Session.rollback(). Original exception was: (sqlite3.OperationalError) no such table: city\n[SQL: INSERT INTO city (name) VALUES (?) RETURNING cno]\n[parameters: ('성북구',)]\n(Background on this error at: https://sqlalche.me/e/20/e3q8) (Background on this error at: https://sqlalche.me/e/20/7s2a)",
     "output_type": "error",
     "traceback": [
      "\u001b[31m---------------------------------------------------------------------------\u001b[39m",
      "\u001b[31mPendingRollbackError\u001b[39m                      Traceback (most recent call last)",
      "\u001b[36mCell\u001b[39m\u001b[36m \u001b[39m\u001b[32mIn[116]\u001b[39m\u001b[32m, line 1\u001b[39m\n\u001b[32m----> \u001b[39m\u001b[32m1\u001b[39m city1 = \u001b[43msess\u001b[49m\u001b[43m.\u001b[49m\u001b[43mquery\u001b[49m\u001b[43m(\u001b[49m\u001b[43mCity\u001b[49m\u001b[43m)\u001b[49m\u001b[43m.\u001b[49m\u001b[43mfilter\u001b[49m\u001b[43m(\u001b[49m\u001b[43mCity\u001b[49m\u001b[43m.\u001b[49m\u001b[43mname\u001b[49m\u001b[43m==\u001b[49m\u001b[33;43m'\u001b[39;49m\u001b[33;43m성북구\u001b[39;49m\u001b[33;43m'\u001b[39;49m\u001b[43m)\u001b[49m\u001b[43m.\u001b[49m\u001b[43mone\u001b[49m\u001b[43m(\u001b[49m\u001b[43m)\u001b[49m\n\u001b[32m      2\u001b[39m city2 = sess.query(City).filter(City.name==\u001b[33m'\u001b[39m\u001b[33m강북구\u001b[39m\u001b[33m'\u001b[39m).one()\n\u001b[32m      3\u001b[39m city3 = sess.query(City).filter(City.name==\u001b[33m'\u001b[39m\u001b[33m아무구\u001b[39m\u001b[33m'\u001b[39m).one()\n",
      "\u001b[36mFile \u001b[39m\u001b[32m~/opt/anaconda3/envs/koreasw/lib/python3.11/site-packages/sqlalchemy/orm/query.py:2804\u001b[39m, in \u001b[36mQuery.one\u001b[39m\u001b[34m(self)\u001b[39m\n\u001b[32m   2782\u001b[39m \u001b[38;5;28;01mdef\u001b[39;00m\u001b[38;5;250m \u001b[39m\u001b[34mone\u001b[39m(\u001b[38;5;28mself\u001b[39m) -> _T:\n\u001b[32m   2783\u001b[39m \u001b[38;5;250m    \u001b[39m\u001b[33;03m\"\"\"Return exactly one result or raise an exception.\u001b[39;00m\n\u001b[32m   2784\u001b[39m \n\u001b[32m   2785\u001b[39m \u001b[33;03m    Raises ``sqlalchemy.orm.exc.NoResultFound`` if the query selects\u001b[39;00m\n\u001b[32m   (...)\u001b[39m\u001b[32m   2802\u001b[39m \n\u001b[32m   2803\u001b[39m \u001b[33;03m    \"\"\"\u001b[39;00m\n\u001b[32m-> \u001b[39m\u001b[32m2804\u001b[39m     \u001b[38;5;28;01mreturn\u001b[39;00m \u001b[38;5;28;43mself\u001b[39;49m\u001b[43m.\u001b[49m\u001b[43m_iter\u001b[49m\u001b[43m(\u001b[49m\u001b[43m)\u001b[49m.one()\n",
      "\u001b[36mFile \u001b[39m\u001b[32m~/opt/anaconda3/envs/koreasw/lib/python3.11/site-packages/sqlalchemy/orm/query.py:2853\u001b[39m, in \u001b[36mQuery._iter\u001b[39m\u001b[34m(self)\u001b[39m\n\u001b[32m   2850\u001b[39m params = \u001b[38;5;28mself\u001b[39m._params\n\u001b[32m   2852\u001b[39m statement = \u001b[38;5;28mself\u001b[39m._statement_20()\n\u001b[32m-> \u001b[39m\u001b[32m2853\u001b[39m result: Union[ScalarResult[_T], Result[_T]] = \u001b[38;5;28;43mself\u001b[39;49m\u001b[43m.\u001b[49m\u001b[43msession\u001b[49m\u001b[43m.\u001b[49m\u001b[43mexecute\u001b[49m\u001b[43m(\u001b[49m\n\u001b[32m   2854\u001b[39m \u001b[43m    \u001b[49m\u001b[43mstatement\u001b[49m\u001b[43m,\u001b[49m\n\u001b[32m   2855\u001b[39m \u001b[43m    \u001b[49m\u001b[43mparams\u001b[49m\u001b[43m,\u001b[49m\n\u001b[32m   2856\u001b[39m \u001b[43m    \u001b[49m\u001b[43mexecution_options\u001b[49m\u001b[43m=\u001b[49m\u001b[43m{\u001b[49m\u001b[33;43m\"\u001b[39;49m\u001b[33;43m_sa_orm_load_options\u001b[39;49m\u001b[33;43m\"\u001b[39;49m\u001b[43m:\u001b[49m\u001b[43m \u001b[49m\u001b[38;5;28;43mself\u001b[39;49m\u001b[43m.\u001b[49m\u001b[43mload_options\u001b[49m\u001b[43m}\u001b[49m\u001b[43m,\u001b[49m\n\u001b[32m   2857\u001b[39m \u001b[43m\u001b[49m\u001b[43m)\u001b[49m\n\u001b[32m   2859\u001b[39m \u001b[38;5;66;03m# legacy: automatically set scalars, unique\u001b[39;00m\n\u001b[32m   2860\u001b[39m \u001b[38;5;28;01mif\u001b[39;00m result._attributes.get(\u001b[33m\"\u001b[39m\u001b[33mis_single_entity\u001b[39m\u001b[33m\"\u001b[39m, \u001b[38;5;28;01mFalse\u001b[39;00m):\n",
      "\u001b[36mFile \u001b[39m\u001b[32m~/opt/anaconda3/envs/koreasw/lib/python3.11/site-packages/sqlalchemy/orm/session.py:2365\u001b[39m, in \u001b[36mSession.execute\u001b[39m\u001b[34m(self, statement, params, execution_options, bind_arguments, _parent_execute_state, _add_event)\u001b[39m\n\u001b[32m   2305\u001b[39m \u001b[38;5;28;01mdef\u001b[39;00m\u001b[38;5;250m \u001b[39m\u001b[34mexecute\u001b[39m(\n\u001b[32m   2306\u001b[39m     \u001b[38;5;28mself\u001b[39m,\n\u001b[32m   2307\u001b[39m     statement: Executable,\n\u001b[32m   (...)\u001b[39m\u001b[32m   2313\u001b[39m     _add_event: Optional[Any] = \u001b[38;5;28;01mNone\u001b[39;00m,\n\u001b[32m   2314\u001b[39m ) -> Result[Any]:\n\u001b[32m   2315\u001b[39m \u001b[38;5;250m    \u001b[39m\u001b[33mr\u001b[39m\u001b[33;03m\"\"\"Execute a SQL expression construct.\u001b[39;00m\n\u001b[32m   2316\u001b[39m \n\u001b[32m   2317\u001b[39m \u001b[33;03m    Returns a :class:`_engine.Result` object representing\u001b[39;00m\n\u001b[32m   (...)\u001b[39m\u001b[32m   2363\u001b[39m \n\u001b[32m   2364\u001b[39m \u001b[33;03m    \"\"\"\u001b[39;00m\n\u001b[32m-> \u001b[39m\u001b[32m2365\u001b[39m     \u001b[38;5;28;01mreturn\u001b[39;00m \u001b[38;5;28;43mself\u001b[39;49m\u001b[43m.\u001b[49m\u001b[43m_execute_internal\u001b[49m\u001b[43m(\u001b[49m\n\u001b[32m   2366\u001b[39m \u001b[43m        \u001b[49m\u001b[43mstatement\u001b[49m\u001b[43m,\u001b[49m\n\u001b[32m   2367\u001b[39m \u001b[43m        \u001b[49m\u001b[43mparams\u001b[49m\u001b[43m,\u001b[49m\n\u001b[32m   2368\u001b[39m \u001b[43m        \u001b[49m\u001b[43mexecution_options\u001b[49m\u001b[43m=\u001b[49m\u001b[43mexecution_options\u001b[49m\u001b[43m,\u001b[49m\n\u001b[32m   2369\u001b[39m \u001b[43m        \u001b[49m\u001b[43mbind_arguments\u001b[49m\u001b[43m=\u001b[49m\u001b[43mbind_arguments\u001b[49m\u001b[43m,\u001b[49m\n\u001b[32m   2370\u001b[39m \u001b[43m        \u001b[49m\u001b[43m_parent_execute_state\u001b[49m\u001b[43m=\u001b[49m\u001b[43m_parent_execute_state\u001b[49m\u001b[43m,\u001b[49m\n\u001b[32m   2371\u001b[39m \u001b[43m        \u001b[49m\u001b[43m_add_event\u001b[49m\u001b[43m=\u001b[49m\u001b[43m_add_event\u001b[49m\u001b[43m,\u001b[49m\n\u001b[32m   2372\u001b[39m \u001b[43m    \u001b[49m\u001b[43m)\u001b[49m\n",
      "\u001b[36mFile \u001b[39m\u001b[32m~/opt/anaconda3/envs/koreasw/lib/python3.11/site-packages/sqlalchemy/orm/session.py:2241\u001b[39m, in \u001b[36mSession._execute_internal\u001b[39m\u001b[34m(self, statement, params, execution_options, bind_arguments, _parent_execute_state, _add_event, _scalar_result)\u001b[39m\n\u001b[32m   2227\u001b[39m     (\n\u001b[32m   2228\u001b[39m         statement,\n\u001b[32m   2229\u001b[39m         execution_options,\n\u001b[32m   (...)\u001b[39m\u001b[32m   2236\u001b[39m         \u001b[38;5;28;01mFalse\u001b[39;00m,\n\u001b[32m   2237\u001b[39m     )\n\u001b[32m   2239\u001b[39m bind = \u001b[38;5;28mself\u001b[39m.get_bind(**bind_arguments)\n\u001b[32m-> \u001b[39m\u001b[32m2241\u001b[39m conn = \u001b[38;5;28;43mself\u001b[39;49m\u001b[43m.\u001b[49m\u001b[43m_connection_for_bind\u001b[49m\u001b[43m(\u001b[49m\u001b[43mbind\u001b[49m\u001b[43m)\u001b[49m\n\u001b[32m   2243\u001b[39m \u001b[38;5;28;01mif\u001b[39;00m _scalar_result \u001b[38;5;129;01mand\u001b[39;00m \u001b[38;5;129;01mnot\u001b[39;00m compile_state_cls:\n\u001b[32m   2244\u001b[39m     \u001b[38;5;28;01mif\u001b[39;00m TYPE_CHECKING:\n",
      "\u001b[36mFile \u001b[39m\u001b[32m~/opt/anaconda3/envs/koreasw/lib/python3.11/site-packages/sqlalchemy/orm/session.py:2110\u001b[39m, in \u001b[36mSession._connection_for_bind\u001b[39m\u001b[34m(self, engine, execution_options, **kw)\u001b[39m\n\u001b[32m   2108\u001b[39m \u001b[38;5;28;01mif\u001b[39;00m trans \u001b[38;5;129;01mis\u001b[39;00m \u001b[38;5;28;01mNone\u001b[39;00m:\n\u001b[32m   2109\u001b[39m     trans = \u001b[38;5;28mself\u001b[39m._autobegin_t()\n\u001b[32m-> \u001b[39m\u001b[32m2110\u001b[39m \u001b[38;5;28;01mreturn\u001b[39;00m \u001b[43mtrans\u001b[49m\u001b[43m.\u001b[49m\u001b[43m_connection_for_bind\u001b[49m\u001b[43m(\u001b[49m\u001b[43mengine\u001b[49m\u001b[43m,\u001b[49m\u001b[43m \u001b[49m\u001b[43mexecution_options\u001b[49m\u001b[43m)\u001b[49m\n",
      "\u001b[36mFile \u001b[39m\u001b[32m<string>:2\u001b[39m, in \u001b[36m_connection_for_bind\u001b[39m\u001b[34m(self, bind, execution_options)\u001b[39m\n",
      "\u001b[36mFile \u001b[39m\u001b[32m~/opt/anaconda3/envs/koreasw/lib/python3.11/site-packages/sqlalchemy/orm/state_changes.py:103\u001b[39m, in \u001b[36m_StateChange.declare_states.<locals>._go\u001b[39m\u001b[34m(fn, self, *arg, **kw)\u001b[39m\n\u001b[32m     97\u001b[39m current_state = \u001b[38;5;28mself\u001b[39m._state\n\u001b[32m     99\u001b[39m \u001b[38;5;28;01mif\u001b[39;00m (\n\u001b[32m    100\u001b[39m     has_prerequisite_states\n\u001b[32m    101\u001b[39m     \u001b[38;5;129;01mand\u001b[39;00m current_state \u001b[38;5;129;01mnot\u001b[39;00m \u001b[38;5;129;01min\u001b[39;00m prerequisite_state_collection\n\u001b[32m    102\u001b[39m ):\n\u001b[32m--> \u001b[39m\u001b[32m103\u001b[39m     \u001b[38;5;28;43mself\u001b[39;49m\u001b[43m.\u001b[49m\u001b[43m_raise_for_prerequisite_state\u001b[49m\u001b[43m(\u001b[49m\u001b[43mfn\u001b[49m\u001b[43m.\u001b[49m\u001b[34;43m__name__\u001b[39;49m\u001b[43m,\u001b[49m\u001b[43m \u001b[49m\u001b[43mcurrent_state\u001b[49m\u001b[43m)\u001b[49m\n\u001b[32m    105\u001b[39m next_state = \u001b[38;5;28mself\u001b[39m._next_state\n\u001b[32m    106\u001b[39m existing_fn = \u001b[38;5;28mself\u001b[39m._current_fn\n",
      "\u001b[36mFile \u001b[39m\u001b[32m~/opt/anaconda3/envs/koreasw/lib/python3.11/site-packages/sqlalchemy/orm/session.py:973\u001b[39m, in \u001b[36mSessionTransaction._raise_for_prerequisite_state\u001b[39m\u001b[34m(self, operation_name, state)\u001b[39m\n\u001b[32m    971\u001b[39m \u001b[38;5;28;01mif\u001b[39;00m state \u001b[38;5;129;01mis\u001b[39;00m SessionTransactionState.DEACTIVE:\n\u001b[32m    972\u001b[39m     \u001b[38;5;28;01mif\u001b[39;00m \u001b[38;5;28mself\u001b[39m._rollback_exception:\n\u001b[32m--> \u001b[39m\u001b[32m973\u001b[39m         \u001b[38;5;28;01mraise\u001b[39;00m sa_exc.PendingRollbackError(\n\u001b[32m    974\u001b[39m             \u001b[33m\"\u001b[39m\u001b[33mThis Session\u001b[39m\u001b[33m'\u001b[39m\u001b[33ms transaction has been rolled back \u001b[39m\u001b[33m\"\u001b[39m\n\u001b[32m    975\u001b[39m             \u001b[33m\"\u001b[39m\u001b[33mdue to a previous exception during flush.\u001b[39m\u001b[33m\"\u001b[39m\n\u001b[32m    976\u001b[39m             \u001b[33m\"\u001b[39m\u001b[33m To begin a new transaction with this Session, \u001b[39m\u001b[33m\"\u001b[39m\n\u001b[32m    977\u001b[39m             \u001b[33m\"\u001b[39m\u001b[33mfirst issue Session.rollback().\u001b[39m\u001b[33m\"\u001b[39m\n\u001b[32m    978\u001b[39m             \u001b[33mf\u001b[39m\u001b[33m\"\u001b[39m\u001b[33m Original exception was: \u001b[39m\u001b[38;5;132;01m{\u001b[39;00m\u001b[38;5;28mself\u001b[39m._rollback_exception\u001b[38;5;132;01m}\u001b[39;00m\u001b[33m\"\u001b[39m,\n\u001b[32m    979\u001b[39m             code=\u001b[33m\"\u001b[39m\u001b[33m7s2a\u001b[39m\u001b[33m\"\u001b[39m,\n\u001b[32m    980\u001b[39m         )\n\u001b[32m    981\u001b[39m     \u001b[38;5;28;01melse\u001b[39;00m:\n\u001b[32m    982\u001b[39m         \u001b[38;5;28;01mraise\u001b[39;00m sa_exc.InvalidRequestError(\n\u001b[32m    983\u001b[39m             \u001b[33m\"\u001b[39m\u001b[33mThis session is in \u001b[39m\u001b[33m'\u001b[39m\u001b[33minactive\u001b[39m\u001b[33m'\u001b[39m\u001b[33m state, due to the \u001b[39m\u001b[33m\"\u001b[39m\n\u001b[32m    984\u001b[39m             \u001b[33m\"\u001b[39m\u001b[33mSQL transaction being rolled back; no further SQL \u001b[39m\u001b[33m\"\u001b[39m\n\u001b[32m    985\u001b[39m             \u001b[33m\"\u001b[39m\u001b[33mcan be emitted within this transaction.\u001b[39m\u001b[33m\"\u001b[39m\n\u001b[32m    986\u001b[39m         )\n",
      "\u001b[31mPendingRollbackError\u001b[39m: This Session's transaction has been rolled back due to a previous exception during flush. To begin a new transaction with this Session, first issue Session.rollback(). Original exception was: (sqlite3.OperationalError) no such table: city\n[SQL: INSERT INTO city (name) VALUES (?) RETURNING cno]\n[parameters: ('성북구',)]\n(Background on this error at: https://sqlalche.me/e/20/e3q8) (Background on this error at: https://sqlalche.me/e/20/7s2a)"
     ]
    }
   ],
   "source": [
    "city1 = sess.query(City).filter(City.name=='성북구').one()\n",
    "city2 = sess.query(City).filter(City.name=='강북구').one()\n",
    "city3 = sess.query(City).filter(City.name=='아무구').one()"
   ]
  },
  {
   "cell_type": "code",
   "execution_count": null,
   "metadata": {},
   "outputs": [],
   "source": [
    "slist = [Supplier(name='지점1', cno=city1.cno),\n",
    "Supplier(name='지점2', cno=city1.cno),\n",
    "Supplier(name='지점1', cno=city1.cno),\n",
    "Supplier(name='지점2', cno=city1.cno),\n",
    "Supplier(name='지점1', cno=city1.cno)]"
   ]
  },
  {
   "cell_type": "code",
   "execution_count": null,
   "metadata": {},
   "outputs": [],
   "source": [
    "slist[0].sno\n",
    "# Query X, Session에 등록했기 때문에 객체를 그냥 호출"
   ]
  },
  {
   "cell_type": "code",
   "execution_count": null,
   "metadata": {},
   "outputs": [],
   "source": [
    "plite = [part(name='아이스 아메리카노'),\n",
    "part(name='아이스티'),\n",
    "part(name='음료1'),\n",
    "part(name='음료2')]\n",
    "\n",
    "sess.add_all(plist)\n",
    "sess.commit()"
   ]
  },
  {
   "cell_type": "code",
   "execution_count": null,
   "metadata": {},
   "outputs": [],
   "source": [
    "sess.add_all([Sells(sno=slist[0].sno, pno=plist[0].pno, price=10),\n",
    "Sells(sno=slist[0].sno, pno=plist[0].pno, price=10),\n",
    "Sells(sno=slist[0].sno, pno=plist[0].pno, price=10),\n",
    "Sells(sno=slist[0].sno, pno=plist[0].pno, price=10),\n",
    "])\n",
    "# db에 insert까지만 한 상태, 실제 객체에는 값 x\n",
    "sess.commit()"
   ]
  },
  {
   "cell_type": "code",
   "execution_count": 139,
   "metadata": {},
   "outputs": [],
   "source": [
    "from sqlalchemy.orm import relationship"
   ]
  },
  {
   "cell_type": "code",
   "execution_count": null,
   "metadata": {},
   "outputs": [],
   "source": [
    "#DB구조 안바뀜, Table 안 바꿈, mapped class 0\n",
    "#SQLite X, metadata.table X, base.registry 초기화"
   ]
  },
  {
   "cell_type": "code",
   "execution_count": 147,
   "metadata": {},
   "outputs": [],
   "source": [
    "class City(base):\n",
    "    __table__ = base.metadata.tables['city']\n",
    "    slist = relationship('Supplier', back_populates='city', uselist=True)\n",
    "\n",
    "class Supplier(base):\n",
    "    __table__ = base.metadata.tables['supplier']\n",
    "    city = relationship('City', back_populates='slist')"
   ]
  },
  {
   "cell_type": "code",
   "execution_count": 150,
   "metadata": {},
   "outputs": [
    {
     "ename": "InvalidRequestError",
     "evalue": "One or more mappers failed to initialize - can't proceed with initialization of other mappers. Triggering mapper: 'Mapper[City(city)]'. Original exception was: list index out of range",
     "output_type": "error",
     "traceback": [
      "\u001b[31m---------------------------------------------------------------------------\u001b[39m",
      "\u001b[31mInvalidRequestError\u001b[39m                       Traceback (most recent call last)",
      "\u001b[36mCell\u001b[39m\u001b[36m \u001b[39m\u001b[32mIn[150]\u001b[39m\u001b[32m, line 1\u001b[39m\n\u001b[32m----> \u001b[39m\u001b[32m1\u001b[39m c = \u001b[43msess\u001b[49m\u001b[43m.\u001b[49m\u001b[43mquery\u001b[49m\u001b[43m(\u001b[49m\u001b[43mCity\u001b[49m\u001b[43m)\u001b[49m.all()[\u001b[32m0\u001b[39m]\n",
      "\u001b[36mFile \u001b[39m\u001b[32m~/opt/anaconda3/envs/koreasw/lib/python3.11/site-packages/sqlalchemy/orm/session.py:2955\u001b[39m, in \u001b[36mSession.query\u001b[39m\u001b[34m(self, *entities, **kwargs)\u001b[39m\n\u001b[32m   2935\u001b[39m \u001b[38;5;28;01mdef\u001b[39;00m\u001b[38;5;250m \u001b[39m\u001b[34mquery\u001b[39m(\n\u001b[32m   2936\u001b[39m     \u001b[38;5;28mself\u001b[39m, *entities: _ColumnsClauseArgument[Any], **kwargs: Any\n\u001b[32m   2937\u001b[39m ) -> Query[Any]:\n\u001b[32m   2938\u001b[39m \u001b[38;5;250m    \u001b[39m\u001b[33;03m\"\"\"Return a new :class:`_query.Query` object corresponding to this\u001b[39;00m\n\u001b[32m   2939\u001b[39m \u001b[33;03m    :class:`_orm.Session`.\u001b[39;00m\n\u001b[32m   2940\u001b[39m \n\u001b[32m   (...)\u001b[39m\u001b[32m   2952\u001b[39m \n\u001b[32m   2953\u001b[39m \u001b[33;03m    \"\"\"\u001b[39;00m\n\u001b[32m-> \u001b[39m\u001b[32m2955\u001b[39m     \u001b[38;5;28;01mreturn\u001b[39;00m \u001b[38;5;28;43mself\u001b[39;49m\u001b[43m.\u001b[49m\u001b[43m_query_cls\u001b[49m\u001b[43m(\u001b[49m\u001b[43mentities\u001b[49m\u001b[43m,\u001b[49m\u001b[43m \u001b[49m\u001b[38;5;28;43mself\u001b[39;49m\u001b[43m,\u001b[49m\u001b[43m \u001b[49m\u001b[43m*\u001b[49m\u001b[43m*\u001b[49m\u001b[43mkwargs\u001b[49m\u001b[43m)\u001b[49m\n",
      "\u001b[36mFile \u001b[39m\u001b[32m~/opt/anaconda3/envs/koreasw/lib/python3.11/site-packages/sqlalchemy/orm/query.py:275\u001b[39m, in \u001b[36mQuery.__init__\u001b[39m\u001b[34m(self, entities, session)\u001b[39m\n\u001b[32m    269\u001b[39m \u001b[38;5;66;03m# session is usually present.  There's one case in subqueryloader\u001b[39;00m\n\u001b[32m    270\u001b[39m \u001b[38;5;66;03m# where it stores a Query without a Session and also there are tests\u001b[39;00m\n\u001b[32m    271\u001b[39m \u001b[38;5;66;03m# for the query(Entity).with_session(session) API which is likely in\u001b[39;00m\n\u001b[32m    272\u001b[39m \u001b[38;5;66;03m# some old recipes, however these are legacy as select() can now be\u001b[39;00m\n\u001b[32m    273\u001b[39m \u001b[38;5;66;03m# used.\u001b[39;00m\n\u001b[32m    274\u001b[39m \u001b[38;5;28mself\u001b[39m.session = session  \u001b[38;5;66;03m# type: ignore\u001b[39;00m\n\u001b[32m--> \u001b[39m\u001b[32m275\u001b[39m \u001b[38;5;28;43mself\u001b[39;49m\u001b[43m.\u001b[49m\u001b[43m_set_entities\u001b[49m\u001b[43m(\u001b[49m\u001b[43mentities\u001b[49m\u001b[43m)\u001b[49m\n",
      "\u001b[36mFile \u001b[39m\u001b[32m~/opt/anaconda3/envs/koreasw/lib/python3.11/site-packages/sqlalchemy/orm/query.py:287\u001b[39m, in \u001b[36mQuery._set_entities\u001b[39m\u001b[34m(self, entities)\u001b[39m\n\u001b[32m    281\u001b[39m \u001b[38;5;28;01mdef\u001b[39;00m\u001b[38;5;250m \u001b[39m\u001b[34m_set_entities\u001b[39m(\n\u001b[32m    282\u001b[39m     \u001b[38;5;28mself\u001b[39m,\n\u001b[32m    283\u001b[39m     entities: Union[\n\u001b[32m    284\u001b[39m         _ColumnsClauseArgument[Any], Iterable[_ColumnsClauseArgument[Any]]\n\u001b[32m    285\u001b[39m     ],\n\u001b[32m    286\u001b[39m ) -> \u001b[38;5;28;01mNone\u001b[39;00m:\n\u001b[32m--> \u001b[39m\u001b[32m287\u001b[39m     \u001b[38;5;28mself\u001b[39m._raw_columns = \u001b[43m[\u001b[49m\n\u001b[32m    288\u001b[39m \u001b[43m        \u001b[49m\u001b[43mcoercions\u001b[49m\u001b[43m.\u001b[49m\u001b[43mexpect\u001b[49m\u001b[43m(\u001b[49m\n\u001b[32m    289\u001b[39m \u001b[43m            \u001b[49m\u001b[43mroles\u001b[49m\u001b[43m.\u001b[49m\u001b[43mColumnsClauseRole\u001b[49m\u001b[43m,\u001b[49m\n\u001b[32m    290\u001b[39m \u001b[43m            \u001b[49m\u001b[43ment\u001b[49m\u001b[43m,\u001b[49m\n\u001b[32m    291\u001b[39m \u001b[43m            \u001b[49m\u001b[43mapply_propagate_attrs\u001b[49m\u001b[43m=\u001b[49m\u001b[38;5;28;43mself\u001b[39;49m\u001b[43m,\u001b[49m\n\u001b[32m    292\u001b[39m \u001b[43m            \u001b[49m\u001b[43mpost_inspect\u001b[49m\u001b[43m=\u001b[49m\u001b[38;5;28;43;01mTrue\u001b[39;49;00m\u001b[43m,\u001b[49m\n\u001b[32m    293\u001b[39m \u001b[43m        \u001b[49m\u001b[43m)\u001b[49m\n\u001b[32m    294\u001b[39m \u001b[43m        \u001b[49m\u001b[38;5;28;43;01mfor\u001b[39;49;00m\u001b[43m \u001b[49m\u001b[43ment\u001b[49m\u001b[43m \u001b[49m\u001b[38;5;129;43;01min\u001b[39;49;00m\u001b[43m \u001b[49m\u001b[43mutil\u001b[49m\u001b[43m.\u001b[49m\u001b[43mto_list\u001b[49m\u001b[43m(\u001b[49m\u001b[43mentities\u001b[49m\u001b[43m)\u001b[49m\n\u001b[32m    295\u001b[39m \u001b[43m    \u001b[49m\u001b[43m]\u001b[49m\n",
      "\u001b[36mFile \u001b[39m\u001b[32m~/opt/anaconda3/envs/koreasw/lib/python3.11/site-packages/sqlalchemy/orm/query.py:288\u001b[39m, in \u001b[36m<listcomp>\u001b[39m\u001b[34m(.0)\u001b[39m\n\u001b[32m    281\u001b[39m \u001b[38;5;28;01mdef\u001b[39;00m\u001b[38;5;250m \u001b[39m\u001b[34m_set_entities\u001b[39m(\n\u001b[32m    282\u001b[39m     \u001b[38;5;28mself\u001b[39m,\n\u001b[32m    283\u001b[39m     entities: Union[\n\u001b[32m    284\u001b[39m         _ColumnsClauseArgument[Any], Iterable[_ColumnsClauseArgument[Any]]\n\u001b[32m    285\u001b[39m     ],\n\u001b[32m    286\u001b[39m ) -> \u001b[38;5;28;01mNone\u001b[39;00m:\n\u001b[32m    287\u001b[39m     \u001b[38;5;28mself\u001b[39m._raw_columns = [\n\u001b[32m--> \u001b[39m\u001b[32m288\u001b[39m         \u001b[43mcoercions\u001b[49m\u001b[43m.\u001b[49m\u001b[43mexpect\u001b[49m\u001b[43m(\u001b[49m\n\u001b[32m    289\u001b[39m \u001b[43m            \u001b[49m\u001b[43mroles\u001b[49m\u001b[43m.\u001b[49m\u001b[43mColumnsClauseRole\u001b[49m\u001b[43m,\u001b[49m\n\u001b[32m    290\u001b[39m \u001b[43m            \u001b[49m\u001b[43ment\u001b[49m\u001b[43m,\u001b[49m\n\u001b[32m    291\u001b[39m \u001b[43m            \u001b[49m\u001b[43mapply_propagate_attrs\u001b[49m\u001b[43m=\u001b[49m\u001b[38;5;28;43mself\u001b[39;49m\u001b[43m,\u001b[49m\n\u001b[32m    292\u001b[39m \u001b[43m            \u001b[49m\u001b[43mpost_inspect\u001b[49m\u001b[43m=\u001b[49m\u001b[38;5;28;43;01mTrue\u001b[39;49;00m\u001b[43m,\u001b[49m\n\u001b[32m    293\u001b[39m \u001b[43m        \u001b[49m\u001b[43m)\u001b[49m\n\u001b[32m    294\u001b[39m         \u001b[38;5;28;01mfor\u001b[39;00m ent \u001b[38;5;129;01min\u001b[39;00m util.to_list(entities)\n\u001b[32m    295\u001b[39m     ]\n",
      "\u001b[36mFile \u001b[39m\u001b[32m~/opt/anaconda3/envs/koreasw/lib/python3.11/site-packages/sqlalchemy/sql/coercions.py:388\u001b[39m, in \u001b[36mexpect\u001b[39m\u001b[34m(role, element, apply_propagate_attrs, argname, post_inspect, disable_inspection, **kw)\u001b[39m\n\u001b[32m    386\u001b[39m \u001b[38;5;28;01mif\u001b[39;00m insp \u001b[38;5;129;01mis\u001b[39;00m \u001b[38;5;129;01mnot\u001b[39;00m \u001b[38;5;28;01mNone\u001b[39;00m:\n\u001b[32m    387\u001b[39m     \u001b[38;5;28;01mif\u001b[39;00m post_inspect:\n\u001b[32m--> \u001b[39m\u001b[32m388\u001b[39m         \u001b[43minsp\u001b[49m\u001b[43m.\u001b[49m\u001b[43m_post_inspect\u001b[49m\n\u001b[32m    389\u001b[39m     \u001b[38;5;28;01mtry\u001b[39;00m:\n\u001b[32m    390\u001b[39m         resolved = insp.__clause_element__()\n",
      "\u001b[36mFile \u001b[39m\u001b[32m~/opt/anaconda3/envs/koreasw/lib/python3.11/site-packages/sqlalchemy/util/langhelpers.py:1257\u001b[39m, in \u001b[36mHasMemoized.memoized_attribute.__get__\u001b[39m\u001b[34m(self, obj, cls)\u001b[39m\n\u001b[32m   1255\u001b[39m \u001b[38;5;28;01mif\u001b[39;00m obj \u001b[38;5;129;01mis\u001b[39;00m \u001b[38;5;28;01mNone\u001b[39;00m:\n\u001b[32m   1256\u001b[39m     \u001b[38;5;28;01mreturn\u001b[39;00m \u001b[38;5;28mself\u001b[39m\n\u001b[32m-> \u001b[39m\u001b[32m1257\u001b[39m obj.\u001b[34m__dict__\u001b[39m[\u001b[38;5;28mself\u001b[39m.\u001b[34m__name__\u001b[39m] = result = \u001b[38;5;28;43mself\u001b[39;49m\u001b[43m.\u001b[49m\u001b[43mfget\u001b[49m\u001b[43m(\u001b[49m\u001b[43mobj\u001b[49m\u001b[43m)\u001b[49m\n\u001b[32m   1258\u001b[39m obj._memoized_keys |= {\u001b[38;5;28mself\u001b[39m.\u001b[34m__name__\u001b[39m}\n\u001b[32m   1259\u001b[39m \u001b[38;5;28;01mreturn\u001b[39;00m result\n",
      "\u001b[36mFile \u001b[39m\u001b[32m~/opt/anaconda3/envs/koreasw/lib/python3.11/site-packages/sqlalchemy/orm/mapper.py:2724\u001b[39m, in \u001b[36mMapper._post_inspect\u001b[39m\u001b[34m(self)\u001b[39m\n\u001b[32m   2713\u001b[39m \u001b[38;5;129m@HasMemoized\u001b[39m.memoized_attribute\n\u001b[32m   2714\u001b[39m \u001b[38;5;28;01mdef\u001b[39;00m\u001b[38;5;250m \u001b[39m\u001b[34m_post_inspect\u001b[39m(\u001b[38;5;28mself\u001b[39m):\n\u001b[32m   2715\u001b[39m \u001b[38;5;250m    \u001b[39m\u001b[33;03m\"\"\"This hook is invoked by attribute inspection.\u001b[39;00m\n\u001b[32m   2716\u001b[39m \n\u001b[32m   2717\u001b[39m \u001b[33;03m    E.g. when Query calls:\u001b[39;00m\n\u001b[32m   (...)\u001b[39m\u001b[32m   2722\u001b[39m \n\u001b[32m   2723\u001b[39m \u001b[33;03m    \"\"\"\u001b[39;00m\n\u001b[32m-> \u001b[39m\u001b[32m2724\u001b[39m     \u001b[38;5;28;43mself\u001b[39;49m\u001b[43m.\u001b[49m\u001b[43m_check_configure\u001b[49m\u001b[43m(\u001b[49m\u001b[43m)\u001b[49m\n",
      "\u001b[36mFile \u001b[39m\u001b[32m~/opt/anaconda3/envs/koreasw/lib/python3.11/site-packages/sqlalchemy/orm/mapper.py:2401\u001b[39m, in \u001b[36mMapper._check_configure\u001b[39m\u001b[34m(self)\u001b[39m\n\u001b[32m   2393\u001b[39m \u001b[38;5;129m@util\u001b[39m.langhelpers.tag_method_for_warnings(\n\u001b[32m   2394\u001b[39m     \u001b[33m\"\u001b[39m\u001b[33mThis warning originated from the `configure_mappers()` process, \u001b[39m\u001b[33m\"\u001b[39m\n\u001b[32m   2395\u001b[39m     \u001b[33m\"\u001b[39m\u001b[33mwhich was invoked automatically in response to a user-initiated \u001b[39m\u001b[33m\"\u001b[39m\n\u001b[32m   (...)\u001b[39m\u001b[32m   2398\u001b[39m )\n\u001b[32m   2399\u001b[39m \u001b[38;5;28;01mdef\u001b[39;00m\u001b[38;5;250m \u001b[39m\u001b[34m_check_configure\u001b[39m(\u001b[38;5;28mself\u001b[39m) -> \u001b[38;5;28;01mNone\u001b[39;00m:\n\u001b[32m   2400\u001b[39m     \u001b[38;5;28;01mif\u001b[39;00m \u001b[38;5;28mself\u001b[39m.registry._new_mappers:\n\u001b[32m-> \u001b[39m\u001b[32m2401\u001b[39m         \u001b[43m_configure_registries\u001b[49m\u001b[43m(\u001b[49m\u001b[43m{\u001b[49m\u001b[38;5;28;43mself\u001b[39;49m\u001b[43m.\u001b[49m\u001b[43mregistry\u001b[49m\u001b[43m}\u001b[49m\u001b[43m,\u001b[49m\u001b[43m \u001b[49m\u001b[43mcascade\u001b[49m\u001b[43m=\u001b[49m\u001b[38;5;28;43;01mTrue\u001b[39;49;00m\u001b[43m)\u001b[49m\n",
      "\u001b[36mFile \u001b[39m\u001b[32m~/opt/anaconda3/envs/koreasw/lib/python3.11/site-packages/sqlalchemy/orm/mapper.py:4213\u001b[39m, in \u001b[36m_configure_registries\u001b[39m\u001b[34m(registries, cascade)\u001b[39m\n\u001b[32m   4207\u001b[39m     Mapper.dispatch._for_class(Mapper).before_configured()  \u001b[38;5;66;03m# type: ignore # noqa: E501\u001b[39;00m\n\u001b[32m   4208\u001b[39m     \u001b[38;5;66;03m# initialize properties on all mappers\u001b[39;00m\n\u001b[32m   4209\u001b[39m     \u001b[38;5;66;03m# note that _mapper_registry is unordered, which\u001b[39;00m\n\u001b[32m   4210\u001b[39m     \u001b[38;5;66;03m# may randomly conceal/reveal issues related to\u001b[39;00m\n\u001b[32m   4211\u001b[39m     \u001b[38;5;66;03m# the order of mapper compilation\u001b[39;00m\n\u001b[32m-> \u001b[39m\u001b[32m4213\u001b[39m     \u001b[43m_do_configure_registries\u001b[49m\u001b[43m(\u001b[49m\u001b[43mregistries\u001b[49m\u001b[43m,\u001b[49m\u001b[43m \u001b[49m\u001b[43mcascade\u001b[49m\u001b[43m)\u001b[49m\n\u001b[32m   4214\u001b[39m \u001b[38;5;28;01mfinally\u001b[39;00m:\n\u001b[32m   4215\u001b[39m     _already_compiling = \u001b[38;5;28;01mFalse\u001b[39;00m\n",
      "\u001b[36mFile \u001b[39m\u001b[32m~/opt/anaconda3/envs/koreasw/lib/python3.11/site-packages/sqlalchemy/orm/mapper.py:4250\u001b[39m, in \u001b[36m_do_configure_registries\u001b[39m\u001b[34m(registries, cascade)\u001b[39m\n\u001b[32m   4242\u001b[39m     e = sa_exc.InvalidRequestError(\n\u001b[32m   4243\u001b[39m         \u001b[33m\"\u001b[39m\u001b[33mOne or more mappers failed to initialize - \u001b[39m\u001b[33m\"\u001b[39m\n\u001b[32m   4244\u001b[39m         \u001b[33m\"\u001b[39m\u001b[33mcan\u001b[39m\u001b[33m'\u001b[39m\u001b[33mt proceed with initialization of other \u001b[39m\u001b[33m\"\u001b[39m\n\u001b[32m   (...)\u001b[39m\u001b[32m   4247\u001b[39m         % (mapper, mapper._configure_failed)\n\u001b[32m   4248\u001b[39m     )\n\u001b[32m   4249\u001b[39m     e._configure_failed = mapper._configure_failed  \u001b[38;5;66;03m# type: ignore\u001b[39;00m\n\u001b[32m-> \u001b[39m\u001b[32m4250\u001b[39m     \u001b[38;5;28;01mraise\u001b[39;00m e\n\u001b[32m   4252\u001b[39m \u001b[38;5;28;01mif\u001b[39;00m \u001b[38;5;129;01mnot\u001b[39;00m mapper.configured:\n\u001b[32m   4253\u001b[39m     \u001b[38;5;28;01mtry\u001b[39;00m:\n",
      "\u001b[31mInvalidRequestError\u001b[39m: One or more mappers failed to initialize - can't proceed with initialization of other mappers. Triggering mapper: 'Mapper[City(city)]'. Original exception was: list index out of range"
     ]
    }
   ],
   "source": [
    "c = sess.query(City).all()[0]"
   ]
  },
  {
   "cell_type": "code",
   "execution_count": 204,
   "metadata": {},
   "outputs": [],
   "source": [
    "sess.close()\n",
    "engine.connect().close()\n",
    "base.metadata.clear()\n",
    "base.registry.dispose()"
   ]
  },
  {
   "cell_type": "code",
   "execution_count": 205,
   "metadata": {},
   "outputs": [],
   "source": [
    "engine = create_engine('sqlite:///:memory:', echo=True)"
   ]
  },
  {
   "cell_type": "code",
   "execution_count": 206,
   "metadata": {},
   "outputs": [],
   "source": [
    "sess.bind = engine"
   ]
  },
  {
   "cell_type": "code",
   "execution_count": 207,
   "metadata": {},
   "outputs": [],
   "source": [
    "class Post(base):\n",
    "    __tablename__ = 'post'\n",
    "    pk = Column('pk', Integer, primary_key=True)\n",
    "    content = Column('content', Text, default='')\n",
    "    tags = relationship('PH', back_populates='post', uselist=True)\n",
    "\n",
    "class Hashtag(base):\n",
    "    __tablename__ = 'hashtag'\n",
    "    pk = Column('pk', Integer, primary_key=True)\n",
    "    name = Column('name', Text, default='')\n",
    "    count = Column('count', Integer, default=0)\n",
    "    posts = relationship('PH', back_populates='tag', uselist=True)\n",
    "\n",
    "class PH(base):\n",
    "    __tablename__ = 'ph'\n",
    "    pk = Column('pk', Integer, primary_key=True)\n",
    "    pfk = Column('pfk', Integer, ForeignKey('post.pk'))\n",
    "    hfk = Column('hfk', Integer, ForeignKey('hashtag.pk'))\n",
    "    post = relationship('Post', back_populates='tags')\n",
    "    tag = relationship('Hashtag', back_populates='posts')"
   ]
  },
  {
   "cell_type": "code",
   "execution_count": 208,
   "metadata": {},
   "outputs": [
    {
     "name": "stdout",
     "output_type": "stream",
     "text": [
      "2025-03-07 11:35:08,524 INFO sqlalchemy.engine.Engine BEGIN (implicit)\n",
      "2025-03-07 11:35:08,524 INFO sqlalchemy.engine.Engine PRAGMA main.table_info(\"post\")\n",
      "2025-03-07 11:35:08,525 INFO sqlalchemy.engine.Engine [raw sql] ()\n",
      "2025-03-07 11:35:08,525 INFO sqlalchemy.engine.Engine PRAGMA temp.table_info(\"post\")\n",
      "2025-03-07 11:35:08,525 INFO sqlalchemy.engine.Engine [raw sql] ()\n",
      "2025-03-07 11:35:08,526 INFO sqlalchemy.engine.Engine PRAGMA main.table_info(\"hashtag\")\n",
      "2025-03-07 11:35:08,526 INFO sqlalchemy.engine.Engine [raw sql] ()\n",
      "2025-03-07 11:35:08,526 INFO sqlalchemy.engine.Engine PRAGMA temp.table_info(\"hashtag\")\n",
      "2025-03-07 11:35:08,526 INFO sqlalchemy.engine.Engine [raw sql] ()\n",
      "2025-03-07 11:35:08,526 INFO sqlalchemy.engine.Engine PRAGMA main.table_info(\"ph\")\n",
      "2025-03-07 11:35:08,527 INFO sqlalchemy.engine.Engine [raw sql] ()\n",
      "2025-03-07 11:35:08,527 INFO sqlalchemy.engine.Engine PRAGMA temp.table_info(\"ph\")\n",
      "2025-03-07 11:35:08,527 INFO sqlalchemy.engine.Engine [raw sql] ()\n",
      "2025-03-07 11:35:08,527 INFO sqlalchemy.engine.Engine \n",
      "CREATE TABLE post (\n",
      "\tpk INTEGER NOT NULL, \n",
      "\tcontent TEXT, \n",
      "\tPRIMARY KEY (pk)\n",
      ")\n",
      "\n",
      "\n",
      "2025-03-07 11:35:08,528 INFO sqlalchemy.engine.Engine [no key 0.00017s] ()\n",
      "2025-03-07 11:35:08,528 INFO sqlalchemy.engine.Engine \n",
      "CREATE TABLE hashtag (\n",
      "\tpk INTEGER NOT NULL, \n",
      "\tname TEXT, \n",
      "\tcount INTEGER, \n",
      "\tPRIMARY KEY (pk)\n",
      ")\n",
      "\n",
      "\n",
      "2025-03-07 11:35:08,528 INFO sqlalchemy.engine.Engine [no key 0.00024s] ()\n",
      "2025-03-07 11:35:08,529 INFO sqlalchemy.engine.Engine \n",
      "CREATE TABLE ph (\n",
      "\tpk INTEGER NOT NULL, \n",
      "\tpfk INTEGER, \n",
      "\thfk INTEGER, \n",
      "\tPRIMARY KEY (pk), \n",
      "\tFOREIGN KEY(pfk) REFERENCES post (pk), \n",
      "\tFOREIGN KEY(hfk) REFERENCES hashtag (pk)\n",
      ")\n",
      "\n",
      "\n",
      "2025-03-07 11:35:08,529 INFO sqlalchemy.engine.Engine [no key 0.00022s] ()\n",
      "2025-03-07 11:35:08,530 INFO sqlalchemy.engine.Engine COMMIT\n"
     ]
    }
   ],
   "source": [
    "base.metadata.create_all(engine)"
   ]
  },
  {
   "cell_type": "code",
   "execution_count": 209,
   "metadata": {},
   "outputs": [],
   "source": [
    "p1 = Post(content='내용1')\n",
    "sess.add(p1)"
   ]
  },
  {
   "cell_type": "code",
   "execution_count": 210,
   "metadata": {},
   "outputs": [
    {
     "name": "stdout",
     "output_type": "stream",
     "text": [
      "2025-03-07 11:35:11,923 INFO sqlalchemy.engine.Engine BEGIN (implicit)\n",
      "2025-03-07 11:35:11,924 INFO sqlalchemy.engine.Engine INSERT INTO post (content) VALUES (?)\n",
      "2025-03-07 11:35:11,924 INFO sqlalchemy.engine.Engine [generated in 0.00031s] ('내용1',)\n",
      "2025-03-07 11:35:11,924 INFO sqlalchemy.engine.Engine COMMIT\n"
     ]
    }
   ],
   "source": [
    "sess.add(p1)\n",
    "sess.commit()"
   ]
  },
  {
   "cell_type": "code",
   "execution_count": 211,
   "metadata": {},
   "outputs": [
    {
     "name": "stdout",
     "output_type": "stream",
     "text": [
      "2025-03-07 11:35:12,839 INFO sqlalchemy.engine.Engine BEGIN (implicit)\n",
      "2025-03-07 11:35:12,840 INFO sqlalchemy.engine.Engine SELECT post.pk AS post_pk, post.content AS post_content \n",
      "FROM post \n",
      "WHERE post.pk = ?\n",
      "2025-03-07 11:35:12,840 INFO sqlalchemy.engine.Engine [generated in 0.00031s] (1,)\n"
     ]
    },
    {
     "data": {
      "text/plain": [
       "1"
      ]
     },
     "execution_count": 211,
     "metadata": {},
     "output_type": "execute_result"
    }
   ],
   "source": [
    "p1.pk"
   ]
  },
  {
   "cell_type": "code",
   "execution_count": 212,
   "metadata": {},
   "outputs": [
    {
     "name": "stdout",
     "output_type": "stream",
     "text": [
      "2025-03-07 11:35:14,870 INFO sqlalchemy.engine.Engine INSERT INTO hashtag (name, count) VALUES (?, ?)\n",
      "2025-03-07 11:35:14,870 INFO sqlalchemy.engine.Engine [generated in 0.00050s] ('해시태그1', 0)\n",
      "2025-03-07 11:35:14,871 INFO sqlalchemy.engine.Engine COMMIT\n"
     ]
    }
   ],
   "source": [
    "h1 = Hashtag(name='해시태그1')\n",
    "sess.add(h1)\n",
    "sess.commit()"
   ]
  },
  {
   "cell_type": "code",
   "execution_count": 198,
   "metadata": {},
   "outputs": [
    {
     "name": "stdout",
     "output_type": "stream",
     "text": [
      "2025-03-07 11:31:46,120 INFO sqlalchemy.engine.Engine BEGIN (implicit)\n",
      "2025-03-07 11:31:46,121 INFO sqlalchemy.engine.Engine SELECT post.pk AS post_pk, post.content AS post_content \n",
      "FROM post \n",
      "WHERE post.pk = ?\n",
      "2025-03-07 11:31:46,121 INFO sqlalchemy.engine.Engine [cached since 60.03s ago] (1,)\n",
      "2025-03-07 11:31:46,122 INFO sqlalchemy.engine.Engine SELECT ph.pk AS ph_pk, ph.pfk AS ph_pfk, ph.hfk AS ph_hfk \n",
      "FROM ph \n",
      "WHERE ? = ph.pfk\n",
      "2025-03-07 11:31:46,122 INFO sqlalchemy.engine.Engine [generated in 0.00021s] (1,)\n"
     ]
    }
   ],
   "source": [
    "p1.tags.append(PH(pfk=p1.pk, hfk=Hashtag(name='해시태그1').pk))\n",
    "# Post.tags[] -> backref = PH <- Hashtag"
   ]
  },
  {
   "cell_type": "code",
   "execution_count": 199,
   "metadata": {},
   "outputs": [
    {
     "name": "stdout",
     "output_type": "stream",
     "text": [
      "2025-03-07 11:31:53,315 INFO sqlalchemy.engine.Engine INSERT INTO ph (pfk, hfk) VALUES (?, ?)\n",
      "2025-03-07 11:31:53,316 INFO sqlalchemy.engine.Engine [generated in 0.00057s] (1, None)\n",
      "2025-03-07 11:31:53,316 INFO sqlalchemy.engine.Engine COMMIT\n"
     ]
    }
   ],
   "source": [
    "sess.commit()"
   ]
  },
  {
   "cell_type": "code",
   "execution_count": 202,
   "metadata": {},
   "outputs": [
    {
     "ename": "ProgrammingError",
     "evalue": "(sqlite3.ProgrammingError) SQLite objects created in a thread can only be used in that same thread. The object was created in thread id 6214709248 and this is thread id 8229144640.\n[SQL: SELECT ph.pk AS ph_pk, ph.pfk AS ph_pfk, ph.hfk AS ph_hfk \nFROM ph]\n[parameters: [{}]]\n(Background on this error at: https://sqlalche.me/e/20/f405)",
     "output_type": "error",
     "traceback": [
      "\u001b[31m---------------------------------------------------------------------------\u001b[39m",
      "\u001b[31mProgrammingError\u001b[39m                          Traceback (most recent call last)",
      "\u001b[36mFile \u001b[39m\u001b[32m~/opt/anaconda3/envs/koreasw/lib/python3.11/site-packages/sqlalchemy/engine/base.py:1812\u001b[39m, in \u001b[36mConnection._execute_context\u001b[39m\u001b[34m(self, dialect, constructor, statement, parameters, execution_options, *args, **kw)\u001b[39m\n\u001b[32m   1810\u001b[39m         conn = \u001b[38;5;28mself\u001b[39m._revalidate_connection()\n\u001b[32m-> \u001b[39m\u001b[32m1812\u001b[39m     context = \u001b[43mconstructor\u001b[49m\u001b[43m(\u001b[49m\n\u001b[32m   1813\u001b[39m \u001b[43m        \u001b[49m\u001b[43mdialect\u001b[49m\u001b[43m,\u001b[49m\u001b[43m \u001b[49m\u001b[38;5;28;43mself\u001b[39;49m\u001b[43m,\u001b[49m\u001b[43m \u001b[49m\u001b[43mconn\u001b[49m\u001b[43m,\u001b[49m\u001b[43m \u001b[49m\u001b[43mexecution_options\u001b[49m\u001b[43m,\u001b[49m\u001b[43m \u001b[49m\u001b[43m*\u001b[49m\u001b[43margs\u001b[49m\u001b[43m,\u001b[49m\u001b[43m \u001b[49m\u001b[43m*\u001b[49m\u001b[43m*\u001b[49m\u001b[43mkw\u001b[49m\n\u001b[32m   1814\u001b[39m \u001b[43m    \u001b[49m\u001b[43m)\u001b[49m\n\u001b[32m   1815\u001b[39m \u001b[38;5;28;01mexcept\u001b[39;00m (exc.PendingRollbackError, exc.ResourceClosedError):\n",
      "\u001b[36mFile \u001b[39m\u001b[32m~/opt/anaconda3/envs/koreasw/lib/python3.11/site-packages/sqlalchemy/engine/default.py:1419\u001b[39m, in \u001b[36mDefaultExecutionContext._init_compiled\u001b[39m\u001b[34m(cls, dialect, connection, dbapi_connection, execution_options, compiled, parameters, invoked_statement, extracted_parameters, cache_hit)\u001b[39m\n\u001b[32m   1417\u001b[39m \u001b[38;5;28mself\u001b[39m.unicode_statement = compiled.string\n\u001b[32m-> \u001b[39m\u001b[32m1419\u001b[39m \u001b[38;5;28mself\u001b[39m.cursor = \u001b[38;5;28;43mself\u001b[39;49m\u001b[43m.\u001b[49m\u001b[43mcreate_cursor\u001b[49m\u001b[43m(\u001b[49m\u001b[43m)\u001b[49m\n\u001b[32m   1421\u001b[39m \u001b[38;5;28;01mif\u001b[39;00m \u001b[38;5;28mself\u001b[39m.compiled.insert_prefetch \u001b[38;5;129;01mor\u001b[39;00m \u001b[38;5;28mself\u001b[39m.compiled.update_prefetch:\n",
      "\u001b[36mFile \u001b[39m\u001b[32m~/opt/anaconda3/envs/koreasw/lib/python3.11/site-packages/sqlalchemy/engine/default.py:1753\u001b[39m, in \u001b[36mDefaultExecutionContext.create_cursor\u001b[39m\u001b[34m(self)\u001b[39m\n\u001b[32m   1752\u001b[39m \u001b[38;5;28mself\u001b[39m._is_server_side = \u001b[38;5;28;01mFalse\u001b[39;00m\n\u001b[32m-> \u001b[39m\u001b[32m1753\u001b[39m \u001b[38;5;28;01mreturn\u001b[39;00m \u001b[38;5;28;43mself\u001b[39;49m\u001b[43m.\u001b[49m\u001b[43mcreate_default_cursor\u001b[49m\u001b[43m(\u001b[49m\u001b[43m)\u001b[49m\n",
      "\u001b[36mFile \u001b[39m\u001b[32m~/opt/anaconda3/envs/koreasw/lib/python3.11/site-packages/sqlalchemy/engine/default.py:1759\u001b[39m, in \u001b[36mDefaultExecutionContext.create_default_cursor\u001b[39m\u001b[34m(self)\u001b[39m\n\u001b[32m   1758\u001b[39m \u001b[38;5;28;01mdef\u001b[39;00m\u001b[38;5;250m \u001b[39m\u001b[34mcreate_default_cursor\u001b[39m(\u001b[38;5;28mself\u001b[39m):\n\u001b[32m-> \u001b[39m\u001b[32m1759\u001b[39m     \u001b[38;5;28;01mreturn\u001b[39;00m \u001b[38;5;28;43mself\u001b[39;49m\u001b[43m.\u001b[49m\u001b[43m_dbapi_connection\u001b[49m\u001b[43m.\u001b[49m\u001b[43mcursor\u001b[49m\u001b[43m(\u001b[49m\u001b[43m)\u001b[49m\n",
      "\u001b[36mFile \u001b[39m\u001b[32m~/opt/anaconda3/envs/koreasw/lib/python3.11/site-packages/sqlalchemy/pool/base.py:1485\u001b[39m, in \u001b[36m_ConnectionFairy.cursor\u001b[39m\u001b[34m(self, *args, **kwargs)\u001b[39m\n\u001b[32m   1484\u001b[39m \u001b[38;5;28;01massert\u001b[39;00m \u001b[38;5;28mself\u001b[39m.dbapi_connection \u001b[38;5;129;01mis\u001b[39;00m \u001b[38;5;129;01mnot\u001b[39;00m \u001b[38;5;28;01mNone\u001b[39;00m\n\u001b[32m-> \u001b[39m\u001b[32m1485\u001b[39m \u001b[38;5;28;01mreturn\u001b[39;00m \u001b[38;5;28;43mself\u001b[39;49m\u001b[43m.\u001b[49m\u001b[43mdbapi_connection\u001b[49m\u001b[43m.\u001b[49m\u001b[43mcursor\u001b[49m\u001b[43m(\u001b[49m\u001b[43m*\u001b[49m\u001b[43margs\u001b[49m\u001b[43m,\u001b[49m\u001b[43m \u001b[49m\u001b[43m*\u001b[49m\u001b[43m*\u001b[49m\u001b[43mkwargs\u001b[49m\u001b[43m)\u001b[49m\n",
      "\u001b[31mProgrammingError\u001b[39m: SQLite objects created in a thread can only be used in that same thread. The object was created in thread id 6214709248 and this is thread id 8229144640.",
      "\nThe above exception was the direct cause of the following exception:\n",
      "\u001b[31mProgrammingError\u001b[39m                          Traceback (most recent call last)",
      "\u001b[36mCell\u001b[39m\u001b[36m \u001b[39m\u001b[32mIn[202]\u001b[39m\u001b[32m, line 1\u001b[39m\n\u001b[32m----> \u001b[39m\u001b[32m1\u001b[39m \u001b[43msess\u001b[49m\u001b[43m.\u001b[49m\u001b[43mquery\u001b[49m\u001b[43m(\u001b[49m\u001b[43mPH\u001b[49m\u001b[43m)\u001b[49m\u001b[43m.\u001b[49m\u001b[43mall\u001b[49m\u001b[43m(\u001b[49m\u001b[43m)\u001b[49m[\u001b[32m0\u001b[39m].fpk\n",
      "\u001b[36mFile \u001b[39m\u001b[32m~/opt/anaconda3/envs/koreasw/lib/python3.11/site-packages/sqlalchemy/orm/query.py:2699\u001b[39m, in \u001b[36mQuery.all\u001b[39m\u001b[34m(self)\u001b[39m\n\u001b[32m   2677\u001b[39m \u001b[38;5;28;01mdef\u001b[39;00m\u001b[38;5;250m \u001b[39m\u001b[34mall\u001b[39m(\u001b[38;5;28mself\u001b[39m) -> List[_T]:\n\u001b[32m   2678\u001b[39m \u001b[38;5;250m    \u001b[39m\u001b[33;03m\"\"\"Return the results represented by this :class:`_query.Query`\u001b[39;00m\n\u001b[32m   2679\u001b[39m \u001b[33;03m    as a list.\u001b[39;00m\n\u001b[32m   2680\u001b[39m \n\u001b[32m   (...)\u001b[39m\u001b[32m   2697\u001b[39m \u001b[33;03m        :meth:`_engine.Result.scalars` - v2 comparable method.\u001b[39;00m\n\u001b[32m   2698\u001b[39m \u001b[33;03m    \"\"\"\u001b[39;00m\n\u001b[32m-> \u001b[39m\u001b[32m2699\u001b[39m     \u001b[38;5;28;01mreturn\u001b[39;00m \u001b[38;5;28;43mself\u001b[39;49m\u001b[43m.\u001b[49m\u001b[43m_iter\u001b[49m\u001b[43m(\u001b[49m\u001b[43m)\u001b[49m.all()\n",
      "\u001b[36mFile \u001b[39m\u001b[32m~/opt/anaconda3/envs/koreasw/lib/python3.11/site-packages/sqlalchemy/orm/query.py:2853\u001b[39m, in \u001b[36mQuery._iter\u001b[39m\u001b[34m(self)\u001b[39m\n\u001b[32m   2850\u001b[39m params = \u001b[38;5;28mself\u001b[39m._params\n\u001b[32m   2852\u001b[39m statement = \u001b[38;5;28mself\u001b[39m._statement_20()\n\u001b[32m-> \u001b[39m\u001b[32m2853\u001b[39m result: Union[ScalarResult[_T], Result[_T]] = \u001b[38;5;28;43mself\u001b[39;49m\u001b[43m.\u001b[49m\u001b[43msession\u001b[49m\u001b[43m.\u001b[49m\u001b[43mexecute\u001b[49m\u001b[43m(\u001b[49m\n\u001b[32m   2854\u001b[39m \u001b[43m    \u001b[49m\u001b[43mstatement\u001b[49m\u001b[43m,\u001b[49m\n\u001b[32m   2855\u001b[39m \u001b[43m    \u001b[49m\u001b[43mparams\u001b[49m\u001b[43m,\u001b[49m\n\u001b[32m   2856\u001b[39m \u001b[43m    \u001b[49m\u001b[43mexecution_options\u001b[49m\u001b[43m=\u001b[49m\u001b[43m{\u001b[49m\u001b[33;43m\"\u001b[39;49m\u001b[33;43m_sa_orm_load_options\u001b[39;49m\u001b[33;43m\"\u001b[39;49m\u001b[43m:\u001b[49m\u001b[43m \u001b[49m\u001b[38;5;28;43mself\u001b[39;49m\u001b[43m.\u001b[49m\u001b[43mload_options\u001b[49m\u001b[43m}\u001b[49m\u001b[43m,\u001b[49m\n\u001b[32m   2857\u001b[39m \u001b[43m\u001b[49m\u001b[43m)\u001b[49m\n\u001b[32m   2859\u001b[39m \u001b[38;5;66;03m# legacy: automatically set scalars, unique\u001b[39;00m\n\u001b[32m   2860\u001b[39m \u001b[38;5;28;01mif\u001b[39;00m result._attributes.get(\u001b[33m\"\u001b[39m\u001b[33mis_single_entity\u001b[39m\u001b[33m\"\u001b[39m, \u001b[38;5;28;01mFalse\u001b[39;00m):\n",
      "\u001b[36mFile \u001b[39m\u001b[32m~/opt/anaconda3/envs/koreasw/lib/python3.11/site-packages/sqlalchemy/orm/session.py:2365\u001b[39m, in \u001b[36mSession.execute\u001b[39m\u001b[34m(self, statement, params, execution_options, bind_arguments, _parent_execute_state, _add_event)\u001b[39m\n\u001b[32m   2305\u001b[39m \u001b[38;5;28;01mdef\u001b[39;00m\u001b[38;5;250m \u001b[39m\u001b[34mexecute\u001b[39m(\n\u001b[32m   2306\u001b[39m     \u001b[38;5;28mself\u001b[39m,\n\u001b[32m   2307\u001b[39m     statement: Executable,\n\u001b[32m   (...)\u001b[39m\u001b[32m   2313\u001b[39m     _add_event: Optional[Any] = \u001b[38;5;28;01mNone\u001b[39;00m,\n\u001b[32m   2314\u001b[39m ) -> Result[Any]:\n\u001b[32m   2315\u001b[39m \u001b[38;5;250m    \u001b[39m\u001b[33mr\u001b[39m\u001b[33;03m\"\"\"Execute a SQL expression construct.\u001b[39;00m\n\u001b[32m   2316\u001b[39m \n\u001b[32m   2317\u001b[39m \u001b[33;03m    Returns a :class:`_engine.Result` object representing\u001b[39;00m\n\u001b[32m   (...)\u001b[39m\u001b[32m   2363\u001b[39m \n\u001b[32m   2364\u001b[39m \u001b[33;03m    \"\"\"\u001b[39;00m\n\u001b[32m-> \u001b[39m\u001b[32m2365\u001b[39m     \u001b[38;5;28;01mreturn\u001b[39;00m \u001b[38;5;28;43mself\u001b[39;49m\u001b[43m.\u001b[49m\u001b[43m_execute_internal\u001b[49m\u001b[43m(\u001b[49m\n\u001b[32m   2366\u001b[39m \u001b[43m        \u001b[49m\u001b[43mstatement\u001b[49m\u001b[43m,\u001b[49m\n\u001b[32m   2367\u001b[39m \u001b[43m        \u001b[49m\u001b[43mparams\u001b[49m\u001b[43m,\u001b[49m\n\u001b[32m   2368\u001b[39m \u001b[43m        \u001b[49m\u001b[43mexecution_options\u001b[49m\u001b[43m=\u001b[49m\u001b[43mexecution_options\u001b[49m\u001b[43m,\u001b[49m\n\u001b[32m   2369\u001b[39m \u001b[43m        \u001b[49m\u001b[43mbind_arguments\u001b[49m\u001b[43m=\u001b[49m\u001b[43mbind_arguments\u001b[49m\u001b[43m,\u001b[49m\n\u001b[32m   2370\u001b[39m \u001b[43m        \u001b[49m\u001b[43m_parent_execute_state\u001b[49m\u001b[43m=\u001b[49m\u001b[43m_parent_execute_state\u001b[49m\u001b[43m,\u001b[49m\n\u001b[32m   2371\u001b[39m \u001b[43m        \u001b[49m\u001b[43m_add_event\u001b[49m\u001b[43m=\u001b[49m\u001b[43m_add_event\u001b[49m\u001b[43m,\u001b[49m\n\u001b[32m   2372\u001b[39m \u001b[43m    \u001b[49m\u001b[43m)\u001b[49m\n",
      "\u001b[36mFile \u001b[39m\u001b[32m~/opt/anaconda3/envs/koreasw/lib/python3.11/site-packages/sqlalchemy/orm/session.py:2251\u001b[39m, in \u001b[36mSession._execute_internal\u001b[39m\u001b[34m(self, statement, params, execution_options, bind_arguments, _parent_execute_state, _add_event, _scalar_result)\u001b[39m\n\u001b[32m   2246\u001b[39m     \u001b[38;5;28;01mreturn\u001b[39;00m conn.scalar(\n\u001b[32m   2247\u001b[39m         statement, params \u001b[38;5;129;01mor\u001b[39;00m {}, execution_options=execution_options\n\u001b[32m   2248\u001b[39m     )\n\u001b[32m   2250\u001b[39m \u001b[38;5;28;01mif\u001b[39;00m compile_state_cls:\n\u001b[32m-> \u001b[39m\u001b[32m2251\u001b[39m     result: Result[Any] = \u001b[43mcompile_state_cls\u001b[49m\u001b[43m.\u001b[49m\u001b[43morm_execute_statement\u001b[49m\u001b[43m(\u001b[49m\n\u001b[32m   2252\u001b[39m \u001b[43m        \u001b[49m\u001b[38;5;28;43mself\u001b[39;49m\u001b[43m,\u001b[49m\n\u001b[32m   2253\u001b[39m \u001b[43m        \u001b[49m\u001b[43mstatement\u001b[49m\u001b[43m,\u001b[49m\n\u001b[32m   2254\u001b[39m \u001b[43m        \u001b[49m\u001b[43mparams\u001b[49m\u001b[43m \u001b[49m\u001b[38;5;129;43;01mor\u001b[39;49;00m\u001b[43m \u001b[49m\u001b[43m{\u001b[49m\u001b[43m}\u001b[49m\u001b[43m,\u001b[49m\n\u001b[32m   2255\u001b[39m \u001b[43m        \u001b[49m\u001b[43mexecution_options\u001b[49m\u001b[43m,\u001b[49m\n\u001b[32m   2256\u001b[39m \u001b[43m        \u001b[49m\u001b[43mbind_arguments\u001b[49m\u001b[43m,\u001b[49m\n\u001b[32m   2257\u001b[39m \u001b[43m        \u001b[49m\u001b[43mconn\u001b[49m\u001b[43m,\u001b[49m\n\u001b[32m   2258\u001b[39m \u001b[43m    \u001b[49m\u001b[43m)\u001b[49m\n\u001b[32m   2259\u001b[39m \u001b[38;5;28;01melse\u001b[39;00m:\n\u001b[32m   2260\u001b[39m     result = conn.execute(\n\u001b[32m   2261\u001b[39m         statement, params \u001b[38;5;129;01mor\u001b[39;00m {}, execution_options=execution_options\n\u001b[32m   2262\u001b[39m     )\n",
      "\u001b[36mFile \u001b[39m\u001b[32m~/opt/anaconda3/envs/koreasw/lib/python3.11/site-packages/sqlalchemy/orm/context.py:305\u001b[39m, in \u001b[36mAbstractORMCompileState.orm_execute_statement\u001b[39m\u001b[34m(cls, session, statement, params, execution_options, bind_arguments, conn)\u001b[39m\n\u001b[32m    295\u001b[39m \u001b[38;5;129m@classmethod\u001b[39m\n\u001b[32m    296\u001b[39m \u001b[38;5;28;01mdef\u001b[39;00m\u001b[38;5;250m \u001b[39m\u001b[34morm_execute_statement\u001b[39m(\n\u001b[32m    297\u001b[39m     \u001b[38;5;28mcls\u001b[39m,\n\u001b[32m   (...)\u001b[39m\u001b[32m    303\u001b[39m     conn,\n\u001b[32m    304\u001b[39m ) -> Result:\n\u001b[32m--> \u001b[39m\u001b[32m305\u001b[39m     result = \u001b[43mconn\u001b[49m\u001b[43m.\u001b[49m\u001b[43mexecute\u001b[49m\u001b[43m(\u001b[49m\n\u001b[32m    306\u001b[39m \u001b[43m        \u001b[49m\u001b[43mstatement\u001b[49m\u001b[43m,\u001b[49m\u001b[43m \u001b[49m\u001b[43mparams\u001b[49m\u001b[43m \u001b[49m\u001b[38;5;129;43;01mor\u001b[39;49;00m\u001b[43m \u001b[49m\u001b[43m{\u001b[49m\u001b[43m}\u001b[49m\u001b[43m,\u001b[49m\u001b[43m \u001b[49m\u001b[43mexecution_options\u001b[49m\u001b[43m=\u001b[49m\u001b[43mexecution_options\u001b[49m\n\u001b[32m    307\u001b[39m \u001b[43m    \u001b[49m\u001b[43m)\u001b[49m\n\u001b[32m    308\u001b[39m     \u001b[38;5;28;01mreturn\u001b[39;00m \u001b[38;5;28mcls\u001b[39m.orm_setup_cursor_result(\n\u001b[32m    309\u001b[39m         session,\n\u001b[32m    310\u001b[39m         statement,\n\u001b[32m   (...)\u001b[39m\u001b[32m    314\u001b[39m         result,\n\u001b[32m    315\u001b[39m     )\n",
      "\u001b[36mFile \u001b[39m\u001b[32m~/opt/anaconda3/envs/koreasw/lib/python3.11/site-packages/sqlalchemy/engine/base.py:1416\u001b[39m, in \u001b[36mConnection.execute\u001b[39m\u001b[34m(self, statement, parameters, execution_options)\u001b[39m\n\u001b[32m   1414\u001b[39m     \u001b[38;5;28;01mraise\u001b[39;00m exc.ObjectNotExecutableError(statement) \u001b[38;5;28;01mfrom\u001b[39;00m\u001b[38;5;250m \u001b[39m\u001b[34;01merr\u001b[39;00m\n\u001b[32m   1415\u001b[39m \u001b[38;5;28;01melse\u001b[39;00m:\n\u001b[32m-> \u001b[39m\u001b[32m1416\u001b[39m     \u001b[38;5;28;01mreturn\u001b[39;00m \u001b[43mmeth\u001b[49m\u001b[43m(\u001b[49m\n\u001b[32m   1417\u001b[39m \u001b[43m        \u001b[49m\u001b[38;5;28;43mself\u001b[39;49m\u001b[43m,\u001b[49m\n\u001b[32m   1418\u001b[39m \u001b[43m        \u001b[49m\u001b[43mdistilled_parameters\u001b[49m\u001b[43m,\u001b[49m\n\u001b[32m   1419\u001b[39m \u001b[43m        \u001b[49m\u001b[43mexecution_options\u001b[49m\u001b[43m \u001b[49m\u001b[38;5;129;43;01mor\u001b[39;49;00m\u001b[43m \u001b[49m\u001b[43mNO_OPTIONS\u001b[49m\u001b[43m,\u001b[49m\n\u001b[32m   1420\u001b[39m \u001b[43m    \u001b[49m\u001b[43m)\u001b[49m\n",
      "\u001b[36mFile \u001b[39m\u001b[32m~/opt/anaconda3/envs/koreasw/lib/python3.11/site-packages/sqlalchemy/sql/elements.py:516\u001b[39m, in \u001b[36mClauseElement._execute_on_connection\u001b[39m\u001b[34m(self, connection, distilled_params, execution_options)\u001b[39m\n\u001b[32m    514\u001b[39m     \u001b[38;5;28;01mif\u001b[39;00m TYPE_CHECKING:\n\u001b[32m    515\u001b[39m         \u001b[38;5;28;01massert\u001b[39;00m \u001b[38;5;28misinstance\u001b[39m(\u001b[38;5;28mself\u001b[39m, Executable)\n\u001b[32m--> \u001b[39m\u001b[32m516\u001b[39m     \u001b[38;5;28;01mreturn\u001b[39;00m \u001b[43mconnection\u001b[49m\u001b[43m.\u001b[49m\u001b[43m_execute_clauseelement\u001b[49m\u001b[43m(\u001b[49m\n\u001b[32m    517\u001b[39m \u001b[43m        \u001b[49m\u001b[38;5;28;43mself\u001b[39;49m\u001b[43m,\u001b[49m\u001b[43m \u001b[49m\u001b[43mdistilled_params\u001b[49m\u001b[43m,\u001b[49m\u001b[43m \u001b[49m\u001b[43mexecution_options\u001b[49m\n\u001b[32m    518\u001b[39m \u001b[43m    \u001b[49m\u001b[43m)\u001b[49m\n\u001b[32m    519\u001b[39m \u001b[38;5;28;01melse\u001b[39;00m:\n\u001b[32m    520\u001b[39m     \u001b[38;5;28;01mraise\u001b[39;00m exc.ObjectNotExecutableError(\u001b[38;5;28mself\u001b[39m)\n",
      "\u001b[36mFile \u001b[39m\u001b[32m~/opt/anaconda3/envs/koreasw/lib/python3.11/site-packages/sqlalchemy/engine/base.py:1638\u001b[39m, in \u001b[36mConnection._execute_clauseelement\u001b[39m\u001b[34m(self, elem, distilled_parameters, execution_options)\u001b[39m\n\u001b[32m   1626\u001b[39m compiled_cache: Optional[CompiledCacheType] = execution_options.get(\n\u001b[32m   1627\u001b[39m     \u001b[33m\"\u001b[39m\u001b[33mcompiled_cache\u001b[39m\u001b[33m\"\u001b[39m, \u001b[38;5;28mself\u001b[39m.engine._compiled_cache\n\u001b[32m   1628\u001b[39m )\n\u001b[32m   1630\u001b[39m compiled_sql, extracted_params, cache_hit = elem._compile_w_cache(\n\u001b[32m   1631\u001b[39m     dialect=dialect,\n\u001b[32m   1632\u001b[39m     compiled_cache=compiled_cache,\n\u001b[32m   (...)\u001b[39m\u001b[32m   1636\u001b[39m     linting=\u001b[38;5;28mself\u001b[39m.dialect.compiler_linting | compiler.WARN_LINTING,\n\u001b[32m   1637\u001b[39m )\n\u001b[32m-> \u001b[39m\u001b[32m1638\u001b[39m ret = \u001b[38;5;28;43mself\u001b[39;49m\u001b[43m.\u001b[49m\u001b[43m_execute_context\u001b[49m\u001b[43m(\u001b[49m\n\u001b[32m   1639\u001b[39m \u001b[43m    \u001b[49m\u001b[43mdialect\u001b[49m\u001b[43m,\u001b[49m\n\u001b[32m   1640\u001b[39m \u001b[43m    \u001b[49m\u001b[43mdialect\u001b[49m\u001b[43m.\u001b[49m\u001b[43mexecution_ctx_cls\u001b[49m\u001b[43m.\u001b[49m\u001b[43m_init_compiled\u001b[49m\u001b[43m,\u001b[49m\n\u001b[32m   1641\u001b[39m \u001b[43m    \u001b[49m\u001b[43mcompiled_sql\u001b[49m\u001b[43m,\u001b[49m\n\u001b[32m   1642\u001b[39m \u001b[43m    \u001b[49m\u001b[43mdistilled_parameters\u001b[49m\u001b[43m,\u001b[49m\n\u001b[32m   1643\u001b[39m \u001b[43m    \u001b[49m\u001b[43mexecution_options\u001b[49m\u001b[43m,\u001b[49m\n\u001b[32m   1644\u001b[39m \u001b[43m    \u001b[49m\u001b[43mcompiled_sql\u001b[49m\u001b[43m,\u001b[49m\n\u001b[32m   1645\u001b[39m \u001b[43m    \u001b[49m\u001b[43mdistilled_parameters\u001b[49m\u001b[43m,\u001b[49m\n\u001b[32m   1646\u001b[39m \u001b[43m    \u001b[49m\u001b[43melem\u001b[49m\u001b[43m,\u001b[49m\n\u001b[32m   1647\u001b[39m \u001b[43m    \u001b[49m\u001b[43mextracted_params\u001b[49m\u001b[43m,\u001b[49m\n\u001b[32m   1648\u001b[39m \u001b[43m    \u001b[49m\u001b[43mcache_hit\u001b[49m\u001b[43m=\u001b[49m\u001b[43mcache_hit\u001b[49m\u001b[43m,\u001b[49m\n\u001b[32m   1649\u001b[39m \u001b[43m\u001b[49m\u001b[43m)\u001b[49m\n\u001b[32m   1650\u001b[39m \u001b[38;5;28;01mif\u001b[39;00m has_events:\n\u001b[32m   1651\u001b[39m     \u001b[38;5;28mself\u001b[39m.dispatch.after_execute(\n\u001b[32m   1652\u001b[39m         \u001b[38;5;28mself\u001b[39m,\n\u001b[32m   1653\u001b[39m         elem,\n\u001b[32m   (...)\u001b[39m\u001b[32m   1657\u001b[39m         ret,\n\u001b[32m   1658\u001b[39m     )\n",
      "\u001b[36mFile \u001b[39m\u001b[32m~/opt/anaconda3/envs/koreasw/lib/python3.11/site-packages/sqlalchemy/engine/base.py:1818\u001b[39m, in \u001b[36mConnection._execute_context\u001b[39m\u001b[34m(self, dialect, constructor, statement, parameters, execution_options, *args, **kw)\u001b[39m\n\u001b[32m   1816\u001b[39m     \u001b[38;5;28;01mraise\u001b[39;00m\n\u001b[32m   1817\u001b[39m \u001b[38;5;28;01mexcept\u001b[39;00m \u001b[38;5;167;01mBaseException\u001b[39;00m \u001b[38;5;28;01mas\u001b[39;00m e:\n\u001b[32m-> \u001b[39m\u001b[32m1818\u001b[39m     \u001b[38;5;28;43mself\u001b[39;49m\u001b[43m.\u001b[49m\u001b[43m_handle_dbapi_exception\u001b[49m\u001b[43m(\u001b[49m\n\u001b[32m   1819\u001b[39m \u001b[43m        \u001b[49m\u001b[43me\u001b[49m\u001b[43m,\u001b[49m\u001b[43m \u001b[49m\u001b[38;5;28;43mstr\u001b[39;49m\u001b[43m(\u001b[49m\u001b[43mstatement\u001b[49m\u001b[43m)\u001b[49m\u001b[43m,\u001b[49m\u001b[43m \u001b[49m\u001b[43mparameters\u001b[49m\u001b[43m,\u001b[49m\u001b[43m \u001b[49m\u001b[38;5;28;43;01mNone\u001b[39;49;00m\u001b[43m,\u001b[49m\u001b[43m \u001b[49m\u001b[38;5;28;43;01mNone\u001b[39;49;00m\n\u001b[32m   1820\u001b[39m \u001b[43m    \u001b[49m\u001b[43m)\u001b[49m\n\u001b[32m   1822\u001b[39m \u001b[38;5;28;01mif\u001b[39;00m (\n\u001b[32m   1823\u001b[39m     \u001b[38;5;28mself\u001b[39m._transaction\n\u001b[32m   1824\u001b[39m     \u001b[38;5;129;01mand\u001b[39;00m \u001b[38;5;129;01mnot\u001b[39;00m \u001b[38;5;28mself\u001b[39m._transaction.is_active\n\u001b[32m   (...)\u001b[39m\u001b[32m   1828\u001b[39m     )\n\u001b[32m   1829\u001b[39m ):\n\u001b[32m   1830\u001b[39m     \u001b[38;5;28mself\u001b[39m._invalid_transaction()\n",
      "\u001b[36mFile \u001b[39m\u001b[32m~/opt/anaconda3/envs/koreasw/lib/python3.11/site-packages/sqlalchemy/engine/base.py:2352\u001b[39m, in \u001b[36mConnection._handle_dbapi_exception\u001b[39m\u001b[34m(self, e, statement, parameters, cursor, context, is_sub_exec)\u001b[39m\n\u001b[32m   2350\u001b[39m \u001b[38;5;28;01melif\u001b[39;00m should_wrap:\n\u001b[32m   2351\u001b[39m     \u001b[38;5;28;01massert\u001b[39;00m sqlalchemy_exception \u001b[38;5;129;01mis\u001b[39;00m \u001b[38;5;129;01mnot\u001b[39;00m \u001b[38;5;28;01mNone\u001b[39;00m\n\u001b[32m-> \u001b[39m\u001b[32m2352\u001b[39m     \u001b[38;5;28;01mraise\u001b[39;00m sqlalchemy_exception.with_traceback(exc_info[\u001b[32m2\u001b[39m]) \u001b[38;5;28;01mfrom\u001b[39;00m\u001b[38;5;250m \u001b[39m\u001b[34;01me\u001b[39;00m\n\u001b[32m   2353\u001b[39m \u001b[38;5;28;01melse\u001b[39;00m:\n\u001b[32m   2354\u001b[39m     \u001b[38;5;28;01massert\u001b[39;00m exc_info[\u001b[32m1\u001b[39m] \u001b[38;5;129;01mis\u001b[39;00m \u001b[38;5;129;01mnot\u001b[39;00m \u001b[38;5;28;01mNone\u001b[39;00m\n",
      "\u001b[36mFile \u001b[39m\u001b[32m~/opt/anaconda3/envs/koreasw/lib/python3.11/site-packages/sqlalchemy/engine/base.py:1812\u001b[39m, in \u001b[36mConnection._execute_context\u001b[39m\u001b[34m(self, dialect, constructor, statement, parameters, execution_options, *args, **kw)\u001b[39m\n\u001b[32m   1809\u001b[39m     \u001b[38;5;28;01mif\u001b[39;00m conn \u001b[38;5;129;01mis\u001b[39;00m \u001b[38;5;28;01mNone\u001b[39;00m:\n\u001b[32m   1810\u001b[39m         conn = \u001b[38;5;28mself\u001b[39m._revalidate_connection()\n\u001b[32m-> \u001b[39m\u001b[32m1812\u001b[39m     context = \u001b[43mconstructor\u001b[49m\u001b[43m(\u001b[49m\n\u001b[32m   1813\u001b[39m \u001b[43m        \u001b[49m\u001b[43mdialect\u001b[49m\u001b[43m,\u001b[49m\u001b[43m \u001b[49m\u001b[38;5;28;43mself\u001b[39;49m\u001b[43m,\u001b[49m\u001b[43m \u001b[49m\u001b[43mconn\u001b[49m\u001b[43m,\u001b[49m\u001b[43m \u001b[49m\u001b[43mexecution_options\u001b[49m\u001b[43m,\u001b[49m\u001b[43m \u001b[49m\u001b[43m*\u001b[49m\u001b[43margs\u001b[49m\u001b[43m,\u001b[49m\u001b[43m \u001b[49m\u001b[43m*\u001b[49m\u001b[43m*\u001b[49m\u001b[43mkw\u001b[49m\n\u001b[32m   1814\u001b[39m \u001b[43m    \u001b[49m\u001b[43m)\u001b[49m\n\u001b[32m   1815\u001b[39m \u001b[38;5;28;01mexcept\u001b[39;00m (exc.PendingRollbackError, exc.ResourceClosedError):\n\u001b[32m   1816\u001b[39m     \u001b[38;5;28;01mraise\u001b[39;00m\n",
      "\u001b[36mFile \u001b[39m\u001b[32m~/opt/anaconda3/envs/koreasw/lib/python3.11/site-packages/sqlalchemy/engine/default.py:1419\u001b[39m, in \u001b[36mDefaultExecutionContext._init_compiled\u001b[39m\u001b[34m(cls, dialect, connection, dbapi_connection, execution_options, compiled, parameters, invoked_statement, extracted_parameters, cache_hit)\u001b[39m\n\u001b[32m   1415\u001b[39m             \u001b[38;5;28mself\u001b[39m.execute_style = ExecuteStyle.EXECUTEMANY\n\u001b[32m   1417\u001b[39m \u001b[38;5;28mself\u001b[39m.unicode_statement = compiled.string\n\u001b[32m-> \u001b[39m\u001b[32m1419\u001b[39m \u001b[38;5;28mself\u001b[39m.cursor = \u001b[38;5;28;43mself\u001b[39;49m\u001b[43m.\u001b[49m\u001b[43mcreate_cursor\u001b[49m\u001b[43m(\u001b[49m\u001b[43m)\u001b[49m\n\u001b[32m   1421\u001b[39m \u001b[38;5;28;01mif\u001b[39;00m \u001b[38;5;28mself\u001b[39m.compiled.insert_prefetch \u001b[38;5;129;01mor\u001b[39;00m \u001b[38;5;28mself\u001b[39m.compiled.update_prefetch:\n\u001b[32m   1422\u001b[39m     \u001b[38;5;28mself\u001b[39m._process_execute_defaults()\n",
      "\u001b[36mFile \u001b[39m\u001b[32m~/opt/anaconda3/envs/koreasw/lib/python3.11/site-packages/sqlalchemy/engine/default.py:1753\u001b[39m, in \u001b[36mDefaultExecutionContext.create_cursor\u001b[39m\u001b[34m(self)\u001b[39m\n\u001b[32m   1751\u001b[39m \u001b[38;5;28;01melse\u001b[39;00m:\n\u001b[32m   1752\u001b[39m     \u001b[38;5;28mself\u001b[39m._is_server_side = \u001b[38;5;28;01mFalse\u001b[39;00m\n\u001b[32m-> \u001b[39m\u001b[32m1753\u001b[39m     \u001b[38;5;28;01mreturn\u001b[39;00m \u001b[38;5;28;43mself\u001b[39;49m\u001b[43m.\u001b[49m\u001b[43mcreate_default_cursor\u001b[49m\u001b[43m(\u001b[49m\u001b[43m)\u001b[49m\n",
      "\u001b[36mFile \u001b[39m\u001b[32m~/opt/anaconda3/envs/koreasw/lib/python3.11/site-packages/sqlalchemy/engine/default.py:1759\u001b[39m, in \u001b[36mDefaultExecutionContext.create_default_cursor\u001b[39m\u001b[34m(self)\u001b[39m\n\u001b[32m   1758\u001b[39m \u001b[38;5;28;01mdef\u001b[39;00m\u001b[38;5;250m \u001b[39m\u001b[34mcreate_default_cursor\u001b[39m(\u001b[38;5;28mself\u001b[39m):\n\u001b[32m-> \u001b[39m\u001b[32m1759\u001b[39m     \u001b[38;5;28;01mreturn\u001b[39;00m \u001b[38;5;28;43mself\u001b[39;49m\u001b[43m.\u001b[49m\u001b[43m_dbapi_connection\u001b[49m\u001b[43m.\u001b[49m\u001b[43mcursor\u001b[49m\u001b[43m(\u001b[49m\u001b[43m)\u001b[49m\n",
      "\u001b[36mFile \u001b[39m\u001b[32m~/opt/anaconda3/envs/koreasw/lib/python3.11/site-packages/sqlalchemy/pool/base.py:1485\u001b[39m, in \u001b[36m_ConnectionFairy.cursor\u001b[39m\u001b[34m(self, *args, **kwargs)\u001b[39m\n\u001b[32m   1483\u001b[39m \u001b[38;5;28;01mdef\u001b[39;00m\u001b[38;5;250m \u001b[39m\u001b[34mcursor\u001b[39m(\u001b[38;5;28mself\u001b[39m, *args: Any, **kwargs: Any) -> DBAPICursor:\n\u001b[32m   1484\u001b[39m     \u001b[38;5;28;01massert\u001b[39;00m \u001b[38;5;28mself\u001b[39m.dbapi_connection \u001b[38;5;129;01mis\u001b[39;00m \u001b[38;5;129;01mnot\u001b[39;00m \u001b[38;5;28;01mNone\u001b[39;00m\n\u001b[32m-> \u001b[39m\u001b[32m1485\u001b[39m     \u001b[38;5;28;01mreturn\u001b[39;00m \u001b[38;5;28;43mself\u001b[39;49m\u001b[43m.\u001b[49m\u001b[43mdbapi_connection\u001b[49m\u001b[43m.\u001b[49m\u001b[43mcursor\u001b[49m\u001b[43m(\u001b[49m\u001b[43m*\u001b[49m\u001b[43margs\u001b[49m\u001b[43m,\u001b[49m\u001b[43m \u001b[49m\u001b[43m*\u001b[49m\u001b[43m*\u001b[49m\u001b[43mkwargs\u001b[49m\u001b[43m)\u001b[49m\n",
      "\u001b[31mProgrammingError\u001b[39m: (sqlite3.ProgrammingError) SQLite objects created in a thread can only be used in that same thread. The object was created in thread id 6214709248 and this is thread id 8229144640.\n[SQL: SELECT ph.pk AS ph_pk, ph.pfk AS ph_pfk, ph.hfk AS ph_hfk \nFROM ph]\n[parameters: [{}]]\n(Background on this error at: https://sqlalche.me/e/20/f405)"
     ]
    }
   ],
   "source": [
    "sess.query(PH).all()[0].fpk"
   ]
  },
  {
   "cell_type": "code",
   "execution_count": null,
   "metadata": {},
   "outputs": [],
   "source": [
    "ph1.post = p1\n",
    "ph1.tag = Hashtag(name='해시태그2')"
   ]
  },
  {
   "cell_type": "code",
   "execution_count": null,
   "metadata": {},
   "outputs": [],
   "source": [
    "sess.add(ph1)\n",
    "sess.commit()"
   ]
  },
  {
   "cell_type": "code",
   "execution_count": null,
   "metadata": {},
   "outputs": [],
   "source": [
    "ph1.post.content, ph1.tag.name"
   ]
  },
  {
   "cell_type": "code",
   "execution_count": null,
   "metadata": {},
   "outputs": [],
   "source": [
    "p1= sess.query(Post).filter(Post.pk == 1).one()"
   ]
  },
  {
   "cell_type": "code",
   "execution_count": null,
   "metadata": {},
   "outputs": [],
   "source": [
    "p1.tags[1].tag.name"
   ]
  },
  {
   "cell_type": "code",
   "execution_count": 213,
   "metadata": {},
   "outputs": [],
   "source": [
    "ph1 = PH()"
   ]
  },
  {
   "cell_type": "code",
   "execution_count": 214,
   "metadata": {},
   "outputs": [],
   "source": [
    "ph1.post = Post(content='내용1')\n",
    "ph1.tag = Hashtag(name='태그1')"
   ]
  },
  {
   "cell_type": "code",
   "execution_count": 215,
   "metadata": {},
   "outputs": [
    {
     "name": "stdout",
     "output_type": "stream",
     "text": [
      "2025-03-07 11:36:03,675 INFO sqlalchemy.engine.Engine BEGIN (implicit)\n",
      "2025-03-07 11:36:03,676 INFO sqlalchemy.engine.Engine INSERT INTO hashtag (name, count) VALUES (?, ?)\n",
      "2025-03-07 11:36:03,676 INFO sqlalchemy.engine.Engine [cached since 48.81s ago] ('태그1', 0)\n",
      "2025-03-07 11:36:03,676 INFO sqlalchemy.engine.Engine INSERT INTO post (content) VALUES (?)\n",
      "2025-03-07 11:36:03,676 INFO sqlalchemy.engine.Engine [cached since 51.75s ago] ('내용1',)\n",
      "2025-03-07 11:36:03,677 INFO sqlalchemy.engine.Engine INSERT INTO ph (pfk, hfk) VALUES (?, ?)\n",
      "2025-03-07 11:36:03,677 INFO sqlalchemy.engine.Engine [generated in 0.00020s] (2, 2)\n",
      "2025-03-07 11:36:03,678 INFO sqlalchemy.engine.Engine COMMIT\n"
     ]
    }
   ],
   "source": [
    "sess.add(ph1)\n",
    "sess.commit()"
   ]
  },
  {
   "cell_type": "code",
   "execution_count": 216,
   "metadata": {},
   "outputs": [
    {
     "ename": "ProgrammingError",
     "evalue": "(sqlite3.ProgrammingError) SQLite objects created in a thread can only be used in that same thread. The object was created in thread id 6214709248 and this is thread id 8229144640.\n[SQL: SELECT ph.pk AS ph_pk, ph.pfk AS ph_pfk, ph.hfk AS ph_hfk \nFROM ph \nWHERE ph.pk = ?]\n[parameters: [{'pk_1': 1}]]\n(Background on this error at: https://sqlalche.me/e/20/f405)",
     "output_type": "error",
     "traceback": [
      "\u001b[31m---------------------------------------------------------------------------\u001b[39m",
      "\u001b[31mProgrammingError\u001b[39m                          Traceback (most recent call last)",
      "\u001b[36mFile \u001b[39m\u001b[32m~/opt/anaconda3/envs/koreasw/lib/python3.11/site-packages/sqlalchemy/engine/base.py:1812\u001b[39m, in \u001b[36mConnection._execute_context\u001b[39m\u001b[34m(self, dialect, constructor, statement, parameters, execution_options, *args, **kw)\u001b[39m\n\u001b[32m   1810\u001b[39m         conn = \u001b[38;5;28mself\u001b[39m._revalidate_connection()\n\u001b[32m-> \u001b[39m\u001b[32m1812\u001b[39m     context = \u001b[43mconstructor\u001b[49m\u001b[43m(\u001b[49m\n\u001b[32m   1813\u001b[39m \u001b[43m        \u001b[49m\u001b[43mdialect\u001b[49m\u001b[43m,\u001b[49m\u001b[43m \u001b[49m\u001b[38;5;28;43mself\u001b[39;49m\u001b[43m,\u001b[49m\u001b[43m \u001b[49m\u001b[43mconn\u001b[49m\u001b[43m,\u001b[49m\u001b[43m \u001b[49m\u001b[43mexecution_options\u001b[49m\u001b[43m,\u001b[49m\u001b[43m \u001b[49m\u001b[43m*\u001b[49m\u001b[43margs\u001b[49m\u001b[43m,\u001b[49m\u001b[43m \u001b[49m\u001b[43m*\u001b[49m\u001b[43m*\u001b[49m\u001b[43mkw\u001b[49m\n\u001b[32m   1814\u001b[39m \u001b[43m    \u001b[49m\u001b[43m)\u001b[49m\n\u001b[32m   1815\u001b[39m \u001b[38;5;28;01mexcept\u001b[39;00m (exc.PendingRollbackError, exc.ResourceClosedError):\n",
      "\u001b[36mFile \u001b[39m\u001b[32m~/opt/anaconda3/envs/koreasw/lib/python3.11/site-packages/sqlalchemy/engine/default.py:1419\u001b[39m, in \u001b[36mDefaultExecutionContext._init_compiled\u001b[39m\u001b[34m(cls, dialect, connection, dbapi_connection, execution_options, compiled, parameters, invoked_statement, extracted_parameters, cache_hit)\u001b[39m\n\u001b[32m   1417\u001b[39m \u001b[38;5;28mself\u001b[39m.unicode_statement = compiled.string\n\u001b[32m-> \u001b[39m\u001b[32m1419\u001b[39m \u001b[38;5;28mself\u001b[39m.cursor = \u001b[38;5;28;43mself\u001b[39;49m\u001b[43m.\u001b[49m\u001b[43mcreate_cursor\u001b[49m\u001b[43m(\u001b[49m\u001b[43m)\u001b[49m\n\u001b[32m   1421\u001b[39m \u001b[38;5;28;01mif\u001b[39;00m \u001b[38;5;28mself\u001b[39m.compiled.insert_prefetch \u001b[38;5;129;01mor\u001b[39;00m \u001b[38;5;28mself\u001b[39m.compiled.update_prefetch:\n",
      "\u001b[36mFile \u001b[39m\u001b[32m~/opt/anaconda3/envs/koreasw/lib/python3.11/site-packages/sqlalchemy/engine/default.py:1753\u001b[39m, in \u001b[36mDefaultExecutionContext.create_cursor\u001b[39m\u001b[34m(self)\u001b[39m\n\u001b[32m   1752\u001b[39m \u001b[38;5;28mself\u001b[39m._is_server_side = \u001b[38;5;28;01mFalse\u001b[39;00m\n\u001b[32m-> \u001b[39m\u001b[32m1753\u001b[39m \u001b[38;5;28;01mreturn\u001b[39;00m \u001b[38;5;28;43mself\u001b[39;49m\u001b[43m.\u001b[49m\u001b[43mcreate_default_cursor\u001b[49m\u001b[43m(\u001b[49m\u001b[43m)\u001b[49m\n",
      "\u001b[36mFile \u001b[39m\u001b[32m~/opt/anaconda3/envs/koreasw/lib/python3.11/site-packages/sqlalchemy/engine/default.py:1759\u001b[39m, in \u001b[36mDefaultExecutionContext.create_default_cursor\u001b[39m\u001b[34m(self)\u001b[39m\n\u001b[32m   1758\u001b[39m \u001b[38;5;28;01mdef\u001b[39;00m\u001b[38;5;250m \u001b[39m\u001b[34mcreate_default_cursor\u001b[39m(\u001b[38;5;28mself\u001b[39m):\n\u001b[32m-> \u001b[39m\u001b[32m1759\u001b[39m     \u001b[38;5;28;01mreturn\u001b[39;00m \u001b[38;5;28;43mself\u001b[39;49m\u001b[43m.\u001b[49m\u001b[43m_dbapi_connection\u001b[49m\u001b[43m.\u001b[49m\u001b[43mcursor\u001b[49m\u001b[43m(\u001b[49m\u001b[43m)\u001b[49m\n",
      "\u001b[36mFile \u001b[39m\u001b[32m~/opt/anaconda3/envs/koreasw/lib/python3.11/site-packages/sqlalchemy/pool/base.py:1485\u001b[39m, in \u001b[36m_ConnectionFairy.cursor\u001b[39m\u001b[34m(self, *args, **kwargs)\u001b[39m\n\u001b[32m   1484\u001b[39m \u001b[38;5;28;01massert\u001b[39;00m \u001b[38;5;28mself\u001b[39m.dbapi_connection \u001b[38;5;129;01mis\u001b[39;00m \u001b[38;5;129;01mnot\u001b[39;00m \u001b[38;5;28;01mNone\u001b[39;00m\n\u001b[32m-> \u001b[39m\u001b[32m1485\u001b[39m \u001b[38;5;28;01mreturn\u001b[39;00m \u001b[38;5;28;43mself\u001b[39;49m\u001b[43m.\u001b[49m\u001b[43mdbapi_connection\u001b[49m\u001b[43m.\u001b[49m\u001b[43mcursor\u001b[49m\u001b[43m(\u001b[49m\u001b[43m*\u001b[49m\u001b[43margs\u001b[49m\u001b[43m,\u001b[49m\u001b[43m \u001b[49m\u001b[43m*\u001b[49m\u001b[43m*\u001b[49m\u001b[43mkwargs\u001b[49m\u001b[43m)\u001b[49m\n",
      "\u001b[31mProgrammingError\u001b[39m: SQLite objects created in a thread can only be used in that same thread. The object was created in thread id 6214709248 and this is thread id 8229144640.",
      "\nThe above exception was the direct cause of the following exception:\n",
      "\u001b[31mProgrammingError\u001b[39m                          Traceback (most recent call last)",
      "\u001b[36mCell\u001b[39m\u001b[36m \u001b[39m\u001b[32mIn[216]\u001b[39m\u001b[32m, line 1\u001b[39m\n\u001b[32m----> \u001b[39m\u001b[32m1\u001b[39m \u001b[43mph1\u001b[49m\u001b[43m.\u001b[49m\u001b[43mpost\u001b[49m.content, ph1.tag.name\n",
      "\u001b[36mFile \u001b[39m\u001b[32m~/opt/anaconda3/envs/koreasw/lib/python3.11/site-packages/sqlalchemy/orm/attributes.py:566\u001b[39m, in \u001b[36mInstrumentedAttribute.__get__\u001b[39m\u001b[34m(self, instance, owner)\u001b[39m\n\u001b[32m    564\u001b[39m \u001b[38;5;28;01mexcept\u001b[39;00m \u001b[38;5;167;01mAttributeError\u001b[39;00m \u001b[38;5;28;01mas\u001b[39;00m err:\n\u001b[32m    565\u001b[39m     \u001b[38;5;28;01mraise\u001b[39;00m orm_exc.UnmappedInstanceError(instance) \u001b[38;5;28;01mfrom\u001b[39;00m\u001b[38;5;250m \u001b[39m\u001b[34;01merr\u001b[39;00m\n\u001b[32m--> \u001b[39m\u001b[32m566\u001b[39m \u001b[38;5;28;01mreturn\u001b[39;00m \u001b[38;5;28;43mself\u001b[39;49m\u001b[43m.\u001b[49m\u001b[43mimpl\u001b[49m\u001b[43m.\u001b[49m\u001b[43mget\u001b[49m\u001b[43m(\u001b[49m\u001b[43mstate\u001b[49m\u001b[43m,\u001b[49m\u001b[43m \u001b[49m\u001b[43mdict_\u001b[49m\u001b[43m)\u001b[49m\n",
      "\u001b[36mFile \u001b[39m\u001b[32m~/opt/anaconda3/envs/koreasw/lib/python3.11/site-packages/sqlalchemy/orm/attributes.py:1086\u001b[39m, in \u001b[36mAttributeImpl.get\u001b[39m\u001b[34m(self, state, dict_, passive)\u001b[39m\n\u001b[32m   1083\u001b[39m \u001b[38;5;28;01mif\u001b[39;00m \u001b[38;5;129;01mnot\u001b[39;00m passive & CALLABLES_OK:\n\u001b[32m   1084\u001b[39m     \u001b[38;5;28;01mreturn\u001b[39;00m PASSIVE_NO_RESULT\n\u001b[32m-> \u001b[39m\u001b[32m1086\u001b[39m value = \u001b[38;5;28;43mself\u001b[39;49m\u001b[43m.\u001b[49m\u001b[43m_fire_loader_callables\u001b[49m\u001b[43m(\u001b[49m\u001b[43mstate\u001b[49m\u001b[43m,\u001b[49m\u001b[43m \u001b[49m\u001b[43mkey\u001b[49m\u001b[43m,\u001b[49m\u001b[43m \u001b[49m\u001b[43mpassive\u001b[49m\u001b[43m)\u001b[49m\n\u001b[32m   1088\u001b[39m \u001b[38;5;28;01mif\u001b[39;00m value \u001b[38;5;129;01mis\u001b[39;00m PASSIVE_NO_RESULT \u001b[38;5;129;01mor\u001b[39;00m value \u001b[38;5;129;01mis\u001b[39;00m NO_VALUE:\n\u001b[32m   1089\u001b[39m     \u001b[38;5;28;01mreturn\u001b[39;00m value\n",
      "\u001b[36mFile \u001b[39m\u001b[32m~/opt/anaconda3/envs/koreasw/lib/python3.11/site-packages/sqlalchemy/orm/attributes.py:1121\u001b[39m, in \u001b[36mAttributeImpl._fire_loader_callables\u001b[39m\u001b[34m(self, state, key, passive)\u001b[39m\n\u001b[32m   1119\u001b[39m     \u001b[38;5;28;01mreturn\u001b[39;00m callable_(state, passive)\n\u001b[32m   1120\u001b[39m \u001b[38;5;28;01melif\u001b[39;00m \u001b[38;5;28mself\u001b[39m.callable_:\n\u001b[32m-> \u001b[39m\u001b[32m1121\u001b[39m     \u001b[38;5;28;01mreturn\u001b[39;00m \u001b[38;5;28;43mself\u001b[39;49m\u001b[43m.\u001b[49m\u001b[43mcallable_\u001b[49m\u001b[43m(\u001b[49m\u001b[43mstate\u001b[49m\u001b[43m,\u001b[49m\u001b[43m \u001b[49m\u001b[43mpassive\u001b[49m\u001b[43m)\u001b[49m\n\u001b[32m   1122\u001b[39m \u001b[38;5;28;01melse\u001b[39;00m:\n\u001b[32m   1123\u001b[39m     \u001b[38;5;28;01mreturn\u001b[39;00m ATTR_EMPTY\n",
      "\u001b[36mFile \u001b[39m\u001b[32m~/opt/anaconda3/envs/koreasw/lib/python3.11/site-packages/sqlalchemy/orm/strategies.py:931\u001b[39m, in \u001b[36mLazyLoader._load_for_state\u001b[39m\u001b[34m(self, state, passive, loadopt, extra_criteria, extra_options, alternate_effective_path, execution_options)\u001b[39m\n\u001b[32m    928\u001b[39m \u001b[38;5;66;03m# if we have a simple primary key load, check the\u001b[39;00m\n\u001b[32m    929\u001b[39m \u001b[38;5;66;03m# identity map without generating a Query at all\u001b[39;00m\n\u001b[32m    930\u001b[39m \u001b[38;5;28;01mif\u001b[39;00m use_get:\n\u001b[32m--> \u001b[39m\u001b[32m931\u001b[39m     primary_key_identity = \u001b[38;5;28;43mself\u001b[39;49m\u001b[43m.\u001b[49m\u001b[43m_get_ident_for_use_get\u001b[49m\u001b[43m(\u001b[49m\n\u001b[32m    932\u001b[39m \u001b[43m        \u001b[49m\u001b[43msession\u001b[49m\u001b[43m,\u001b[49m\u001b[43m \u001b[49m\u001b[43mstate\u001b[49m\u001b[43m,\u001b[49m\u001b[43m \u001b[49m\u001b[43mpassive\u001b[49m\n\u001b[32m    933\u001b[39m \u001b[43m    \u001b[49m\u001b[43m)\u001b[49m\n\u001b[32m    934\u001b[39m     \u001b[38;5;28;01mif\u001b[39;00m LoaderCallableStatus.PASSIVE_NO_RESULT \u001b[38;5;129;01min\u001b[39;00m primary_key_identity:\n\u001b[32m    935\u001b[39m         \u001b[38;5;28;01mreturn\u001b[39;00m LoaderCallableStatus.PASSIVE_NO_RESULT\n",
      "\u001b[36mFile \u001b[39m\u001b[32m~/opt/anaconda3/envs/koreasw/lib/python3.11/site-packages/sqlalchemy/orm/strategies.py:1000\u001b[39m, in \u001b[36mLazyLoader._get_ident_for_use_get\u001b[39m\u001b[34m(self, session, state, passive)\u001b[39m\n\u001b[32m    996\u001b[39m     get_attr = instance_mapper._get_state_attr_by_column\n\u001b[32m    998\u001b[39m dict_ = state.dict\n\u001b[32m-> \u001b[39m\u001b[32m1000\u001b[39m \u001b[38;5;28;01mreturn\u001b[39;00m \u001b[43m[\u001b[49m\n\u001b[32m   1001\u001b[39m \u001b[43m    \u001b[49m\u001b[43mget_attr\u001b[49m\u001b[43m(\u001b[49m\u001b[43mstate\u001b[49m\u001b[43m,\u001b[49m\u001b[43m \u001b[49m\u001b[43mdict_\u001b[49m\u001b[43m,\u001b[49m\u001b[43m \u001b[49m\u001b[38;5;28;43mself\u001b[39;49m\u001b[43m.\u001b[49m\u001b[43m_equated_columns\u001b[49m\u001b[43m[\u001b[49m\u001b[43mpk\u001b[49m\u001b[43m]\u001b[49m\u001b[43m,\u001b[49m\u001b[43m \u001b[49m\u001b[43mpassive\u001b[49m\u001b[43m=\u001b[49m\u001b[43mpassive\u001b[49m\u001b[43m)\u001b[49m\n\u001b[32m   1002\u001b[39m \u001b[43m    \u001b[49m\u001b[38;5;28;43;01mfor\u001b[39;49;00m\u001b[43m \u001b[49m\u001b[43mpk\u001b[49m\u001b[43m \u001b[49m\u001b[38;5;129;43;01min\u001b[39;49;00m\u001b[43m \u001b[49m\u001b[38;5;28;43mself\u001b[39;49m\u001b[43m.\u001b[49m\u001b[43mmapper\u001b[49m\u001b[43m.\u001b[49m\u001b[43mprimary_key\u001b[49m\n\u001b[32m   1003\u001b[39m \u001b[43m\u001b[49m\u001b[43m]\u001b[49m\n",
      "\u001b[36mFile \u001b[39m\u001b[32m~/opt/anaconda3/envs/koreasw/lib/python3.11/site-packages/sqlalchemy/orm/strategies.py:1001\u001b[39m, in \u001b[36m<listcomp>\u001b[39m\u001b[34m(.0)\u001b[39m\n\u001b[32m    996\u001b[39m     get_attr = instance_mapper._get_state_attr_by_column\n\u001b[32m    998\u001b[39m dict_ = state.dict\n\u001b[32m   1000\u001b[39m \u001b[38;5;28;01mreturn\u001b[39;00m [\n\u001b[32m-> \u001b[39m\u001b[32m1001\u001b[39m     \u001b[43mget_attr\u001b[49m\u001b[43m(\u001b[49m\u001b[43mstate\u001b[49m\u001b[43m,\u001b[49m\u001b[43m \u001b[49m\u001b[43mdict_\u001b[49m\u001b[43m,\u001b[49m\u001b[43m \u001b[49m\u001b[38;5;28;43mself\u001b[39;49m\u001b[43m.\u001b[49m\u001b[43m_equated_columns\u001b[49m\u001b[43m[\u001b[49m\u001b[43mpk\u001b[49m\u001b[43m]\u001b[49m\u001b[43m,\u001b[49m\u001b[43m \u001b[49m\u001b[43mpassive\u001b[49m\u001b[43m=\u001b[49m\u001b[43mpassive\u001b[49m\u001b[43m)\u001b[49m\n\u001b[32m   1002\u001b[39m     \u001b[38;5;28;01mfor\u001b[39;00m pk \u001b[38;5;129;01min\u001b[39;00m \u001b[38;5;28mself\u001b[39m.mapper.primary_key\n\u001b[32m   1003\u001b[39m ]\n",
      "\u001b[36mFile \u001b[39m\u001b[32m~/opt/anaconda3/envs/koreasw/lib/python3.11/site-packages/sqlalchemy/orm/mapper.py:3589\u001b[39m, in \u001b[36mMapper._get_state_attr_by_column\u001b[39m\u001b[34m(self, state, dict_, column, passive)\u001b[39m\n\u001b[32m   3581\u001b[39m \u001b[38;5;28;01mdef\u001b[39;00m\u001b[38;5;250m \u001b[39m\u001b[34m_get_state_attr_by_column\u001b[39m(\n\u001b[32m   3582\u001b[39m     \u001b[38;5;28mself\u001b[39m,\n\u001b[32m   3583\u001b[39m     state: InstanceState[_O],\n\u001b[32m   (...)\u001b[39m\u001b[32m   3586\u001b[39m     passive: PassiveFlag = PassiveFlag.PASSIVE_RETURN_NO_VALUE,\n\u001b[32m   3587\u001b[39m ) -> Any:\n\u001b[32m   3588\u001b[39m     prop = \u001b[38;5;28mself\u001b[39m._columntoproperty[column]\n\u001b[32m-> \u001b[39m\u001b[32m3589\u001b[39m     \u001b[38;5;28;01mreturn\u001b[39;00m \u001b[43mstate\u001b[49m\u001b[43m.\u001b[49m\u001b[43mmanager\u001b[49m\u001b[43m[\u001b[49m\u001b[43mprop\u001b[49m\u001b[43m.\u001b[49m\u001b[43mkey\u001b[49m\u001b[43m]\u001b[49m\u001b[43m.\u001b[49m\u001b[43mimpl\u001b[49m\u001b[43m.\u001b[49m\u001b[43mget\u001b[49m\u001b[43m(\u001b[49m\u001b[43mstate\u001b[49m\u001b[43m,\u001b[49m\u001b[43m \u001b[49m\u001b[43mdict_\u001b[49m\u001b[43m,\u001b[49m\u001b[43m \u001b[49m\u001b[43mpassive\u001b[49m\u001b[43m=\u001b[49m\u001b[43mpassive\u001b[49m\u001b[43m)\u001b[49m\n",
      "\u001b[36mFile \u001b[39m\u001b[32m~/opt/anaconda3/envs/koreasw/lib/python3.11/site-packages/sqlalchemy/orm/attributes.py:1086\u001b[39m, in \u001b[36mAttributeImpl.get\u001b[39m\u001b[34m(self, state, dict_, passive)\u001b[39m\n\u001b[32m   1083\u001b[39m \u001b[38;5;28;01mif\u001b[39;00m \u001b[38;5;129;01mnot\u001b[39;00m passive & CALLABLES_OK:\n\u001b[32m   1084\u001b[39m     \u001b[38;5;28;01mreturn\u001b[39;00m PASSIVE_NO_RESULT\n\u001b[32m-> \u001b[39m\u001b[32m1086\u001b[39m value = \u001b[38;5;28;43mself\u001b[39;49m\u001b[43m.\u001b[49m\u001b[43m_fire_loader_callables\u001b[49m\u001b[43m(\u001b[49m\u001b[43mstate\u001b[49m\u001b[43m,\u001b[49m\u001b[43m \u001b[49m\u001b[43mkey\u001b[49m\u001b[43m,\u001b[49m\u001b[43m \u001b[49m\u001b[43mpassive\u001b[49m\u001b[43m)\u001b[49m\n\u001b[32m   1088\u001b[39m \u001b[38;5;28;01mif\u001b[39;00m value \u001b[38;5;129;01mis\u001b[39;00m PASSIVE_NO_RESULT \u001b[38;5;129;01mor\u001b[39;00m value \u001b[38;5;129;01mis\u001b[39;00m NO_VALUE:\n\u001b[32m   1089\u001b[39m     \u001b[38;5;28;01mreturn\u001b[39;00m value\n",
      "\u001b[36mFile \u001b[39m\u001b[32m~/opt/anaconda3/envs/koreasw/lib/python3.11/site-packages/sqlalchemy/orm/attributes.py:1116\u001b[39m, in \u001b[36mAttributeImpl._fire_loader_callables\u001b[39m\u001b[34m(self, state, key, passive)\u001b[39m\n\u001b[32m   1108\u001b[39m \u001b[38;5;28;01mdef\u001b[39;00m\u001b[38;5;250m \u001b[39m\u001b[34m_fire_loader_callables\u001b[39m(\n\u001b[32m   1109\u001b[39m     \u001b[38;5;28mself\u001b[39m, state: InstanceState[Any], key: \u001b[38;5;28mstr\u001b[39m, passive: PassiveFlag\n\u001b[32m   1110\u001b[39m ) -> Any:\n\u001b[32m   1111\u001b[39m     \u001b[38;5;28;01mif\u001b[39;00m (\n\u001b[32m   1112\u001b[39m         \u001b[38;5;28mself\u001b[39m.accepts_scalar_loader\n\u001b[32m   1113\u001b[39m         \u001b[38;5;129;01mand\u001b[39;00m \u001b[38;5;28mself\u001b[39m.load_on_unexpire\n\u001b[32m   1114\u001b[39m         \u001b[38;5;129;01mand\u001b[39;00m key \u001b[38;5;129;01min\u001b[39;00m state.expired_attributes\n\u001b[32m   1115\u001b[39m     ):\n\u001b[32m-> \u001b[39m\u001b[32m1116\u001b[39m         \u001b[38;5;28;01mreturn\u001b[39;00m \u001b[43mstate\u001b[49m\u001b[43m.\u001b[49m\u001b[43m_load_expired\u001b[49m\u001b[43m(\u001b[49m\u001b[43mstate\u001b[49m\u001b[43m,\u001b[49m\u001b[43m \u001b[49m\u001b[43mpassive\u001b[49m\u001b[43m)\u001b[49m\n\u001b[32m   1117\u001b[39m     \u001b[38;5;28;01melif\u001b[39;00m key \u001b[38;5;129;01min\u001b[39;00m state.callables:\n\u001b[32m   1118\u001b[39m         callable_ = state.callables[key]\n",
      "\u001b[36mFile \u001b[39m\u001b[32m~/opt/anaconda3/envs/koreasw/lib/python3.11/site-packages/sqlalchemy/orm/state.py:803\u001b[39m, in \u001b[36mInstanceState._load_expired\u001b[39m\u001b[34m(self, state, passive)\u001b[39m\n\u001b[32m    796\u001b[39m toload = \u001b[38;5;28mself\u001b[39m.expired_attributes.intersection(\u001b[38;5;28mself\u001b[39m.unmodified)\n\u001b[32m    797\u001b[39m toload = toload.difference(\n\u001b[32m    798\u001b[39m     attr\n\u001b[32m    799\u001b[39m     \u001b[38;5;28;01mfor\u001b[39;00m attr \u001b[38;5;129;01min\u001b[39;00m toload\n\u001b[32m    800\u001b[39m     \u001b[38;5;28;01mif\u001b[39;00m \u001b[38;5;129;01mnot\u001b[39;00m \u001b[38;5;28mself\u001b[39m.manager[attr].impl.load_on_unexpire\n\u001b[32m    801\u001b[39m )\n\u001b[32m--> \u001b[39m\u001b[32m803\u001b[39m \u001b[38;5;28;43mself\u001b[39;49m\u001b[43m.\u001b[49m\u001b[43mmanager\u001b[49m\u001b[43m.\u001b[49m\u001b[43mexpired_attribute_loader\u001b[49m\u001b[43m(\u001b[49m\u001b[38;5;28;43mself\u001b[39;49m\u001b[43m,\u001b[49m\u001b[43m \u001b[49m\u001b[43mtoload\u001b[49m\u001b[43m,\u001b[49m\u001b[43m \u001b[49m\u001b[43mpassive\u001b[49m\u001b[43m)\u001b[49m\n\u001b[32m    805\u001b[39m \u001b[38;5;66;03m# if the loader failed, or this\u001b[39;00m\n\u001b[32m    806\u001b[39m \u001b[38;5;66;03m# instance state didn't have an identity,\u001b[39;00m\n\u001b[32m    807\u001b[39m \u001b[38;5;66;03m# the attributes still might be in the callables\u001b[39;00m\n\u001b[32m    808\u001b[39m \u001b[38;5;66;03m# dict.  ensure they are removed.\u001b[39;00m\n\u001b[32m    809\u001b[39m \u001b[38;5;28mself\u001b[39m.expired_attributes.clear()\n",
      "\u001b[36mFile \u001b[39m\u001b[32m~/opt/anaconda3/envs/koreasw/lib/python3.11/site-packages/sqlalchemy/orm/loading.py:1670\u001b[39m, in \u001b[36mload_scalar_attributes\u001b[39m\u001b[34m(mapper, state, attribute_names, passive)\u001b[39m\n\u001b[32m   1662\u001b[39m     util.warn_limited(\n\u001b[32m   1663\u001b[39m         \u001b[33m\"\u001b[39m\u001b[33mInstance \u001b[39m\u001b[38;5;132;01m%s\u001b[39;00m\u001b[33m to be refreshed doesn\u001b[39m\u001b[33m'\u001b[39m\u001b[33mt \u001b[39m\u001b[33m\"\u001b[39m\n\u001b[32m   1664\u001b[39m         \u001b[33m\"\u001b[39m\u001b[33mcontain a full primary key - can\u001b[39m\u001b[33m'\u001b[39m\u001b[33mt be refreshed \u001b[39m\u001b[33m\"\u001b[39m\n\u001b[32m   1665\u001b[39m         \u001b[33m\"\u001b[39m\u001b[33m(and shouldn\u001b[39m\u001b[33m'\u001b[39m\u001b[33mt be expired, either).\u001b[39m\u001b[33m\"\u001b[39m,\n\u001b[32m   1666\u001b[39m         state_str(state),\n\u001b[32m   1667\u001b[39m     )\n\u001b[32m   1668\u001b[39m     \u001b[38;5;28;01mreturn\u001b[39;00m\n\u001b[32m-> \u001b[39m\u001b[32m1670\u001b[39m result = \u001b[43mload_on_ident\u001b[49m\u001b[43m(\u001b[49m\n\u001b[32m   1671\u001b[39m \u001b[43m    \u001b[49m\u001b[43msession\u001b[49m\u001b[43m,\u001b[49m\n\u001b[32m   1672\u001b[39m \u001b[43m    \u001b[49m\u001b[43mselect\u001b[49m\u001b[43m(\u001b[49m\u001b[43mmapper\u001b[49m\u001b[43m)\u001b[49m\u001b[43m.\u001b[49m\u001b[43mset_label_style\u001b[49m\u001b[43m(\u001b[49m\u001b[43mLABEL_STYLE_TABLENAME_PLUS_COL\u001b[49m\u001b[43m)\u001b[49m\u001b[43m,\u001b[49m\n\u001b[32m   1673\u001b[39m \u001b[43m    \u001b[49m\u001b[43midentity_key\u001b[49m\u001b[43m,\u001b[49m\n\u001b[32m   1674\u001b[39m \u001b[43m    \u001b[49m\u001b[43mrefresh_state\u001b[49m\u001b[43m=\u001b[49m\u001b[43mstate\u001b[49m\u001b[43m,\u001b[49m\n\u001b[32m   1675\u001b[39m \u001b[43m    \u001b[49m\u001b[43monly_load_props\u001b[49m\u001b[43m=\u001b[49m\u001b[43mattribute_names\u001b[49m\u001b[43m,\u001b[49m\n\u001b[32m   1676\u001b[39m \u001b[43m    \u001b[49m\u001b[43mno_autoflush\u001b[49m\u001b[43m=\u001b[49m\u001b[43mno_autoflush\u001b[49m\u001b[43m,\u001b[49m\n\u001b[32m   1677\u001b[39m \u001b[43m\u001b[49m\u001b[43m)\u001b[49m\n\u001b[32m   1679\u001b[39m \u001b[38;5;66;03m# if instance is pending, a refresh operation\u001b[39;00m\n\u001b[32m   1680\u001b[39m \u001b[38;5;66;03m# may not complete (even if PK attributes are assigned)\u001b[39;00m\n\u001b[32m   1681\u001b[39m \u001b[38;5;28;01mif\u001b[39;00m has_key \u001b[38;5;129;01mand\u001b[39;00m result \u001b[38;5;129;01mis\u001b[39;00m \u001b[38;5;28;01mNone\u001b[39;00m:\n",
      "\u001b[36mFile \u001b[39m\u001b[32m~/opt/anaconda3/envs/koreasw/lib/python3.11/site-packages/sqlalchemy/orm/loading.py:509\u001b[39m, in \u001b[36mload_on_ident\u001b[39m\u001b[34m(session, statement, key, load_options, refresh_state, with_for_update, only_load_props, no_autoflush, bind_arguments, execution_options, require_pk_cols, is_user_refresh)\u001b[39m\n\u001b[32m    506\u001b[39m \u001b[38;5;28;01melse\u001b[39;00m:\n\u001b[32m    507\u001b[39m     ident = identity_token = \u001b[38;5;28;01mNone\u001b[39;00m\n\u001b[32m--> \u001b[39m\u001b[32m509\u001b[39m \u001b[38;5;28;01mreturn\u001b[39;00m \u001b[43mload_on_pk_identity\u001b[49m\u001b[43m(\u001b[49m\n\u001b[32m    510\u001b[39m \u001b[43m    \u001b[49m\u001b[43msession\u001b[49m\u001b[43m,\u001b[49m\n\u001b[32m    511\u001b[39m \u001b[43m    \u001b[49m\u001b[43mstatement\u001b[49m\u001b[43m,\u001b[49m\n\u001b[32m    512\u001b[39m \u001b[43m    \u001b[49m\u001b[43mident\u001b[49m\u001b[43m,\u001b[49m\n\u001b[32m    513\u001b[39m \u001b[43m    \u001b[49m\u001b[43mload_options\u001b[49m\u001b[43m=\u001b[49m\u001b[43mload_options\u001b[49m\u001b[43m,\u001b[49m\n\u001b[32m    514\u001b[39m \u001b[43m    \u001b[49m\u001b[43mrefresh_state\u001b[49m\u001b[43m=\u001b[49m\u001b[43mrefresh_state\u001b[49m\u001b[43m,\u001b[49m\n\u001b[32m    515\u001b[39m \u001b[43m    \u001b[49m\u001b[43mwith_for_update\u001b[49m\u001b[43m=\u001b[49m\u001b[43mwith_for_update\u001b[49m\u001b[43m,\u001b[49m\n\u001b[32m    516\u001b[39m \u001b[43m    \u001b[49m\u001b[43monly_load_props\u001b[49m\u001b[43m=\u001b[49m\u001b[43monly_load_props\u001b[49m\u001b[43m,\u001b[49m\n\u001b[32m    517\u001b[39m \u001b[43m    \u001b[49m\u001b[43midentity_token\u001b[49m\u001b[43m=\u001b[49m\u001b[43midentity_token\u001b[49m\u001b[43m,\u001b[49m\n\u001b[32m    518\u001b[39m \u001b[43m    \u001b[49m\u001b[43mno_autoflush\u001b[49m\u001b[43m=\u001b[49m\u001b[43mno_autoflush\u001b[49m\u001b[43m,\u001b[49m\n\u001b[32m    519\u001b[39m \u001b[43m    \u001b[49m\u001b[43mbind_arguments\u001b[49m\u001b[43m=\u001b[49m\u001b[43mbind_arguments\u001b[49m\u001b[43m,\u001b[49m\n\u001b[32m    520\u001b[39m \u001b[43m    \u001b[49m\u001b[43mexecution_options\u001b[49m\u001b[43m=\u001b[49m\u001b[43mexecution_options\u001b[49m\u001b[43m,\u001b[49m\n\u001b[32m    521\u001b[39m \u001b[43m    \u001b[49m\u001b[43mrequire_pk_cols\u001b[49m\u001b[43m=\u001b[49m\u001b[43mrequire_pk_cols\u001b[49m\u001b[43m,\u001b[49m\n\u001b[32m    522\u001b[39m \u001b[43m    \u001b[49m\u001b[43mis_user_refresh\u001b[49m\u001b[43m=\u001b[49m\u001b[43mis_user_refresh\u001b[49m\u001b[43m,\u001b[49m\n\u001b[32m    523\u001b[39m \u001b[43m\u001b[49m\u001b[43m)\u001b[49m\n",
      "\u001b[36mFile \u001b[39m\u001b[32m~/opt/anaconda3/envs/koreasw/lib/python3.11/site-packages/sqlalchemy/orm/loading.py:694\u001b[39m, in \u001b[36mload_on_pk_identity\u001b[39m\u001b[34m(session, statement, primary_key_identity, load_options, refresh_state, with_for_update, only_load_props, identity_token, no_autoflush, bind_arguments, execution_options, require_pk_cols, is_user_refresh)\u001b[39m\n\u001b[32m    688\u001b[39m     load_options += {\u001b[33m\"\u001b[39m\u001b[33m_autoflush\u001b[39m\u001b[33m\"\u001b[39m: \u001b[38;5;28;01mFalse\u001b[39;00m}\n\u001b[32m    690\u001b[39m execution_options = util.EMPTY_DICT.merge_with(\n\u001b[32m    691\u001b[39m     execution_options, {\u001b[33m\"\u001b[39m\u001b[33m_sa_orm_load_options\u001b[39m\u001b[33m\"\u001b[39m: load_options}\n\u001b[32m    692\u001b[39m )\n\u001b[32m    693\u001b[39m result = (\n\u001b[32m--> \u001b[39m\u001b[32m694\u001b[39m     \u001b[43msession\u001b[49m\u001b[43m.\u001b[49m\u001b[43mexecute\u001b[49m\u001b[43m(\u001b[49m\n\u001b[32m    695\u001b[39m \u001b[43m        \u001b[49m\u001b[43mq\u001b[49m\u001b[43m,\u001b[49m\n\u001b[32m    696\u001b[39m \u001b[43m        \u001b[49m\u001b[43mparams\u001b[49m\u001b[43m=\u001b[49m\u001b[43mparams\u001b[49m\u001b[43m,\u001b[49m\n\u001b[32m    697\u001b[39m \u001b[43m        \u001b[49m\u001b[43mexecution_options\u001b[49m\u001b[43m=\u001b[49m\u001b[43mexecution_options\u001b[49m\u001b[43m,\u001b[49m\n\u001b[32m    698\u001b[39m \u001b[43m        \u001b[49m\u001b[43mbind_arguments\u001b[49m\u001b[43m=\u001b[49m\u001b[43mbind_arguments\u001b[49m\u001b[43m,\u001b[49m\n\u001b[32m    699\u001b[39m \u001b[43m    \u001b[49m\u001b[43m)\u001b[49m\n\u001b[32m    700\u001b[39m     .unique()\n\u001b[32m    701\u001b[39m     .scalars()\n\u001b[32m    702\u001b[39m )\n\u001b[32m    704\u001b[39m \u001b[38;5;28;01mtry\u001b[39;00m:\n\u001b[32m    705\u001b[39m     \u001b[38;5;28;01mreturn\u001b[39;00m result.one()\n",
      "\u001b[36mFile \u001b[39m\u001b[32m~/opt/anaconda3/envs/koreasw/lib/python3.11/site-packages/sqlalchemy/orm/session.py:2365\u001b[39m, in \u001b[36mSession.execute\u001b[39m\u001b[34m(self, statement, params, execution_options, bind_arguments, _parent_execute_state, _add_event)\u001b[39m\n\u001b[32m   2305\u001b[39m \u001b[38;5;28;01mdef\u001b[39;00m\u001b[38;5;250m \u001b[39m\u001b[34mexecute\u001b[39m(\n\u001b[32m   2306\u001b[39m     \u001b[38;5;28mself\u001b[39m,\n\u001b[32m   2307\u001b[39m     statement: Executable,\n\u001b[32m   (...)\u001b[39m\u001b[32m   2313\u001b[39m     _add_event: Optional[Any] = \u001b[38;5;28;01mNone\u001b[39;00m,\n\u001b[32m   2314\u001b[39m ) -> Result[Any]:\n\u001b[32m   2315\u001b[39m \u001b[38;5;250m    \u001b[39m\u001b[33mr\u001b[39m\u001b[33;03m\"\"\"Execute a SQL expression construct.\u001b[39;00m\n\u001b[32m   2316\u001b[39m \n\u001b[32m   2317\u001b[39m \u001b[33;03m    Returns a :class:`_engine.Result` object representing\u001b[39;00m\n\u001b[32m   (...)\u001b[39m\u001b[32m   2363\u001b[39m \n\u001b[32m   2364\u001b[39m \u001b[33;03m    \"\"\"\u001b[39;00m\n\u001b[32m-> \u001b[39m\u001b[32m2365\u001b[39m     \u001b[38;5;28;01mreturn\u001b[39;00m \u001b[38;5;28;43mself\u001b[39;49m\u001b[43m.\u001b[49m\u001b[43m_execute_internal\u001b[49m\u001b[43m(\u001b[49m\n\u001b[32m   2366\u001b[39m \u001b[43m        \u001b[49m\u001b[43mstatement\u001b[49m\u001b[43m,\u001b[49m\n\u001b[32m   2367\u001b[39m \u001b[43m        \u001b[49m\u001b[43mparams\u001b[49m\u001b[43m,\u001b[49m\n\u001b[32m   2368\u001b[39m \u001b[43m        \u001b[49m\u001b[43mexecution_options\u001b[49m\u001b[43m=\u001b[49m\u001b[43mexecution_options\u001b[49m\u001b[43m,\u001b[49m\n\u001b[32m   2369\u001b[39m \u001b[43m        \u001b[49m\u001b[43mbind_arguments\u001b[49m\u001b[43m=\u001b[49m\u001b[43mbind_arguments\u001b[49m\u001b[43m,\u001b[49m\n\u001b[32m   2370\u001b[39m \u001b[43m        \u001b[49m\u001b[43m_parent_execute_state\u001b[49m\u001b[43m=\u001b[49m\u001b[43m_parent_execute_state\u001b[49m\u001b[43m,\u001b[49m\n\u001b[32m   2371\u001b[39m \u001b[43m        \u001b[49m\u001b[43m_add_event\u001b[49m\u001b[43m=\u001b[49m\u001b[43m_add_event\u001b[49m\u001b[43m,\u001b[49m\n\u001b[32m   2372\u001b[39m \u001b[43m    \u001b[49m\u001b[43m)\u001b[49m\n",
      "\u001b[36mFile \u001b[39m\u001b[32m~/opt/anaconda3/envs/koreasw/lib/python3.11/site-packages/sqlalchemy/orm/session.py:2251\u001b[39m, in \u001b[36mSession._execute_internal\u001b[39m\u001b[34m(self, statement, params, execution_options, bind_arguments, _parent_execute_state, _add_event, _scalar_result)\u001b[39m\n\u001b[32m   2246\u001b[39m     \u001b[38;5;28;01mreturn\u001b[39;00m conn.scalar(\n\u001b[32m   2247\u001b[39m         statement, params \u001b[38;5;129;01mor\u001b[39;00m {}, execution_options=execution_options\n\u001b[32m   2248\u001b[39m     )\n\u001b[32m   2250\u001b[39m \u001b[38;5;28;01mif\u001b[39;00m compile_state_cls:\n\u001b[32m-> \u001b[39m\u001b[32m2251\u001b[39m     result: Result[Any] = \u001b[43mcompile_state_cls\u001b[49m\u001b[43m.\u001b[49m\u001b[43morm_execute_statement\u001b[49m\u001b[43m(\u001b[49m\n\u001b[32m   2252\u001b[39m \u001b[43m        \u001b[49m\u001b[38;5;28;43mself\u001b[39;49m\u001b[43m,\u001b[49m\n\u001b[32m   2253\u001b[39m \u001b[43m        \u001b[49m\u001b[43mstatement\u001b[49m\u001b[43m,\u001b[49m\n\u001b[32m   2254\u001b[39m \u001b[43m        \u001b[49m\u001b[43mparams\u001b[49m\u001b[43m \u001b[49m\u001b[38;5;129;43;01mor\u001b[39;49;00m\u001b[43m \u001b[49m\u001b[43m{\u001b[49m\u001b[43m}\u001b[49m\u001b[43m,\u001b[49m\n\u001b[32m   2255\u001b[39m \u001b[43m        \u001b[49m\u001b[43mexecution_options\u001b[49m\u001b[43m,\u001b[49m\n\u001b[32m   2256\u001b[39m \u001b[43m        \u001b[49m\u001b[43mbind_arguments\u001b[49m\u001b[43m,\u001b[49m\n\u001b[32m   2257\u001b[39m \u001b[43m        \u001b[49m\u001b[43mconn\u001b[49m\u001b[43m,\u001b[49m\n\u001b[32m   2258\u001b[39m \u001b[43m    \u001b[49m\u001b[43m)\u001b[49m\n\u001b[32m   2259\u001b[39m \u001b[38;5;28;01melse\u001b[39;00m:\n\u001b[32m   2260\u001b[39m     result = conn.execute(\n\u001b[32m   2261\u001b[39m         statement, params \u001b[38;5;129;01mor\u001b[39;00m {}, execution_options=execution_options\n\u001b[32m   2262\u001b[39m     )\n",
      "\u001b[36mFile \u001b[39m\u001b[32m~/opt/anaconda3/envs/koreasw/lib/python3.11/site-packages/sqlalchemy/orm/context.py:305\u001b[39m, in \u001b[36mAbstractORMCompileState.orm_execute_statement\u001b[39m\u001b[34m(cls, session, statement, params, execution_options, bind_arguments, conn)\u001b[39m\n\u001b[32m    295\u001b[39m \u001b[38;5;129m@classmethod\u001b[39m\n\u001b[32m    296\u001b[39m \u001b[38;5;28;01mdef\u001b[39;00m\u001b[38;5;250m \u001b[39m\u001b[34morm_execute_statement\u001b[39m(\n\u001b[32m    297\u001b[39m     \u001b[38;5;28mcls\u001b[39m,\n\u001b[32m   (...)\u001b[39m\u001b[32m    303\u001b[39m     conn,\n\u001b[32m    304\u001b[39m ) -> Result:\n\u001b[32m--> \u001b[39m\u001b[32m305\u001b[39m     result = \u001b[43mconn\u001b[49m\u001b[43m.\u001b[49m\u001b[43mexecute\u001b[49m\u001b[43m(\u001b[49m\n\u001b[32m    306\u001b[39m \u001b[43m        \u001b[49m\u001b[43mstatement\u001b[49m\u001b[43m,\u001b[49m\u001b[43m \u001b[49m\u001b[43mparams\u001b[49m\u001b[43m \u001b[49m\u001b[38;5;129;43;01mor\u001b[39;49;00m\u001b[43m \u001b[49m\u001b[43m{\u001b[49m\u001b[43m}\u001b[49m\u001b[43m,\u001b[49m\u001b[43m \u001b[49m\u001b[43mexecution_options\u001b[49m\u001b[43m=\u001b[49m\u001b[43mexecution_options\u001b[49m\n\u001b[32m    307\u001b[39m \u001b[43m    \u001b[49m\u001b[43m)\u001b[49m\n\u001b[32m    308\u001b[39m     \u001b[38;5;28;01mreturn\u001b[39;00m \u001b[38;5;28mcls\u001b[39m.orm_setup_cursor_result(\n\u001b[32m    309\u001b[39m         session,\n\u001b[32m    310\u001b[39m         statement,\n\u001b[32m   (...)\u001b[39m\u001b[32m    314\u001b[39m         result,\n\u001b[32m    315\u001b[39m     )\n",
      "\u001b[36mFile \u001b[39m\u001b[32m~/opt/anaconda3/envs/koreasw/lib/python3.11/site-packages/sqlalchemy/engine/base.py:1416\u001b[39m, in \u001b[36mConnection.execute\u001b[39m\u001b[34m(self, statement, parameters, execution_options)\u001b[39m\n\u001b[32m   1414\u001b[39m     \u001b[38;5;28;01mraise\u001b[39;00m exc.ObjectNotExecutableError(statement) \u001b[38;5;28;01mfrom\u001b[39;00m\u001b[38;5;250m \u001b[39m\u001b[34;01merr\u001b[39;00m\n\u001b[32m   1415\u001b[39m \u001b[38;5;28;01melse\u001b[39;00m:\n\u001b[32m-> \u001b[39m\u001b[32m1416\u001b[39m     \u001b[38;5;28;01mreturn\u001b[39;00m \u001b[43mmeth\u001b[49m\u001b[43m(\u001b[49m\n\u001b[32m   1417\u001b[39m \u001b[43m        \u001b[49m\u001b[38;5;28;43mself\u001b[39;49m\u001b[43m,\u001b[49m\n\u001b[32m   1418\u001b[39m \u001b[43m        \u001b[49m\u001b[43mdistilled_parameters\u001b[49m\u001b[43m,\u001b[49m\n\u001b[32m   1419\u001b[39m \u001b[43m        \u001b[49m\u001b[43mexecution_options\u001b[49m\u001b[43m \u001b[49m\u001b[38;5;129;43;01mor\u001b[39;49;00m\u001b[43m \u001b[49m\u001b[43mNO_OPTIONS\u001b[49m\u001b[43m,\u001b[49m\n\u001b[32m   1420\u001b[39m \u001b[43m    \u001b[49m\u001b[43m)\u001b[49m\n",
      "\u001b[36mFile \u001b[39m\u001b[32m~/opt/anaconda3/envs/koreasw/lib/python3.11/site-packages/sqlalchemy/sql/elements.py:516\u001b[39m, in \u001b[36mClauseElement._execute_on_connection\u001b[39m\u001b[34m(self, connection, distilled_params, execution_options)\u001b[39m\n\u001b[32m    514\u001b[39m     \u001b[38;5;28;01mif\u001b[39;00m TYPE_CHECKING:\n\u001b[32m    515\u001b[39m         \u001b[38;5;28;01massert\u001b[39;00m \u001b[38;5;28misinstance\u001b[39m(\u001b[38;5;28mself\u001b[39m, Executable)\n\u001b[32m--> \u001b[39m\u001b[32m516\u001b[39m     \u001b[38;5;28;01mreturn\u001b[39;00m \u001b[43mconnection\u001b[49m\u001b[43m.\u001b[49m\u001b[43m_execute_clauseelement\u001b[49m\u001b[43m(\u001b[49m\n\u001b[32m    517\u001b[39m \u001b[43m        \u001b[49m\u001b[38;5;28;43mself\u001b[39;49m\u001b[43m,\u001b[49m\u001b[43m \u001b[49m\u001b[43mdistilled_params\u001b[49m\u001b[43m,\u001b[49m\u001b[43m \u001b[49m\u001b[43mexecution_options\u001b[49m\n\u001b[32m    518\u001b[39m \u001b[43m    \u001b[49m\u001b[43m)\u001b[49m\n\u001b[32m    519\u001b[39m \u001b[38;5;28;01melse\u001b[39;00m:\n\u001b[32m    520\u001b[39m     \u001b[38;5;28;01mraise\u001b[39;00m exc.ObjectNotExecutableError(\u001b[38;5;28mself\u001b[39m)\n",
      "\u001b[36mFile \u001b[39m\u001b[32m~/opt/anaconda3/envs/koreasw/lib/python3.11/site-packages/sqlalchemy/engine/base.py:1638\u001b[39m, in \u001b[36mConnection._execute_clauseelement\u001b[39m\u001b[34m(self, elem, distilled_parameters, execution_options)\u001b[39m\n\u001b[32m   1626\u001b[39m compiled_cache: Optional[CompiledCacheType] = execution_options.get(\n\u001b[32m   1627\u001b[39m     \u001b[33m\"\u001b[39m\u001b[33mcompiled_cache\u001b[39m\u001b[33m\"\u001b[39m, \u001b[38;5;28mself\u001b[39m.engine._compiled_cache\n\u001b[32m   1628\u001b[39m )\n\u001b[32m   1630\u001b[39m compiled_sql, extracted_params, cache_hit = elem._compile_w_cache(\n\u001b[32m   1631\u001b[39m     dialect=dialect,\n\u001b[32m   1632\u001b[39m     compiled_cache=compiled_cache,\n\u001b[32m   (...)\u001b[39m\u001b[32m   1636\u001b[39m     linting=\u001b[38;5;28mself\u001b[39m.dialect.compiler_linting | compiler.WARN_LINTING,\n\u001b[32m   1637\u001b[39m )\n\u001b[32m-> \u001b[39m\u001b[32m1638\u001b[39m ret = \u001b[38;5;28;43mself\u001b[39;49m\u001b[43m.\u001b[49m\u001b[43m_execute_context\u001b[49m\u001b[43m(\u001b[49m\n\u001b[32m   1639\u001b[39m \u001b[43m    \u001b[49m\u001b[43mdialect\u001b[49m\u001b[43m,\u001b[49m\n\u001b[32m   1640\u001b[39m \u001b[43m    \u001b[49m\u001b[43mdialect\u001b[49m\u001b[43m.\u001b[49m\u001b[43mexecution_ctx_cls\u001b[49m\u001b[43m.\u001b[49m\u001b[43m_init_compiled\u001b[49m\u001b[43m,\u001b[49m\n\u001b[32m   1641\u001b[39m \u001b[43m    \u001b[49m\u001b[43mcompiled_sql\u001b[49m\u001b[43m,\u001b[49m\n\u001b[32m   1642\u001b[39m \u001b[43m    \u001b[49m\u001b[43mdistilled_parameters\u001b[49m\u001b[43m,\u001b[49m\n\u001b[32m   1643\u001b[39m \u001b[43m    \u001b[49m\u001b[43mexecution_options\u001b[49m\u001b[43m,\u001b[49m\n\u001b[32m   1644\u001b[39m \u001b[43m    \u001b[49m\u001b[43mcompiled_sql\u001b[49m\u001b[43m,\u001b[49m\n\u001b[32m   1645\u001b[39m \u001b[43m    \u001b[49m\u001b[43mdistilled_parameters\u001b[49m\u001b[43m,\u001b[49m\n\u001b[32m   1646\u001b[39m \u001b[43m    \u001b[49m\u001b[43melem\u001b[49m\u001b[43m,\u001b[49m\n\u001b[32m   1647\u001b[39m \u001b[43m    \u001b[49m\u001b[43mextracted_params\u001b[49m\u001b[43m,\u001b[49m\n\u001b[32m   1648\u001b[39m \u001b[43m    \u001b[49m\u001b[43mcache_hit\u001b[49m\u001b[43m=\u001b[49m\u001b[43mcache_hit\u001b[49m\u001b[43m,\u001b[49m\n\u001b[32m   1649\u001b[39m \u001b[43m\u001b[49m\u001b[43m)\u001b[49m\n\u001b[32m   1650\u001b[39m \u001b[38;5;28;01mif\u001b[39;00m has_events:\n\u001b[32m   1651\u001b[39m     \u001b[38;5;28mself\u001b[39m.dispatch.after_execute(\n\u001b[32m   1652\u001b[39m         \u001b[38;5;28mself\u001b[39m,\n\u001b[32m   1653\u001b[39m         elem,\n\u001b[32m   (...)\u001b[39m\u001b[32m   1657\u001b[39m         ret,\n\u001b[32m   1658\u001b[39m     )\n",
      "\u001b[36mFile \u001b[39m\u001b[32m~/opt/anaconda3/envs/koreasw/lib/python3.11/site-packages/sqlalchemy/engine/base.py:1818\u001b[39m, in \u001b[36mConnection._execute_context\u001b[39m\u001b[34m(self, dialect, constructor, statement, parameters, execution_options, *args, **kw)\u001b[39m\n\u001b[32m   1816\u001b[39m     \u001b[38;5;28;01mraise\u001b[39;00m\n\u001b[32m   1817\u001b[39m \u001b[38;5;28;01mexcept\u001b[39;00m \u001b[38;5;167;01mBaseException\u001b[39;00m \u001b[38;5;28;01mas\u001b[39;00m e:\n\u001b[32m-> \u001b[39m\u001b[32m1818\u001b[39m     \u001b[38;5;28;43mself\u001b[39;49m\u001b[43m.\u001b[49m\u001b[43m_handle_dbapi_exception\u001b[49m\u001b[43m(\u001b[49m\n\u001b[32m   1819\u001b[39m \u001b[43m        \u001b[49m\u001b[43me\u001b[49m\u001b[43m,\u001b[49m\u001b[43m \u001b[49m\u001b[38;5;28;43mstr\u001b[39;49m\u001b[43m(\u001b[49m\u001b[43mstatement\u001b[49m\u001b[43m)\u001b[49m\u001b[43m,\u001b[49m\u001b[43m \u001b[49m\u001b[43mparameters\u001b[49m\u001b[43m,\u001b[49m\u001b[43m \u001b[49m\u001b[38;5;28;43;01mNone\u001b[39;49;00m\u001b[43m,\u001b[49m\u001b[43m \u001b[49m\u001b[38;5;28;43;01mNone\u001b[39;49;00m\n\u001b[32m   1820\u001b[39m \u001b[43m    \u001b[49m\u001b[43m)\u001b[49m\n\u001b[32m   1822\u001b[39m \u001b[38;5;28;01mif\u001b[39;00m (\n\u001b[32m   1823\u001b[39m     \u001b[38;5;28mself\u001b[39m._transaction\n\u001b[32m   1824\u001b[39m     \u001b[38;5;129;01mand\u001b[39;00m \u001b[38;5;129;01mnot\u001b[39;00m \u001b[38;5;28mself\u001b[39m._transaction.is_active\n\u001b[32m   (...)\u001b[39m\u001b[32m   1828\u001b[39m     )\n\u001b[32m   1829\u001b[39m ):\n\u001b[32m   1830\u001b[39m     \u001b[38;5;28mself\u001b[39m._invalid_transaction()\n",
      "\u001b[36mFile \u001b[39m\u001b[32m~/opt/anaconda3/envs/koreasw/lib/python3.11/site-packages/sqlalchemy/engine/base.py:2352\u001b[39m, in \u001b[36mConnection._handle_dbapi_exception\u001b[39m\u001b[34m(self, e, statement, parameters, cursor, context, is_sub_exec)\u001b[39m\n\u001b[32m   2350\u001b[39m \u001b[38;5;28;01melif\u001b[39;00m should_wrap:\n\u001b[32m   2351\u001b[39m     \u001b[38;5;28;01massert\u001b[39;00m sqlalchemy_exception \u001b[38;5;129;01mis\u001b[39;00m \u001b[38;5;129;01mnot\u001b[39;00m \u001b[38;5;28;01mNone\u001b[39;00m\n\u001b[32m-> \u001b[39m\u001b[32m2352\u001b[39m     \u001b[38;5;28;01mraise\u001b[39;00m sqlalchemy_exception.with_traceback(exc_info[\u001b[32m2\u001b[39m]) \u001b[38;5;28;01mfrom\u001b[39;00m\u001b[38;5;250m \u001b[39m\u001b[34;01me\u001b[39;00m\n\u001b[32m   2353\u001b[39m \u001b[38;5;28;01melse\u001b[39;00m:\n\u001b[32m   2354\u001b[39m     \u001b[38;5;28;01massert\u001b[39;00m exc_info[\u001b[32m1\u001b[39m] \u001b[38;5;129;01mis\u001b[39;00m \u001b[38;5;129;01mnot\u001b[39;00m \u001b[38;5;28;01mNone\u001b[39;00m\n",
      "\u001b[36mFile \u001b[39m\u001b[32m~/opt/anaconda3/envs/koreasw/lib/python3.11/site-packages/sqlalchemy/engine/base.py:1812\u001b[39m, in \u001b[36mConnection._execute_context\u001b[39m\u001b[34m(self, dialect, constructor, statement, parameters, execution_options, *args, **kw)\u001b[39m\n\u001b[32m   1809\u001b[39m     \u001b[38;5;28;01mif\u001b[39;00m conn \u001b[38;5;129;01mis\u001b[39;00m \u001b[38;5;28;01mNone\u001b[39;00m:\n\u001b[32m   1810\u001b[39m         conn = \u001b[38;5;28mself\u001b[39m._revalidate_connection()\n\u001b[32m-> \u001b[39m\u001b[32m1812\u001b[39m     context = \u001b[43mconstructor\u001b[49m\u001b[43m(\u001b[49m\n\u001b[32m   1813\u001b[39m \u001b[43m        \u001b[49m\u001b[43mdialect\u001b[49m\u001b[43m,\u001b[49m\u001b[43m \u001b[49m\u001b[38;5;28;43mself\u001b[39;49m\u001b[43m,\u001b[49m\u001b[43m \u001b[49m\u001b[43mconn\u001b[49m\u001b[43m,\u001b[49m\u001b[43m \u001b[49m\u001b[43mexecution_options\u001b[49m\u001b[43m,\u001b[49m\u001b[43m \u001b[49m\u001b[43m*\u001b[49m\u001b[43margs\u001b[49m\u001b[43m,\u001b[49m\u001b[43m \u001b[49m\u001b[43m*\u001b[49m\u001b[43m*\u001b[49m\u001b[43mkw\u001b[49m\n\u001b[32m   1814\u001b[39m \u001b[43m    \u001b[49m\u001b[43m)\u001b[49m\n\u001b[32m   1815\u001b[39m \u001b[38;5;28;01mexcept\u001b[39;00m (exc.PendingRollbackError, exc.ResourceClosedError):\n\u001b[32m   1816\u001b[39m     \u001b[38;5;28;01mraise\u001b[39;00m\n",
      "\u001b[36mFile \u001b[39m\u001b[32m~/opt/anaconda3/envs/koreasw/lib/python3.11/site-packages/sqlalchemy/engine/default.py:1419\u001b[39m, in \u001b[36mDefaultExecutionContext._init_compiled\u001b[39m\u001b[34m(cls, dialect, connection, dbapi_connection, execution_options, compiled, parameters, invoked_statement, extracted_parameters, cache_hit)\u001b[39m\n\u001b[32m   1415\u001b[39m             \u001b[38;5;28mself\u001b[39m.execute_style = ExecuteStyle.EXECUTEMANY\n\u001b[32m   1417\u001b[39m \u001b[38;5;28mself\u001b[39m.unicode_statement = compiled.string\n\u001b[32m-> \u001b[39m\u001b[32m1419\u001b[39m \u001b[38;5;28mself\u001b[39m.cursor = \u001b[38;5;28;43mself\u001b[39;49m\u001b[43m.\u001b[49m\u001b[43mcreate_cursor\u001b[49m\u001b[43m(\u001b[49m\u001b[43m)\u001b[49m\n\u001b[32m   1421\u001b[39m \u001b[38;5;28;01mif\u001b[39;00m \u001b[38;5;28mself\u001b[39m.compiled.insert_prefetch \u001b[38;5;129;01mor\u001b[39;00m \u001b[38;5;28mself\u001b[39m.compiled.update_prefetch:\n\u001b[32m   1422\u001b[39m     \u001b[38;5;28mself\u001b[39m._process_execute_defaults()\n",
      "\u001b[36mFile \u001b[39m\u001b[32m~/opt/anaconda3/envs/koreasw/lib/python3.11/site-packages/sqlalchemy/engine/default.py:1753\u001b[39m, in \u001b[36mDefaultExecutionContext.create_cursor\u001b[39m\u001b[34m(self)\u001b[39m\n\u001b[32m   1751\u001b[39m \u001b[38;5;28;01melse\u001b[39;00m:\n\u001b[32m   1752\u001b[39m     \u001b[38;5;28mself\u001b[39m._is_server_side = \u001b[38;5;28;01mFalse\u001b[39;00m\n\u001b[32m-> \u001b[39m\u001b[32m1753\u001b[39m     \u001b[38;5;28;01mreturn\u001b[39;00m \u001b[38;5;28;43mself\u001b[39;49m\u001b[43m.\u001b[49m\u001b[43mcreate_default_cursor\u001b[49m\u001b[43m(\u001b[49m\u001b[43m)\u001b[49m\n",
      "\u001b[36mFile \u001b[39m\u001b[32m~/opt/anaconda3/envs/koreasw/lib/python3.11/site-packages/sqlalchemy/engine/default.py:1759\u001b[39m, in \u001b[36mDefaultExecutionContext.create_default_cursor\u001b[39m\u001b[34m(self)\u001b[39m\n\u001b[32m   1758\u001b[39m \u001b[38;5;28;01mdef\u001b[39;00m\u001b[38;5;250m \u001b[39m\u001b[34mcreate_default_cursor\u001b[39m(\u001b[38;5;28mself\u001b[39m):\n\u001b[32m-> \u001b[39m\u001b[32m1759\u001b[39m     \u001b[38;5;28;01mreturn\u001b[39;00m \u001b[38;5;28;43mself\u001b[39;49m\u001b[43m.\u001b[49m\u001b[43m_dbapi_connection\u001b[49m\u001b[43m.\u001b[49m\u001b[43mcursor\u001b[49m\u001b[43m(\u001b[49m\u001b[43m)\u001b[49m\n",
      "\u001b[36mFile \u001b[39m\u001b[32m~/opt/anaconda3/envs/koreasw/lib/python3.11/site-packages/sqlalchemy/pool/base.py:1485\u001b[39m, in \u001b[36m_ConnectionFairy.cursor\u001b[39m\u001b[34m(self, *args, **kwargs)\u001b[39m\n\u001b[32m   1483\u001b[39m \u001b[38;5;28;01mdef\u001b[39;00m\u001b[38;5;250m \u001b[39m\u001b[34mcursor\u001b[39m(\u001b[38;5;28mself\u001b[39m, *args: Any, **kwargs: Any) -> DBAPICursor:\n\u001b[32m   1484\u001b[39m     \u001b[38;5;28;01massert\u001b[39;00m \u001b[38;5;28mself\u001b[39m.dbapi_connection \u001b[38;5;129;01mis\u001b[39;00m \u001b[38;5;129;01mnot\u001b[39;00m \u001b[38;5;28;01mNone\u001b[39;00m\n\u001b[32m-> \u001b[39m\u001b[32m1485\u001b[39m     \u001b[38;5;28;01mreturn\u001b[39;00m \u001b[38;5;28;43mself\u001b[39;49m\u001b[43m.\u001b[49m\u001b[43mdbapi_connection\u001b[49m\u001b[43m.\u001b[49m\u001b[43mcursor\u001b[49m\u001b[43m(\u001b[49m\u001b[43m*\u001b[49m\u001b[43margs\u001b[49m\u001b[43m,\u001b[49m\u001b[43m \u001b[49m\u001b[43m*\u001b[49m\u001b[43m*\u001b[49m\u001b[43mkwargs\u001b[49m\u001b[43m)\u001b[49m\n",
      "\u001b[31mProgrammingError\u001b[39m: (sqlite3.ProgrammingError) SQLite objects created in a thread can only be used in that same thread. The object was created in thread id 6214709248 and this is thread id 8229144640.\n[SQL: SELECT ph.pk AS ph_pk, ph.pfk AS ph_pfk, ph.hfk AS ph_hfk \nFROM ph \nWHERE ph.pk = ?]\n[parameters: [{'pk_1': 1}]]\n(Background on this error at: https://sqlalche.me/e/20/f405)"
     ]
    }
   ],
   "source": [
    "ph1.post.content, ph1.tag.name\n",
    "# Insert Post 내용\n",
    "# Insert Hashtag 태그\n",
    "# Insert PH 내용,태그의 pk"
   ]
  },
  {
   "cell_type": "code",
   "execution_count": 217,
   "metadata": {},
   "outputs": [
    {
     "ename": "ProgrammingError",
     "evalue": "(sqlite3.ProgrammingError) SQLite objects created in a thread can only be used in that same thread. The object was created in thread id 6214709248 and this is thread id 8229144640.\n[SQL: SELECT post.pk AS post_pk, post.content AS post_content \nFROM post \nWHERE post.pk = ?]\n[parameters: [{'pk_1': 1}]]\n(Background on this error at: https://sqlalche.me/e/20/f405)",
     "output_type": "error",
     "traceback": [
      "\u001b[31m---------------------------------------------------------------------------\u001b[39m",
      "\u001b[31mProgrammingError\u001b[39m                          Traceback (most recent call last)",
      "\u001b[36mFile \u001b[39m\u001b[32m~/opt/anaconda3/envs/koreasw/lib/python3.11/site-packages/sqlalchemy/engine/base.py:1812\u001b[39m, in \u001b[36mConnection._execute_context\u001b[39m\u001b[34m(self, dialect, constructor, statement, parameters, execution_options, *args, **kw)\u001b[39m\n\u001b[32m   1810\u001b[39m         conn = \u001b[38;5;28mself\u001b[39m._revalidate_connection()\n\u001b[32m-> \u001b[39m\u001b[32m1812\u001b[39m     context = \u001b[43mconstructor\u001b[49m\u001b[43m(\u001b[49m\n\u001b[32m   1813\u001b[39m \u001b[43m        \u001b[49m\u001b[43mdialect\u001b[49m\u001b[43m,\u001b[49m\u001b[43m \u001b[49m\u001b[38;5;28;43mself\u001b[39;49m\u001b[43m,\u001b[49m\u001b[43m \u001b[49m\u001b[43mconn\u001b[49m\u001b[43m,\u001b[49m\u001b[43m \u001b[49m\u001b[43mexecution_options\u001b[49m\u001b[43m,\u001b[49m\u001b[43m \u001b[49m\u001b[43m*\u001b[49m\u001b[43margs\u001b[49m\u001b[43m,\u001b[49m\u001b[43m \u001b[49m\u001b[43m*\u001b[49m\u001b[43m*\u001b[49m\u001b[43mkw\u001b[49m\n\u001b[32m   1814\u001b[39m \u001b[43m    \u001b[49m\u001b[43m)\u001b[49m\n\u001b[32m   1815\u001b[39m \u001b[38;5;28;01mexcept\u001b[39;00m (exc.PendingRollbackError, exc.ResourceClosedError):\n",
      "\u001b[36mFile \u001b[39m\u001b[32m~/opt/anaconda3/envs/koreasw/lib/python3.11/site-packages/sqlalchemy/engine/default.py:1419\u001b[39m, in \u001b[36mDefaultExecutionContext._init_compiled\u001b[39m\u001b[34m(cls, dialect, connection, dbapi_connection, execution_options, compiled, parameters, invoked_statement, extracted_parameters, cache_hit)\u001b[39m\n\u001b[32m   1417\u001b[39m \u001b[38;5;28mself\u001b[39m.unicode_statement = compiled.string\n\u001b[32m-> \u001b[39m\u001b[32m1419\u001b[39m \u001b[38;5;28mself\u001b[39m.cursor = \u001b[38;5;28;43mself\u001b[39;49m\u001b[43m.\u001b[49m\u001b[43mcreate_cursor\u001b[49m\u001b[43m(\u001b[49m\u001b[43m)\u001b[49m\n\u001b[32m   1421\u001b[39m \u001b[38;5;28;01mif\u001b[39;00m \u001b[38;5;28mself\u001b[39m.compiled.insert_prefetch \u001b[38;5;129;01mor\u001b[39;00m \u001b[38;5;28mself\u001b[39m.compiled.update_prefetch:\n",
      "\u001b[36mFile \u001b[39m\u001b[32m~/opt/anaconda3/envs/koreasw/lib/python3.11/site-packages/sqlalchemy/engine/default.py:1753\u001b[39m, in \u001b[36mDefaultExecutionContext.create_cursor\u001b[39m\u001b[34m(self)\u001b[39m\n\u001b[32m   1752\u001b[39m \u001b[38;5;28mself\u001b[39m._is_server_side = \u001b[38;5;28;01mFalse\u001b[39;00m\n\u001b[32m-> \u001b[39m\u001b[32m1753\u001b[39m \u001b[38;5;28;01mreturn\u001b[39;00m \u001b[38;5;28;43mself\u001b[39;49m\u001b[43m.\u001b[49m\u001b[43mcreate_default_cursor\u001b[49m\u001b[43m(\u001b[49m\u001b[43m)\u001b[49m\n",
      "\u001b[36mFile \u001b[39m\u001b[32m~/opt/anaconda3/envs/koreasw/lib/python3.11/site-packages/sqlalchemy/engine/default.py:1759\u001b[39m, in \u001b[36mDefaultExecutionContext.create_default_cursor\u001b[39m\u001b[34m(self)\u001b[39m\n\u001b[32m   1758\u001b[39m \u001b[38;5;28;01mdef\u001b[39;00m\u001b[38;5;250m \u001b[39m\u001b[34mcreate_default_cursor\u001b[39m(\u001b[38;5;28mself\u001b[39m):\n\u001b[32m-> \u001b[39m\u001b[32m1759\u001b[39m     \u001b[38;5;28;01mreturn\u001b[39;00m \u001b[38;5;28;43mself\u001b[39;49m\u001b[43m.\u001b[49m\u001b[43m_dbapi_connection\u001b[49m\u001b[43m.\u001b[49m\u001b[43mcursor\u001b[49m\u001b[43m(\u001b[49m\u001b[43m)\u001b[49m\n",
      "\u001b[36mFile \u001b[39m\u001b[32m~/opt/anaconda3/envs/koreasw/lib/python3.11/site-packages/sqlalchemy/pool/base.py:1485\u001b[39m, in \u001b[36m_ConnectionFairy.cursor\u001b[39m\u001b[34m(self, *args, **kwargs)\u001b[39m\n\u001b[32m   1484\u001b[39m \u001b[38;5;28;01massert\u001b[39;00m \u001b[38;5;28mself\u001b[39m.dbapi_connection \u001b[38;5;129;01mis\u001b[39;00m \u001b[38;5;129;01mnot\u001b[39;00m \u001b[38;5;28;01mNone\u001b[39;00m\n\u001b[32m-> \u001b[39m\u001b[32m1485\u001b[39m \u001b[38;5;28;01mreturn\u001b[39;00m \u001b[38;5;28;43mself\u001b[39;49m\u001b[43m.\u001b[49m\u001b[43mdbapi_connection\u001b[49m\u001b[43m.\u001b[49m\u001b[43mcursor\u001b[49m\u001b[43m(\u001b[49m\u001b[43m*\u001b[49m\u001b[43margs\u001b[49m\u001b[43m,\u001b[49m\u001b[43m \u001b[49m\u001b[43m*\u001b[49m\u001b[43m*\u001b[49m\u001b[43mkwargs\u001b[49m\u001b[43m)\u001b[49m\n",
      "\u001b[31mProgrammingError\u001b[39m: SQLite objects created in a thread can only be used in that same thread. The object was created in thread id 6214709248 and this is thread id 8229144640.",
      "\nThe above exception was the direct cause of the following exception:\n",
      "\u001b[31mProgrammingError\u001b[39m                          Traceback (most recent call last)",
      "\u001b[36mCell\u001b[39m\u001b[36m \u001b[39m\u001b[32mIn[217]\u001b[39m\u001b[32m, line 1\u001b[39m\n\u001b[32m----> \u001b[39m\u001b[32m1\u001b[39m \u001b[43mp1\u001b[49m\u001b[43m.\u001b[49m\u001b[43mcontent\u001b[49m, \u001b[38;5;28mlen\u001b[39m(p1.tags), p1.tags[\u001b[32m0\u001b[39m].tag.name\n",
      "\u001b[36mFile \u001b[39m\u001b[32m~/opt/anaconda3/envs/koreasw/lib/python3.11/site-packages/sqlalchemy/orm/attributes.py:566\u001b[39m, in \u001b[36mInstrumentedAttribute.__get__\u001b[39m\u001b[34m(self, instance, owner)\u001b[39m\n\u001b[32m    564\u001b[39m \u001b[38;5;28;01mexcept\u001b[39;00m \u001b[38;5;167;01mAttributeError\u001b[39;00m \u001b[38;5;28;01mas\u001b[39;00m err:\n\u001b[32m    565\u001b[39m     \u001b[38;5;28;01mraise\u001b[39;00m orm_exc.UnmappedInstanceError(instance) \u001b[38;5;28;01mfrom\u001b[39;00m\u001b[38;5;250m \u001b[39m\u001b[34;01merr\u001b[39;00m\n\u001b[32m--> \u001b[39m\u001b[32m566\u001b[39m \u001b[38;5;28;01mreturn\u001b[39;00m \u001b[38;5;28;43mself\u001b[39;49m\u001b[43m.\u001b[49m\u001b[43mimpl\u001b[49m\u001b[43m.\u001b[49m\u001b[43mget\u001b[49m\u001b[43m(\u001b[49m\u001b[43mstate\u001b[49m\u001b[43m,\u001b[49m\u001b[43m \u001b[49m\u001b[43mdict_\u001b[49m\u001b[43m)\u001b[49m\n",
      "\u001b[36mFile \u001b[39m\u001b[32m~/opt/anaconda3/envs/koreasw/lib/python3.11/site-packages/sqlalchemy/orm/attributes.py:1086\u001b[39m, in \u001b[36mAttributeImpl.get\u001b[39m\u001b[34m(self, state, dict_, passive)\u001b[39m\n\u001b[32m   1083\u001b[39m \u001b[38;5;28;01mif\u001b[39;00m \u001b[38;5;129;01mnot\u001b[39;00m passive & CALLABLES_OK:\n\u001b[32m   1084\u001b[39m     \u001b[38;5;28;01mreturn\u001b[39;00m PASSIVE_NO_RESULT\n\u001b[32m-> \u001b[39m\u001b[32m1086\u001b[39m value = \u001b[38;5;28;43mself\u001b[39;49m\u001b[43m.\u001b[49m\u001b[43m_fire_loader_callables\u001b[49m\u001b[43m(\u001b[49m\u001b[43mstate\u001b[49m\u001b[43m,\u001b[49m\u001b[43m \u001b[49m\u001b[43mkey\u001b[49m\u001b[43m,\u001b[49m\u001b[43m \u001b[49m\u001b[43mpassive\u001b[49m\u001b[43m)\u001b[49m\n\u001b[32m   1088\u001b[39m \u001b[38;5;28;01mif\u001b[39;00m value \u001b[38;5;129;01mis\u001b[39;00m PASSIVE_NO_RESULT \u001b[38;5;129;01mor\u001b[39;00m value \u001b[38;5;129;01mis\u001b[39;00m NO_VALUE:\n\u001b[32m   1089\u001b[39m     \u001b[38;5;28;01mreturn\u001b[39;00m value\n",
      "\u001b[36mFile \u001b[39m\u001b[32m~/opt/anaconda3/envs/koreasw/lib/python3.11/site-packages/sqlalchemy/orm/attributes.py:1116\u001b[39m, in \u001b[36mAttributeImpl._fire_loader_callables\u001b[39m\u001b[34m(self, state, key, passive)\u001b[39m\n\u001b[32m   1108\u001b[39m \u001b[38;5;28;01mdef\u001b[39;00m\u001b[38;5;250m \u001b[39m\u001b[34m_fire_loader_callables\u001b[39m(\n\u001b[32m   1109\u001b[39m     \u001b[38;5;28mself\u001b[39m, state: InstanceState[Any], key: \u001b[38;5;28mstr\u001b[39m, passive: PassiveFlag\n\u001b[32m   1110\u001b[39m ) -> Any:\n\u001b[32m   1111\u001b[39m     \u001b[38;5;28;01mif\u001b[39;00m (\n\u001b[32m   1112\u001b[39m         \u001b[38;5;28mself\u001b[39m.accepts_scalar_loader\n\u001b[32m   1113\u001b[39m         \u001b[38;5;129;01mand\u001b[39;00m \u001b[38;5;28mself\u001b[39m.load_on_unexpire\n\u001b[32m   1114\u001b[39m         \u001b[38;5;129;01mand\u001b[39;00m key \u001b[38;5;129;01min\u001b[39;00m state.expired_attributes\n\u001b[32m   1115\u001b[39m     ):\n\u001b[32m-> \u001b[39m\u001b[32m1116\u001b[39m         \u001b[38;5;28;01mreturn\u001b[39;00m \u001b[43mstate\u001b[49m\u001b[43m.\u001b[49m\u001b[43m_load_expired\u001b[49m\u001b[43m(\u001b[49m\u001b[43mstate\u001b[49m\u001b[43m,\u001b[49m\u001b[43m \u001b[49m\u001b[43mpassive\u001b[49m\u001b[43m)\u001b[49m\n\u001b[32m   1117\u001b[39m     \u001b[38;5;28;01melif\u001b[39;00m key \u001b[38;5;129;01min\u001b[39;00m state.callables:\n\u001b[32m   1118\u001b[39m         callable_ = state.callables[key]\n",
      "\u001b[36mFile \u001b[39m\u001b[32m~/opt/anaconda3/envs/koreasw/lib/python3.11/site-packages/sqlalchemy/orm/state.py:803\u001b[39m, in \u001b[36mInstanceState._load_expired\u001b[39m\u001b[34m(self, state, passive)\u001b[39m\n\u001b[32m    796\u001b[39m toload = \u001b[38;5;28mself\u001b[39m.expired_attributes.intersection(\u001b[38;5;28mself\u001b[39m.unmodified)\n\u001b[32m    797\u001b[39m toload = toload.difference(\n\u001b[32m    798\u001b[39m     attr\n\u001b[32m    799\u001b[39m     \u001b[38;5;28;01mfor\u001b[39;00m attr \u001b[38;5;129;01min\u001b[39;00m toload\n\u001b[32m    800\u001b[39m     \u001b[38;5;28;01mif\u001b[39;00m \u001b[38;5;129;01mnot\u001b[39;00m \u001b[38;5;28mself\u001b[39m.manager[attr].impl.load_on_unexpire\n\u001b[32m    801\u001b[39m )\n\u001b[32m--> \u001b[39m\u001b[32m803\u001b[39m \u001b[38;5;28;43mself\u001b[39;49m\u001b[43m.\u001b[49m\u001b[43mmanager\u001b[49m\u001b[43m.\u001b[49m\u001b[43mexpired_attribute_loader\u001b[49m\u001b[43m(\u001b[49m\u001b[38;5;28;43mself\u001b[39;49m\u001b[43m,\u001b[49m\u001b[43m \u001b[49m\u001b[43mtoload\u001b[49m\u001b[43m,\u001b[49m\u001b[43m \u001b[49m\u001b[43mpassive\u001b[49m\u001b[43m)\u001b[49m\n\u001b[32m    805\u001b[39m \u001b[38;5;66;03m# if the loader failed, or this\u001b[39;00m\n\u001b[32m    806\u001b[39m \u001b[38;5;66;03m# instance state didn't have an identity,\u001b[39;00m\n\u001b[32m    807\u001b[39m \u001b[38;5;66;03m# the attributes still might be in the callables\u001b[39;00m\n\u001b[32m    808\u001b[39m \u001b[38;5;66;03m# dict.  ensure they are removed.\u001b[39;00m\n\u001b[32m    809\u001b[39m \u001b[38;5;28mself\u001b[39m.expired_attributes.clear()\n",
      "\u001b[36mFile \u001b[39m\u001b[32m~/opt/anaconda3/envs/koreasw/lib/python3.11/site-packages/sqlalchemy/orm/loading.py:1670\u001b[39m, in \u001b[36mload_scalar_attributes\u001b[39m\u001b[34m(mapper, state, attribute_names, passive)\u001b[39m\n\u001b[32m   1662\u001b[39m     util.warn_limited(\n\u001b[32m   1663\u001b[39m         \u001b[33m\"\u001b[39m\u001b[33mInstance \u001b[39m\u001b[38;5;132;01m%s\u001b[39;00m\u001b[33m to be refreshed doesn\u001b[39m\u001b[33m'\u001b[39m\u001b[33mt \u001b[39m\u001b[33m\"\u001b[39m\n\u001b[32m   1664\u001b[39m         \u001b[33m\"\u001b[39m\u001b[33mcontain a full primary key - can\u001b[39m\u001b[33m'\u001b[39m\u001b[33mt be refreshed \u001b[39m\u001b[33m\"\u001b[39m\n\u001b[32m   1665\u001b[39m         \u001b[33m\"\u001b[39m\u001b[33m(and shouldn\u001b[39m\u001b[33m'\u001b[39m\u001b[33mt be expired, either).\u001b[39m\u001b[33m\"\u001b[39m,\n\u001b[32m   1666\u001b[39m         state_str(state),\n\u001b[32m   1667\u001b[39m     )\n\u001b[32m   1668\u001b[39m     \u001b[38;5;28;01mreturn\u001b[39;00m\n\u001b[32m-> \u001b[39m\u001b[32m1670\u001b[39m result = \u001b[43mload_on_ident\u001b[49m\u001b[43m(\u001b[49m\n\u001b[32m   1671\u001b[39m \u001b[43m    \u001b[49m\u001b[43msession\u001b[49m\u001b[43m,\u001b[49m\n\u001b[32m   1672\u001b[39m \u001b[43m    \u001b[49m\u001b[43mselect\u001b[49m\u001b[43m(\u001b[49m\u001b[43mmapper\u001b[49m\u001b[43m)\u001b[49m\u001b[43m.\u001b[49m\u001b[43mset_label_style\u001b[49m\u001b[43m(\u001b[49m\u001b[43mLABEL_STYLE_TABLENAME_PLUS_COL\u001b[49m\u001b[43m)\u001b[49m\u001b[43m,\u001b[49m\n\u001b[32m   1673\u001b[39m \u001b[43m    \u001b[49m\u001b[43midentity_key\u001b[49m\u001b[43m,\u001b[49m\n\u001b[32m   1674\u001b[39m \u001b[43m    \u001b[49m\u001b[43mrefresh_state\u001b[49m\u001b[43m=\u001b[49m\u001b[43mstate\u001b[49m\u001b[43m,\u001b[49m\n\u001b[32m   1675\u001b[39m \u001b[43m    \u001b[49m\u001b[43monly_load_props\u001b[49m\u001b[43m=\u001b[49m\u001b[43mattribute_names\u001b[49m\u001b[43m,\u001b[49m\n\u001b[32m   1676\u001b[39m \u001b[43m    \u001b[49m\u001b[43mno_autoflush\u001b[49m\u001b[43m=\u001b[49m\u001b[43mno_autoflush\u001b[49m\u001b[43m,\u001b[49m\n\u001b[32m   1677\u001b[39m \u001b[43m\u001b[49m\u001b[43m)\u001b[49m\n\u001b[32m   1679\u001b[39m \u001b[38;5;66;03m# if instance is pending, a refresh operation\u001b[39;00m\n\u001b[32m   1680\u001b[39m \u001b[38;5;66;03m# may not complete (even if PK attributes are assigned)\u001b[39;00m\n\u001b[32m   1681\u001b[39m \u001b[38;5;28;01mif\u001b[39;00m has_key \u001b[38;5;129;01mand\u001b[39;00m result \u001b[38;5;129;01mis\u001b[39;00m \u001b[38;5;28;01mNone\u001b[39;00m:\n",
      "\u001b[36mFile \u001b[39m\u001b[32m~/opt/anaconda3/envs/koreasw/lib/python3.11/site-packages/sqlalchemy/orm/loading.py:509\u001b[39m, in \u001b[36mload_on_ident\u001b[39m\u001b[34m(session, statement, key, load_options, refresh_state, with_for_update, only_load_props, no_autoflush, bind_arguments, execution_options, require_pk_cols, is_user_refresh)\u001b[39m\n\u001b[32m    506\u001b[39m \u001b[38;5;28;01melse\u001b[39;00m:\n\u001b[32m    507\u001b[39m     ident = identity_token = \u001b[38;5;28;01mNone\u001b[39;00m\n\u001b[32m--> \u001b[39m\u001b[32m509\u001b[39m \u001b[38;5;28;01mreturn\u001b[39;00m \u001b[43mload_on_pk_identity\u001b[49m\u001b[43m(\u001b[49m\n\u001b[32m    510\u001b[39m \u001b[43m    \u001b[49m\u001b[43msession\u001b[49m\u001b[43m,\u001b[49m\n\u001b[32m    511\u001b[39m \u001b[43m    \u001b[49m\u001b[43mstatement\u001b[49m\u001b[43m,\u001b[49m\n\u001b[32m    512\u001b[39m \u001b[43m    \u001b[49m\u001b[43mident\u001b[49m\u001b[43m,\u001b[49m\n\u001b[32m    513\u001b[39m \u001b[43m    \u001b[49m\u001b[43mload_options\u001b[49m\u001b[43m=\u001b[49m\u001b[43mload_options\u001b[49m\u001b[43m,\u001b[49m\n\u001b[32m    514\u001b[39m \u001b[43m    \u001b[49m\u001b[43mrefresh_state\u001b[49m\u001b[43m=\u001b[49m\u001b[43mrefresh_state\u001b[49m\u001b[43m,\u001b[49m\n\u001b[32m    515\u001b[39m \u001b[43m    \u001b[49m\u001b[43mwith_for_update\u001b[49m\u001b[43m=\u001b[49m\u001b[43mwith_for_update\u001b[49m\u001b[43m,\u001b[49m\n\u001b[32m    516\u001b[39m \u001b[43m    \u001b[49m\u001b[43monly_load_props\u001b[49m\u001b[43m=\u001b[49m\u001b[43monly_load_props\u001b[49m\u001b[43m,\u001b[49m\n\u001b[32m    517\u001b[39m \u001b[43m    \u001b[49m\u001b[43midentity_token\u001b[49m\u001b[43m=\u001b[49m\u001b[43midentity_token\u001b[49m\u001b[43m,\u001b[49m\n\u001b[32m    518\u001b[39m \u001b[43m    \u001b[49m\u001b[43mno_autoflush\u001b[49m\u001b[43m=\u001b[49m\u001b[43mno_autoflush\u001b[49m\u001b[43m,\u001b[49m\n\u001b[32m    519\u001b[39m \u001b[43m    \u001b[49m\u001b[43mbind_arguments\u001b[49m\u001b[43m=\u001b[49m\u001b[43mbind_arguments\u001b[49m\u001b[43m,\u001b[49m\n\u001b[32m    520\u001b[39m \u001b[43m    \u001b[49m\u001b[43mexecution_options\u001b[49m\u001b[43m=\u001b[49m\u001b[43mexecution_options\u001b[49m\u001b[43m,\u001b[49m\n\u001b[32m    521\u001b[39m \u001b[43m    \u001b[49m\u001b[43mrequire_pk_cols\u001b[49m\u001b[43m=\u001b[49m\u001b[43mrequire_pk_cols\u001b[49m\u001b[43m,\u001b[49m\n\u001b[32m    522\u001b[39m \u001b[43m    \u001b[49m\u001b[43mis_user_refresh\u001b[49m\u001b[43m=\u001b[49m\u001b[43mis_user_refresh\u001b[49m\u001b[43m,\u001b[49m\n\u001b[32m    523\u001b[39m \u001b[43m\u001b[49m\u001b[43m)\u001b[49m\n",
      "\u001b[36mFile \u001b[39m\u001b[32m~/opt/anaconda3/envs/koreasw/lib/python3.11/site-packages/sqlalchemy/orm/loading.py:694\u001b[39m, in \u001b[36mload_on_pk_identity\u001b[39m\u001b[34m(session, statement, primary_key_identity, load_options, refresh_state, with_for_update, only_load_props, identity_token, no_autoflush, bind_arguments, execution_options, require_pk_cols, is_user_refresh)\u001b[39m\n\u001b[32m    688\u001b[39m     load_options += {\u001b[33m\"\u001b[39m\u001b[33m_autoflush\u001b[39m\u001b[33m\"\u001b[39m: \u001b[38;5;28;01mFalse\u001b[39;00m}\n\u001b[32m    690\u001b[39m execution_options = util.EMPTY_DICT.merge_with(\n\u001b[32m    691\u001b[39m     execution_options, {\u001b[33m\"\u001b[39m\u001b[33m_sa_orm_load_options\u001b[39m\u001b[33m\"\u001b[39m: load_options}\n\u001b[32m    692\u001b[39m )\n\u001b[32m    693\u001b[39m result = (\n\u001b[32m--> \u001b[39m\u001b[32m694\u001b[39m     \u001b[43msession\u001b[49m\u001b[43m.\u001b[49m\u001b[43mexecute\u001b[49m\u001b[43m(\u001b[49m\n\u001b[32m    695\u001b[39m \u001b[43m        \u001b[49m\u001b[43mq\u001b[49m\u001b[43m,\u001b[49m\n\u001b[32m    696\u001b[39m \u001b[43m        \u001b[49m\u001b[43mparams\u001b[49m\u001b[43m=\u001b[49m\u001b[43mparams\u001b[49m\u001b[43m,\u001b[49m\n\u001b[32m    697\u001b[39m \u001b[43m        \u001b[49m\u001b[43mexecution_options\u001b[49m\u001b[43m=\u001b[49m\u001b[43mexecution_options\u001b[49m\u001b[43m,\u001b[49m\n\u001b[32m    698\u001b[39m \u001b[43m        \u001b[49m\u001b[43mbind_arguments\u001b[49m\u001b[43m=\u001b[49m\u001b[43mbind_arguments\u001b[49m\u001b[43m,\u001b[49m\n\u001b[32m    699\u001b[39m \u001b[43m    \u001b[49m\u001b[43m)\u001b[49m\n\u001b[32m    700\u001b[39m     .unique()\n\u001b[32m    701\u001b[39m     .scalars()\n\u001b[32m    702\u001b[39m )\n\u001b[32m    704\u001b[39m \u001b[38;5;28;01mtry\u001b[39;00m:\n\u001b[32m    705\u001b[39m     \u001b[38;5;28;01mreturn\u001b[39;00m result.one()\n",
      "\u001b[36mFile \u001b[39m\u001b[32m~/opt/anaconda3/envs/koreasw/lib/python3.11/site-packages/sqlalchemy/orm/session.py:2365\u001b[39m, in \u001b[36mSession.execute\u001b[39m\u001b[34m(self, statement, params, execution_options, bind_arguments, _parent_execute_state, _add_event)\u001b[39m\n\u001b[32m   2305\u001b[39m \u001b[38;5;28;01mdef\u001b[39;00m\u001b[38;5;250m \u001b[39m\u001b[34mexecute\u001b[39m(\n\u001b[32m   2306\u001b[39m     \u001b[38;5;28mself\u001b[39m,\n\u001b[32m   2307\u001b[39m     statement: Executable,\n\u001b[32m   (...)\u001b[39m\u001b[32m   2313\u001b[39m     _add_event: Optional[Any] = \u001b[38;5;28;01mNone\u001b[39;00m,\n\u001b[32m   2314\u001b[39m ) -> Result[Any]:\n\u001b[32m   2315\u001b[39m \u001b[38;5;250m    \u001b[39m\u001b[33mr\u001b[39m\u001b[33;03m\"\"\"Execute a SQL expression construct.\u001b[39;00m\n\u001b[32m   2316\u001b[39m \n\u001b[32m   2317\u001b[39m \u001b[33;03m    Returns a :class:`_engine.Result` object representing\u001b[39;00m\n\u001b[32m   (...)\u001b[39m\u001b[32m   2363\u001b[39m \n\u001b[32m   2364\u001b[39m \u001b[33;03m    \"\"\"\u001b[39;00m\n\u001b[32m-> \u001b[39m\u001b[32m2365\u001b[39m     \u001b[38;5;28;01mreturn\u001b[39;00m \u001b[38;5;28;43mself\u001b[39;49m\u001b[43m.\u001b[49m\u001b[43m_execute_internal\u001b[49m\u001b[43m(\u001b[49m\n\u001b[32m   2366\u001b[39m \u001b[43m        \u001b[49m\u001b[43mstatement\u001b[49m\u001b[43m,\u001b[49m\n\u001b[32m   2367\u001b[39m \u001b[43m        \u001b[49m\u001b[43mparams\u001b[49m\u001b[43m,\u001b[49m\n\u001b[32m   2368\u001b[39m \u001b[43m        \u001b[49m\u001b[43mexecution_options\u001b[49m\u001b[43m=\u001b[49m\u001b[43mexecution_options\u001b[49m\u001b[43m,\u001b[49m\n\u001b[32m   2369\u001b[39m \u001b[43m        \u001b[49m\u001b[43mbind_arguments\u001b[49m\u001b[43m=\u001b[49m\u001b[43mbind_arguments\u001b[49m\u001b[43m,\u001b[49m\n\u001b[32m   2370\u001b[39m \u001b[43m        \u001b[49m\u001b[43m_parent_execute_state\u001b[49m\u001b[43m=\u001b[49m\u001b[43m_parent_execute_state\u001b[49m\u001b[43m,\u001b[49m\n\u001b[32m   2371\u001b[39m \u001b[43m        \u001b[49m\u001b[43m_add_event\u001b[49m\u001b[43m=\u001b[49m\u001b[43m_add_event\u001b[49m\u001b[43m,\u001b[49m\n\u001b[32m   2372\u001b[39m \u001b[43m    \u001b[49m\u001b[43m)\u001b[49m\n",
      "\u001b[36mFile \u001b[39m\u001b[32m~/opt/anaconda3/envs/koreasw/lib/python3.11/site-packages/sqlalchemy/orm/session.py:2251\u001b[39m, in \u001b[36mSession._execute_internal\u001b[39m\u001b[34m(self, statement, params, execution_options, bind_arguments, _parent_execute_state, _add_event, _scalar_result)\u001b[39m\n\u001b[32m   2246\u001b[39m     \u001b[38;5;28;01mreturn\u001b[39;00m conn.scalar(\n\u001b[32m   2247\u001b[39m         statement, params \u001b[38;5;129;01mor\u001b[39;00m {}, execution_options=execution_options\n\u001b[32m   2248\u001b[39m     )\n\u001b[32m   2250\u001b[39m \u001b[38;5;28;01mif\u001b[39;00m compile_state_cls:\n\u001b[32m-> \u001b[39m\u001b[32m2251\u001b[39m     result: Result[Any] = \u001b[43mcompile_state_cls\u001b[49m\u001b[43m.\u001b[49m\u001b[43morm_execute_statement\u001b[49m\u001b[43m(\u001b[49m\n\u001b[32m   2252\u001b[39m \u001b[43m        \u001b[49m\u001b[38;5;28;43mself\u001b[39;49m\u001b[43m,\u001b[49m\n\u001b[32m   2253\u001b[39m \u001b[43m        \u001b[49m\u001b[43mstatement\u001b[49m\u001b[43m,\u001b[49m\n\u001b[32m   2254\u001b[39m \u001b[43m        \u001b[49m\u001b[43mparams\u001b[49m\u001b[43m \u001b[49m\u001b[38;5;129;43;01mor\u001b[39;49;00m\u001b[43m \u001b[49m\u001b[43m{\u001b[49m\u001b[43m}\u001b[49m\u001b[43m,\u001b[49m\n\u001b[32m   2255\u001b[39m \u001b[43m        \u001b[49m\u001b[43mexecution_options\u001b[49m\u001b[43m,\u001b[49m\n\u001b[32m   2256\u001b[39m \u001b[43m        \u001b[49m\u001b[43mbind_arguments\u001b[49m\u001b[43m,\u001b[49m\n\u001b[32m   2257\u001b[39m \u001b[43m        \u001b[49m\u001b[43mconn\u001b[49m\u001b[43m,\u001b[49m\n\u001b[32m   2258\u001b[39m \u001b[43m    \u001b[49m\u001b[43m)\u001b[49m\n\u001b[32m   2259\u001b[39m \u001b[38;5;28;01melse\u001b[39;00m:\n\u001b[32m   2260\u001b[39m     result = conn.execute(\n\u001b[32m   2261\u001b[39m         statement, params \u001b[38;5;129;01mor\u001b[39;00m {}, execution_options=execution_options\n\u001b[32m   2262\u001b[39m     )\n",
      "\u001b[36mFile \u001b[39m\u001b[32m~/opt/anaconda3/envs/koreasw/lib/python3.11/site-packages/sqlalchemy/orm/context.py:305\u001b[39m, in \u001b[36mAbstractORMCompileState.orm_execute_statement\u001b[39m\u001b[34m(cls, session, statement, params, execution_options, bind_arguments, conn)\u001b[39m\n\u001b[32m    295\u001b[39m \u001b[38;5;129m@classmethod\u001b[39m\n\u001b[32m    296\u001b[39m \u001b[38;5;28;01mdef\u001b[39;00m\u001b[38;5;250m \u001b[39m\u001b[34morm_execute_statement\u001b[39m(\n\u001b[32m    297\u001b[39m     \u001b[38;5;28mcls\u001b[39m,\n\u001b[32m   (...)\u001b[39m\u001b[32m    303\u001b[39m     conn,\n\u001b[32m    304\u001b[39m ) -> Result:\n\u001b[32m--> \u001b[39m\u001b[32m305\u001b[39m     result = \u001b[43mconn\u001b[49m\u001b[43m.\u001b[49m\u001b[43mexecute\u001b[49m\u001b[43m(\u001b[49m\n\u001b[32m    306\u001b[39m \u001b[43m        \u001b[49m\u001b[43mstatement\u001b[49m\u001b[43m,\u001b[49m\u001b[43m \u001b[49m\u001b[43mparams\u001b[49m\u001b[43m \u001b[49m\u001b[38;5;129;43;01mor\u001b[39;49;00m\u001b[43m \u001b[49m\u001b[43m{\u001b[49m\u001b[43m}\u001b[49m\u001b[43m,\u001b[49m\u001b[43m \u001b[49m\u001b[43mexecution_options\u001b[49m\u001b[43m=\u001b[49m\u001b[43mexecution_options\u001b[49m\n\u001b[32m    307\u001b[39m \u001b[43m    \u001b[49m\u001b[43m)\u001b[49m\n\u001b[32m    308\u001b[39m     \u001b[38;5;28;01mreturn\u001b[39;00m \u001b[38;5;28mcls\u001b[39m.orm_setup_cursor_result(\n\u001b[32m    309\u001b[39m         session,\n\u001b[32m    310\u001b[39m         statement,\n\u001b[32m   (...)\u001b[39m\u001b[32m    314\u001b[39m         result,\n\u001b[32m    315\u001b[39m     )\n",
      "\u001b[36mFile \u001b[39m\u001b[32m~/opt/anaconda3/envs/koreasw/lib/python3.11/site-packages/sqlalchemy/engine/base.py:1416\u001b[39m, in \u001b[36mConnection.execute\u001b[39m\u001b[34m(self, statement, parameters, execution_options)\u001b[39m\n\u001b[32m   1414\u001b[39m     \u001b[38;5;28;01mraise\u001b[39;00m exc.ObjectNotExecutableError(statement) \u001b[38;5;28;01mfrom\u001b[39;00m\u001b[38;5;250m \u001b[39m\u001b[34;01merr\u001b[39;00m\n\u001b[32m   1415\u001b[39m \u001b[38;5;28;01melse\u001b[39;00m:\n\u001b[32m-> \u001b[39m\u001b[32m1416\u001b[39m     \u001b[38;5;28;01mreturn\u001b[39;00m \u001b[43mmeth\u001b[49m\u001b[43m(\u001b[49m\n\u001b[32m   1417\u001b[39m \u001b[43m        \u001b[49m\u001b[38;5;28;43mself\u001b[39;49m\u001b[43m,\u001b[49m\n\u001b[32m   1418\u001b[39m \u001b[43m        \u001b[49m\u001b[43mdistilled_parameters\u001b[49m\u001b[43m,\u001b[49m\n\u001b[32m   1419\u001b[39m \u001b[43m        \u001b[49m\u001b[43mexecution_options\u001b[49m\u001b[43m \u001b[49m\u001b[38;5;129;43;01mor\u001b[39;49;00m\u001b[43m \u001b[49m\u001b[43mNO_OPTIONS\u001b[49m\u001b[43m,\u001b[49m\n\u001b[32m   1420\u001b[39m \u001b[43m    \u001b[49m\u001b[43m)\u001b[49m\n",
      "\u001b[36mFile \u001b[39m\u001b[32m~/opt/anaconda3/envs/koreasw/lib/python3.11/site-packages/sqlalchemy/sql/elements.py:516\u001b[39m, in \u001b[36mClauseElement._execute_on_connection\u001b[39m\u001b[34m(self, connection, distilled_params, execution_options)\u001b[39m\n\u001b[32m    514\u001b[39m     \u001b[38;5;28;01mif\u001b[39;00m TYPE_CHECKING:\n\u001b[32m    515\u001b[39m         \u001b[38;5;28;01massert\u001b[39;00m \u001b[38;5;28misinstance\u001b[39m(\u001b[38;5;28mself\u001b[39m, Executable)\n\u001b[32m--> \u001b[39m\u001b[32m516\u001b[39m     \u001b[38;5;28;01mreturn\u001b[39;00m \u001b[43mconnection\u001b[49m\u001b[43m.\u001b[49m\u001b[43m_execute_clauseelement\u001b[49m\u001b[43m(\u001b[49m\n\u001b[32m    517\u001b[39m \u001b[43m        \u001b[49m\u001b[38;5;28;43mself\u001b[39;49m\u001b[43m,\u001b[49m\u001b[43m \u001b[49m\u001b[43mdistilled_params\u001b[49m\u001b[43m,\u001b[49m\u001b[43m \u001b[49m\u001b[43mexecution_options\u001b[49m\n\u001b[32m    518\u001b[39m \u001b[43m    \u001b[49m\u001b[43m)\u001b[49m\n\u001b[32m    519\u001b[39m \u001b[38;5;28;01melse\u001b[39;00m:\n\u001b[32m    520\u001b[39m     \u001b[38;5;28;01mraise\u001b[39;00m exc.ObjectNotExecutableError(\u001b[38;5;28mself\u001b[39m)\n",
      "\u001b[36mFile \u001b[39m\u001b[32m~/opt/anaconda3/envs/koreasw/lib/python3.11/site-packages/sqlalchemy/engine/base.py:1638\u001b[39m, in \u001b[36mConnection._execute_clauseelement\u001b[39m\u001b[34m(self, elem, distilled_parameters, execution_options)\u001b[39m\n\u001b[32m   1626\u001b[39m compiled_cache: Optional[CompiledCacheType] = execution_options.get(\n\u001b[32m   1627\u001b[39m     \u001b[33m\"\u001b[39m\u001b[33mcompiled_cache\u001b[39m\u001b[33m\"\u001b[39m, \u001b[38;5;28mself\u001b[39m.engine._compiled_cache\n\u001b[32m   1628\u001b[39m )\n\u001b[32m   1630\u001b[39m compiled_sql, extracted_params, cache_hit = elem._compile_w_cache(\n\u001b[32m   1631\u001b[39m     dialect=dialect,\n\u001b[32m   1632\u001b[39m     compiled_cache=compiled_cache,\n\u001b[32m   (...)\u001b[39m\u001b[32m   1636\u001b[39m     linting=\u001b[38;5;28mself\u001b[39m.dialect.compiler_linting | compiler.WARN_LINTING,\n\u001b[32m   1637\u001b[39m )\n\u001b[32m-> \u001b[39m\u001b[32m1638\u001b[39m ret = \u001b[38;5;28;43mself\u001b[39;49m\u001b[43m.\u001b[49m\u001b[43m_execute_context\u001b[49m\u001b[43m(\u001b[49m\n\u001b[32m   1639\u001b[39m \u001b[43m    \u001b[49m\u001b[43mdialect\u001b[49m\u001b[43m,\u001b[49m\n\u001b[32m   1640\u001b[39m \u001b[43m    \u001b[49m\u001b[43mdialect\u001b[49m\u001b[43m.\u001b[49m\u001b[43mexecution_ctx_cls\u001b[49m\u001b[43m.\u001b[49m\u001b[43m_init_compiled\u001b[49m\u001b[43m,\u001b[49m\n\u001b[32m   1641\u001b[39m \u001b[43m    \u001b[49m\u001b[43mcompiled_sql\u001b[49m\u001b[43m,\u001b[49m\n\u001b[32m   1642\u001b[39m \u001b[43m    \u001b[49m\u001b[43mdistilled_parameters\u001b[49m\u001b[43m,\u001b[49m\n\u001b[32m   1643\u001b[39m \u001b[43m    \u001b[49m\u001b[43mexecution_options\u001b[49m\u001b[43m,\u001b[49m\n\u001b[32m   1644\u001b[39m \u001b[43m    \u001b[49m\u001b[43mcompiled_sql\u001b[49m\u001b[43m,\u001b[49m\n\u001b[32m   1645\u001b[39m \u001b[43m    \u001b[49m\u001b[43mdistilled_parameters\u001b[49m\u001b[43m,\u001b[49m\n\u001b[32m   1646\u001b[39m \u001b[43m    \u001b[49m\u001b[43melem\u001b[49m\u001b[43m,\u001b[49m\n\u001b[32m   1647\u001b[39m \u001b[43m    \u001b[49m\u001b[43mextracted_params\u001b[49m\u001b[43m,\u001b[49m\n\u001b[32m   1648\u001b[39m \u001b[43m    \u001b[49m\u001b[43mcache_hit\u001b[49m\u001b[43m=\u001b[49m\u001b[43mcache_hit\u001b[49m\u001b[43m,\u001b[49m\n\u001b[32m   1649\u001b[39m \u001b[43m\u001b[49m\u001b[43m)\u001b[49m\n\u001b[32m   1650\u001b[39m \u001b[38;5;28;01mif\u001b[39;00m has_events:\n\u001b[32m   1651\u001b[39m     \u001b[38;5;28mself\u001b[39m.dispatch.after_execute(\n\u001b[32m   1652\u001b[39m         \u001b[38;5;28mself\u001b[39m,\n\u001b[32m   1653\u001b[39m         elem,\n\u001b[32m   (...)\u001b[39m\u001b[32m   1657\u001b[39m         ret,\n\u001b[32m   1658\u001b[39m     )\n",
      "\u001b[36mFile \u001b[39m\u001b[32m~/opt/anaconda3/envs/koreasw/lib/python3.11/site-packages/sqlalchemy/engine/base.py:1818\u001b[39m, in \u001b[36mConnection._execute_context\u001b[39m\u001b[34m(self, dialect, constructor, statement, parameters, execution_options, *args, **kw)\u001b[39m\n\u001b[32m   1816\u001b[39m     \u001b[38;5;28;01mraise\u001b[39;00m\n\u001b[32m   1817\u001b[39m \u001b[38;5;28;01mexcept\u001b[39;00m \u001b[38;5;167;01mBaseException\u001b[39;00m \u001b[38;5;28;01mas\u001b[39;00m e:\n\u001b[32m-> \u001b[39m\u001b[32m1818\u001b[39m     \u001b[38;5;28;43mself\u001b[39;49m\u001b[43m.\u001b[49m\u001b[43m_handle_dbapi_exception\u001b[49m\u001b[43m(\u001b[49m\n\u001b[32m   1819\u001b[39m \u001b[43m        \u001b[49m\u001b[43me\u001b[49m\u001b[43m,\u001b[49m\u001b[43m \u001b[49m\u001b[38;5;28;43mstr\u001b[39;49m\u001b[43m(\u001b[49m\u001b[43mstatement\u001b[49m\u001b[43m)\u001b[49m\u001b[43m,\u001b[49m\u001b[43m \u001b[49m\u001b[43mparameters\u001b[49m\u001b[43m,\u001b[49m\u001b[43m \u001b[49m\u001b[38;5;28;43;01mNone\u001b[39;49;00m\u001b[43m,\u001b[49m\u001b[43m \u001b[49m\u001b[38;5;28;43;01mNone\u001b[39;49;00m\n\u001b[32m   1820\u001b[39m \u001b[43m    \u001b[49m\u001b[43m)\u001b[49m\n\u001b[32m   1822\u001b[39m \u001b[38;5;28;01mif\u001b[39;00m (\n\u001b[32m   1823\u001b[39m     \u001b[38;5;28mself\u001b[39m._transaction\n\u001b[32m   1824\u001b[39m     \u001b[38;5;129;01mand\u001b[39;00m \u001b[38;5;129;01mnot\u001b[39;00m \u001b[38;5;28mself\u001b[39m._transaction.is_active\n\u001b[32m   (...)\u001b[39m\u001b[32m   1828\u001b[39m     )\n\u001b[32m   1829\u001b[39m ):\n\u001b[32m   1830\u001b[39m     \u001b[38;5;28mself\u001b[39m._invalid_transaction()\n",
      "\u001b[36mFile \u001b[39m\u001b[32m~/opt/anaconda3/envs/koreasw/lib/python3.11/site-packages/sqlalchemy/engine/base.py:2352\u001b[39m, in \u001b[36mConnection._handle_dbapi_exception\u001b[39m\u001b[34m(self, e, statement, parameters, cursor, context, is_sub_exec)\u001b[39m\n\u001b[32m   2350\u001b[39m \u001b[38;5;28;01melif\u001b[39;00m should_wrap:\n\u001b[32m   2351\u001b[39m     \u001b[38;5;28;01massert\u001b[39;00m sqlalchemy_exception \u001b[38;5;129;01mis\u001b[39;00m \u001b[38;5;129;01mnot\u001b[39;00m \u001b[38;5;28;01mNone\u001b[39;00m\n\u001b[32m-> \u001b[39m\u001b[32m2352\u001b[39m     \u001b[38;5;28;01mraise\u001b[39;00m sqlalchemy_exception.with_traceback(exc_info[\u001b[32m2\u001b[39m]) \u001b[38;5;28;01mfrom\u001b[39;00m\u001b[38;5;250m \u001b[39m\u001b[34;01me\u001b[39;00m\n\u001b[32m   2353\u001b[39m \u001b[38;5;28;01melse\u001b[39;00m:\n\u001b[32m   2354\u001b[39m     \u001b[38;5;28;01massert\u001b[39;00m exc_info[\u001b[32m1\u001b[39m] \u001b[38;5;129;01mis\u001b[39;00m \u001b[38;5;129;01mnot\u001b[39;00m \u001b[38;5;28;01mNone\u001b[39;00m\n",
      "\u001b[36mFile \u001b[39m\u001b[32m~/opt/anaconda3/envs/koreasw/lib/python3.11/site-packages/sqlalchemy/engine/base.py:1812\u001b[39m, in \u001b[36mConnection._execute_context\u001b[39m\u001b[34m(self, dialect, constructor, statement, parameters, execution_options, *args, **kw)\u001b[39m\n\u001b[32m   1809\u001b[39m     \u001b[38;5;28;01mif\u001b[39;00m conn \u001b[38;5;129;01mis\u001b[39;00m \u001b[38;5;28;01mNone\u001b[39;00m:\n\u001b[32m   1810\u001b[39m         conn = \u001b[38;5;28mself\u001b[39m._revalidate_connection()\n\u001b[32m-> \u001b[39m\u001b[32m1812\u001b[39m     context = \u001b[43mconstructor\u001b[49m\u001b[43m(\u001b[49m\n\u001b[32m   1813\u001b[39m \u001b[43m        \u001b[49m\u001b[43mdialect\u001b[49m\u001b[43m,\u001b[49m\u001b[43m \u001b[49m\u001b[38;5;28;43mself\u001b[39;49m\u001b[43m,\u001b[49m\u001b[43m \u001b[49m\u001b[43mconn\u001b[49m\u001b[43m,\u001b[49m\u001b[43m \u001b[49m\u001b[43mexecution_options\u001b[49m\u001b[43m,\u001b[49m\u001b[43m \u001b[49m\u001b[43m*\u001b[49m\u001b[43margs\u001b[49m\u001b[43m,\u001b[49m\u001b[43m \u001b[49m\u001b[43m*\u001b[49m\u001b[43m*\u001b[49m\u001b[43mkw\u001b[49m\n\u001b[32m   1814\u001b[39m \u001b[43m    \u001b[49m\u001b[43m)\u001b[49m\n\u001b[32m   1815\u001b[39m \u001b[38;5;28;01mexcept\u001b[39;00m (exc.PendingRollbackError, exc.ResourceClosedError):\n\u001b[32m   1816\u001b[39m     \u001b[38;5;28;01mraise\u001b[39;00m\n",
      "\u001b[36mFile \u001b[39m\u001b[32m~/opt/anaconda3/envs/koreasw/lib/python3.11/site-packages/sqlalchemy/engine/default.py:1419\u001b[39m, in \u001b[36mDefaultExecutionContext._init_compiled\u001b[39m\u001b[34m(cls, dialect, connection, dbapi_connection, execution_options, compiled, parameters, invoked_statement, extracted_parameters, cache_hit)\u001b[39m\n\u001b[32m   1415\u001b[39m             \u001b[38;5;28mself\u001b[39m.execute_style = ExecuteStyle.EXECUTEMANY\n\u001b[32m   1417\u001b[39m \u001b[38;5;28mself\u001b[39m.unicode_statement = compiled.string\n\u001b[32m-> \u001b[39m\u001b[32m1419\u001b[39m \u001b[38;5;28mself\u001b[39m.cursor = \u001b[38;5;28;43mself\u001b[39;49m\u001b[43m.\u001b[49m\u001b[43mcreate_cursor\u001b[49m\u001b[43m(\u001b[49m\u001b[43m)\u001b[49m\n\u001b[32m   1421\u001b[39m \u001b[38;5;28;01mif\u001b[39;00m \u001b[38;5;28mself\u001b[39m.compiled.insert_prefetch \u001b[38;5;129;01mor\u001b[39;00m \u001b[38;5;28mself\u001b[39m.compiled.update_prefetch:\n\u001b[32m   1422\u001b[39m     \u001b[38;5;28mself\u001b[39m._process_execute_defaults()\n",
      "\u001b[36mFile \u001b[39m\u001b[32m~/opt/anaconda3/envs/koreasw/lib/python3.11/site-packages/sqlalchemy/engine/default.py:1753\u001b[39m, in \u001b[36mDefaultExecutionContext.create_cursor\u001b[39m\u001b[34m(self)\u001b[39m\n\u001b[32m   1751\u001b[39m \u001b[38;5;28;01melse\u001b[39;00m:\n\u001b[32m   1752\u001b[39m     \u001b[38;5;28mself\u001b[39m._is_server_side = \u001b[38;5;28;01mFalse\u001b[39;00m\n\u001b[32m-> \u001b[39m\u001b[32m1753\u001b[39m     \u001b[38;5;28;01mreturn\u001b[39;00m \u001b[38;5;28;43mself\u001b[39;49m\u001b[43m.\u001b[49m\u001b[43mcreate_default_cursor\u001b[49m\u001b[43m(\u001b[49m\u001b[43m)\u001b[49m\n",
      "\u001b[36mFile \u001b[39m\u001b[32m~/opt/anaconda3/envs/koreasw/lib/python3.11/site-packages/sqlalchemy/engine/default.py:1759\u001b[39m, in \u001b[36mDefaultExecutionContext.create_default_cursor\u001b[39m\u001b[34m(self)\u001b[39m\n\u001b[32m   1758\u001b[39m \u001b[38;5;28;01mdef\u001b[39;00m\u001b[38;5;250m \u001b[39m\u001b[34mcreate_default_cursor\u001b[39m(\u001b[38;5;28mself\u001b[39m):\n\u001b[32m-> \u001b[39m\u001b[32m1759\u001b[39m     \u001b[38;5;28;01mreturn\u001b[39;00m \u001b[38;5;28;43mself\u001b[39;49m\u001b[43m.\u001b[49m\u001b[43m_dbapi_connection\u001b[49m\u001b[43m.\u001b[49m\u001b[43mcursor\u001b[49m\u001b[43m(\u001b[49m\u001b[43m)\u001b[49m\n",
      "\u001b[36mFile \u001b[39m\u001b[32m~/opt/anaconda3/envs/koreasw/lib/python3.11/site-packages/sqlalchemy/pool/base.py:1485\u001b[39m, in \u001b[36m_ConnectionFairy.cursor\u001b[39m\u001b[34m(self, *args, **kwargs)\u001b[39m\n\u001b[32m   1483\u001b[39m \u001b[38;5;28;01mdef\u001b[39;00m\u001b[38;5;250m \u001b[39m\u001b[34mcursor\u001b[39m(\u001b[38;5;28mself\u001b[39m, *args: Any, **kwargs: Any) -> DBAPICursor:\n\u001b[32m   1484\u001b[39m     \u001b[38;5;28;01massert\u001b[39;00m \u001b[38;5;28mself\u001b[39m.dbapi_connection \u001b[38;5;129;01mis\u001b[39;00m \u001b[38;5;129;01mnot\u001b[39;00m \u001b[38;5;28;01mNone\u001b[39;00m\n\u001b[32m-> \u001b[39m\u001b[32m1485\u001b[39m     \u001b[38;5;28;01mreturn\u001b[39;00m \u001b[38;5;28;43mself\u001b[39;49m\u001b[43m.\u001b[49m\u001b[43mdbapi_connection\u001b[49m\u001b[43m.\u001b[49m\u001b[43mcursor\u001b[49m\u001b[43m(\u001b[49m\u001b[43m*\u001b[49m\u001b[43margs\u001b[49m\u001b[43m,\u001b[49m\u001b[43m \u001b[49m\u001b[43m*\u001b[49m\u001b[43m*\u001b[49m\u001b[43mkwargs\u001b[49m\u001b[43m)\u001b[49m\n",
      "\u001b[31mProgrammingError\u001b[39m: (sqlite3.ProgrammingError) SQLite objects created in a thread can only be used in that same thread. The object was created in thread id 6214709248 and this is thread id 8229144640.\n[SQL: SELECT post.pk AS post_pk, post.content AS post_content \nFROM post \nWHERE post.pk = ?]\n[parameters: [{'pk_1': 1}]]\n(Background on this error at: https://sqlalche.me/e/20/f405)"
     ]
    }
   ],
   "source": [
    "p1.content, len(p1.tags), p1.tags[0].tag.name"
   ]
  },
  {
   "cell_type": "code",
   "execution_count": null,
   "metadata": {},
   "outputs": [],
   "source": []
  }
 ],
 "metadata": {
  "kernelspec": {
   "display_name": "koreasw",
   "language": "python",
   "name": "python3"
  },
  "language_info": {
   "codemirror_mode": {
    "name": "ipython",
    "version": 3
   },
   "file_extension": ".py",
   "mimetype": "text/x-python",
   "name": "python",
   "nbconvert_exporter": "python",
   "pygments_lexer": "ipython3",
   "version": "3.11.11"
  }
 },
 "nbformat": 4,
 "nbformat_minor": 2
}
