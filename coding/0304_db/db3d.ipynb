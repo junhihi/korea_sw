{
 "cells": [
  {
   "cell_type": "markdown",
   "metadata": {},
   "source": [
    "#ORM\n",
    "client                      server\n",
    "python                      (R)DBMS    -----     Database\n",
    "sqlite3                     SQLite               FILE\n",
    "            connect\n",
    "        cursor(SQL, Params)\n",
    "        <-----------------> Business Logic != Dev\n",
    "=> Sns (포스팅 등록, 수정)"
   ]
  },
  {
   "cell_type": "code",
   "execution_count": 284,
   "metadata": {},
   "outputs": [],
   "source": [
    "import sqlite3"
   ]
  },
  {
   "cell_type": "code",
   "execution_count": 285,
   "metadata": {},
   "outputs": [],
   "source": [
    "con = sqlite3.connect('sns.db')\n",
    "cur = con.cursor()"
   ]
  },
  {
   "cell_type": "code",
   "execution_count": 286,
   "metadata": {},
   "outputs": [
    {
     "data": {
      "text/plain": [
       "<sqlite3.Cursor at 0x12b301e40>"
      ]
     },
     "execution_count": 286,
     "metadata": {},
     "output_type": "execute_result"
    }
   ],
   "source": [
    "# Table 3개\n",
    "# post          Hashtag         PostHashtag(N:M)\n",
    "# PK, content   PK, Tag, Cnt    P.PK, H.PK\n",
    "cur.executescript('''\n",
    "    drop table if exists post;\n",
    "    create table post(\n",
    "        pno integer primary key,\n",
    "        content text not null\n",
    "    );\n",
    "    \n",
    "    drop table if exists hashtag;\n",
    "    create table hashtag(\n",
    "        hno integer primary key,\n",
    "        name text not null,\n",
    "        cnt integer not null default 0\n",
    "    );\n",
    "\n",
    "drop table if exists ph;\n",
    "    create table ph(\n",
    "        pno integer not null,\n",
    "        hno integer not null\n",
    "    );\n",
    "''')"
   ]
  },
  {
   "cell_type": "code",
   "execution_count": 287,
   "metadata": {},
   "outputs": [
    {
     "data": {
      "text/plain": [
       "(0, 1)"
      ]
     },
     "execution_count": 287,
     "metadata": {},
     "output_type": "execute_result"
    }
   ],
   "source": [
    "# 새로운 게시물 등록 (내용, 해시태그들)\n",
    "# 해시태그; (1) 태그풀에 존재하는 애들만, (2)존재하지 않으면 새롭게 추가\n",
    "def findTag(tag):\n",
    "    cur.execute('select hno from hashtag where name=?', (tag,))\n",
    "    result = cur.fetchone()\n",
    "    if not result:\n",
    "        return 0\n",
    "    else: # none이 아닐 때, fetchone이니깐 tuple(열, 열, ...)\n",
    "        return result[0]\n",
    "\n",
    "def addTag(tag):\n",
    "    cur.execute('insert into hashtag(name) values(?)', (tag,))\n",
    "    con.commit()\n",
    "    return cur.lastrowid\n",
    "\n",
    "findTag('aadsfds'), addTag('태그1')"
   ]
  },
  {
   "cell_type": "code",
   "execution_count": 288,
   "metadata": {},
   "outputs": [
    {
     "data": {
      "text/plain": [
       "1"
      ]
     },
     "execution_count": 288,
     "metadata": {},
     "output_type": "execute_result"
    }
   ],
   "source": [
    "findTag('태그1')"
   ]
  },
  {
   "cell_type": "code",
   "execution_count": 289,
   "metadata": {},
   "outputs": [],
   "source": [
    "def plusCount(hno):\n",
    "    cur.execute('update hashtag set cnt = cnt + 1 where hno=?', (hno,))\n",
    "    con.commit()\n",
    "\n",
    "def minusCount(hno):\n",
    "    cur.execute('update hashtag set cnt = cnt - 1 where hno=?', (hno,))\n",
    "    con.commit()"
   ]
  },
  {
   "cell_type": "code",
   "execution_count": 290,
   "metadata": {},
   "outputs": [
    {
     "data": {
      "text/plain": [
       "(None, None, None)"
      ]
     },
     "execution_count": 290,
     "metadata": {},
     "output_type": "execute_result"
    }
   ],
   "source": [
    "plusCount(findTag('태그1')), plusCount(findTag('태그1')), plusCount(findTag('태그1'))"
   ]
  },
  {
   "cell_type": "code",
   "execution_count": 291,
   "metadata": {},
   "outputs": [
    {
     "data": {
      "text/plain": [
       "(None, None)"
      ]
     },
     "execution_count": 291,
     "metadata": {},
     "output_type": "execute_result"
    }
   ],
   "source": [
    "plusCount(findTag('태그2')), plusCount(findTag('태그3'))"
   ]
  },
  {
   "cell_type": "code",
   "execution_count": 292,
   "metadata": {},
   "outputs": [],
   "source": [
    "def addPosting(content, opt=True, *tags):\n",
    "    cur.execute('insert into post(content) values(?)', (content,))\n",
    "    con.commit()\n",
    "    pno = cur.lastrowid\n",
    "    # if cur.lastrowid < 1:\n",
    "    #     return None\n",
    "    \n",
    "    for tag in tags:\n",
    "        # (1) 태그풀에 존재하는 애들만\n",
    "        r = findTag(tag)\n",
    "        # (2) 태그풀에 존재하지 않으면 추가\n",
    "        if r == 0 and opt:\n",
    "            r = addTag(tag) # 새로운 태그가 들어가면, return lastrowid(마지막에 들어간 행번호)\n",
    "        if r > 0:\n",
    "            plusCount(r) # 사용된 태그에 +1\n",
    "            cur.execute('insert into ph(pno, hno) values(?,?)', (pno, r))\n",
    "            con.commit()\n",
    "    \n",
    "    return pno"
   ]
  },
  {
   "cell_type": "code",
   "execution_count": 293,
   "metadata": {},
   "outputs": [
    {
     "data": {
      "text/plain": [
       "1"
      ]
     },
     "execution_count": 293,
     "metadata": {},
     "output_type": "execute_result"
    }
   ],
   "source": [
    "addPosting('내용2', False, '태그1', '태그2', '태그3')"
   ]
  },
  {
   "cell_type": "code",
   "execution_count": 294,
   "metadata": {},
   "outputs": [
    {
     "data": {
      "text/plain": [
       "[(1, '내용2')]"
      ]
     },
     "execution_count": 294,
     "metadata": {},
     "output_type": "execute_result"
    }
   ],
   "source": [
    "cur.execute('select * from post')\n",
    "cur.fetchall()"
   ]
  },
  {
   "cell_type": "code",
   "execution_count": 53,
   "metadata": {},
   "outputs": [
    {
     "data": {
      "text/plain": [
       "[(1, '태그1', 4)]"
      ]
     },
     "execution_count": 53,
     "metadata": {},
     "output_type": "execute_result"
    }
   ],
   "source": [
    "cur.execute('SELECT * FROM HASHTAG')\n",
    "cur.fetchall()"
   ]
  },
  {
   "cell_type": "code",
   "execution_count": 54,
   "metadata": {},
   "outputs": [
    {
     "data": {
      "text/plain": [
       "[(1, 1)]"
      ]
     },
     "execution_count": 54,
     "metadata": {},
     "output_type": "execute_result"
    }
   ],
   "source": [
    "cur.execute('SELECT * FROM PH')\n",
    "cur.fetchall()"
   ]
  },
  {
   "cell_type": "code",
   "execution_count": 55,
   "metadata": {},
   "outputs": [
    {
     "data": {
      "text/plain": [
       "2"
      ]
     },
     "execution_count": 55,
     "metadata": {},
     "output_type": "execute_result"
    }
   ],
   "source": [
    "addPosting('내용3', True, '태그1', '태그2', '태그3')"
   ]
  },
  {
   "cell_type": "code",
   "execution_count": 56,
   "metadata": {},
   "outputs": [],
   "source": [
    "# 게시글 수정(pno, *태그들)\n",
    "# 태그들 => 기존 태그들과 비교해서 같으면 냅두고 다르면 수정(추가/삭제)\n",
    "def findTagsByID(pno):\n",
    "    result = list()\n",
    "    cur.execute('select hno from ph where pno=?', (pno,))\n",
    "    for row in cur.fetchall():\n",
    "        result.append(row[0])\n",
    "    return result\n",
    "\n",
    "def modifyPost(pno, content, *tags):\n",
    "    cur.execute('update post set content=? where pno=?', (content, pno))\n",
    "    con.commit()\n",
    "\n",
    "    tlist = findTagsByID(pno) # 원본에 붙어있던 태드글\n",
    "    hlist = list() # 새롭게 수정된 태그들\n",
    "    for tag in tags:\n",
    "        hno = findTag(tag)\n",
    "        if hno > 0:\n",
    "            hno = addTag(tag)\n",
    "        hlist.append(hno)\n",
    "    removelist = list(set(tlist) - set(hlist))\n",
    "    pluslist = list(set(hlist) - set(tlist))\n",
    "    for r in removelist:\n",
    "        minusCount(r)\n",
    "        cur.execute('delete from ph where pno=? and pno=?', (pno, r))\n",
    "    for r in pluslist:\n",
    "        plusCount(r)\n",
    "        cur.execute('insert into ph values(?,?)', (pno, r))\n",
    "    con.commit()"
   ]
  },
  {
   "cell_type": "code",
   "execution_count": 57,
   "metadata": {},
   "outputs": [],
   "source": [
    "modifyPost(1, '수정된 내용1', '태그1', '태그2') # 태그1 존치, 태그2 추가"
   ]
  },
  {
   "cell_type": "code",
   "execution_count": 58,
   "metadata": {},
   "outputs": [],
   "source": [
    "modifyPost(2, '수정된 내용2', '태그3') # 태그1이 삭제, 태그3이 추가"
   ]
  },
  {
   "cell_type": "code",
   "execution_count": 59,
   "metadata": {},
   "outputs": [],
   "source": [
    "modifyPost(2, '수정된 내용3', '태그1', '태그2', '태그3', '태그4') # 태그4가 추가"
   ]
  },
  {
   "cell_type": "code",
   "execution_count": 60,
   "metadata": {},
   "outputs": [
    {
     "data": {
      "text/plain": [
       "[(1, '태그1', 3),\n",
       " (2, '태그2', 0),\n",
       " (3, '태그3', 0),\n",
       " (4, '태그1', 1),\n",
       " (5, '태그2', 1),\n",
       " (6, '태그3', 0),\n",
       " (7, '태그1', 1),\n",
       " (8, '태그2', 1),\n",
       " (9, '태그3', 1)]"
      ]
     },
     "execution_count": 60,
     "metadata": {},
     "output_type": "execute_result"
    }
   ],
   "source": [
    "cur.execute('select * from hashtag')\n",
    "cur.fetchall()"
   ]
  },
  {
   "cell_type": "code",
   "execution_count": 61,
   "metadata": {},
   "outputs": [],
   "source": [
    "#절대 사용하지 말것\n",
    "cur.execute('delete from post')\n",
    "cur.execute('delete from hashtag')\n",
    "cur.execute('delete from ph')\n",
    "con.commit()"
   ]
  },
  {
   "cell_type": "code",
   "execution_count": 62,
   "metadata": {},
   "outputs": [],
   "source": [
    "# lastrowid => pk\n",
    "def addTag(tag):\n",
    "    if findTag(tag) == 0:\n",
    "        cur.execute('insert into hashtag(name) values(?)', (tag,))\n",
    "        con.commit()\n",
    "    return findTag(tag)"
   ]
  },
  {
   "cell_type": "code",
   "execution_count": 63,
   "metadata": {},
   "outputs": [
    {
     "data": {
      "text/plain": [
       "3"
      ]
     },
     "execution_count": 63,
     "metadata": {},
     "output_type": "execute_result"
    }
   ],
   "source": [
    "addPosting('내용1', True, '태그1')\n",
    "addPosting('내용2', False, '태그1', '태그2')\n",
    "addPosting('내용3', True, '태그2', '태그3')"
   ]
  },
  {
   "cell_type": "code",
   "execution_count": 64,
   "metadata": {},
   "outputs": [
    {
     "data": {
      "text/plain": [
       "[(1, '태그1', 2), (2, '태그2', 1), (3, '태그3', 1)]"
      ]
     },
     "execution_count": 64,
     "metadata": {},
     "output_type": "execute_result"
    }
   ],
   "source": [
    "cur.execute('select * from hashtag')\n",
    "cur.fetchall()"
   ]
  },
  {
   "cell_type": "code",
   "execution_count": 65,
   "metadata": {},
   "outputs": [
    {
     "data": {
      "text/plain": [
       "[(1, 1), (2, 1), (3, 2), (3, 3)]"
      ]
     },
     "execution_count": 65,
     "metadata": {},
     "output_type": "execute_result"
    }
   ],
   "source": [
    "cur.execute('select * from ph')\n",
    "cur.fetchall()"
   ]
  },
  {
   "cell_type": "code",
   "execution_count": 66,
   "metadata": {},
   "outputs": [],
   "source": [
    "modifyPost(1, '내용1', '태그1', '태그3') # 태그3 추가\n",
    "modifyPost(2, '내용2', '태그2') # 태그1 삭제\n",
    "modifyPost(3, '내용3') # 태그 삭제"
   ]
  },
  {
   "cell_type": "code",
   "execution_count": 67,
   "metadata": {},
   "outputs": [
    {
     "data": {
      "text/plain": [
       "[(1, '태그1', 1), (2, '태그2', 1), (3, '태그3', 1)]"
      ]
     },
     "execution_count": 67,
     "metadata": {},
     "output_type": "execute_result"
    }
   ],
   "source": [
    "cur.execute('select * from hashtag')\n",
    "cur.fetchall()"
   ]
  },
  {
   "cell_type": "code",
   "execution_count": 68,
   "metadata": {},
   "outputs": [
    {
     "data": {
      "text/plain": [
       "[(1, 1), (2, 1), (1, 3), (2, 2)]"
      ]
     },
     "execution_count": 68,
     "metadata": {},
     "output_type": "execute_result"
    }
   ],
   "source": [
    "cur.execute('select * from ph')\n",
    "cur.fetchall()"
   ]
  },
  {
   "cell_type": "code",
   "execution_count": 69,
   "metadata": {},
   "outputs": [
    {
     "data": {
      "text/plain": [
       "[('내용1', '태그1'), ('내용2', '태그1'), ('내용1', '태그3'), ('내용2', '태그2')]"
      ]
     },
     "execution_count": 69,
     "metadata": {},
     "output_type": "execute_result"
    }
   ],
   "source": [
    "cur.execute('''\n",
    "    select a.content, c.name\n",
    "    from post as a\n",
    "    inner join ph as b on b.pno = a.pno\n",
    "    inner join hashtag as c on b.hno=c.hno\n",
    "''')\n",
    "cur.fetchall()"
   ]
  },
  {
   "cell_type": "code",
   "execution_count": 70,
   "metadata": {},
   "outputs": [
    {
     "data": {
      "text/plain": [
       "('내용3', '')"
      ]
     },
     "execution_count": 70,
     "metadata": {},
     "output_type": "execute_result"
    }
   ],
   "source": [
    "def viewPost(pno):\n",
    "    cur.execute('''\n",
    "        select name from hashtag\n",
    "        inner join ph on ph.hno=hashtag.hno and ph.pno=?\n",
    "    ''', (pno,))\n",
    "    tags = list()\n",
    "    for row in cur.fetchall():\n",
    "        tags.append(row[0])\n",
    "    cur.execute('select content from post where pno=?', (pno,))\n",
    "    content = cur.fetchone()[0]\n",
    "    return content, ', '.join(tags)\n",
    "viewPost(3)"
   ]
  },
  {
   "cell_type": "code",
   "execution_count": 71,
   "metadata": {},
   "outputs": [
    {
     "data": {
      "text/plain": [
       "['태그1', '태그2', '태그3']"
      ]
     },
     "execution_count": 71,
     "metadata": {},
     "output_type": "execute_result"
    }
   ],
   "source": [
    "def search(name, asc = True):\n",
    "    order = 'asc' if asc else 'desc'\n",
    "    cur.execute('select name from hashtag where name like ? order by cnt '+order, ('%'+name+'%',))\n",
    "    result = list()\n",
    "    for row in cur.fetchall():\n",
    "        result.append(row[0])\n",
    "    return result\n",
    "search('태그')"
   ]
  },
  {
   "cell_type": "code",
   "execution_count": 72,
   "metadata": {},
   "outputs": [
    {
     "data": {
      "text/plain": [
       "[(1, '태그1', 1), (2, '태그2', 1), (3, '태그3', 1)]"
      ]
     },
     "execution_count": 72,
     "metadata": {},
     "output_type": "execute_result"
    }
   ],
   "source": [
    "cur.execute('select * from hashtag')\n",
    "cur.fetchall()"
   ]
  },
  {
   "cell_type": "code",
   "execution_count": 73,
   "metadata": {},
   "outputs": [
    {
     "name": "stdout",
     "output_type": "stream",
     "text": [
      "[('내용1',), ('내용2',)]\n"
     ]
    }
   ],
   "source": [
    "def searchPostByTag(tag):\n",
    "    hno = findTag(search(tag)[0])\n",
    "    cur.execute('select distinct(content) from post inner join ph on ph.pno=post.pno and ph.hno=?', (hno,))\n",
    "    print(cur.fetchall())\n",
    "searchPostByTag('태그1')"
   ]
  },
  {
   "cell_type": "code",
   "execution_count": 74,
   "metadata": {},
   "outputs": [],
   "source": [
    "con.close()"
   ]
  },
  {
   "cell_type": "code",
   "execution_count": 75,
   "metadata": {},
   "outputs": [
    {
     "name": "stdout",
     "output_type": "stream",
     "text": [
      "zsh:1: command not found: dir\n"
     ]
    }
   ],
   "source": [
    "!dir"
   ]
  },
  {
   "cell_type": "code",
   "execution_count": 79,
   "metadata": {},
   "outputs": [],
   "source": [
    "con = sqlite3.connect('test.db')\n",
    "con.close()"
   ]
  },
  {
   "cell_type": "code",
   "execution_count": 80,
   "metadata": {},
   "outputs": [
    {
     "name": "stdout",
     "output_type": "stream",
     "text": [
      "ORM.pdf           coffee.db-journal db3d.ipynb        sns.db\n",
      "coffee.db         db2d.ipynb        est.db            test.db\n"
     ]
    }
   ],
   "source": [
    "!ls"
   ]
  },
  {
   "cell_type": "code",
   "execution_count": 87,
   "metadata": {},
   "outputs": [],
   "source": [
    "from sqlalchemy.engine import create_engine"
   ]
  },
  {
   "cell_type": "code",
   "execution_count": 91,
   "metadata": {},
   "outputs": [],
   "source": [
    "engine = create_engine('sqlite:///alchemy.db', echo=True)"
   ]
  },
  {
   "cell_type": "code",
   "execution_count": 92,
   "metadata": {},
   "outputs": [],
   "source": [
    "con = engine.connect()"
   ]
  },
  {
   "cell_type": "code",
   "execution_count": 95,
   "metadata": {},
   "outputs": [],
   "source": [
    "from sqlalchemy.schema import MetaData, Table, Column, ForeignKey"
   ]
  },
  {
   "cell_type": "code",
   "execution_count": 96,
   "metadata": {},
   "outputs": [],
   "source": [
    "meta = MetaData()"
   ]
  },
  {
   "cell_type": "code",
   "execution_count": 100,
   "metadata": {},
   "outputs": [
    {
     "name": "stdout",
     "output_type": "stream",
     "text": [
      "Collecting Integer\n",
      "  Downloading integer-1.0.3.tar.gz (15 kB)\n",
      "  Preparing metadata (setup.py) ... \u001b[?25ldone\n",
      "\u001b[?25hBuilding wheels for collected packages: Integer\n",
      "  Building wheel for Integer (setup.py) ... \u001b[?25ldone\n",
      "\u001b[?25h  Created wheel for Integer: filename=integer-1.0.3-py3-none-any.whl size=16527 sha256=8bee081b4a2b7ef68b0fff1bbaee7d32b1eb7a28cf89d7d8a626120079890531\n",
      "  Stored in directory: /Users/junhi/Library/Caches/pip/wheels/06/82/bd/1be5ebf6a559522c3cbe0f92bedf7554fe52b572b9deeefab3\n",
      "Successfully built Integer\n",
      "Installing collected packages: Integer\n",
      "Successfully installed Integer-1.0.3\n",
      "Note: you may need to restart the kernel to use updated packages.\n"
     ]
    }
   ],
   "source": [
    "pip install Integer"
   ]
  },
  {
   "cell_type": "code",
   "execution_count": 102,
   "metadata": {},
   "outputs": [],
   "source": [
    "from sqlalchemy.types import Integer, Text"
   ]
  },
  {
   "cell_type": "code",
   "execution_count": 103,
   "metadata": {},
   "outputs": [
    {
     "data": {
      "text/plain": [
       "FacadeDict({})"
      ]
     },
     "execution_count": 103,
     "metadata": {},
     "output_type": "execute_result"
    }
   ],
   "source": [
    "meta.tables"
   ]
  },
  {
   "cell_type": "code",
   "execution_count": 104,
   "metadata": {},
   "outputs": [
    {
     "data": {
      "text/plain": [
       "Table('user', MetaData(), Column('pk', Integer(), table=<user>, primary_key=True, nullable=False), Column('name', Text(), table=<user>, nullable=False), schema=None)"
      ]
     },
     "execution_count": 104,
     "metadata": {},
     "output_type": "execute_result"
    }
   ],
   "source": [
    "Table('user', meta, \n",
    "Column('pk', Integer, primary_key=True),\n",
    "Column('name', Text, nullable=False))"
   ]
  },
  {
   "cell_type": "code",
   "execution_count": 105,
   "metadata": {},
   "outputs": [],
   "source": [
    "userObj = meta.tables['user']"
   ]
  },
  {
   "cell_type": "code",
   "execution_count": 106,
   "metadata": {},
   "outputs": [
    {
     "name": "stdout",
     "output_type": "stream",
     "text": [
      "2025-03-06 11:26:29,592 INFO sqlalchemy.engine.Engine BEGIN (implicit)\n",
      "2025-03-06 11:26:29,593 INFO sqlalchemy.engine.Engine PRAGMA main.table_info(\"user\")\n",
      "2025-03-06 11:26:29,593 INFO sqlalchemy.engine.Engine [raw sql] ()\n",
      "2025-03-06 11:26:29,594 INFO sqlalchemy.engine.Engine PRAGMA temp.table_info(\"user\")\n",
      "2025-03-06 11:26:29,594 INFO sqlalchemy.engine.Engine [raw sql] ()\n",
      "2025-03-06 11:26:29,595 INFO sqlalchemy.engine.Engine \n",
      "CREATE TABLE user (\n",
      "\tpk INTEGER NOT NULL, \n",
      "\tname TEXT NOT NULL, \n",
      "\tPRIMARY KEY (pk)\n",
      ")\n",
      "\n",
      "\n",
      "2025-03-06 11:26:29,595 INFO sqlalchemy.engine.Engine [no key 0.00021s] ()\n",
      "2025-03-06 11:26:29,596 INFO sqlalchemy.engine.Engine COMMIT\n"
     ]
    }
   ],
   "source": [
    "meta.create_all(engine)"
   ]
  },
  {
   "cell_type": "code",
   "execution_count": 107,
   "metadata": {},
   "outputs": [
    {
     "name": "stdout",
     "output_type": "stream",
     "text": [
      "SELECT \"user\".pk, \"user\".name \n",
      "FROM \"user\"\n",
      "2025-03-06 11:26:35,274 INFO sqlalchemy.engine.Engine BEGIN (implicit)\n",
      "2025-03-06 11:26:35,274 INFO sqlalchemy.engine.Engine SELECT user.pk, user.name \n",
      "FROM user\n",
      "2025-03-06 11:26:35,275 INFO sqlalchemy.engine.Engine [generated in 0.00123s] ()\n"
     ]
    }
   ],
   "source": [
    "print(userObj.select())\n",
    "result = con.execute(userObj.select())"
   ]
  },
  {
   "cell_type": "code",
   "execution_count": 108,
   "metadata": {},
   "outputs": [
    {
     "data": {
      "text/plain": [
       "[]"
      ]
     },
     "execution_count": 108,
     "metadata": {},
     "output_type": "execute_result"
    }
   ],
   "source": [
    "result.fetchall()"
   ]
  },
  {
   "cell_type": "code",
   "execution_count": 109,
   "metadata": {},
   "outputs": [],
   "source": [
    "meta.clear()"
   ]
  },
  {
   "cell_type": "code",
   "execution_count": 115,
   "metadata": {},
   "outputs": [],
   "source": [
    "con.close()"
   ]
  },
  {
   "cell_type": "code",
   "execution_count": 116,
   "metadata": {},
   "outputs": [],
   "source": [
    "con = engine.connect()"
   ]
  },
  {
   "cell_type": "code",
   "execution_count": 117,
   "metadata": {},
   "outputs": [
    {
     "data": {
      "text/plain": [
       "FacadeDict({})"
      ]
     },
     "execution_count": 117,
     "metadata": {},
     "output_type": "execute_result"
    }
   ],
   "source": [
    "meta.tables"
   ]
  },
  {
   "cell_type": "code",
   "execution_count": 118,
   "metadata": {},
   "outputs": [
    {
     "name": "stdout",
     "output_type": "stream",
     "text": [
      "2025-03-06 11:27:50,336 INFO sqlalchemy.engine.Engine BEGIN (implicit)\n",
      "2025-03-06 11:27:50,336 INFO sqlalchemy.engine.Engine SELECT name FROM sqlite_master WHERE type='table' AND name NOT LIKE 'sqlite~_%' ESCAPE '~' ORDER BY name\n",
      "2025-03-06 11:27:50,337 INFO sqlalchemy.engine.Engine [raw sql] ()\n",
      "2025-03-06 11:27:50,337 INFO sqlalchemy.engine.Engine SELECT name FROM sqlite_temp_master WHERE type='table' AND name NOT LIKE 'sqlite~_%' ESCAPE '~' ORDER BY name\n",
      "2025-03-06 11:27:50,337 INFO sqlalchemy.engine.Engine [raw sql] ()\n",
      "2025-03-06 11:27:50,338 INFO sqlalchemy.engine.Engine PRAGMA main.table_xinfo(\"user\")\n",
      "2025-03-06 11:27:50,338 INFO sqlalchemy.engine.Engine [raw sql] ()\n",
      "2025-03-06 11:27:50,339 INFO sqlalchemy.engine.Engine SELECT sql FROM  (SELECT * FROM sqlite_master UNION ALL   SELECT * FROM sqlite_temp_master) WHERE name = ? AND type in ('table', 'view')\n",
      "2025-03-06 11:27:50,339 INFO sqlalchemy.engine.Engine [raw sql] ('user',)\n",
      "2025-03-06 11:27:50,340 INFO sqlalchemy.engine.Engine PRAGMA main.foreign_key_list(\"user\")\n",
      "2025-03-06 11:27:50,340 INFO sqlalchemy.engine.Engine [raw sql] ()\n",
      "2025-03-06 11:27:50,340 INFO sqlalchemy.engine.Engine PRAGMA temp.foreign_key_list(\"user\")\n",
      "2025-03-06 11:27:50,341 INFO sqlalchemy.engine.Engine [raw sql] ()\n",
      "2025-03-06 11:27:50,341 INFO sqlalchemy.engine.Engine SELECT sql FROM  (SELECT * FROM sqlite_master UNION ALL   SELECT * FROM sqlite_temp_master) WHERE name = ? AND type in ('table', 'view')\n",
      "2025-03-06 11:27:50,341 INFO sqlalchemy.engine.Engine [raw sql] ('user',)\n",
      "2025-03-06 11:27:50,342 INFO sqlalchemy.engine.Engine PRAGMA main.index_list(\"user\")\n",
      "2025-03-06 11:27:50,342 INFO sqlalchemy.engine.Engine [raw sql] ()\n",
      "2025-03-06 11:27:50,342 INFO sqlalchemy.engine.Engine PRAGMA temp.index_list(\"user\")\n",
      "2025-03-06 11:27:50,342 INFO sqlalchemy.engine.Engine [raw sql] ()\n",
      "2025-03-06 11:27:50,343 INFO sqlalchemy.engine.Engine PRAGMA main.table_info(\"user\")\n",
      "2025-03-06 11:27:50,343 INFO sqlalchemy.engine.Engine [raw sql] ()\n",
      "2025-03-06 11:27:50,344 INFO sqlalchemy.engine.Engine PRAGMA main.index_list(\"user\")\n",
      "2025-03-06 11:27:50,344 INFO sqlalchemy.engine.Engine [raw sql] ()\n",
      "2025-03-06 11:27:50,344 INFO sqlalchemy.engine.Engine PRAGMA temp.index_list(\"user\")\n",
      "2025-03-06 11:27:50,344 INFO sqlalchemy.engine.Engine [raw sql] ()\n",
      "2025-03-06 11:27:50,344 INFO sqlalchemy.engine.Engine PRAGMA main.table_info(\"user\")\n",
      "2025-03-06 11:27:50,345 INFO sqlalchemy.engine.Engine [raw sql] ()\n",
      "2025-03-06 11:27:50,345 INFO sqlalchemy.engine.Engine SELECT sql FROM  (SELECT * FROM sqlite_master UNION ALL   SELECT * FROM sqlite_temp_master) WHERE name = ? AND type in ('table', 'view')\n",
      "2025-03-06 11:27:50,345 INFO sqlalchemy.engine.Engine [raw sql] ('user',)\n",
      "2025-03-06 11:27:50,346 INFO sqlalchemy.engine.Engine ROLLBACK\n"
     ]
    }
   ],
   "source": [
    "meta.reflect(engine) # 불러오는것"
   ]
  },
  {
   "cell_type": "code",
   "execution_count": 119,
   "metadata": {},
   "outputs": [
    {
     "name": "stdout",
     "output_type": "stream",
     "text": [
      "2025-03-06 11:27:51,337 INFO sqlalchemy.engine.Engine BEGIN (implicit)\n",
      "2025-03-06 11:27:51,337 INFO sqlalchemy.engine.Engine SELECT user.pk, user.name \n",
      "FROM user\n",
      "2025-03-06 11:27:51,338 INFO sqlalchemy.engine.Engine [generated in 0.00065s] ()\n"
     ]
    },
    {
     "data": {
      "text/plain": [
       "[]"
      ]
     },
     "execution_count": 119,
     "metadata": {},
     "output_type": "execute_result"
    }
   ],
   "source": [
    "con.execute(meta.tables['user'].select()).fetchall()"
   ]
  },
  {
   "cell_type": "code",
   "execution_count": 120,
   "metadata": {},
   "outputs": [
    {
     "data": {
      "text/plain": [
       "Table('info', MetaData(), Column('pk', Integer(), table=<info>, primary_key=True, nullable=False), Column('name', Text(), table=<info>, nullable=False), schema=None)"
      ]
     },
     "execution_count": 120,
     "metadata": {},
     "output_type": "execute_result"
    }
   ],
   "source": [
    "Table('info', meta,\n",
    "Column('pk', Integer, primary_key=True),\n",
    "Column('name', Text, nullable=False))"
   ]
  },
  {
   "cell_type": "code",
   "execution_count": 121,
   "metadata": {},
   "outputs": [],
   "source": [
    "# meta.create_all(engine) # 내일 오류\n",
    "#     Client                                    Server\n",
    "#     Python                                    SQLite\n",
    "\n",
    "# ORM(Clas)\n",
    "# Instance->Meta->SQL->engine->Dialect            반영\n",
    "# Class->Instance->Meta->SQL->engine->Dialect     반영\n",
    "# Meta(Class, Table, Mapper)"
   ]
  },
  {
   "cell_type": "code",
   "execution_count": 122,
   "metadata": {},
   "outputs": [
    {
     "name": "stdout",
     "output_type": "stream",
     "text": [
      "2025-03-06 11:27:52,145 INFO sqlalchemy.engine.Engine BEGIN (implicit)\n",
      "2025-03-06 11:27:52,146 INFO sqlalchemy.engine.Engine PRAGMA main.table_info(\"info\")\n",
      "2025-03-06 11:27:52,146 INFO sqlalchemy.engine.Engine [raw sql] ()\n",
      "2025-03-06 11:27:52,146 INFO sqlalchemy.engine.Engine PRAGMA temp.table_info(\"info\")\n",
      "2025-03-06 11:27:52,146 INFO sqlalchemy.engine.Engine [raw sql] ()\n",
      "2025-03-06 11:27:52,147 INFO sqlalchemy.engine.Engine \n",
      "CREATE TABLE info (\n",
      "\tpk INTEGER NOT NULL, \n",
      "\tname TEXT NOT NULL, \n",
      "\tPRIMARY KEY (pk)\n",
      ")\n",
      "\n",
      "\n",
      "2025-03-06 11:27:52,147 INFO sqlalchemy.engine.Engine [no key 0.00021s] ()\n",
      "2025-03-06 11:27:52,148 INFO sqlalchemy.engine.Engine COMMIT\n"
     ]
    }
   ],
   "source": [
    "meta.create_all(engine, [meta.tables['info']])"
   ]
  },
  {
   "cell_type": "code",
   "execution_count": 123,
   "metadata": {},
   "outputs": [],
   "source": [
    "from sqlalchemy.sql import select, insert, join"
   ]
  },
  {
   "cell_type": "code",
   "execution_count": 124,
   "metadata": {},
   "outputs": [
    {
     "name": "stdout",
     "output_type": "stream",
     "text": [
      "SELECT\n",
      "\n",
      "SELECT info.pk, info.name \n",
      "FROM info\n",
      "\n",
      "SELECT info.pk, info.name \n",
      "FROM info \n",
      "WHERE info.pk = :pk_1\n"
     ]
    }
   ],
   "source": [
    "print(select(), end='\\n\\n')\n",
    "print(select(meta.tables['info']), end='\\n\\n')\n",
    "print(select(meta.tables['info']).where(meta.tables['info'].c['pk']==1))"
   ]
  },
  {
   "cell_type": "code",
   "execution_count": 125,
   "metadata": {},
   "outputs": [],
   "source": [
    "info1 = select(meta.tables['info']).where(meta.tables['info'].c['pk']==1)"
   ]
  },
  {
   "cell_type": "code",
   "execution_count": 126,
   "metadata": {},
   "outputs": [
    {
     "name": "stdout",
     "output_type": "stream",
     "text": [
      "2025-03-06 11:27:52,803 INFO sqlalchemy.engine.Engine SELECT info.pk, info.name \n",
      "FROM info \n",
      "WHERE info.pk = ?\n",
      "2025-03-06 11:27:52,803 INFO sqlalchemy.engine.Engine [generated in 0.00049s] (1,)\n"
     ]
    },
    {
     "data": {
      "text/plain": [
       "[]"
      ]
     },
     "execution_count": 126,
     "metadata": {},
     "output_type": "execute_result"
    }
   ],
   "source": [
    "con.execute(info1).fetchall() # 메모리에서 사용함 db랑 상관없음"
   ]
  },
  {
   "cell_type": "code",
   "execution_count": 127,
   "metadata": {},
   "outputs": [],
   "source": [
    "user = meta.tables['user'] # db랑 상관없음\n",
    "info = meta.tables['info'] # db랑 상관없음"
   ]
  },
  {
   "cell_type": "code",
   "execution_count": 128,
   "metadata": {},
   "outputs": [
    {
     "name": "stdout",
     "output_type": "stream",
     "text": [
      "INSERT INTO \"user\" (pk, name) VALUES (:pk, :name)\n",
      "{'pk': 1, 'name': '1번사람'}\n"
     ]
    }
   ],
   "source": [
    "user.insert().values(pk=1, name='1번사람') # db랑 상관없음\n",
    "print(user.insert().values(pk=1, name='1번사람').values())\n",
    "print(user.insert().values(pk=1, name='1번사람').values().compile().params)"
   ]
  },
  {
   "cell_type": "code",
   "execution_count": 129,
   "metadata": {},
   "outputs": [
    {
     "name": "stdout",
     "output_type": "stream",
     "text": [
      "2025-03-06 11:27:53,335 INFO sqlalchemy.engine.Engine INSERT INTO user (pk, name) VALUES (?, ?)\n",
      "2025-03-06 11:27:53,335 INFO sqlalchemy.engine.Engine [generated in 0.00055s] (1, '1번사람')\n"
     ]
    },
    {
     "data": {
      "text/plain": [
       "<sqlalchemy.engine.cursor.CursorResult at 0x10c4ad470>"
      ]
     },
     "execution_count": 129,
     "metadata": {},
     "output_type": "execute_result"
    }
   ],
   "source": [
    "con.execute(user.insert().values(pk=1,name='1번사람')) # db에 반영됨"
   ]
  },
  {
   "cell_type": "code",
   "execution_count": 130,
   "metadata": {},
   "outputs": [
    {
     "name": "stdout",
     "output_type": "stream",
     "text": [
      "2025-03-06 11:27:53,485 INFO sqlalchemy.engine.Engine SELECT user.pk, user.name \n",
      "FROM user\n",
      "2025-03-06 11:27:53,485 INFO sqlalchemy.engine.Engine [cached since 2.149s ago] ()\n",
      "2025-03-06 11:27:53,486 INFO sqlalchemy.engine.Engine SELECT user.pk, user.name \n",
      "FROM user\n",
      "2025-03-06 11:27:53,486 INFO sqlalchemy.engine.Engine [cached since 2.149s ago] ()\n"
     ]
    },
    {
     "data": {
      "text/plain": [
       "[(1, '1번사람')]"
      ]
     },
     "execution_count": 130,
     "metadata": {},
     "output_type": "execute_result"
    }
   ],
   "source": [
    "con.execute(user.select()).fetchall()\n",
    "con.execute(select(user)).fetchall()"
   ]
  },
  {
   "cell_type": "code",
   "execution_count": 132,
   "metadata": {},
   "outputs": [
    {
     "name": "stdout",
     "output_type": "stream",
     "text": [
      "Help on function select in module sqlalchemy.sql._selectable_constructors:\n",
      "\n",
      "select(*entities: '_ColumnsClauseArgument[Any]', **__kw: 'Any') -> 'Select[Any]'\n",
      "    Construct a new :class:`_expression.Select`.\n",
      "    \n",
      "    \n",
      "    .. versionadded:: 1.4 - The :func:`_sql.select` function now accepts\n",
      "       column arguments positionally.   The top-level :func:`_sql.select`\n",
      "       function will automatically use the 1.x or 2.x style API based on\n",
      "       the incoming arguments; using :func:`_sql.select` from the\n",
      "       ``sqlalchemy.future`` module will enforce that only the 2.x style\n",
      "       constructor is used.\n",
      "    \n",
      "    Similar functionality is also available via the\n",
      "    :meth:`_expression.FromClause.select` method on any\n",
      "    :class:`_expression.FromClause`.\n",
      "    \n",
      "    .. seealso::\n",
      "    \n",
      "        :ref:`tutorial_selecting_data` - in the :ref:`unified_tutorial`\n",
      "    \n",
      "    :param \\*entities:\n",
      "      Entities to SELECT from.  For Core usage, this is typically a series\n",
      "      of :class:`_expression.ColumnElement` and / or\n",
      "      :class:`_expression.FromClause`\n",
      "      objects which will form the columns clause of the resulting\n",
      "      statement.   For those objects that are instances of\n",
      "      :class:`_expression.FromClause` (typically :class:`_schema.Table`\n",
      "      or :class:`_expression.Alias`\n",
      "      objects), the :attr:`_expression.FromClause.c`\n",
      "      collection is extracted\n",
      "      to form a collection of :class:`_expression.ColumnElement` objects.\n",
      "    \n",
      "      This parameter will also accept :class:`_expression.TextClause`\n",
      "      constructs as\n",
      "      given, as well as ORM-mapped classes.\n",
      "\n"
     ]
    }
   ],
   "source": []
  },
  {
   "cell_type": "code",
   "execution_count": 133,
   "metadata": {},
   "outputs": [],
   "source": [
    "meta.clear()"
   ]
  },
  {
   "cell_type": "code",
   "execution_count": 134,
   "metadata": {},
   "outputs": [
    {
     "name": "stdout",
     "output_type": "stream",
     "text": [
      "2025-03-06 11:41:05,912 INFO sqlalchemy.engine.Engine ROLLBACK\n"
     ]
    }
   ],
   "source": [
    "con.close()"
   ]
  },
  {
   "cell_type": "code",
   "execution_count": 135,
   "metadata": {},
   "outputs": [
    {
     "data": {
      "text/plain": [
       "Engine(sqlite:///alchemy.db)"
      ]
     },
     "execution_count": 135,
     "metadata": {},
     "output_type": "execute_result"
    }
   ],
   "source": [
    "engine"
   ]
  },
  {
   "cell_type": "code",
   "execution_count": 137,
   "metadata": {},
   "outputs": [],
   "source": [
    "con = engine.connect()"
   ]
  },
  {
   "cell_type": "code",
   "execution_count": 138,
   "metadata": {},
   "outputs": [
    {
     "name": "stdout",
     "output_type": "stream",
     "text": [
      "2025-03-06 11:41:50,093 INFO sqlalchemy.engine.Engine BEGIN (implicit)\n",
      "2025-03-06 11:41:50,093 INFO sqlalchemy.engine.Engine SELECT name FROM sqlite_master WHERE type='table' AND name NOT LIKE 'sqlite~_%' ESCAPE '~' ORDER BY name\n",
      "2025-03-06 11:41:50,094 INFO sqlalchemy.engine.Engine [raw sql] ()\n",
      "2025-03-06 11:41:50,094 INFO sqlalchemy.engine.Engine SELECT name FROM sqlite_temp_master WHERE type='table' AND name NOT LIKE 'sqlite~_%' ESCAPE '~' ORDER BY name\n",
      "2025-03-06 11:41:50,094 INFO sqlalchemy.engine.Engine [raw sql] ()\n",
      "2025-03-06 11:41:50,095 INFO sqlalchemy.engine.Engine PRAGMA main.table_xinfo(\"info\")\n",
      "2025-03-06 11:41:50,095 INFO sqlalchemy.engine.Engine [raw sql] ()\n",
      "2025-03-06 11:41:50,096 INFO sqlalchemy.engine.Engine PRAGMA main.table_xinfo(\"user\")\n",
      "2025-03-06 11:41:50,096 INFO sqlalchemy.engine.Engine [raw sql] ()\n",
      "2025-03-06 11:41:50,096 INFO sqlalchemy.engine.Engine SELECT sql FROM  (SELECT * FROM sqlite_master UNION ALL   SELECT * FROM sqlite_temp_master) WHERE name = ? AND type in ('table', 'view')\n",
      "2025-03-06 11:41:50,097 INFO sqlalchemy.engine.Engine [raw sql] ('info',)\n",
      "2025-03-06 11:41:50,098 INFO sqlalchemy.engine.Engine SELECT sql FROM  (SELECT * FROM sqlite_master UNION ALL   SELECT * FROM sqlite_temp_master) WHERE name = ? AND type in ('table', 'view')\n",
      "2025-03-06 11:41:50,098 INFO sqlalchemy.engine.Engine [raw sql] ('user',)\n",
      "2025-03-06 11:41:50,099 INFO sqlalchemy.engine.Engine PRAGMA main.foreign_key_list(\"info\")\n",
      "2025-03-06 11:41:50,099 INFO sqlalchemy.engine.Engine [raw sql] ()\n",
      "2025-03-06 11:41:50,100 INFO sqlalchemy.engine.Engine PRAGMA temp.foreign_key_list(\"info\")\n",
      "2025-03-06 11:41:50,100 INFO sqlalchemy.engine.Engine [raw sql] ()\n",
      "2025-03-06 11:41:50,100 INFO sqlalchemy.engine.Engine SELECT sql FROM  (SELECT * FROM sqlite_master UNION ALL   SELECT * FROM sqlite_temp_master) WHERE name = ? AND type in ('table', 'view')\n",
      "2025-03-06 11:41:50,100 INFO sqlalchemy.engine.Engine [raw sql] ('info',)\n",
      "2025-03-06 11:41:50,101 INFO sqlalchemy.engine.Engine PRAGMA main.foreign_key_list(\"user\")\n",
      "2025-03-06 11:41:50,101 INFO sqlalchemy.engine.Engine [raw sql] ()\n",
      "2025-03-06 11:41:50,101 INFO sqlalchemy.engine.Engine PRAGMA temp.foreign_key_list(\"user\")\n",
      "2025-03-06 11:41:50,102 INFO sqlalchemy.engine.Engine [raw sql] ()\n",
      "2025-03-06 11:41:50,102 INFO sqlalchemy.engine.Engine SELECT sql FROM  (SELECT * FROM sqlite_master UNION ALL   SELECT * FROM sqlite_temp_master) WHERE name = ? AND type in ('table', 'view')\n",
      "2025-03-06 11:41:50,103 INFO sqlalchemy.engine.Engine [raw sql] ('user',)\n",
      "2025-03-06 11:41:50,103 INFO sqlalchemy.engine.Engine PRAGMA main.index_list(\"info\")\n",
      "2025-03-06 11:41:50,103 INFO sqlalchemy.engine.Engine [raw sql] ()\n",
      "2025-03-06 11:41:50,103 INFO sqlalchemy.engine.Engine PRAGMA temp.index_list(\"info\")\n",
      "2025-03-06 11:41:50,104 INFO sqlalchemy.engine.Engine [raw sql] ()\n",
      "2025-03-06 11:41:50,104 INFO sqlalchemy.engine.Engine PRAGMA main.table_info(\"info\")\n",
      "2025-03-06 11:41:50,104 INFO sqlalchemy.engine.Engine [raw sql] ()\n",
      "2025-03-06 11:41:50,105 INFO sqlalchemy.engine.Engine PRAGMA main.index_list(\"user\")\n",
      "2025-03-06 11:41:50,105 INFO sqlalchemy.engine.Engine [raw sql] ()\n",
      "2025-03-06 11:41:50,105 INFO sqlalchemy.engine.Engine PRAGMA temp.index_list(\"user\")\n",
      "2025-03-06 11:41:50,105 INFO sqlalchemy.engine.Engine [raw sql] ()\n",
      "2025-03-06 11:41:50,106 INFO sqlalchemy.engine.Engine PRAGMA main.table_info(\"user\")\n",
      "2025-03-06 11:41:50,106 INFO sqlalchemy.engine.Engine [raw sql] ()\n",
      "2025-03-06 11:41:50,106 INFO sqlalchemy.engine.Engine PRAGMA main.index_list(\"info\")\n",
      "2025-03-06 11:41:50,106 INFO sqlalchemy.engine.Engine [raw sql] ()\n",
      "2025-03-06 11:41:50,107 INFO sqlalchemy.engine.Engine PRAGMA temp.index_list(\"info\")\n",
      "2025-03-06 11:41:50,107 INFO sqlalchemy.engine.Engine [raw sql] ()\n",
      "2025-03-06 11:41:50,108 INFO sqlalchemy.engine.Engine PRAGMA main.table_info(\"info\")\n",
      "2025-03-06 11:41:50,108 INFO sqlalchemy.engine.Engine [raw sql] ()\n",
      "2025-03-06 11:41:50,109 INFO sqlalchemy.engine.Engine SELECT sql FROM  (SELECT * FROM sqlite_master UNION ALL   SELECT * FROM sqlite_temp_master) WHERE name = ? AND type in ('table', 'view')\n",
      "2025-03-06 11:41:50,109 INFO sqlalchemy.engine.Engine [raw sql] ('info',)\n",
      "2025-03-06 11:41:50,109 INFO sqlalchemy.engine.Engine PRAGMA main.index_list(\"user\")\n",
      "2025-03-06 11:41:50,110 INFO sqlalchemy.engine.Engine [raw sql] ()\n",
      "2025-03-06 11:41:50,110 INFO sqlalchemy.engine.Engine PRAGMA temp.index_list(\"user\")\n",
      "2025-03-06 11:41:50,111 INFO sqlalchemy.engine.Engine [raw sql] ()\n",
      "2025-03-06 11:41:50,111 INFO sqlalchemy.engine.Engine PRAGMA main.table_info(\"user\")\n",
      "2025-03-06 11:41:50,111 INFO sqlalchemy.engine.Engine [raw sql] ()\n",
      "2025-03-06 11:41:50,111 INFO sqlalchemy.engine.Engine SELECT sql FROM  (SELECT * FROM sqlite_master UNION ALL   SELECT * FROM sqlite_temp_master) WHERE name = ? AND type in ('table', 'view')\n",
      "2025-03-06 11:41:50,111 INFO sqlalchemy.engine.Engine [raw sql] ('user',)\n",
      "2025-03-06 11:41:50,112 INFO sqlalchemy.engine.Engine ROLLBACK\n"
     ]
    }
   ],
   "source": [
    "meta.reflect(engine) # 다시 table객체들로 만들어줌"
   ]
  },
  {
   "cell_type": "code",
   "execution_count": 141,
   "metadata": {},
   "outputs": [
    {
     "data": {
      "text/plain": [
       "(sqlalchemy.util._collections.FacadeDict, dict_keys(['info', 'user']))"
      ]
     },
     "execution_count": 141,
     "metadata": {},
     "output_type": "execute_result"
    }
   ],
   "source": [
    "type(meta.tables), meta.tables.keys()"
   ]
  },
  {
   "cell_type": "code",
   "execution_count": 142,
   "metadata": {},
   "outputs": [
    {
     "data": {
      "text/plain": [
       "sqlalchemy.sql.schema.Table"
      ]
     },
     "execution_count": 142,
     "metadata": {},
     "output_type": "execute_result"
    }
   ],
   "source": [
    "type(meta.tables['user'])"
   ]
  },
  {
   "cell_type": "code",
   "execution_count": 144,
   "metadata": {},
   "outputs": [
    {
     "data": {
      "text/plain": [
       "Column('pk', INTEGER(), table=<user>, primary_key=True, nullable=False)"
      ]
     },
     "execution_count": 144,
     "metadata": {},
     "output_type": "execute_result"
    }
   ],
   "source": [
    "meta.tables['user'].c['pk'] # Column 객체"
   ]
  },
  {
   "cell_type": "code",
   "execution_count": 145,
   "metadata": {},
   "outputs": [],
   "source": [
    "# 코어단에서 이렇게 한다는걸 보여주는 것"
   ]
  },
  {
   "cell_type": "code",
   "execution_count": 155,
   "metadata": {},
   "outputs": [
    {
     "name": "stdout",
     "output_type": "stream",
     "text": [
      "{'pk_1': 1}\n"
     ]
    }
   ],
   "source": [
    "a = select().select_from(meta.tables['user']).where(meta.tables['user'].c['pk']==1)\n",
    "print(select().select_from(meta.tables['user']).where(meta.tables['user'].c['pk']==1).compile().params)"
   ]
  },
  {
   "cell_type": "code",
   "execution_count": 158,
   "metadata": {},
   "outputs": [
    {
     "name": "stdout",
     "output_type": "stream",
     "text": [
      "SELECT \"user\".pk \n",
      "FROM \"user\"\n"
     ]
    }
   ],
   "source": [
    "print(select(meta.tables['user'].c['pk']))"
   ]
  },
  {
   "cell_type": "code",
   "execution_count": 159,
   "metadata": {},
   "outputs": [
    {
     "name": "stdout",
     "output_type": "stream",
     "text": [
      "2025-03-06 11:48:53,273 INFO sqlalchemy.engine.Engine BEGIN (implicit)\n",
      "2025-03-06 11:48:53,274 INFO sqlalchemy.engine.Engine SELECT user.pk \n",
      "FROM user\n",
      "2025-03-06 11:48:53,274 INFO sqlalchemy.engine.Engine [generated in 0.00078s] ()\n"
     ]
    }
   ],
   "source": [
    "result = con.execute(select(meta.tables['user'].c['pk']))"
   ]
  },
  {
   "cell_type": "code",
   "execution_count": 160,
   "metadata": {},
   "outputs": [
    {
     "data": {
      "text/plain": [
       "(sqlalchemy.engine.cursor.CursorResult, [])"
      ]
     },
     "execution_count": 160,
     "metadata": {},
     "output_type": "execute_result"
    }
   ],
   "source": [
    "type(result), result.fetchall()"
   ]
  },
  {
   "cell_type": "code",
   "execution_count": 162,
   "metadata": {},
   "outputs": [],
   "source": [
    "user = meta.tables['user']\n",
    "info = meta.tables['info']"
   ]
  },
  {
   "cell_type": "code",
   "execution_count": 167,
   "metadata": {},
   "outputs": [
    {
     "name": "stdout",
     "output_type": "stream",
     "text": [
      "INSERT INTO \"user\" (name) VALUES (:name)\n",
      "{'name': '1번'}\n",
      "{'name': '2번'}\n"
     ]
    }
   ],
   "source": [
    "print(user.insert().values(name='1번'))\n",
    "print(user.insert().values(name='1번').compile().params)\n",
    "print(insert(user).values(name='2번').compile().params)"
   ]
  },
  {
   "cell_type": "code",
   "execution_count": 168,
   "metadata": {},
   "outputs": [
    {
     "name": "stdout",
     "output_type": "stream",
     "text": [
      "2025-03-06 11:51:53,937 INFO sqlalchemy.engine.Engine INSERT INTO user (name) VALUES (?)\n",
      "2025-03-06 11:51:53,937 INFO sqlalchemy.engine.Engine [generated in 0.00048s] ('1번',)\n"
     ]
    },
    {
     "data": {
      "text/plain": [
       "<sqlalchemy.engine.cursor.CursorResult at 0x10d233150>"
      ]
     },
     "execution_count": 168,
     "metadata": {},
     "output_type": "execute_result"
    }
   ],
   "source": [
    "con.execute(user.insert().values(name='1번'))"
   ]
  },
  {
   "cell_type": "code",
   "execution_count": 169,
   "metadata": {},
   "outputs": [
    {
     "name": "stdout",
     "output_type": "stream",
     "text": [
      "2025-03-06 11:51:57,677 INFO sqlalchemy.engine.Engine INSERT INTO user (name) VALUES (?)\n",
      "2025-03-06 11:51:57,677 INFO sqlalchemy.engine.Engine [cached since 3.741s ago] ('2번',)\n"
     ]
    },
    {
     "data": {
      "text/plain": [
       "<sqlalchemy.engine.cursor.CursorResult at 0x10d233620>"
      ]
     },
     "execution_count": 169,
     "metadata": {},
     "output_type": "execute_result"
    }
   ],
   "source": [
    "con.execute(user.insert().values(name='2번'))"
   ]
  },
  {
   "cell_type": "code",
   "execution_count": 171,
   "metadata": {},
   "outputs": [
    {
     "name": "stdout",
     "output_type": "stream",
     "text": [
      "2025-03-06 11:52:11,037 INFO sqlalchemy.engine.Engine COMMIT\n"
     ]
    }
   ],
   "source": [
    "con.commit()"
   ]
  },
  {
   "cell_type": "code",
   "execution_count": 172,
   "metadata": {},
   "outputs": [
    {
     "name": "stdout",
     "output_type": "stream",
     "text": [
      "2025-03-06 11:52:28,110 INFO sqlalchemy.engine.Engine BEGIN (implicit)\n",
      "2025-03-06 11:52:28,111 INFO sqlalchemy.engine.Engine SELECT user.pk, user.name \n",
      "FROM user\n",
      "2025-03-06 11:52:28,111 INFO sqlalchemy.engine.Engine [generated in 0.00082s] ()\n"
     ]
    },
    {
     "data": {
      "text/plain": [
       "[(1, '1번'), (2, '2번')]"
      ]
     },
     "execution_count": 172,
     "metadata": {},
     "output_type": "execute_result"
    }
   ],
   "source": [
    "con.execute(user.select()).fetchall()"
   ]
  },
  {
   "cell_type": "code",
   "execution_count": 173,
   "metadata": {},
   "outputs": [
    {
     "name": "stdout",
     "output_type": "stream",
     "text": [
      "2025-03-06 11:52:41,218 INFO sqlalchemy.engine.Engine ROLLBACK\n"
     ]
    }
   ],
   "source": [
    "con.close()\n",
    "meta.clear()"
   ]
  },
  {
   "cell_type": "code",
   "execution_count": 174,
   "metadata": {},
   "outputs": [
    {
     "name": "stdout",
     "output_type": "stream",
     "text": [
      "2025-03-06 11:53:03,242 INFO sqlalchemy.engine.Engine BEGIN (implicit)\n",
      "2025-03-06 11:53:03,243 INFO sqlalchemy.engine.Engine SELECT name FROM sqlite_master WHERE type='table' AND name NOT LIKE 'sqlite~_%' ESCAPE '~' ORDER BY name\n",
      "2025-03-06 11:53:03,243 INFO sqlalchemy.engine.Engine [raw sql] ()\n",
      "2025-03-06 11:53:03,244 INFO sqlalchemy.engine.Engine SELECT name FROM sqlite_temp_master WHERE type='table' AND name NOT LIKE 'sqlite~_%' ESCAPE '~' ORDER BY name\n",
      "2025-03-06 11:53:03,244 INFO sqlalchemy.engine.Engine [raw sql] ()\n",
      "2025-03-06 11:53:03,245 INFO sqlalchemy.engine.Engine PRAGMA main.table_xinfo(\"info\")\n",
      "2025-03-06 11:53:03,245 INFO sqlalchemy.engine.Engine [raw sql] ()\n",
      "2025-03-06 11:53:03,246 INFO sqlalchemy.engine.Engine PRAGMA main.table_xinfo(\"user\")\n",
      "2025-03-06 11:53:03,246 INFO sqlalchemy.engine.Engine [raw sql] ()\n",
      "2025-03-06 11:53:03,246 INFO sqlalchemy.engine.Engine SELECT sql FROM  (SELECT * FROM sqlite_master UNION ALL   SELECT * FROM sqlite_temp_master) WHERE name = ? AND type in ('table', 'view')\n",
      "2025-03-06 11:53:03,246 INFO sqlalchemy.engine.Engine [raw sql] ('info',)\n",
      "2025-03-06 11:53:03,247 INFO sqlalchemy.engine.Engine SELECT sql FROM  (SELECT * FROM sqlite_master UNION ALL   SELECT * FROM sqlite_temp_master) WHERE name = ? AND type in ('table', 'view')\n",
      "2025-03-06 11:53:03,247 INFO sqlalchemy.engine.Engine [raw sql] ('user',)\n",
      "2025-03-06 11:53:03,247 INFO sqlalchemy.engine.Engine PRAGMA main.foreign_key_list(\"info\")\n",
      "2025-03-06 11:53:03,248 INFO sqlalchemy.engine.Engine [raw sql] ()\n",
      "2025-03-06 11:53:03,248 INFO sqlalchemy.engine.Engine PRAGMA temp.foreign_key_list(\"info\")\n",
      "2025-03-06 11:53:03,248 INFO sqlalchemy.engine.Engine [raw sql] ()\n",
      "2025-03-06 11:53:03,248 INFO sqlalchemy.engine.Engine SELECT sql FROM  (SELECT * FROM sqlite_master UNION ALL   SELECT * FROM sqlite_temp_master) WHERE name = ? AND type in ('table', 'view')\n",
      "2025-03-06 11:53:03,248 INFO sqlalchemy.engine.Engine [raw sql] ('info',)\n",
      "2025-03-06 11:53:03,249 INFO sqlalchemy.engine.Engine PRAGMA main.foreign_key_list(\"user\")\n",
      "2025-03-06 11:53:03,250 INFO sqlalchemy.engine.Engine [raw sql] ()\n",
      "2025-03-06 11:53:03,250 INFO sqlalchemy.engine.Engine PRAGMA temp.foreign_key_list(\"user\")\n",
      "2025-03-06 11:53:03,251 INFO sqlalchemy.engine.Engine [raw sql] ()\n",
      "2025-03-06 11:53:03,251 INFO sqlalchemy.engine.Engine SELECT sql FROM  (SELECT * FROM sqlite_master UNION ALL   SELECT * FROM sqlite_temp_master) WHERE name = ? AND type in ('table', 'view')\n",
      "2025-03-06 11:53:03,251 INFO sqlalchemy.engine.Engine [raw sql] ('user',)\n",
      "2025-03-06 11:53:03,252 INFO sqlalchemy.engine.Engine PRAGMA main.index_list(\"info\")\n",
      "2025-03-06 11:53:03,252 INFO sqlalchemy.engine.Engine [raw sql] ()\n",
      "2025-03-06 11:53:03,252 INFO sqlalchemy.engine.Engine PRAGMA temp.index_list(\"info\")\n",
      "2025-03-06 11:53:03,253 INFO sqlalchemy.engine.Engine [raw sql] ()\n",
      "2025-03-06 11:53:03,253 INFO sqlalchemy.engine.Engine PRAGMA main.table_info(\"info\")\n",
      "2025-03-06 11:53:03,254 INFO sqlalchemy.engine.Engine [raw sql] ()\n",
      "2025-03-06 11:53:03,254 INFO sqlalchemy.engine.Engine PRAGMA main.index_list(\"user\")\n",
      "2025-03-06 11:53:03,254 INFO sqlalchemy.engine.Engine [raw sql] ()\n",
      "2025-03-06 11:53:03,255 INFO sqlalchemy.engine.Engine PRAGMA temp.index_list(\"user\")\n",
      "2025-03-06 11:53:03,255 INFO sqlalchemy.engine.Engine [raw sql] ()\n",
      "2025-03-06 11:53:03,255 INFO sqlalchemy.engine.Engine PRAGMA main.table_info(\"user\")\n",
      "2025-03-06 11:53:03,255 INFO sqlalchemy.engine.Engine [raw sql] ()\n",
      "2025-03-06 11:53:03,256 INFO sqlalchemy.engine.Engine PRAGMA main.index_list(\"info\")\n",
      "2025-03-06 11:53:03,256 INFO sqlalchemy.engine.Engine [raw sql] ()\n",
      "2025-03-06 11:53:03,257 INFO sqlalchemy.engine.Engine PRAGMA temp.index_list(\"info\")\n",
      "2025-03-06 11:53:03,257 INFO sqlalchemy.engine.Engine [raw sql] ()\n",
      "2025-03-06 11:53:03,257 INFO sqlalchemy.engine.Engine PRAGMA main.table_info(\"info\")\n",
      "2025-03-06 11:53:03,257 INFO sqlalchemy.engine.Engine [raw sql] ()\n",
      "2025-03-06 11:53:03,258 INFO sqlalchemy.engine.Engine SELECT sql FROM  (SELECT * FROM sqlite_master UNION ALL   SELECT * FROM sqlite_temp_master) WHERE name = ? AND type in ('table', 'view')\n",
      "2025-03-06 11:53:03,258 INFO sqlalchemy.engine.Engine [raw sql] ('info',)\n",
      "2025-03-06 11:53:03,258 INFO sqlalchemy.engine.Engine PRAGMA main.index_list(\"user\")\n",
      "2025-03-06 11:53:03,259 INFO sqlalchemy.engine.Engine [raw sql] ()\n",
      "2025-03-06 11:53:03,259 INFO sqlalchemy.engine.Engine PRAGMA temp.index_list(\"user\")\n",
      "2025-03-06 11:53:03,259 INFO sqlalchemy.engine.Engine [raw sql] ()\n",
      "2025-03-06 11:53:03,260 INFO sqlalchemy.engine.Engine PRAGMA main.table_info(\"user\")\n",
      "2025-03-06 11:53:03,261 INFO sqlalchemy.engine.Engine [raw sql] ()\n",
      "2025-03-06 11:53:03,261 INFO sqlalchemy.engine.Engine SELECT sql FROM  (SELECT * FROM sqlite_master UNION ALL   SELECT * FROM sqlite_temp_master) WHERE name = ? AND type in ('table', 'view')\n",
      "2025-03-06 11:53:03,262 INFO sqlalchemy.engine.Engine [raw sql] ('user',)\n",
      "2025-03-06 11:53:03,264 INFO sqlalchemy.engine.Engine ROLLBACK\n"
     ]
    }
   ],
   "source": [
    "con = engine.connect()\n",
    "meta.reflect(engine)"
   ]
  },
  {
   "cell_type": "code",
   "execution_count": 175,
   "metadata": {},
   "outputs": [
    {
     "name": "stdout",
     "output_type": "stream",
     "text": [
      "SELECT \"user\".pk, \"user\".name \n",
      "FROM \"user\"\n"
     ]
    }
   ],
   "source": [
    "print(meta.tables['user'].select())"
   ]
  },
  {
   "cell_type": "code",
   "execution_count": 177,
   "metadata": {},
   "outputs": [
    {
     "name": "stdout",
     "output_type": "stream",
     "text": [
      "2025-03-06 11:54:17,007 INFO sqlalchemy.engine.Engine BEGIN (implicit)\n",
      "2025-03-06 11:54:17,008 INFO sqlalchemy.engine.Engine SELECT user.pk, user.name \n",
      "FROM user\n",
      "2025-03-06 11:54:17,008 INFO sqlalchemy.engine.Engine [generated in 0.00105s] ()\n"
     ]
    },
    {
     "data": {
      "text/plain": [
       "[(1, '1번'), (2, '2번')]"
      ]
     },
     "execution_count": 177,
     "metadata": {},
     "output_type": "execute_result"
    }
   ],
   "source": [
    "con.execute(meta.tables['user'].select()).fetchall()"
   ]
  },
  {
   "cell_type": "code",
   "execution_count": 178,
   "metadata": {},
   "outputs": [],
   "source": [
    "info = meta.tables['info']"
   ]
  },
  {
   "cell_type": "code",
   "execution_count": 180,
   "metadata": {},
   "outputs": [
    {
     "data": {
      "text/plain": [
       "<sqlalchemy.sql.dml.Insert object at 0x105b24110>"
      ]
     },
     "execution_count": 180,
     "metadata": {},
     "output_type": "execute_result"
    }
   ],
   "source": [
    "info.insert().values(name='1번 정보')"
   ]
  },
  {
   "cell_type": "code",
   "execution_count": 181,
   "metadata": {},
   "outputs": [
    {
     "name": "stdout",
     "output_type": "stream",
     "text": [
      "2025-03-06 11:59:42,741 INFO sqlalchemy.engine.Engine ROLLBACK\n"
     ]
    }
   ],
   "source": [
    "meta.clear()\n",
    "con.close()"
   ]
  },
  {
   "cell_type": "code",
   "execution_count": 183,
   "metadata": {},
   "outputs": [],
   "source": [
    "engine = create_engine('sqlite:///coffee.db', echo=True)\n",
    "con = engine.connect()"
   ]
  },
  {
   "cell_type": "code",
   "execution_count": 184,
   "metadata": {},
   "outputs": [
    {
     "name": "stdout",
     "output_type": "stream",
     "text": [
      "2025-03-06 12:00:23,737 INFO sqlalchemy.engine.Engine BEGIN (implicit)\n",
      "2025-03-06 12:00:23,738 INFO sqlalchemy.engine.Engine SELECT name FROM sqlite_master WHERE type='table' AND name NOT LIKE 'sqlite~_%' ESCAPE '~' ORDER BY name\n",
      "2025-03-06 12:00:23,738 INFO sqlalchemy.engine.Engine [raw sql] ()\n",
      "2025-03-06 12:00:23,739 INFO sqlalchemy.engine.Engine SELECT name FROM sqlite_temp_master WHERE type='table' AND name NOT LIKE 'sqlite~_%' ESCAPE '~' ORDER BY name\n",
      "2025-03-06 12:00:23,739 INFO sqlalchemy.engine.Engine [raw sql] ()\n",
      "2025-03-06 12:00:23,739 INFO sqlalchemy.engine.Engine PRAGMA main.table_xinfo(\"city\")\n",
      "2025-03-06 12:00:23,740 INFO sqlalchemy.engine.Engine [raw sql] ()\n",
      "2025-03-06 12:00:23,740 INFO sqlalchemy.engine.Engine PRAGMA main.table_xinfo(\"part\")\n",
      "2025-03-06 12:00:23,740 INFO sqlalchemy.engine.Engine [raw sql] ()\n",
      "2025-03-06 12:00:23,741 INFO sqlalchemy.engine.Engine PRAGMA main.table_xinfo(\"sells\")\n",
      "2025-03-06 12:00:23,741 INFO sqlalchemy.engine.Engine [raw sql] ()\n",
      "2025-03-06 12:00:23,741 INFO sqlalchemy.engine.Engine PRAGMA main.table_xinfo(\"supplier\")\n",
      "2025-03-06 12:00:23,741 INFO sqlalchemy.engine.Engine [raw sql] ()\n",
      "2025-03-06 12:00:23,742 INFO sqlalchemy.engine.Engine SELECT sql FROM  (SELECT * FROM sqlite_master UNION ALL   SELECT * FROM sqlite_temp_master) WHERE name = ? AND type in ('table', 'view')\n",
      "2025-03-06 12:00:23,742 INFO sqlalchemy.engine.Engine [raw sql] ('city',)\n",
      "2025-03-06 12:00:23,743 INFO sqlalchemy.engine.Engine SELECT sql FROM  (SELECT * FROM sqlite_master UNION ALL   SELECT * FROM sqlite_temp_master) WHERE name = ? AND type in ('table', 'view')\n",
      "2025-03-06 12:00:23,743 INFO sqlalchemy.engine.Engine [raw sql] ('part',)\n",
      "2025-03-06 12:00:23,743 INFO sqlalchemy.engine.Engine SELECT sql FROM  (SELECT * FROM sqlite_master UNION ALL   SELECT * FROM sqlite_temp_master) WHERE name = ? AND type in ('table', 'view')\n",
      "2025-03-06 12:00:23,743 INFO sqlalchemy.engine.Engine [raw sql] ('sells',)\n",
      "2025-03-06 12:00:23,744 INFO sqlalchemy.engine.Engine SELECT sql FROM  (SELECT * FROM sqlite_master UNION ALL   SELECT * FROM sqlite_temp_master) WHERE name = ? AND type in ('table', 'view')\n",
      "2025-03-06 12:00:23,744 INFO sqlalchemy.engine.Engine [raw sql] ('supplier',)\n",
      "2025-03-06 12:00:23,744 INFO sqlalchemy.engine.Engine PRAGMA main.foreign_key_list(\"city\")\n",
      "2025-03-06 12:00:23,745 INFO sqlalchemy.engine.Engine [raw sql] ()\n",
      "2025-03-06 12:00:23,746 INFO sqlalchemy.engine.Engine PRAGMA temp.foreign_key_list(\"city\")\n",
      "2025-03-06 12:00:23,746 INFO sqlalchemy.engine.Engine [raw sql] ()\n",
      "2025-03-06 12:00:23,747 INFO sqlalchemy.engine.Engine SELECT sql FROM  (SELECT * FROM sqlite_master UNION ALL   SELECT * FROM sqlite_temp_master) WHERE name = ? AND type in ('table', 'view')\n",
      "2025-03-06 12:00:23,748 INFO sqlalchemy.engine.Engine [raw sql] ('city',)\n",
      "2025-03-06 12:00:23,748 INFO sqlalchemy.engine.Engine PRAGMA main.foreign_key_list(\"part\")\n",
      "2025-03-06 12:00:23,749 INFO sqlalchemy.engine.Engine [raw sql] ()\n",
      "2025-03-06 12:00:23,749 INFO sqlalchemy.engine.Engine PRAGMA temp.foreign_key_list(\"part\")\n",
      "2025-03-06 12:00:23,749 INFO sqlalchemy.engine.Engine [raw sql] ()\n",
      "2025-03-06 12:00:23,749 INFO sqlalchemy.engine.Engine SELECT sql FROM  (SELECT * FROM sqlite_master UNION ALL   SELECT * FROM sqlite_temp_master) WHERE name = ? AND type in ('table', 'view')\n",
      "2025-03-06 12:00:23,749 INFO sqlalchemy.engine.Engine [raw sql] ('part',)\n",
      "2025-03-06 12:00:23,750 INFO sqlalchemy.engine.Engine PRAGMA main.foreign_key_list(\"sells\")\n",
      "2025-03-06 12:00:23,750 INFO sqlalchemy.engine.Engine [raw sql] ()\n",
      "2025-03-06 12:00:23,751 INFO sqlalchemy.engine.Engine PRAGMA temp.foreign_key_list(\"sells\")\n",
      "2025-03-06 12:00:23,751 INFO sqlalchemy.engine.Engine [raw sql] ()\n",
      "2025-03-06 12:00:23,751 INFO sqlalchemy.engine.Engine SELECT sql FROM  (SELECT * FROM sqlite_master UNION ALL   SELECT * FROM sqlite_temp_master) WHERE name = ? AND type in ('table', 'view')\n",
      "2025-03-06 12:00:23,751 INFO sqlalchemy.engine.Engine [raw sql] ('sells',)\n",
      "2025-03-06 12:00:23,752 INFO sqlalchemy.engine.Engine PRAGMA main.foreign_key_list(\"supplier\")\n",
      "2025-03-06 12:00:23,752 INFO sqlalchemy.engine.Engine [raw sql] ()\n",
      "2025-03-06 12:00:23,752 INFO sqlalchemy.engine.Engine PRAGMA temp.foreign_key_list(\"supplier\")\n",
      "2025-03-06 12:00:23,753 INFO sqlalchemy.engine.Engine [raw sql] ()\n",
      "2025-03-06 12:00:23,753 INFO sqlalchemy.engine.Engine SELECT sql FROM  (SELECT * FROM sqlite_master UNION ALL   SELECT * FROM sqlite_temp_master) WHERE name = ? AND type in ('table', 'view')\n",
      "2025-03-06 12:00:23,753 INFO sqlalchemy.engine.Engine [raw sql] ('supplier',)\n",
      "2025-03-06 12:00:23,754 INFO sqlalchemy.engine.Engine PRAGMA main.index_list(\"city\")\n",
      "2025-03-06 12:00:23,754 INFO sqlalchemy.engine.Engine [raw sql] ()\n",
      "2025-03-06 12:00:23,755 INFO sqlalchemy.engine.Engine PRAGMA temp.index_list(\"city\")\n",
      "2025-03-06 12:00:23,755 INFO sqlalchemy.engine.Engine [raw sql] ()\n",
      "2025-03-06 12:00:23,755 INFO sqlalchemy.engine.Engine PRAGMA main.table_info(\"city\")\n",
      "2025-03-06 12:00:23,756 INFO sqlalchemy.engine.Engine [raw sql] ()\n",
      "2025-03-06 12:00:23,756 INFO sqlalchemy.engine.Engine PRAGMA main.index_list(\"part\")\n",
      "2025-03-06 12:00:23,756 INFO sqlalchemy.engine.Engine [raw sql] ()\n",
      "2025-03-06 12:00:23,757 INFO sqlalchemy.engine.Engine PRAGMA temp.index_list(\"part\")\n",
      "2025-03-06 12:00:23,757 INFO sqlalchemy.engine.Engine [raw sql] ()\n",
      "2025-03-06 12:00:23,758 INFO sqlalchemy.engine.Engine PRAGMA main.table_info(\"part\")\n",
      "2025-03-06 12:00:23,758 INFO sqlalchemy.engine.Engine [raw sql] ()\n",
      "2025-03-06 12:00:23,759 INFO sqlalchemy.engine.Engine PRAGMA main.index_list(\"sells\")\n",
      "2025-03-06 12:00:23,759 INFO sqlalchemy.engine.Engine [raw sql] ()\n",
      "2025-03-06 12:00:23,760 INFO sqlalchemy.engine.Engine PRAGMA temp.index_list(\"sells\")\n",
      "2025-03-06 12:00:23,760 INFO sqlalchemy.engine.Engine [raw sql] ()\n",
      "2025-03-06 12:00:23,760 INFO sqlalchemy.engine.Engine PRAGMA main.table_info(\"sells\")\n",
      "2025-03-06 12:00:23,760 INFO sqlalchemy.engine.Engine [raw sql] ()\n",
      "2025-03-06 12:00:23,761 INFO sqlalchemy.engine.Engine PRAGMA main.index_list(\"supplier\")\n",
      "2025-03-06 12:00:23,761 INFO sqlalchemy.engine.Engine [raw sql] ()\n",
      "2025-03-06 12:00:23,762 INFO sqlalchemy.engine.Engine PRAGMA temp.index_list(\"supplier\")\n",
      "2025-03-06 12:00:23,763 INFO sqlalchemy.engine.Engine [raw sql] ()\n",
      "2025-03-06 12:00:23,764 INFO sqlalchemy.engine.Engine PRAGMA main.table_info(\"supplier\")\n",
      "2025-03-06 12:00:23,764 INFO sqlalchemy.engine.Engine [raw sql] ()\n",
      "2025-03-06 12:00:23,764 INFO sqlalchemy.engine.Engine PRAGMA main.index_list(\"city\")\n",
      "2025-03-06 12:00:23,765 INFO sqlalchemy.engine.Engine [raw sql] ()\n",
      "2025-03-06 12:00:23,765 INFO sqlalchemy.engine.Engine PRAGMA temp.index_list(\"city\")\n",
      "2025-03-06 12:00:23,765 INFO sqlalchemy.engine.Engine [raw sql] ()\n",
      "2025-03-06 12:00:23,766 INFO sqlalchemy.engine.Engine PRAGMA main.table_info(\"city\")\n",
      "2025-03-06 12:00:23,766 INFO sqlalchemy.engine.Engine [raw sql] ()\n",
      "2025-03-06 12:00:23,766 INFO sqlalchemy.engine.Engine SELECT sql FROM  (SELECT * FROM sqlite_master UNION ALL   SELECT * FROM sqlite_temp_master) WHERE name = ? AND type in ('table', 'view')\n",
      "2025-03-06 12:00:23,767 INFO sqlalchemy.engine.Engine [raw sql] ('city',)\n",
      "2025-03-06 12:00:23,768 INFO sqlalchemy.engine.Engine PRAGMA main.index_list(\"part\")\n",
      "2025-03-06 12:00:23,768 INFO sqlalchemy.engine.Engine [raw sql] ()\n",
      "2025-03-06 12:00:23,769 INFO sqlalchemy.engine.Engine PRAGMA temp.index_list(\"part\")\n",
      "2025-03-06 12:00:23,769 INFO sqlalchemy.engine.Engine [raw sql] ()\n",
      "2025-03-06 12:00:23,770 INFO sqlalchemy.engine.Engine PRAGMA main.table_info(\"part\")\n",
      "2025-03-06 12:00:23,770 INFO sqlalchemy.engine.Engine [raw sql] ()\n",
      "2025-03-06 12:00:23,771 INFO sqlalchemy.engine.Engine SELECT sql FROM  (SELECT * FROM sqlite_master UNION ALL   SELECT * FROM sqlite_temp_master) WHERE name = ? AND type in ('table', 'view')\n",
      "2025-03-06 12:00:23,772 INFO sqlalchemy.engine.Engine [raw sql] ('part',)\n",
      "2025-03-06 12:00:23,772 INFO sqlalchemy.engine.Engine PRAGMA main.index_list(\"sells\")\n",
      "2025-03-06 12:00:23,773 INFO sqlalchemy.engine.Engine [raw sql] ()\n",
      "2025-03-06 12:00:23,774 INFO sqlalchemy.engine.Engine PRAGMA temp.index_list(\"sells\")\n",
      "2025-03-06 12:00:23,774 INFO sqlalchemy.engine.Engine [raw sql] ()\n",
      "2025-03-06 12:00:23,774 INFO sqlalchemy.engine.Engine PRAGMA main.table_info(\"sells\")\n",
      "2025-03-06 12:00:23,775 INFO sqlalchemy.engine.Engine [raw sql] ()\n",
      "2025-03-06 12:00:23,775 INFO sqlalchemy.engine.Engine SELECT sql FROM  (SELECT * FROM sqlite_master UNION ALL   SELECT * FROM sqlite_temp_master) WHERE name = ? AND type in ('table', 'view')\n",
      "2025-03-06 12:00:23,776 INFO sqlalchemy.engine.Engine [raw sql] ('sells',)\n",
      "2025-03-06 12:00:23,777 INFO sqlalchemy.engine.Engine PRAGMA main.index_list(\"supplier\")\n",
      "2025-03-06 12:00:23,778 INFO sqlalchemy.engine.Engine [raw sql] ()\n",
      "2025-03-06 12:00:23,779 INFO sqlalchemy.engine.Engine PRAGMA temp.index_list(\"supplier\")\n",
      "2025-03-06 12:00:23,780 INFO sqlalchemy.engine.Engine [raw sql] ()\n",
      "2025-03-06 12:00:23,780 INFO sqlalchemy.engine.Engine PRAGMA main.table_info(\"supplier\")\n",
      "2025-03-06 12:00:23,781 INFO sqlalchemy.engine.Engine [raw sql] ()\n",
      "2025-03-06 12:00:23,784 INFO sqlalchemy.engine.Engine SELECT sql FROM  (SELECT * FROM sqlite_master UNION ALL   SELECT * FROM sqlite_temp_master) WHERE name = ? AND type in ('table', 'view')\n",
      "2025-03-06 12:00:23,785 INFO sqlalchemy.engine.Engine [raw sql] ('supplier',)\n",
      "2025-03-06 12:00:23,818 INFO sqlalchemy.engine.Engine ROLLBACK\n"
     ]
    }
   ],
   "source": [
    "meta.reflect(engine)"
   ]
  },
  {
   "cell_type": "code",
   "execution_count": 186,
   "metadata": {},
   "outputs": [
    {
     "data": {
      "text/plain": [
       "dict_keys(['city', 'part', 'sells', 'supplier'])"
      ]
     },
     "execution_count": 186,
     "metadata": {},
     "output_type": "execute_result"
    }
   ],
   "source": [
    "meta.tables.keys()"
   ]
  },
  {
   "cell_type": "code",
   "execution_count": 187,
   "metadata": {},
   "outputs": [],
   "source": [
    "city = meta.tables['city']\n",
    "part = meta.tables['part']\n",
    "sells = meta.tables['sells']\n",
    "supplier = meta.tables['supplier']"
   ]
  },
  {
   "cell_type": "code",
   "execution_count": 193,
   "metadata": {},
   "outputs": [
    {
     "name": "stdout",
     "output_type": "stream",
     "text": [
      "2025-03-06 12:02:54,762 INFO sqlalchemy.engine.Engine SELECT city.cno, city.name \n",
      "FROM city\n",
      "2025-03-06 12:02:54,763 INFO sqlalchemy.engine.Engine [cached since 42.16s ago] ()\n"
     ]
    },
    {
     "data": {
      "text/plain": [
       "[(1, '성북구'),\n",
       " (2, '강북구'),\n",
       " (3, '동대문구'),\n",
       " (4, '중구'),\n",
       " (5, '중량구'),\n",
       " (6, '노원구'),\n",
       " (7, '강남구'),\n",
       " (8, '서초구')]"
      ]
     },
     "execution_count": 193,
     "metadata": {},
     "output_type": "execute_result"
    }
   ],
   "source": [
    "# 여기까지는 메모리 상에서 객체로만 존재\n",
    "con.execute(city.select()).fetchall()"
   ]
  },
  {
   "cell_type": "code",
   "execution_count": 201,
   "metadata": {},
   "outputs": [
    {
     "name": "stdout",
     "output_type": "stream",
     "text": [
      "SELECT city.name, supplier.name AS name_1 \n",
      "FROM city, supplier\n"
     ]
    }
   ],
   "source": [
    "print(select(city.c['name'], supplier.c['name']).select_from(city, supplier))"
   ]
  },
  {
   "cell_type": "code",
   "execution_count": 203,
   "metadata": {},
   "outputs": [
    {
     "name": "stdout",
     "output_type": "stream",
     "text": [
      "SELECT city.name, supplier.name AS name_1 \n",
      "FROM city JOIN supplier ON supplier.cno = city.cno\n"
     ]
    }
   ],
   "source": [
    "print(select(city.c['name'], supplier.c['name'])\\\n",
    "    .select_from(city.join(supplier, supplier.c['cno']==city.c['cno'])))"
   ]
  },
  {
   "cell_type": "code",
   "execution_count": 207,
   "metadata": {},
   "outputs": [
    {
     "ename": "AttributeError",
     "evalue": "'Select' object has no attribute 'fetchall'",
     "output_type": "error",
     "traceback": [
      "\u001b[31m---------------------------------------------------------------------------\u001b[39m",
      "\u001b[31mAttributeError\u001b[39m                            Traceback (most recent call last)",
      "\u001b[36mCell\u001b[39m\u001b[36m \u001b[39m\u001b[32mIn[207]\u001b[39m\u001b[32m, line 2\u001b[39m\n\u001b[32m      1\u001b[39m \u001b[38;5;28mprint\u001b[39m(\u001b[43mselect\u001b[49m\u001b[43m(\u001b[49m\u001b[43mcity\u001b[49m\u001b[43m.\u001b[49m\u001b[43mc\u001b[49m\u001b[43m[\u001b[49m\u001b[33;43m'\u001b[39;49m\u001b[33;43mname\u001b[39;49m\u001b[33;43m'\u001b[39;49m\u001b[43m]\u001b[49m\u001b[43m,\u001b[49m\u001b[43m \u001b[49m\u001b[43msupplier\u001b[49m\u001b[43m.\u001b[49m\u001b[43mc\u001b[49m\u001b[43m[\u001b[49m\u001b[33;43m'\u001b[39;49m\u001b[33;43mname\u001b[39;49m\u001b[33;43m'\u001b[39;49m\u001b[43m]\u001b[49m\u001b[43m)\u001b[49m\u001b[43m\\\u001b[49m\n\u001b[32m----> \u001b[39m\u001b[32m2\u001b[39m \u001b[43m    \u001b[49m\u001b[43m.\u001b[49m\u001b[43mselect_from\u001b[49m\u001b[43m(\u001b[49m\u001b[43mcity\u001b[49m\u001b[43m.\u001b[49m\u001b[43mjoin\u001b[49m\u001b[43m(\u001b[49m\u001b[43msupplier\u001b[49m\u001b[43m,\u001b[49m\u001b[43m \u001b[49m\u001b[43msupplier\u001b[49m\u001b[43m.\u001b[49m\u001b[43mc\u001b[49m\u001b[43m[\u001b[49m\u001b[33;43m'\u001b[39;49m\u001b[33;43mcno\u001b[39;49m\u001b[33;43m'\u001b[39;49m\u001b[43m]\u001b[49m\u001b[43m==\u001b[49m\u001b[43mcity\u001b[49m\u001b[43m.\u001b[49m\u001b[43mc\u001b[49m\u001b[43m[\u001b[49m\u001b[33;43m'\u001b[39;49m\u001b[33;43mcno\u001b[39;49m\u001b[33;43m'\u001b[39;49m\u001b[43m]\u001b[49m\u001b[43m)\u001b[49m\u001b[43m)\u001b[49m\u001b[43m.\u001b[49m\u001b[43mfetchall\u001b[49m())\n",
      "\u001b[31mAttributeError\u001b[39m: 'Select' object has no attribute 'fetchall'"
     ]
    }
   ],
   "source": [
    "print(select(city.c['name'], supplier.c['name'])\\\n",
    "    .select_from(city.join(supplier, supplier.c['cno']==city.c['cno'])))"
   ]
  },
  {
   "cell_type": "code",
   "execution_count": 212,
   "metadata": {},
   "outputs": [],
   "source": [
    "q = select(city.c['name'], supplier.c['name'], part.c['name'], sells.c['price']).select_from(city.join(supplier, supplier.c['cno']==city.c['cno']).join(sells, sells.c['sno']==supplier.c['sno']).join(part, part.c['pno']==sells.c['pno']))"
   ]
  },
  {
   "cell_type": "code",
   "execution_count": 213,
   "metadata": {},
   "outputs": [
    {
     "name": "stdout",
     "output_type": "stream",
     "text": [
      "SELECT city.name, supplier.name AS name_1, part.name AS name_2, sells.price \n",
      "FROM city JOIN supplier ON supplier.cno = city.cno JOIN sells ON sells.sno = supplier.sno JOIN part ON part.pno = sells.pno\n"
     ]
    }
   ],
   "source": [
    "print(q)"
   ]
  },
  {
   "cell_type": "code",
   "execution_count": 214,
   "metadata": {},
   "outputs": [
    {
     "name": "stdout",
     "output_type": "stream",
     "text": [
      "2025-03-06 12:16:05,430 INFO sqlalchemy.engine.Engine SELECT city.name, supplier.name AS name_1, part.name AS name_2, sells.price \n",
      "FROM city JOIN supplier ON supplier.cno = city.cno JOIN sells ON sells.sno = supplier.sno JOIN part ON part.pno = sells.pno\n",
      "2025-03-06 12:16:05,430 INFO sqlalchemy.engine.Engine [generated in 0.00051s] ()\n"
     ]
    },
    {
     "data": {
      "text/plain": [
       "[('성북구', '1호점', '아메리카노', Decimal('10.0000000000')),\n",
       " ('성북구', '2호점', '아메리카노', Decimal('10.0000000000')),\n",
       " ('성북구', '3호점', '아메리카노', Decimal('10.0000000000')),\n",
       " ('동대문구', '1호점', '아메리카노', Decimal('10.0000000000')),\n",
       " ('동대문구', '3호점', '아메리카노', Decimal('10.0000000000')),\n",
       " ('중구', '2호점', '아메리카노', Decimal('10.0000000000')),\n",
       " ('중량구', '1호점', '아메리카노', Decimal('10.0000000000')),\n",
       " ('성북구', '1호점', '카페라테', Decimal('15.0000000000')),\n",
       " ('강북구', '1호점', '카페라테', Decimal('15.0000000000')),\n",
       " ('동대문구', '2호점', '카페라테', Decimal('15.0000000000')),\n",
       " ('중구', '1호점', '카페라테', Decimal('15.0000000000')),\n",
       " ('중구', '3호점', '카페라테', Decimal('15.0000000000')),\n",
       " ('중량구', '2호점', '카페라테', Decimal('15.0000000000')),\n",
       " ('노원구', '1호점', '카페라테', Decimal('15.0000000000')),\n",
       " ('성북구', '1호점', '에스프레소', Decimal('8.0000000000')),\n",
       " ('강남구', '2호점', '에스프레소', Decimal('8.0000000000')),\n",
       " ('강남구', '3호점', '에스프레소', Decimal('8.0000000000')),\n",
       " ('서초구', '3호점', '아이스티', Decimal('8.0000000000')),\n",
       " ('성북구', '1호점', '아이스티', Decimal('20.0000000000')),\n",
       " ('성북구', '2호점', '아이스티', Decimal('20.0000000000')),\n",
       " ('성북구', '3호점', '아이스티', Decimal('20.0000000000'))]"
      ]
     },
     "execution_count": 214,
     "metadata": {},
     "output_type": "execute_result"
    }
   ],
   "source": [
    "con.execute(q).fetchall()"
   ]
  },
  {
   "cell_type": "code",
   "execution_count": 266,
   "metadata": {},
   "outputs": [
    {
     "name": "stdout",
     "output_type": "stream",
     "text": [
      "2025-03-07 08:55:06,278 INFO sqlalchemy.engine.Engine ROLLBACK\n"
     ]
    }
   ],
   "source": [
    "con.close()\n",
    "meta.clear()\n",
    "engine = create_engine('sqlite:///memory:', echo=True)\n",
    "con = engine.connect()"
   ]
  },
  {
   "cell_type": "code",
   "execution_count": null,
   "metadata": {},
   "outputs": [],
   "source": []
  },
  {
   "cell_type": "code",
   "execution_count": 272,
   "metadata": {},
   "outputs": [
    {
     "name": "stdout",
     "output_type": "stream",
     "text": [
      "2025-03-07 08:56:32,401 INFO sqlalchemy.engine.Engine BEGIN (implicit)\n",
      "2025-03-07 08:56:32,402 INFO sqlalchemy.engine.Engine PRAGMA main.table_info(\"artist\")\n",
      "2025-03-07 08:56:32,402 INFO sqlalchemy.engine.Engine [raw sql] ()\n",
      "2025-03-07 08:56:32,402 INFO sqlalchemy.engine.Engine PRAGMA main.table_info(\"album\")\n",
      "2025-03-07 08:56:32,402 INFO sqlalchemy.engine.Engine [raw sql] ()\n",
      "2025-03-07 08:56:32,403 INFO sqlalchemy.engine.Engine \n",
      "DROP TABLE album\n",
      "2025-03-07 08:56:32,403 INFO sqlalchemy.engine.Engine [no key 0.00018s] ()\n",
      "2025-03-07 08:56:32,404 INFO sqlalchemy.engine.Engine \n",
      "DROP TABLE artist\n",
      "2025-03-07 08:56:32,404 INFO sqlalchemy.engine.Engine [no key 0.00029s] ()\n",
      "2025-03-07 08:56:32,405 INFO sqlalchemy.engine.Engine COMMIT\n"
     ]
    }
   ],
   "source": [
    "meta.drop_all(engine)"
   ]
  },
  {
   "cell_type": "code",
   "execution_count": 273,
   "metadata": {},
   "outputs": [
    {
     "data": {
      "text/plain": [
       "Table('album', MetaData(), Column('pk', Integer(), table=<album>, primary_key=True, nullable=False), Column('name', Text(), table=<album>), Column('fk', Integer(), ForeignKey('artist.pk'), table=<album>, nullable=False), schema=None)"
      ]
     },
     "execution_count": 273,
     "metadata": {},
     "output_type": "execute_result"
    }
   ],
   "source": [
    "Table('artist', meta,\\\n",
    "    Column('pk', Integer, primary_key=True),\\\n",
    "        Column('name', Text),\n",
    "        extend_existing=True)\n",
    "        \n",
    "Table('album', meta,\\\n",
    "    Column('pk', Integer, primary_key=True),\\\n",
    "    Column('name', Text),\\\n",
    "    extend_existing=True)"
   ]
  },
  {
   "cell_type": "code",
   "execution_count": 274,
   "metadata": {},
   "outputs": [
    {
     "data": {
      "text/plain": [
       "dict_keys(['artist', 'album'])"
      ]
     },
     "execution_count": 274,
     "metadata": {},
     "output_type": "execute_result"
    }
   ],
   "source": [
    "meta.tables.keys()"
   ]
  },
  {
   "cell_type": "code",
   "execution_count": 275,
   "metadata": {},
   "outputs": [
    {
     "data": {
      "text/plain": [
       "Column('pk', Integer(), table=<artist>, primary_key=True, nullable=False)"
      ]
     },
     "execution_count": 275,
     "metadata": {},
     "output_type": "execute_result"
    }
   ],
   "source": [
    "meta.tables['artist'].c['pk']"
   ]
  },
  {
   "cell_type": "code",
   "execution_count": 276,
   "metadata": {},
   "outputs": [
    {
     "data": {
      "text/plain": [
       "Table('album', MetaData(), Column('pk', Integer(), table=<album>, primary_key=True, nullable=False), Column('name', Text(), table=<album>), Column('fk', Integer(), ForeignKey('artist.pk'), table=<album>, nullable=False), schema=None)"
      ]
     },
     "execution_count": 276,
     "metadata": {},
     "output_type": "execute_result"
    }
   ],
   "source": [
    "\n",
    "# 기존 Meta에 등록된 Table객체를 덮어쓸때, extend_existing=True\n",
    "Table('album', meta,\n",
    "      Column('pk', Integer, primary_key=True),\n",
    "      Column('name', Text),\n",
    "      Column('fk', Integer, ForeignKey(meta.tables['artist'].c['pk']), nullable=False),\n",
    "                                        # SQL: 'ARTIST.PK'\n",
    "      extend_existing=True)"
   ]
  },
  {
   "cell_type": "code",
   "execution_count": 277,
   "metadata": {},
   "outputs": [
    {
     "data": {
      "text/plain": [
       "Table('album', MetaData(), Column('pk', Integer(), table=<album>, primary_key=True, nullable=False), Column('name', Text(), table=<album>), Column('fk', Integer(), ForeignKey('artist.pk'), table=<album>, nullable=False), schema=None)"
      ]
     },
     "execution_count": 277,
     "metadata": {},
     "output_type": "execute_result"
    }
   ],
   "source": [
    "Table('album', meta, Column('fk', Integer, ForeignKey(meta.tables['artist'].c['pk']), nullable=False), extend_existing=True)"
   ]
  },
  {
   "cell_type": "code",
   "execution_count": 256,
   "metadata": {},
   "outputs": [
    {
     "data": {
      "text/plain": [
       "Column('fk', Integer(), ForeignKey('artist.pk'), table=<album>)"
      ]
     },
     "execution_count": 256,
     "metadata": {},
     "output_type": "execute_result"
    }
   ],
   "source": [
    "meta.tables['album'].c['fk']"
   ]
  },
  {
   "cell_type": "code",
   "execution_count": 278,
   "metadata": {},
   "outputs": [
    {
     "name": "stdout",
     "output_type": "stream",
     "text": [
      "2025-03-07 08:57:01,157 INFO sqlalchemy.engine.Engine BEGIN (implicit)\n",
      "2025-03-07 08:57:01,157 INFO sqlalchemy.engine.Engine PRAGMA main.table_info(\"artist\")\n",
      "2025-03-07 08:57:01,157 INFO sqlalchemy.engine.Engine [raw sql] ()\n",
      "2025-03-07 08:57:01,158 INFO sqlalchemy.engine.Engine PRAGMA temp.table_info(\"artist\")\n",
      "2025-03-07 08:57:01,158 INFO sqlalchemy.engine.Engine [raw sql] ()\n",
      "2025-03-07 08:57:01,158 INFO sqlalchemy.engine.Engine PRAGMA main.table_info(\"album\")\n",
      "2025-03-07 08:57:01,159 INFO sqlalchemy.engine.Engine [raw sql] ()\n",
      "2025-03-07 08:57:01,159 INFO sqlalchemy.engine.Engine PRAGMA temp.table_info(\"album\")\n",
      "2025-03-07 08:57:01,159 INFO sqlalchemy.engine.Engine [raw sql] ()\n",
      "2025-03-07 08:57:01,160 INFO sqlalchemy.engine.Engine \n",
      "CREATE TABLE artist (\n",
      "\tpk INTEGER NOT NULL, \n",
      "\tname TEXT, \n",
      "\tPRIMARY KEY (pk)\n",
      ")\n",
      "\n",
      "\n",
      "2025-03-07 08:57:01,160 INFO sqlalchemy.engine.Engine [no key 0.00034s] ()\n",
      "2025-03-07 08:57:01,162 INFO sqlalchemy.engine.Engine \n",
      "CREATE TABLE album (\n",
      "\tpk INTEGER NOT NULL, \n",
      "\tname TEXT, \n",
      "\tfk INTEGER NOT NULL, \n",
      "\tPRIMARY KEY (pk), \n",
      "\tFOREIGN KEY(fk) REFERENCES artist (pk)\n",
      ")\n",
      "\n",
      "\n",
      "2025-03-07 08:57:01,162 INFO sqlalchemy.engine.Engine [no key 0.00018s] ()\n",
      "2025-03-07 08:57:01,162 INFO sqlalchemy.engine.Engine COMMIT\n"
     ]
    }
   ],
   "source": [
    "meta.create_all(engine)"
   ]
  },
  {
   "cell_type": "code",
   "execution_count": 279,
   "metadata": {},
   "outputs": [],
   "source": [
    "artist = meta.tables['artist']\n",
    "album = meta.tables['album']"
   ]
  },
  {
   "cell_type": "code",
   "execution_count": 280,
   "metadata": {},
   "outputs": [
    {
     "name": "stdout",
     "output_type": "stream",
     "text": [
      "2025-03-07 08:57:02,867 INFO sqlalchemy.engine.Engine BEGIN (implicit)\n",
      "2025-03-07 08:57:02,868 INFO sqlalchemy.engine.Engine INSERT INTO artist (name) VALUES (?)\n",
      "2025-03-07 08:57:02,868 INFO sqlalchemy.engine.Engine [generated in 0.00075s] ('가수1',)\n",
      "2025-03-07 08:57:02,869 INFO sqlalchemy.engine.Engine INSERT INTO album (name, fk) VALUES (?, ?)\n",
      "2025-03-07 08:57:02,869 INFO sqlalchemy.engine.Engine [generated in 0.00019s] ('앨범1', 1)\n"
     ]
    },
    {
     "data": {
      "text/plain": [
       "<sqlalchemy.engine.cursor.CursorResult at 0x12b3918d0>"
      ]
     },
     "execution_count": 280,
     "metadata": {},
     "output_type": "execute_result"
    }
   ],
   "source": [
    "con.execute(artist.insert().values(name='가수1'))\n",
    "con.execute(album.insert().values(name='앨범1', fk = 1))"
   ]
  },
  {
   "cell_type": "code",
   "execution_count": 281,
   "metadata": {},
   "outputs": [
    {
     "name": "stdout",
     "output_type": "stream",
     "text": [
      "SELECT artist.name, album.name AS name_1 \n",
      "FROM artist JOIN album ON artist.pk = album.fk\n"
     ]
    }
   ],
   "source": [
    "print(select(artist.c['name'], album.c['name']).select_from(artist.join(album, artist.c['pk']==album.c['fk'])))\n"
   ]
  },
  {
   "cell_type": "code",
   "execution_count": 283,
   "metadata": {},
   "outputs": [
    {
     "name": "stdout",
     "output_type": "stream",
     "text": [
      "SELECT artist.name, album.name AS name_1 \n",
      "FROM artist JOIN album ON artist.pk = album.fk\n"
     ]
    }
   ],
   "source": [
    "print(select(artist.c['name'], album.c['name']).select_from(artist.join(album)))"
   ]
  },
  {
   "cell_type": "code",
   "execution_count": null,
   "metadata": {},
   "outputs": [],
   "source": []
  }
 ],
 "metadata": {
  "kernelspec": {
   "display_name": "koreasw",
   "language": "python",
   "name": "python3"
  },
  "language_info": {
   "codemirror_mode": {
    "name": "ipython",
    "version": 3
   },
   "file_extension": ".py",
   "mimetype": "text/x-python",
   "name": "python",
   "nbconvert_exporter": "python",
   "pygments_lexer": "ipython3",
   "version": "3.11.11"
  }
 },
 "nbformat": 4,
 "nbformat_minor": 2
}
